{
 "cells": [
  {
   "cell_type": "code",
   "execution_count": 1,
   "metadata": {},
   "outputs": [],
   "source": [
    "import pandas as pd\n",
    "import numpy as np\n",
    "from pathlib import Path\n",
    "import shutil"
   ]
  },
  {
   "cell_type": "code",
   "execution_count": 2,
   "metadata": {},
   "outputs": [],
   "source": [
    "#sufixo=\"_ativos_mes_anterior\"\n",
    "sufixo=\"\"\n",
    "#sufixo=\"\""
   ]
  },
  {
   "cell_type": "code",
   "execution_count": 3,
   "metadata": {},
   "outputs": [],
   "source": [
    "# TODO MUDAR QUANDO AS LOJAS TUMELERO DA 2a ONDA ENTRAREM\n",
    "# Ondas Telhanorte e Tumelero cujas lojas serão consideradas para apuração\n",
    "safra_tume=2 # Onda cujas lojas Tumelero serão consideradas\n",
    "safra_telha=3 #  Onda cujas lojas Telhanorte serão consideradas"
   ]
  },
  {
   "cell_type": "code",
   "execution_count": 4,
   "metadata": {},
   "outputs": [],
   "source": [
    "pd.set_option('display.max_columns', None)"
   ]
  },
  {
   "cell_type": "code",
   "execution_count": 5,
   "metadata": {},
   "outputs": [
    {
     "name": "stdout",
     "output_type": "stream",
     "text": [
      "4\n",
      "TUMELERO\n"
     ]
    }
   ],
   "source": [
    "# Dictionary para extrair empresa\n",
    "ID_UNN=4\n",
    "\n",
    "dict_EMPRESAS={1:\"TELHANORTE\", 4:\"TUMELERO\"}\n",
    "empresa=dict_EMPRESAS[ID_UNN]\n",
    "print(ID_UNN)\n",
    "print(empresa)"
   ]
  },
  {
   "cell_type": "code",
   "execution_count": 6,
   "metadata": {},
   "outputs": [],
   "source": [
    "# MÍNIMO NPS CONSIDERADO PARA ELEGIBILIDADE DA LOJA AO PRÊMIO COLETIVO TINA\n",
    "NPS_ALVO=65"
   ]
  },
  {
   "cell_type": "code",
   "execution_count": 7,
   "metadata": {},
   "outputs": [],
   "source": [
    "# Dia da apuração\n",
    "hoje = pd.to_datetime('today').date()\n",
    "#hoje = pd.to_datetime('2022-06-27')\n",
    "ANO=str(hoje.year)"
   ]
  },
  {
   "cell_type": "code",
   "execution_count": 8,
   "metadata": {},
   "outputs": [
    {
     "data": {
      "text/plain": [
       "7"
      ]
     },
     "execution_count": 8,
     "metadata": {},
     "output_type": "execute_result"
    }
   ],
   "source": [
    "hoje.month"
   ]
  },
  {
   "cell_type": "code",
   "execution_count": 9,
   "metadata": {},
   "outputs": [],
   "source": [
    "# DIA PADRÃO DE APURAÇÃO\n",
    "#DIA_APURA=27\n",
    "DIA_APURA=hoje.day"
   ]
  },
  {
   "cell_type": "code",
   "execution_count": 10,
   "metadata": {},
   "outputs": [],
   "source": [
    "# Dias a serem considerados\n",
    "MES_COMERCIAL=30 # MES COMERCIAL TEM 30 DIAS\n",
    "MEIO_MES=int(MES_COMERCIAL/2.)"
   ]
  },
  {
   "cell_type": "code",
   "execution_count": 11,
   "metadata": {},
   "outputs": [],
   "source": [
    "MESES= ['jan','fev','mar','abr','mai','jun','jul','ago','set','out','nov','dez']\n",
    "I_MESES= ['01','02','03','04','05','06','07','08','09','10','11','12']\n",
    "MES=MESES[hoje.month-1]\n",
    "I_MES=I_MESES[MESES.index(MES)]\n",
    "I_MES_ANTERIOR=I_MESES[MESES.index(MES)-1]\n"
   ]
  },
  {
   "cell_type": "code",
   "execution_count": 12,
   "metadata": {},
   "outputs": [
    {
     "data": {
      "text/plain": [
       "'jun'"
      ]
     },
     "execution_count": 12,
     "metadata": {},
     "output_type": "execute_result"
    }
   ],
   "source": [
    "MES_ANTERIOR=MESES[MESES.index(MES)-1]\n",
    "MES_ANTERIOR"
   ]
  },
  {
   "cell_type": "code",
   "execution_count": 13,
   "metadata": {},
   "outputs": [
    {
     "name": "stdout",
     "output_type": "stream",
     "text": [
      "Como a apuração está sendo feita em jul, a apuração coletiva será correspondente ao do mês anterior jun\n"
     ]
    }
   ],
   "source": [
    "print('Como a apuração está sendo feita em '+MES+', a apuração coletiva será correspondente ao do mês anterior '+MES_ANTERIOR)"
   ]
  },
  {
   "cell_type": "code",
   "execution_count": 14,
   "metadata": {},
   "outputs": [],
   "source": [
    "I_DIAS=pd.to_datetime(ANO+'-'+I_MES_ANTERIOR).days_in_month"
   ]
  },
  {
   "cell_type": "code",
   "execution_count": 15,
   "metadata": {},
   "outputs": [
    {
     "name": "stdout",
     "output_type": "stream",
     "text": [
      "30 dias em jun\n"
     ]
    }
   ],
   "source": [
    "print(str(I_DIAS)+' dias em '+MES_ANTERIOR)"
   ]
  },
  {
   "cell_type": "code",
   "execution_count": 16,
   "metadata": {},
   "outputs": [
    {
     "name": "stdout",
     "output_type": "stream",
     "text": [
      "Considerando \n",
      "Data de início:\n",
      "2022-06-01\n",
      "\n",
      "Data final:\n",
      "2022-06-30\n"
     ]
    }
   ],
   "source": [
    "# Período de Apuração   -   Faltas injustificadas no período\n",
    "# Fevereiro de 2022\n",
    "DATA_I = pd.to_datetime(ANO+'-'+I_MES_ANTERIOR+'-01', format='%Y/%m/%d')  # data inicial AAAA-MM-DD\n",
    "DATA_F = pd.to_datetime(ANO+'-'+I_MES_ANTERIOR+'-'+str(I_DIAS), format='%Y/%m/%d')  # data final AAAA-MM-DD\n",
    "print('Considerando ')\n",
    "print('Data de início:')\n",
    "print(DATA_I.date())\n",
    "print('')\n",
    "print('Data final:')\n",
    "print(DATA_F.date())"
   ]
  },
  {
   "cell_type": "code",
   "execution_count": 17,
   "metadata": {},
   "outputs": [],
   "source": [
    "# Diretório ou pasta base\n",
    "#              DIRETORIO='C:/apuracao/'+empresa+'/'\n",
    "#              print('Dentro da pasta '+DIRETORIO+' tem a pasta ano e mês? Se não crie como explicado a seguir.')"
   ]
  },
  {
   "cell_type": "code",
   "execution_count": 18,
   "metadata": {},
   "outputs": [
    {
     "name": "stdout",
     "output_type": "stream",
     "text": [
      "C:/apuracao/2022/jun/\n"
     ]
    }
   ],
   "source": [
    "# PASTAS \n",
    "\n",
    "#DIR_BASE='C:/apuracao/'+empresa+'/'\n",
    "#DIR_INFO='C:/apuracao/info/'\n",
    "#DIR_TINA_BASES=DIR_INFO\n",
    "#DIR_IN=DIR_BASE+ANO+'/'+MES+'/ORIGINAIS/'\n",
    "# PASTA COM PLANILHA DE CHECAGEM PARA O ANALISTA DE NEGÓCIOS\n",
    "#DIRETORIO_CHECAGEM=DIR_BASE+ANO+'/'+MES+'/CHECAGEM/'\n",
    "# PASTAS \n",
    "\n",
    "DIR_BASE='C:/apuracao/'\n",
    "DIR_INFO=DIR_BASE+'info/'\n",
    "DIR_TINA_BASES=DIR_INFO\n",
    "DIR_ENTRA=DIR_BASE+'ENTRADA/'\n",
    "# PASTA PARA MANTER AS BASES ORIGINAIS\n",
    "DIR_IN=DIR_BASE+ANO+'/'+MES+'/ORIGINAIS/'\n",
    "# PASTA COM PLANILHA DE CHECAGEM PARA O ANALISTA DE NEGÓCIOS\n",
    "DIRETORIO_CHECAGEM=DIR_BASE+ANO+'/'+MES+'/CHECAGEM/'\n",
    "# PASTA PARA PLANILHAS DAS VERBAS PARA RH \n",
    "DIR_RH=DIR_BASE+ANO+\"/\"+MES+\"/\"+\"para_RH/\"\n",
    "DIRETORIO_ANTERIOR=DIR_BASE+ANO+'/'+MES_ANTERIOR+'/'\n",
    "print(DIRETORIO_ANTERIOR)\n"
   ]
  },
  {
   "cell_type": "code",
   "execution_count": 19,
   "metadata": {},
   "outputs": [],
   "source": [
    "#                  print(DIRETORIO)"
   ]
  },
  {
   "cell_type": "code",
   "execution_count": 20,
   "metadata": {},
   "outputs": [
    {
     "name": "stdout",
     "output_type": "stream",
     "text": [
      "C:/apuracao/2022/jun/\n"
     ]
    }
   ],
   "source": [
    "#              DIRETORIO_ANTERIOR=DIRETORIO+ANO+'/'+MES_ANTERIOR+'/'\n",
    "print(DIRETORIO_ANTERIOR)"
   ]
  },
  {
   "cell_type": "code",
   "execution_count": 21,
   "metadata": {},
   "outputs": [
    {
     "name": "stdout",
     "output_type": "stream",
     "text": [
      "A apuração da premiação coletiva é correspondente ao mês anterior.\n",
      "Portanto, buscar arquivos do mês anterior na pasta:\n",
      "C:/apuracao/2022/jun/\n"
     ]
    }
   ],
   "source": [
    "print('A apuração da premiação coletiva é correspondente ao mês anterior.')\n",
    "print('Portanto, buscar arquivos do mês anterior na pasta:')\n",
    "#                   DIRETORIO_ANTERIOR=DIRETORIO+ANO+'/'+MES_ANTERIOR+'/'\n",
    "print(DIRETORIO_ANTERIOR)"
   ]
  },
  {
   "cell_type": "code",
   "execution_count": 22,
   "metadata": {},
   "outputs": [],
   "source": [
    "# CRIANDO PASTAS DE SAÍDA SE NÃO EXISTIREM\n",
    "Path(DIR_IN).mkdir(parents=True, exist_ok=True)\n",
    "Path(DIRETORIO_CHECAGEM).mkdir(parents=True, exist_ok=True)\n",
    "Path(DIR_RH).mkdir(parents=True, exist_ok=True)\n"
   ]
  },
  {
   "cell_type": "code",
   "execution_count": 23,
   "metadata": {},
   "outputs": [
    {
     "name": "stdout",
     "output_type": "stream",
     "text": [
      "Pasta:\n",
      "Coloque nesta pasta os arquivos bases vindos do RH no mês da apuração:\n",
      "     base de ativos, \n",
      "     base de falta injustificada; e\n",
      "     base de afastamentos.\n",
      "C:/apuracao/ENTRADA/\n"
     ]
    }
   ],
   "source": [
    "# PASTA COM ARQUIVOS BASES DO RH\n",
    "#              DIRETORIO_ENTRA=DIRETORIO+ANO+'/'+MES+'/ORIGINAIS/'\n",
    "print('Pasta:')\n",
    "#              print(DIRETORIO_ENTRA)\n",
    "print('Coloque nesta pasta os arquivos bases vindos do RH no mês da apuração:')\n",
    "print('     base de ativos, ')\n",
    "print('     base de falta injustificada; e')\n",
    "print('     base de afastamentos.')\n",
    "print(DIR_ENTRA)"
   ]
  },
  {
   "cell_type": "code",
   "execution_count": 24,
   "metadata": {},
   "outputs": [
    {
     "name": "stdout",
     "output_type": "stream",
     "text": [
      "Pasta:\n",
      "C:/apuracao/2022/jul/ORIGINAIS/\n",
      "Esta pasta contem a base de VENDAS de jun puxadas no MicroStrategy.\n"
     ]
    }
   ],
   "source": [
    "# PASTA COM BASES DE VENDAS PUXADAS DO MicroStrategy\n",
    "#                 DIRETORIO_VENDAS_NPS=DIRETORIO_ENTRA # pasta com vendas do MicroStrategy\n",
    "DIRETORIO_VENDAS_NPS=DIR_IN\n",
    "print('Pasta:')\n",
    "print(DIRETORIO_VENDAS_NPS)\n",
    "print('Esta pasta contem a base de VENDAS de '+MES_ANTERIOR+' puxadas no MicroStrategy.')"
   ]
  },
  {
   "cell_type": "code",
   "execution_count": 25,
   "metadata": {},
   "outputs": [
    {
     "name": "stdout",
     "output_type": "stream",
     "text": [
      "Pasta:\n",
      "C:/apuracao/2022/jul/ORIGINAIS/\n"
     ]
    }
   ],
   "source": [
    "# PASTA COM BASES DE NPS \n",
    "print('Pasta:')\n",
    "print(DIRETORIO_VENDAS_NPS)\n",
    "#                   print('Coloque nesta pasta a base de NPS de '+MES_ANTERIOR+' baixada da SoluCX.')"
   ]
  },
  {
   "cell_type": "code",
   "execution_count": 26,
   "metadata": {},
   "outputs": [
    {
     "name": "stdout",
     "output_type": "stream",
     "text": [
      "A planilha de checagem da apuração coletiva realizada em jul está aqui:\n",
      "C:/apuracao/2022/jul/CHECAGEM/\n"
     ]
    }
   ],
   "source": [
    "# PASTA COM PLANILHA DE CHECAGEM PARA O ANALISTA DE NEGÓCIOS\n",
    "#                 DIRETORIO_CHECAGEM=DIRETORIO+ANO+'/'+MES+'/CHECAGEM/'\n",
    "print('A planilha de checagem da apuração coletiva realizada em '+MES+' está aqui:')\n",
    "print(DIRETORIO_CHECAGEM)"
   ]
  },
  {
   "cell_type": "code",
   "execution_count": 27,
   "metadata": {},
   "outputs": [
    {
     "name": "stdout",
     "output_type": "stream",
     "text": [
      "Pasta com informações bases: C:/apuracao/info/\n",
      "Aqui deve ter os arquivos com:\n"
     ]
    }
   ],
   "source": [
    "DIRETORIO_INFO='C:/apuracao/info/'\n",
    "print('Pasta com informações bases: '+DIRETORIO_INFO)\n",
    "print('Aqui deve ter os arquivos com:')"
   ]
  },
  {
   "cell_type": "code",
   "execution_count": 28,
   "metadata": {},
   "outputs": [
    {
     "name": "stdout",
     "output_type": "stream",
     "text": [
      "C:/apuracao/2022/jul/para_RH/\n"
     ]
    }
   ],
   "source": [
    "# PASTA DE SAÍDA DAS VERBAS DE PREMIAÇÕES TINA EM EXCEL A SEREM ENVIADOS AO RH\n",
    "#DIRETORIO_SAI=DIRETORIO+ANO+'/'+MES+'/para_RH/'\n",
    "DIRETORIO_SAI=DIR_RH\n",
    "print(DIRETORIO_SAI)"
   ]
  },
  {
   "cell_type": "code",
   "execution_count": 29,
   "metadata": {},
   "outputs": [
    {
     "name": "stdout",
     "output_type": "stream",
     "text": [
      "C:/apuracao/info/premiacao_cargo_alvo.csv\n"
     ]
    }
   ],
   "source": [
    "# ARQUIVO DE ENTRADA: VALORES DE PREMIAÇÃO POR GRUPO DE CARGOS TELHANORTE E TUMELERO IGUAIS\n",
    "F_PREMIO_CARGO=DIRETORIO_INFO+'premiacao_cargo_alvo.csv'\n",
    "print(F_PREMIO_CARGO)"
   ]
  },
  {
   "cell_type": "code",
   "execution_count": 30,
   "metadata": {},
   "outputs": [],
   "source": [
    "# # ARQUIVO DE SAÍDA PARA O RH - EM EXCEL\n",
    "# FILE_SAI=DIRETORIO_SAI + \"VERBA_4117_PREMIACAO_COLETIVA\"+sufixo+\".xlsx\"\n",
    "# FILE_SAI_SEM=DIRETORIO_SAI + \"VERBA_4117_PREMIACAO_COLETIVA_sem_considerar_falta_injustificada\"+sufixo+\".xlsx\"\n",
    "# print('Arquivos de saída para RH')\n",
    "# print(FILE_SAI)"
   ]
  },
  {
   "cell_type": "code",
   "execution_count": 31,
   "metadata": {},
   "outputs": [],
   "source": [
    "# print('Arquivos de backup SEM CONSIDERAR FALTA INJUSTIFICADA')\n",
    "# print(FILE_SAI_SEM)"
   ]
  },
  {
   "cell_type": "code",
   "execution_count": 32,
   "metadata": {},
   "outputs": [
    {
     "name": "stdout",
     "output_type": "stream",
     "text": [
      "Planilha para checar a situação dos colaboradores em relação à Premiação Coletiva Tina\n",
      "C:/apuracao/2022/jul/CHECAGEM/CHECANDO_APURACAO_COLETIVA.xlsx\n"
     ]
    }
   ],
   "source": [
    "# ARQUIO DE SAÍDA PARA CHECAGEM DO ANALISTA DE NEGÓCIOS - EM EXCEL\n",
    "FILE_CHECAGEM=DIRETORIO_CHECAGEM + \"CHECANDO_APURACAO_COLETIVA\"+sufixo+\".xlsx\"\n",
    "print('Planilha para checar a situação dos colaboradores em relação à Premiação Coletiva Tina')\n",
    "print(FILE_CHECAGEM)"
   ]
  },
  {
   "cell_type": "code",
   "execution_count": 33,
   "metadata": {},
   "outputs": [
    {
     "name": "stdout",
     "output_type": "stream",
     "text": [
      "Planilha para checar lojas elegíveis à Premiação Coletiva Tina\n",
      "C:/apuracao/2022/jul/CHECAGEM/CHECANDO_LOJAS_APURACAO_COLETIVA.xlsx\n"
     ]
    }
   ],
   "source": [
    "# ARQUIO DE SAÍDA PARA CHECAGEM DO ANALISTA DE NEGÓCIOS - EM EXCEL\n",
    "FILE_CHECAGEM_LOJAS=DIRETORIO_CHECAGEM + \"CHECANDO_LOJAS_APURACAO_COLETIVA\"+sufixo+\".xlsx\"\n",
    "print('Planilha para checar lojas elegíveis à Premiação Coletiva Tina')\n",
    "print(FILE_CHECAGEM_LOJAS)"
   ]
  },
  {
   "cell_type": "code",
   "execution_count": 34,
   "metadata": {},
   "outputs": [
    {
     "name": "stdout",
     "output_type": "stream",
     "text": [
      "Planilha para checar base de afastados\n",
      "C:/apuracao/2022/jul/CHECAGEM/CHECANDO_AFASTADOS_APURACAO_COLETIVA.xlsx\n"
     ]
    }
   ],
   "source": [
    "# ARQUIO DE SAÍDA PARA CHECAGEM DO ANALISTA DE NEGÓCIOS - EM EXCEL\n",
    "FILE_CHECAGEM_AFASTADOS=DIRETORIO_CHECAGEM + \"CHECANDO_AFASTADOS_APURACAO_COLETIVA\"+sufixo+\".xlsx\"\n",
    "print('Planilha para checar base de afastados')\n",
    "print(FILE_CHECAGEM_AFASTADOS)"
   ]
  },
  {
   "cell_type": "code",
   "execution_count": 142,
   "metadata": {},
   "outputs": [
    {
     "name": "stdout",
     "output_type": "stream",
     "text": [
      "Planilha para checar base de FALTAS INJUSTIFICADAS\n",
      "C:/apuracao/2022/jul/CHECAGEM/CHECANDO_FALTAS_INJUSTIFICADAS_APURACAO_COLETIVA.xlsx\n"
     ]
    }
   ],
   "source": [
    "# ARQUIO DE SAÍDA PARA CHECAGEM DE FALTAS INJUSTIFICADASDO ANALISTA DE NEGÓCIOS - EM EXCEL\n",
    "FILE_CHECAGEM_FALTAS=DIRETORIO_CHECAGEM + \"CHECANDO_FALTAS_INJUSTIFICADAS_APURACAO_COLETIVA\"+sufixo+\".xlsx\"\n",
    "print('Planilha para checar base de FALTAS INJUSTIFICADAS')\n",
    "print(FILE_CHECAGEM_FALTAS)"
   ]
  },
  {
   "cell_type": "code",
   "execution_count": 35,
   "metadata": {},
   "outputs": [
    {
     "name": "stdout",
     "output_type": "stream",
     "text": [
      "C:/apuracao/info/cargos_contemplados_grupo_empresas.xlsx\n"
     ]
    }
   ],
   "source": [
    "# ARQUIVO DE ENTRADA: CARGOS CONTEMPLADO PELA PREMIAÇÃO COLETIVA TINA TELHANORTE E TUMELERO DISCRIMINADOS\n",
    "F_CARGOS=DIRETORIO_INFO+'cargos_contemplados_grupo_empresas.xlsx'\n",
    "print(F_CARGOS)"
   ]
  },
  {
   "cell_type": "code",
   "execution_count": 36,
   "metadata": {},
   "outputs": [
    {
     "name": "stdout",
     "output_type": "stream",
     "text": [
      "C:/apuracao/info/lojas.csv\n"
     ]
    }
   ],
   "source": [
    "# ARQUIVO DE ENTRADA: LOJAS TINA TELHANORTE E TUMELERO TODAS AS ONDAS\n",
    "FILE_LOJAS_TINA=DIRETORIO_INFO+'lojas.csv'\n",
    "print(FILE_LOJAS_TINA)"
   ]
  },
  {
   "cell_type": "code",
   "execution_count": 37,
   "metadata": {},
   "outputs": [],
   "source": [
    "def nome_verbas(DIR_RH, empresa):\n",
    "    # Verbas para o RH das premiações Tina Coletiva\n",
    "    F_VERBA=DIR_RH+\"VERBA_4117_PREMIACAO_COLETIVA_\"+empresa+sufixo+\".xlsx\"\n",
    "    # Verbas para o RH das premiações Tina Coletiva SEM CONSIDERAR FALTAS INJUSTIFICADAS\n",
    "    F_VERBA_SEM=DIR_RH+\"VERBA_4117_PREMIACAO_COLETIVA_\"+empresa+sufixo+\"_sem_considerar_faltas_injustificadas.xlsx\"\n",
    "\n",
    "    return {'F_VERBA':F_VERBA, \n",
    "        'F_VERBA_SEM':F_VERBA_SEM}"
   ]
  },
  {
   "cell_type": "code",
   "execution_count": 38,
   "metadata": {},
   "outputs": [],
   "source": [
    "# Nomes dos arquivos de verbas para RH\n",
    "verbas_telha=nome_verbas(DIR_RH,dict_EMPRESAS[1])\n",
    "verbas_tume=nome_verbas(DIR_RH,dict_EMPRESAS[4])"
   ]
  },
  {
   "cell_type": "code",
   "execution_count": 39,
   "metadata": {},
   "outputs": [
    {
     "name": "stdout",
     "output_type": "stream",
     "text": [
      "Arquivo de alvos coletivos\n",
      "C:/apuracao/info/target_store.csv\n"
     ]
    }
   ],
   "source": [
    "# ARQUIVO DE ENTRADA: ALVOS COLETIVOS DAS LOJAS TELHANORTE E TUMELERO\n",
    "F_ALVOS=DIRETORIO_INFO+'target_store.csv'\n",
    "print('Arquivo de alvos coletivos')\n",
    "print(F_ALVOS)"
   ]
  },
  {
   "cell_type": "code",
   "execution_count": 40,
   "metadata": {},
   "outputs": [
    {
     "name": "stdout",
     "output_type": "stream",
     "text": [
      "C:/apuracao/2022/jul/ORIGINAIS/Ranking NPS.csv\n"
     ]
    }
   ],
   "source": [
    "# ARQUIVO DE ENTRADA: NPS DAS LOJAS TELHANORTE E TUMELERO JUNTAS\n",
    "FILE_NPS=DIRETORIO_VENDAS_NPS+'Ranking NPS.csv'\n",
    "print(''+FILE_NPS)"
   ]
  },
  {
   "cell_type": "code",
   "execution_count": 41,
   "metadata": {},
   "outputs": [
    {
     "name": "stdout",
     "output_type": "stream",
     "text": [
      "C:/apuracao/2022/jul/ORIGINAIS/Venda Mensal Telhanorte Tumelero em KR$ por Loja - Junior.xlsx\n"
     ]
    }
   ],
   "source": [
    "# ARQUIVO DE ENTRADA: VENDAS DO MÊS ANTERIOR  DAS LOJAS TELHANORTE E TUMELERO JUNTAS\n",
    "FILE_VENDAS=DIRETORIO_VENDAS_NPS+'Venda Mensal Telhanorte Tumelero em KR$ por Loja - Junior.xlsx'\n",
    "print(FILE_VENDAS)"
   ]
  },
  {
   "cell_type": "code",
   "execution_count": 42,
   "metadata": {},
   "outputs": [
    {
     "name": "stdout",
     "output_type": "stream",
     "text": [
      "C:/apuracao/2022/jun/\n"
     ]
    }
   ],
   "source": [
    "print(DIRETORIO_ANTERIOR)"
   ]
  },
  {
   "cell_type": "code",
   "execution_count": 43,
   "metadata": {},
   "outputs": [
    {
     "name": "stdout",
     "output_type": "stream",
     "text": [
      "C:/apuracao/2022/jun/ORIGINAIS/BASE_TOTAL_ATIVOS_TINA.xlsx\n",
      "C:/apuracao/2022/jul/ORIGINAIS/BASE_AFASTADO_TINA-TN_E_TUM.xlsx\n"
     ]
    }
   ],
   "source": [
    "# ARQUIVO DE ENTRADA: base de ativos do mês em apuração gerado AUTOMATICAMENTE pela ADP\n",
    "NOME_ATIVOS='BASE_TOTAL_ATIVOS_TINA.xlsx'\n",
    "NOME_AFASTADOS='BASE_AFASTADO_TINA-TN_E_TUM.xlsx'\n",
    "F_ATIVOS=DIRETORIO_ANTERIOR+'ORIGINAIS/'+NOME_ATIVOS\n",
    "F_AFASTADOS=DIR_IN+NOME_AFASTADOS\n",
    "\n",
    "print(F_ATIVOS)\n",
    "print(F_AFASTADOS)"
   ]
  },
  {
   "cell_type": "code",
   "execution_count": 44,
   "metadata": {},
   "outputs": [
    {
     "name": "stdout",
     "output_type": "stream",
     "text": [
      "C:/apuracao/2022/jun/ORIGINAIS/PREMIACOES TINA.xlsx\n",
      "C:/apuracao/2022/jul/ORIGINAIS/PREMIACOES TINA.xlsx\n"
     ]
    }
   ],
   "source": [
    "# ARQUIVO DE ENTRADA: faltas injustificadas do mês e do mês anterior\n",
    "NOME_FALTAS=\"PREMIACOES TINA.xlsx\"\n",
    "F_FALTAS = DIR_IN+NOME_FALTAS\n",
    "F_FALTAS_MES_ANTERIOR=DIRETORIO_ANTERIOR+\"ORIGINAIS/\"+NOME_FALTAS\n",
    "print(F_FALTAS_MES_ANTERIOR)\n",
    "print(F_FALTAS)"
   ]
  },
  {
   "cell_type": "markdown",
   "metadata": {},
   "source": [
    "BACKUP DAS BASES DA PASTA ENTRADAS PARA ORIGINAIS DO MÊS E ANO DA APURAÇÃO"
   ]
  },
  {
   "cell_type": "code",
   "execution_count": 45,
   "metadata": {},
   "outputs": [
    {
     "data": {
      "text/plain": [
       "'C:/apuracao/2022/jul/ORIGINAIS/PREMIACOES TINA.xlsx'"
      ]
     },
     "execution_count": 45,
     "metadata": {},
     "output_type": "execute_result"
    }
   ],
   "source": [
    "\n",
    "# Fazendo backup das bases nas pasta ORIGINAIS respectiva ao mes e ano da apuração \n",
    "shutil.copy2(DIR_ENTRA+'Ranking NPS.csv',FILE_NPS)\n",
    "shutil.copy2(DIR_ENTRA+'Venda Mensal Telhanorte Tumelero em KR$ por Loja - Junior.xlsx',FILE_VENDAS)\n",
    "shutil.copy2(DIR_ENTRA+NOME_ATIVOS,DIR_IN+NOME_ATIVOS)\n",
    "shutil.copy2(DIR_ENTRA+NOME_AFASTADOS,F_AFASTADOS)\n",
    "shutil.copy2(DIR_ENTRA+NOME_FALTAS,F_FALTAS)\n"
   ]
  },
  {
   "cell_type": "markdown",
   "metadata": {},
   "source": [
    "ELEGIBILIDADE DAS LOJAS À PREMIAÇÃO COLETIVA TINA"
   ]
  },
  {
   "cell_type": "code",
   "execution_count": 46,
   "metadata": {},
   "outputs": [],
   "source": [
    "# CARREGANDO PRÊMIOS POR GRUPO DE CARGOS \n",
    "PREMIOS=pd.read_csv(F_PREMIO_CARGO, sep=';')"
   ]
  },
  {
   "cell_type": "code",
   "execution_count": 47,
   "metadata": {},
   "outputs": [],
   "source": [
    "# Carregando lojas TINA da Telhanorte e da Tumelero \n",
    "#\n",
    "lojas_tina = pd.read_csv(FILE_LOJAS_TINA, encoding=\"ISO-8859-1\", delimiter=\";\")\n",
    "# Deletando lojas que não estão na safra TINA\n",
    "lojas_tina.drop(lojas_tina[(\n",
    "    (lojas_tina['id_unn']==1) & (lojas_tina['safra']>safra_telha)\n",
    "    ) | (\n",
    "    (lojas_tina['id_unn']==4) & (lojas_tina['safra']>safra_tume)   \n",
    "    )\n",
    "    ].index, inplace=True)"
   ]
  },
  {
   "cell_type": "code",
   "execution_count": 48,
   "metadata": {},
   "outputs": [],
   "source": [
    "# CARREGANDO TODAS AS LOJAS TINA DO ROLL-OUT DA TELHANORTE\n",
    "#             lojas_tina=pd.read_csv(FILE_LOJAS_TINA,sep=';', encoding='latin1')\n"
   ]
  },
  {
   "cell_type": "code",
   "execution_count": 49,
   "metadata": {},
   "outputs": [],
   "source": [
    "# CARREGANDO SOMENTE AS LOJAS TINA DA EMPRESA SELECIONADA\n",
    "#             lojas_tina=lojas_tina[lojas_tina['id_unn']==ID_UNN]"
   ]
  },
  {
   "cell_type": "code",
   "execution_count": 50,
   "metadata": {},
   "outputs": [
    {
     "data": {
      "text/plain": [
       "Index(['id_unn', 'cod_loja', 'sigla_loja', 'safra', 'loja', 'Unnamed: 5'], dtype='object')"
      ]
     },
     "execution_count": 50,
     "metadata": {},
     "output_type": "execute_result"
    }
   ],
   "source": [
    "lojas_tina.columns"
   ]
  },
  {
   "cell_type": "code",
   "execution_count": 51,
   "metadata": {},
   "outputs": [
    {
     "data": {
      "text/html": [
       "<div>\n",
       "<style scoped>\n",
       "    .dataframe tbody tr th:only-of-type {\n",
       "        vertical-align: middle;\n",
       "    }\n",
       "\n",
       "    .dataframe tbody tr th {\n",
       "        vertical-align: top;\n",
       "    }\n",
       "\n",
       "    .dataframe thead th {\n",
       "        text-align: right;\n",
       "    }\n",
       "</style>\n",
       "<table border=\"1\" class=\"dataframe\">\n",
       "  <thead>\n",
       "    <tr style=\"text-align: right;\">\n",
       "      <th></th>\n",
       "      <th>id_unn</th>\n",
       "      <th>cod_loja</th>\n",
       "      <th>sigla_loja</th>\n",
       "      <th>safra</th>\n",
       "      <th>loja</th>\n",
       "      <th>Unnamed: 5</th>\n",
       "    </tr>\n",
       "  </thead>\n",
       "  <tbody>\n",
       "    <tr>\n",
       "      <th>0</th>\n",
       "      <td>1</td>\n",
       "      <td>19</td>\n",
       "      <td>IMI</td>\n",
       "      <td>1</td>\n",
       "      <td>IMIGRANTES</td>\n",
       "      <td>NaN</td>\n",
       "    </tr>\n",
       "    <tr>\n",
       "      <th>1</th>\n",
       "      <td>1</td>\n",
       "      <td>25</td>\n",
       "      <td>ZNO</td>\n",
       "      <td>1</td>\n",
       "      <td>ZONA NORTE</td>\n",
       "      <td>NaN</td>\n",
       "    </tr>\n",
       "    <tr>\n",
       "      <th>2</th>\n",
       "      <td>1</td>\n",
       "      <td>28</td>\n",
       "      <td>SOR</td>\n",
       "      <td>1</td>\n",
       "      <td>SOROCABA</td>\n",
       "      <td>NaN</td>\n",
       "    </tr>\n",
       "    <tr>\n",
       "      <th>3</th>\n",
       "      <td>1</td>\n",
       "      <td>43</td>\n",
       "      <td>TAT</td>\n",
       "      <td>1</td>\n",
       "      <td>TATUAPÉ</td>\n",
       "      <td>NaN</td>\n",
       "    </tr>\n",
       "    <tr>\n",
       "      <th>4</th>\n",
       "      <td>1</td>\n",
       "      <td>8</td>\n",
       "      <td>PGD</td>\n",
       "      <td>2</td>\n",
       "      <td>PRAIA GRANDE</td>\n",
       "      <td>NaN</td>\n",
       "    </tr>\n",
       "    <tr>\n",
       "      <th>...</th>\n",
       "      <td>...</td>\n",
       "      <td>...</td>\n",
       "      <td>...</td>\n",
       "      <td>...</td>\n",
       "      <td>...</td>\n",
       "      <td>...</td>\n",
       "    </tr>\n",
       "    <tr>\n",
       "      <th>61</th>\n",
       "      <td>4</td>\n",
       "      <td>510779</td>\n",
       "      <td>PFO</td>\n",
       "      <td>2</td>\n",
       "      <td>PASSO FUNDO</td>\n",
       "      <td>TU-PASSO FUNDO</td>\n",
       "    </tr>\n",
       "    <tr>\n",
       "      <th>62</th>\n",
       "      <td>4</td>\n",
       "      <td>510094</td>\n",
       "      <td>CRI</td>\n",
       "      <td>2</td>\n",
       "      <td>CRISTAL</td>\n",
       "      <td>TU-CRISTAL</td>\n",
       "    </tr>\n",
       "    <tr>\n",
       "      <th>63</th>\n",
       "      <td>4</td>\n",
       "      <td>510116</td>\n",
       "      <td>CEN</td>\n",
       "      <td>2</td>\n",
       "      <td>CENTRO</td>\n",
       "      <td>TU-CENTRO</td>\n",
       "    </tr>\n",
       "    <tr>\n",
       "      <th>64</th>\n",
       "      <td>4</td>\n",
       "      <td>510141</td>\n",
       "      <td>CAX</td>\n",
       "      <td>2</td>\n",
       "      <td>CAXIAS</td>\n",
       "      <td>TU-CAXIAS</td>\n",
       "    </tr>\n",
       "    <tr>\n",
       "      <th>65</th>\n",
       "      <td>4</td>\n",
       "      <td>510159</td>\n",
       "      <td>RGD</td>\n",
       "      <td>2</td>\n",
       "      <td>RIO GRANDE</td>\n",
       "      <td>TU-RIO GRANDE</td>\n",
       "    </tr>\n",
       "  </tbody>\n",
       "</table>\n",
       "<p>66 rows × 6 columns</p>\n",
       "</div>"
      ],
      "text/plain": [
       "    id_unn  cod_loja sigla_loja  safra          loja      Unnamed: 5\n",
       "0        1        19        IMI      1    IMIGRANTES             NaN\n",
       "1        1        25        ZNO      1    ZONA NORTE             NaN\n",
       "2        1        28        SOR      1      SOROCABA             NaN\n",
       "3        1        43        TAT      1       TATUAPÉ             NaN\n",
       "4        1         8        PGD      2  PRAIA GRANDE             NaN\n",
       "..     ...       ...        ...    ...           ...             ...\n",
       "61       4    510779        PFO      2   PASSO FUNDO  TU-PASSO FUNDO\n",
       "62       4    510094        CRI      2       CRISTAL      TU-CRISTAL\n",
       "63       4    510116        CEN      2        CENTRO       TU-CENTRO\n",
       "64       4    510141        CAX      2        CAXIAS       TU-CAXIAS\n",
       "65       4    510159        RGD      2    RIO GRANDE   TU-RIO GRANDE\n",
       "\n",
       "[66 rows x 6 columns]"
      ]
     },
     "execution_count": 51,
     "metadata": {},
     "output_type": "execute_result"
    }
   ],
   "source": [
    "lojas_tina"
   ]
  },
  {
   "cell_type": "code",
   "execution_count": 52,
   "metadata": {},
   "outputs": [],
   "source": [
    "#TODO Se o mês for janeiro, pegar dezembro do ano anteriorf\n",
    "\n",
    "# if MESES.index(MES) == 0:\n",
    "#     MES_ANTERIOR=MES[11]\n",
    "#     DIRETORIO_ANTERIOR=DIRETORIO+str(int(float(ANO))-1)+'/'+MES_ANTERIOR+'/originais/'\n",
    "#     print(DIRETORIO_ANTERIOR)\n",
    "\n",
    "# print(DIRETORIO_ANTERIOR)"
   ]
  },
  {
   "cell_type": "code",
   "execution_count": 53,
   "metadata": {},
   "outputs": [
    {
     "name": "stdout",
     "output_type": "stream",
     "text": [
      "Carregando alvos coletivos do arquivo:\n",
      "C:/apuracao/info/target_store.csv\n"
     ]
    }
   ],
   "source": [
    "# CARREGANDO ALVOS COLETIVOS DAS LOJAS\n",
    "print('Carregando alvos coletivos do arquivo:')\n",
    "print(F_ALVOS)\n",
    "alvos=pd.read_csv(F_ALVOS, sep=';', encoding='latin1')"
   ]
  },
  {
   "cell_type": "code",
   "execution_count": 54,
   "metadata": {},
   "outputs": [],
   "source": [
    "# FILTRANDO ALVOS DO MÊS ANTERIOR\n",
    "#alvos=alvos[(alvos['id_unn']==ID_UNN) & (alvos['id_mes']==int(float(ANO+I_MES_ANTERIOR)))].copy(deep=True)\n",
    "alvos.drop(alvos[(\n",
    "    (alvos['id_unn']==1) & (alvos['id_mes']!=int(float(ANO+I_MES_ANTERIOR)))\n",
    "    ) | (\n",
    "    (alvos['id_unn']==4) & (alvos['id_mes']!=int(float(ANO+I_MES_ANTERIOR)))\n",
    ")].index, inplace=True)\n"
   ]
  },
  {
   "cell_type": "code",
   "execution_count": 55,
   "metadata": {},
   "outputs": [
    {
     "data": {
      "text/html": [
       "<div>\n",
       "<style scoped>\n",
       "    .dataframe tbody tr th:only-of-type {\n",
       "        vertical-align: middle;\n",
       "    }\n",
       "\n",
       "    .dataframe tbody tr th {\n",
       "        vertical-align: top;\n",
       "    }\n",
       "\n",
       "    .dataframe thead th {\n",
       "        text-align: right;\n",
       "    }\n",
       "</style>\n",
       "<table border=\"1\" class=\"dataframe\">\n",
       "  <thead>\n",
       "    <tr style=\"text-align: right;\">\n",
       "      <th></th>\n",
       "      <th>id_unn</th>\n",
       "      <th>id_fil</th>\n",
       "      <th>id_mes</th>\n",
       "      <th>target_sales_store_1</th>\n",
       "      <th>target_sales_store_2</th>\n",
       "    </tr>\n",
       "  </thead>\n",
       "  <tbody>\n",
       "    <tr>\n",
       "      <th>195</th>\n",
       "      <td>1</td>\n",
       "      <td>1</td>\n",
       "      <td>202206</td>\n",
       "      <td>4291666,3</td>\n",
       "      <td>4486646,4</td>\n",
       "    </tr>\n",
       "    <tr>\n",
       "      <th>196</th>\n",
       "      <td>1</td>\n",
       "      <td>75</td>\n",
       "      <td>202206</td>\n",
       "      <td>1768910,4</td>\n",
       "      <td>1867750,5</td>\n",
       "    </tr>\n",
       "    <tr>\n",
       "      <th>197</th>\n",
       "      <td>1</td>\n",
       "      <td>24</td>\n",
       "      <td>202206</td>\n",
       "      <td>8644696,4</td>\n",
       "      <td>8976048,4</td>\n",
       "    </tr>\n",
       "    <tr>\n",
       "      <th>198</th>\n",
       "      <td>1</td>\n",
       "      <td>57</td>\n",
       "      <td>202206</td>\n",
       "      <td>2232915,5</td>\n",
       "      <td>2393579</td>\n",
       "    </tr>\n",
       "    <tr>\n",
       "      <th>199</th>\n",
       "      <td>1</td>\n",
       "      <td>31</td>\n",
       "      <td>202206</td>\n",
       "      <td>2263530,9</td>\n",
       "      <td>2445982,9</td>\n",
       "    </tr>\n",
       "    <tr>\n",
       "      <th>...</th>\n",
       "      <td>...</td>\n",
       "      <td>...</td>\n",
       "      <td>...</td>\n",
       "      <td>...</td>\n",
       "      <td>...</td>\n",
       "    </tr>\n",
       "    <tr>\n",
       "      <th>490</th>\n",
       "      <td>4</td>\n",
       "      <td>510591</td>\n",
       "      <td>202206</td>\n",
       "      <td>23375466,7</td>\n",
       "      <td>24298697,6</td>\n",
       "    </tr>\n",
       "    <tr>\n",
       "      <th>491</th>\n",
       "      <td>4</td>\n",
       "      <td>510612</td>\n",
       "      <td>202206</td>\n",
       "      <td>23375466,7</td>\n",
       "      <td>24298697,6</td>\n",
       "    </tr>\n",
       "    <tr>\n",
       "      <th>492</th>\n",
       "      <td>4</td>\n",
       "      <td>510639</td>\n",
       "      <td>202206</td>\n",
       "      <td>23375466,7</td>\n",
       "      <td>24298697,6</td>\n",
       "    </tr>\n",
       "    <tr>\n",
       "      <th>493</th>\n",
       "      <td>4</td>\n",
       "      <td>510752</td>\n",
       "      <td>202206</td>\n",
       "      <td>23375466,7</td>\n",
       "      <td>24298697,6</td>\n",
       "    </tr>\n",
       "    <tr>\n",
       "      <th>494</th>\n",
       "      <td>4</td>\n",
       "      <td>510779</td>\n",
       "      <td>202206</td>\n",
       "      <td>23375466,7</td>\n",
       "      <td>24298697,6</td>\n",
       "    </tr>\n",
       "  </tbody>\n",
       "</table>\n",
       "<p>66 rows × 5 columns</p>\n",
       "</div>"
      ],
      "text/plain": [
       "     id_unn  id_fil  id_mes target_sales_store_1 target_sales_store_2\n",
       "195       1       1  202206            4291666,3            4486646,4\n",
       "196       1      75  202206            1768910,4            1867750,5\n",
       "197       1      24  202206            8644696,4            8976048,4\n",
       "198       1      57  202206            2232915,5              2393579\n",
       "199       1      31  202206            2263530,9            2445982,9\n",
       "..      ...     ...     ...                  ...                  ...\n",
       "490       4  510591  202206           23375466,7           24298697,6\n",
       "491       4  510612  202206           23375466,7           24298697,6\n",
       "492       4  510639  202206           23375466,7           24298697,6\n",
       "493       4  510752  202206           23375466,7           24298697,6\n",
       "494       4  510779  202206           23375466,7           24298697,6\n",
       "\n",
       "[66 rows x 5 columns]"
      ]
     },
     "execution_count": 55,
     "metadata": {},
     "output_type": "execute_result"
    }
   ],
   "source": [
    "alvos"
   ]
  },
  {
   "cell_type": "code",
   "execution_count": 56,
   "metadata": {},
   "outputs": [
    {
     "name": "stdout",
     "output_type": "stream",
     "text": [
      "C:/apuracao/2022/jul/ORIGINAIS/Venda Mensal Telhanorte Tumelero em KR$ por Loja - Junior.xlsx\n"
     ]
    },
    {
     "name": "stderr",
     "output_type": "stream",
     "text": [
      "c:\\Users\\C1075636\\Miniconda3\\envs\\tina\\lib\\site-packages\\openpyxl\\styles\\stylesheet.py:226: UserWarning: Workbook contains no default style, apply openpyxl's default\n",
      "  warn(\"Workbook contains no default style, apply openpyxl's default\")\n"
     ]
    }
   ],
   "source": [
    "# CARREGANDO AS VENDAS DAS LOJAS\n",
    "print(FILE_VENDAS)\n",
    "vendas=pd.read_excel(FILE_VENDAS, header=4) # "
   ]
  },
  {
   "cell_type": "code",
   "execution_count": 57,
   "metadata": {},
   "outputs": [],
   "source": [
    "#vendas=vendas.iloc[4:]\n",
    "vendas=vendas.iloc[1:]\n",
    "# transformando vendas de caracteres para número\n",
    "vendas = vendas[['Loja ID', 'Venda Bruta']].rename(\n",
    "        columns={'Loja ID':'cod_loja','Venda Bruta':'Venda_Total'})"
   ]
  },
  {
   "cell_type": "code",
   "execution_count": 58,
   "metadata": {},
   "outputs": [
    {
     "data": {
      "text/html": [
       "<div>\n",
       "<style scoped>\n",
       "    .dataframe tbody tr th:only-of-type {\n",
       "        vertical-align: middle;\n",
       "    }\n",
       "\n",
       "    .dataframe tbody tr th {\n",
       "        vertical-align: top;\n",
       "    }\n",
       "\n",
       "    .dataframe thead th {\n",
       "        text-align: right;\n",
       "    }\n",
       "</style>\n",
       "<table border=\"1\" class=\"dataframe\">\n",
       "  <thead>\n",
       "    <tr style=\"text-align: right;\">\n",
       "      <th></th>\n",
       "      <th>cod_loja</th>\n",
       "      <th>Venda_Total</th>\n",
       "    </tr>\n",
       "  </thead>\n",
       "  <tbody>\n",
       "    <tr>\n",
       "      <th>1</th>\n",
       "      <td>1.0</td>\n",
       "      <td>3947540.03</td>\n",
       "    </tr>\n",
       "    <tr>\n",
       "      <th>2</th>\n",
       "      <td>3.0</td>\n",
       "      <td>18591988.47</td>\n",
       "    </tr>\n",
       "    <tr>\n",
       "      <th>3</th>\n",
       "      <td>8.0</td>\n",
       "      <td>2332704.71</td>\n",
       "    </tr>\n",
       "    <tr>\n",
       "      <th>4</th>\n",
       "      <td>9.0</td>\n",
       "      <td>3221413.88</td>\n",
       "    </tr>\n",
       "    <tr>\n",
       "      <th>5</th>\n",
       "      <td>12.0</td>\n",
       "      <td>5155505.10</td>\n",
       "    </tr>\n",
       "    <tr>\n",
       "      <th>...</th>\n",
       "      <td>...</td>\n",
       "      <td>...</td>\n",
       "    </tr>\n",
       "    <tr>\n",
       "      <th>83</th>\n",
       "      <td>510612.0</td>\n",
       "      <td>378763.64</td>\n",
       "    </tr>\n",
       "    <tr>\n",
       "      <th>84</th>\n",
       "      <td>510639.0</td>\n",
       "      <td>961997.46</td>\n",
       "    </tr>\n",
       "    <tr>\n",
       "      <th>85</th>\n",
       "      <td>510752.0</td>\n",
       "      <td>798082.60</td>\n",
       "    </tr>\n",
       "    <tr>\n",
       "      <th>86</th>\n",
       "      <td>510779.0</td>\n",
       "      <td>886049.64</td>\n",
       "    </tr>\n",
       "    <tr>\n",
       "      <th>87</th>\n",
       "      <td>510809.0</td>\n",
       "      <td>521903.04</td>\n",
       "    </tr>\n",
       "  </tbody>\n",
       "</table>\n",
       "<p>87 rows × 2 columns</p>\n",
       "</div>"
      ],
      "text/plain": [
       "    cod_loja  Venda_Total\n",
       "1        1.0   3947540.03\n",
       "2        3.0  18591988.47\n",
       "3        8.0   2332704.71\n",
       "4        9.0   3221413.88\n",
       "5       12.0   5155505.10\n",
       "..       ...          ...\n",
       "83  510612.0    378763.64\n",
       "84  510639.0    961997.46\n",
       "85  510752.0    798082.60\n",
       "86  510779.0    886049.64\n",
       "87  510809.0    521903.04\n",
       "\n",
       "[87 rows x 2 columns]"
      ]
     },
     "execution_count": 58,
     "metadata": {},
     "output_type": "execute_result"
    }
   ],
   "source": [
    "vendas"
   ]
  },
  {
   "cell_type": "code",
   "execution_count": 59,
   "metadata": {},
   "outputs": [
    {
     "name": "stdout",
     "output_type": "stream",
     "text": [
      "Carregando NPS das lojas\n",
      "C:/apuracao/2022/jul/ORIGINAIS/Ranking NPS.csv\n"
     ]
    }
   ],
   "source": [
    "# CARREGANDO NPS DAS LOJAS\n",
    "print('Carregando NPS das lojas')\n",
    "print(FILE_NPS)\n",
    "nps_lojas=pd.read_csv(FILE_NPS,sep=';')\n"
   ]
  },
  {
   "cell_type": "code",
   "execution_count": 60,
   "metadata": {},
   "outputs": [],
   "source": [
    "# ORGANIZANDO VENDAS POR LOJA\n",
    "loja_nps_venda_alvo=pd.merge(\n",
    "    lojas_tina[['cod_loja', 'sigla_loja']],\n",
    "    vendas, \n",
    "    how='left',on='cod_loja'\n",
    "    )\n"
   ]
  },
  {
   "cell_type": "code",
   "execution_count": 61,
   "metadata": {},
   "outputs": [],
   "source": [
    "# JUNTANDO NPS ÀS VENDAS\n",
    "loja_nps_venda_alvo=pd.merge(\n",
    "    loja_nps_venda_alvo,\n",
    "    nps_lojas[['externalId','nps']].rename(\n",
    "        columns={'externalId':'cod_loja'}\n",
    "        ),how='left',on='cod_loja'\n",
    "    )"
   ]
  },
  {
   "cell_type": "code",
   "execution_count": 62,
   "metadata": {},
   "outputs": [],
   "source": [
    "# JUNTANDO OS ALVOS COLETIVOS ÀS VENDAS E NPS\n",
    "loja_nps_venda_alvo=pd.merge(\n",
    "    loja_nps_venda_alvo,\n",
    "    alvos[['id_fil', 'id_mes', 'target_sales_store_1',\n",
    "       'target_sales_store_2']].rename(\n",
    "        columns={'id_fil':'cod_loja'}\n",
    "        ),how='left',on='cod_loja'\n",
    "    )\n"
   ]
  },
  {
   "cell_type": "code",
   "execution_count": 63,
   "metadata": {},
   "outputs": [],
   "source": [
    "# TRANSFORMANDO OS CARACTERES DA NPS EM NÚMEROS \n",
    "# REMOVENDO % DE nps e trocando a vírgula por ponto e obter número com decimal\n",
    "loja_nps_venda_alvo['nps']=loja_nps_venda_alvo['nps'].str.replace(\"%\",\"\")\n",
    "loja_nps_venda_alvo['nps']=loja_nps_venda_alvo['nps'].str.replace(\",\",\".\").astype(float)"
   ]
  },
  {
   "cell_type": "code",
   "execution_count": 64,
   "metadata": {},
   "outputs": [],
   "source": [
    "# TRANSFORMANDO OS CARACTERES DOS ALVOS EM NÚMEROS \n",
    "loja_nps_venda_alvo['target_sales_store_1']=loja_nps_venda_alvo['target_sales_store_1'].str.replace(\",\",\".\").astype(float)\n",
    "loja_nps_venda_alvo['target_sales_store_2']=loja_nps_venda_alvo['target_sales_store_2'].str.replace(\",\",\".\").astype(float)"
   ]
  },
  {
   "cell_type": "code",
   "execution_count": 65,
   "metadata": {},
   "outputs": [],
   "source": [
    "# FUNÇÃO PARA VERIFICAR SE ATINTIU ALVO1 OU ALVO2 OU NENHUM\n",
    "def alvo_alcancado(venda, alvo1, alvo2):\n",
    "    if venda >= alvo2:\n",
    "        alvo='ALVO2'\n",
    "    elif venda >= alvo1:\n",
    "        alvo='ALVO1'\n",
    "    else: alvo = 'NAO'\n",
    "    return alvo"
   ]
  },
  {
   "cell_type": "code",
   "execution_count": 66,
   "metadata": {},
   "outputs": [],
   "source": [
    "# VERIFICANDO SE A LOJA BATEU ALVO1, ALVO2 OU NÃO BATEU O ALVO\n",
    "loja_nps_venda_alvo['alvo']=loja_nps_venda_alvo.apply(\n",
    "    lambda x: alvo_alcancado(\n",
    "        x['Venda_Total'], x['target_sales_store_1'], x['target_sales_store_2']\n",
    "        ), axis=1).copy()"
   ]
  },
  {
   "cell_type": "code",
   "execution_count": 67,
   "metadata": {},
   "outputs": [],
   "source": [
    "# FUNÇÃO PARA VERFICAR SE A LOJA BATEU A META DE NPS\n",
    "def nps_alcancado(nps):\n",
    "    global NPS_ALVO\n",
    "    if nps >=NPS_ALVO:\n",
    "        nps_loja='SIM'\n",
    "    else: nps_loja = 'NAO'\n",
    "    return nps_loja"
   ]
  },
  {
   "cell_type": "code",
   "execution_count": 68,
   "metadata": {},
   "outputs": [],
   "source": [
    "# Incluindo parâmetro para verificar se a loja alcançou a NPS estabelecida\n",
    "loja_nps_venda_alvo['NPS_alcancado']=loja_nps_venda_alvo['nps'].apply(\n",
    "    lambda x: nps_alcancado(x)).copy()\n"
   ]
  },
  {
   "cell_type": "code",
   "execution_count": 69,
   "metadata": {},
   "outputs": [
    {
     "data": {
      "text/html": [
       "<div>\n",
       "<style scoped>\n",
       "    .dataframe tbody tr th:only-of-type {\n",
       "        vertical-align: middle;\n",
       "    }\n",
       "\n",
       "    .dataframe tbody tr th {\n",
       "        vertical-align: top;\n",
       "    }\n",
       "\n",
       "    .dataframe thead th {\n",
       "        text-align: right;\n",
       "    }\n",
       "</style>\n",
       "<table border=\"1\" class=\"dataframe\">\n",
       "  <thead>\n",
       "    <tr style=\"text-align: right;\">\n",
       "      <th></th>\n",
       "      <th>cod_loja</th>\n",
       "      <th>sigla_loja</th>\n",
       "      <th>Venda_Total</th>\n",
       "      <th>nps</th>\n",
       "      <th>id_mes</th>\n",
       "      <th>target_sales_store_1</th>\n",
       "      <th>target_sales_store_2</th>\n",
       "      <th>alvo</th>\n",
       "      <th>NPS_alcancado</th>\n",
       "    </tr>\n",
       "  </thead>\n",
       "  <tbody>\n",
       "    <tr>\n",
       "      <th>2</th>\n",
       "      <td>28</td>\n",
       "      <td>SOR</td>\n",
       "      <td>3821230.77</td>\n",
       "      <td>73.7</td>\n",
       "      <td>202206</td>\n",
       "      <td>3726244.8</td>\n",
       "      <td>3921275.5</td>\n",
       "      <td>ALVO1</td>\n",
       "      <td>SIM</td>\n",
       "    </tr>\n",
       "    <tr>\n",
       "      <th>38</th>\n",
       "      <td>72</td>\n",
       "      <td>SCA</td>\n",
       "      <td>1798552.42</td>\n",
       "      <td>72.5</td>\n",
       "      <td>202206</td>\n",
       "      <td>1781616.5</td>\n",
       "      <td>1901637.9</td>\n",
       "      <td>ALVO1</td>\n",
       "      <td>SIM</td>\n",
       "    </tr>\n",
       "  </tbody>\n",
       "</table>\n",
       "</div>"
      ],
      "text/plain": [
       "    cod_loja sigla_loja  Venda_Total   nps  id_mes  target_sales_store_1  \\\n",
       "2         28        SOR   3821230.77  73.7  202206             3726244.8   \n",
       "38        72        SCA   1798552.42  72.5  202206             1781616.5   \n",
       "\n",
       "    target_sales_store_2   alvo NPS_alcancado  \n",
       "2              3921275.5  ALVO1           SIM  \n",
       "38             1901637.9  ALVO1           SIM  "
      ]
     },
     "execution_count": 69,
     "metadata": {},
     "output_type": "execute_result"
    }
   ],
   "source": [
    "# CHECAGEM DAS LOJAS QUE ALCANÇARAM O ALVO\n",
    "loja_nps_venda_alvo[\n",
    "    (loja_nps_venda_alvo['alvo'] != 'NAO')\n",
    "]"
   ]
  },
  {
   "cell_type": "code",
   "execution_count": 70,
   "metadata": {},
   "outputs": [],
   "source": [
    "loja_nps_venda_alvo['LOJA_ELEGIVEL']=np.where(\n",
    "    (loja_nps_venda_alvo['alvo'] != 'NAO') &\n",
    "    (loja_nps_venda_alvo['NPS_alcancado'] == 'SIM'),\n",
    "    'SIM',\n",
    "    'NAO'\n",
    "    )"
   ]
  },
  {
   "cell_type": "code",
   "execution_count": 71,
   "metadata": {},
   "outputs": [
    {
     "name": "stdout",
     "output_type": "stream",
     "text": [
      "LOJAS ELEGÍVEIS À PREMIAÇÃO COLETIVA:\n"
     ]
    },
    {
     "data": {
      "text/html": [
       "<div>\n",
       "<style scoped>\n",
       "    .dataframe tbody tr th:only-of-type {\n",
       "        vertical-align: middle;\n",
       "    }\n",
       "\n",
       "    .dataframe tbody tr th {\n",
       "        vertical-align: top;\n",
       "    }\n",
       "\n",
       "    .dataframe thead th {\n",
       "        text-align: right;\n",
       "    }\n",
       "</style>\n",
       "<table border=\"1\" class=\"dataframe\">\n",
       "  <thead>\n",
       "    <tr style=\"text-align: right;\">\n",
       "      <th></th>\n",
       "      <th>cod_loja</th>\n",
       "      <th>sigla_loja</th>\n",
       "      <th>Venda_Total</th>\n",
       "      <th>nps</th>\n",
       "      <th>id_mes</th>\n",
       "      <th>target_sales_store_1</th>\n",
       "      <th>target_sales_store_2</th>\n",
       "      <th>alvo</th>\n",
       "      <th>NPS_alcancado</th>\n",
       "      <th>LOJA_ELEGIVEL</th>\n",
       "    </tr>\n",
       "  </thead>\n",
       "  <tbody>\n",
       "    <tr>\n",
       "      <th>2</th>\n",
       "      <td>28</td>\n",
       "      <td>SOR</td>\n",
       "      <td>3821230.77</td>\n",
       "      <td>73.7</td>\n",
       "      <td>202206</td>\n",
       "      <td>3726244.8</td>\n",
       "      <td>3921275.5</td>\n",
       "      <td>ALVO1</td>\n",
       "      <td>SIM</td>\n",
       "      <td>SIM</td>\n",
       "    </tr>\n",
       "    <tr>\n",
       "      <th>38</th>\n",
       "      <td>72</td>\n",
       "      <td>SCA</td>\n",
       "      <td>1798552.42</td>\n",
       "      <td>72.5</td>\n",
       "      <td>202206</td>\n",
       "      <td>1781616.5</td>\n",
       "      <td>1901637.9</td>\n",
       "      <td>ALVO1</td>\n",
       "      <td>SIM</td>\n",
       "      <td>SIM</td>\n",
       "    </tr>\n",
       "  </tbody>\n",
       "</table>\n",
       "</div>"
      ],
      "text/plain": [
       "    cod_loja sigla_loja  Venda_Total   nps  id_mes  target_sales_store_1  \\\n",
       "2         28        SOR   3821230.77  73.7  202206             3726244.8   \n",
       "38        72        SCA   1798552.42  72.5  202206             1781616.5   \n",
       "\n",
       "    target_sales_store_2   alvo NPS_alcancado LOJA_ELEGIVEL  \n",
       "2              3921275.5  ALVO1           SIM           SIM  \n",
       "38             1901637.9  ALVO1           SIM           SIM  "
      ]
     },
     "execution_count": 71,
     "metadata": {},
     "output_type": "execute_result"
    }
   ],
   "source": [
    "# Obtendo somente as lojas elegíveis à premiação coletiva da Tina \n",
    "print('LOJAS ELEGÍVEIS À PREMIAÇÃO COLETIVA:')\n",
    "lojas_elegiveis = loja_nps_venda_alvo[\n",
    "    (loja_nps_venda_alvo['alvo'] != 'NAO') & \n",
    "    (loja_nps_venda_alvo['NPS_alcancado'] == 'SIM')\n",
    "    ].copy(deep=True)\n",
    "lojas_elegiveis"
   ]
  },
  {
   "cell_type": "code",
   "execution_count": 72,
   "metadata": {},
   "outputs": [],
   "source": [
    "# CRIANDO PLANILHA DE CHECAGEM PARA META DE NPS E VENDAS DAS LOJAS\n",
    "loja_nps_venda_alvo.to_excel(FILE_CHECAGEM_LOJAS, index=False)      "
   ]
  },
  {
   "cell_type": "code",
   "execution_count": 73,
   "metadata": {},
   "outputs": [
    {
     "name": "stdout",
     "output_type": "stream",
     "text": [
      "Lendo base de afastados no arquivo:\n",
      "C:/apuracao/2022/jul/ORIGINAIS/BASE_AFASTADO_TINA-TN_E_TUM.xlsx\n"
     ]
    }
   ],
   "source": [
    "# Lendo base de afastados\n",
    "print(\"Lendo base de afastados no arquivo:\")\n",
    "print(F_AFASTADOS)\n",
    "base_afastados = pd.read_excel(F_AFASTADOS) # afastados="
   ]
  },
  {
   "cell_type": "code",
   "execution_count": 74,
   "metadata": {},
   "outputs": [
    {
     "name": "stdout",
     "output_type": "stream",
     "text": [
      "Index(['Empresa - Código', 'Estabelecimento - Código',\n",
      "       'Estabelecimento - Nome', 'Matrícula', 'Nome', 'Função - Nome',\n",
      "       'Centro de Resultado - Código', 'Centro de Resultado - Nome',\n",
      "       'Data da Admissão', 'Data Afastamento', 'Data Retorno', 'Motivo',\n",
      "       'Sigla do Motivo'],\n",
      "      dtype='object')\n"
     ]
    }
   ],
   "source": [
    "# Removendo espaços em branco do nome da coluna \n",
    "base_afastados.columns = base_afastados.columns.str.strip()\n",
    "print(base_afastados.columns)\n"
   ]
  },
  {
   "cell_type": "code",
   "execution_count": 75,
   "metadata": {},
   "outputs": [],
   "source": [
    "# ELIMINA ESPAÇOS EM BRANCO ANTES E DEPOIS DA DATA\n",
    "base_afastados['Data da Admissão']=base_afastados['Data da Admissão'].apply(\n",
    "    lambda x: x.strip()\n",
    "    )\n",
    "base_afastados['Data Afastamento']=base_afastados['Data Afastamento'].apply(\n",
    "    lambda x: x.strip()\n",
    "    )\n",
    "base_afastados['Data Retorno']=base_afastados['Data Retorno'].apply(\n",
    "    lambda x: x.strip()\n",
    "    )\n"
   ]
  },
  {
   "cell_type": "code",
   "execution_count": 76,
   "metadata": {},
   "outputs": [],
   "source": [
    "# PARÂMETROS NECESSÁRIOS DOS AFASTADOS\n",
    "PARAMETROS=[\n",
    "    'Empresa - Código', \n",
    "    'Estabelecimento - Código',\n",
    "    'Estabelecimento - Nome', \n",
    "    'Matrícula', \n",
    "    'Nome', \n",
    "    'Função - Nome',\n",
    "    'Centro de Resultado - Código', \n",
    "    'Centro de Resultado - Nome',\n",
    "    'Data da Admissão',\n",
    "    'Data Afastamento',\n",
    "    'Data Retorno',\n",
    "    'Motivo',\n",
    "]"
   ]
  },
  {
   "cell_type": "code",
   "execution_count": 77,
   "metadata": {},
   "outputs": [],
   "source": [
    "# Para renomear  os parâmetros da base de afastados\n",
    "RENOMEA={\n",
    "    'Empresa - Código': 'EMPRESA',\n",
    "    'Estabelecimento - Nome': 'ESTABELECIMENTO', \n",
    "    'Matrícula':'MATRICULA', \n",
    "    'Nome':'NOME',\n",
    "    'Função - Nome': 'CARGO',\n",
    "    'Data da Admissão':'DATA_ADMISSAO', \n",
    "    'Data Afastamento':'DATA_AFASTAMENTO', \n",
    "    'Data Retorno':'DATA_RETORNO',   \n",
    "    'Tipo de Afastamento':'MOTIVO'\n",
    "    }\n",
    "\n",
    "# Renomeando as colunas da base de afastados com nome da direita pelo da esquerda\n",
    "afastados=base_afastados[PARAMETROS].rename(columns=RENOMEA)"
   ]
  },
  {
   "cell_type": "code",
   "execution_count": 78,
   "metadata": {},
   "outputs": [],
   "source": [
    "# MANTENDO APENAS A SIGLA DAS LOJAS\n",
    "afastados['LOJA']=afastados['ESTABELECIMENTO'].apply(\n",
    "    lambda x: x.strip()[-3:]\n",
    ")"
   ]
  },
  {
   "cell_type": "code",
   "execution_count": null,
   "metadata": {},
   "outputs": [],
   "source": []
  },
  {
   "cell_type": "code",
   "execution_count": 79,
   "metadata": {},
   "outputs": [
    {
     "data": {
      "text/html": [
       "<div>\n",
       "<style scoped>\n",
       "    .dataframe tbody tr th:only-of-type {\n",
       "        vertical-align: middle;\n",
       "    }\n",
       "\n",
       "    .dataframe tbody tr th {\n",
       "        vertical-align: top;\n",
       "    }\n",
       "\n",
       "    .dataframe thead th {\n",
       "        text-align: right;\n",
       "    }\n",
       "</style>\n",
       "<table border=\"1\" class=\"dataframe\">\n",
       "  <thead>\n",
       "    <tr style=\"text-align: right;\">\n",
       "      <th></th>\n",
       "      <th>id_unn</th>\n",
       "      <th>cod_loja</th>\n",
       "      <th>sigla_loja</th>\n",
       "      <th>safra</th>\n",
       "      <th>loja</th>\n",
       "      <th>Unnamed: 5</th>\n",
       "    </tr>\n",
       "  </thead>\n",
       "  <tbody>\n",
       "    <tr>\n",
       "      <th>39</th>\n",
       "      <td>4</td>\n",
       "      <td>510175</td>\n",
       "      <td>LIV</td>\n",
       "      <td>1</td>\n",
       "      <td>LIVRAMENTO</td>\n",
       "      <td>TU-LIVRAMENTO</td>\n",
       "    </tr>\n",
       "    <tr>\n",
       "      <th>40</th>\n",
       "      <td>4</td>\n",
       "      <td>510248</td>\n",
       "      <td>BAG</td>\n",
       "      <td>1</td>\n",
       "      <td>BAGE</td>\n",
       "      <td>TU-BAGE</td>\n",
       "    </tr>\n",
       "    <tr>\n",
       "      <th>41</th>\n",
       "      <td>4</td>\n",
       "      <td>510281</td>\n",
       "      <td>SCR</td>\n",
       "      <td>1</td>\n",
       "      <td>SANTA CRUZ</td>\n",
       "      <td>TU-SANTA CRUZ</td>\n",
       "    </tr>\n",
       "    <tr>\n",
       "      <th>42</th>\n",
       "      <td>4</td>\n",
       "      <td>510442</td>\n",
       "      <td>SMA</td>\n",
       "      <td>1</td>\n",
       "      <td>SANTA MARIA</td>\n",
       "      <td>TU-SANTA MARIA</td>\n",
       "    </tr>\n",
       "    <tr>\n",
       "      <th>43</th>\n",
       "      <td>4</td>\n",
       "      <td>510574</td>\n",
       "      <td>IPI</td>\n",
       "      <td>1</td>\n",
       "      <td>IPIRANGA</td>\n",
       "      <td>TU-IPIRANGA</td>\n",
       "    </tr>\n",
       "    <tr>\n",
       "      <th>44</th>\n",
       "      <td>4</td>\n",
       "      <td>510639</td>\n",
       "      <td>CCH</td>\n",
       "      <td>1</td>\n",
       "      <td>CACHOEIRINHA</td>\n",
       "      <td>TU-CACHOEIRINHA</td>\n",
       "    </tr>\n",
       "    <tr>\n",
       "      <th>45</th>\n",
       "      <td>4</td>\n",
       "      <td>510019</td>\n",
       "      <td>MTZ</td>\n",
       "      <td>1</td>\n",
       "      <td>MATRIZ</td>\n",
       "      <td>TU-MATRIZ</td>\n",
       "    </tr>\n",
       "    <tr>\n",
       "      <th>46</th>\n",
       "      <td>4</td>\n",
       "      <td>510078</td>\n",
       "      <td>NHA</td>\n",
       "      <td>1</td>\n",
       "      <td>NOVO HAMBURGO</td>\n",
       "      <td>TU-NOVO HAMBURGO</td>\n",
       "    </tr>\n",
       "    <tr>\n",
       "      <th>47</th>\n",
       "      <td>4</td>\n",
       "      <td>510167</td>\n",
       "      <td>URU</td>\n",
       "      <td>1</td>\n",
       "      <td>URUGUAIANA</td>\n",
       "      <td>TU-URUGUAIANA</td>\n",
       "    </tr>\n",
       "    <tr>\n",
       "      <th>48</th>\n",
       "      <td>4</td>\n",
       "      <td>510183</td>\n",
       "      <td>CSH</td>\n",
       "      <td>2</td>\n",
       "      <td>CASA SHOP</td>\n",
       "      <td>TU-CASA SHOP</td>\n",
       "    </tr>\n",
       "    <tr>\n",
       "      <th>49</th>\n",
       "      <td>4</td>\n",
       "      <td>510230</td>\n",
       "      <td>SAN</td>\n",
       "      <td>2</td>\n",
       "      <td>SANTO ANGELO</td>\n",
       "      <td>TU-SANTO ANGELO</td>\n",
       "    </tr>\n",
       "    <tr>\n",
       "      <th>50</th>\n",
       "      <td>4</td>\n",
       "      <td>510337</td>\n",
       "      <td>SLE</td>\n",
       "      <td>2</td>\n",
       "      <td>SAO LEOPOLDO</td>\n",
       "      <td>TU-SAO LEOPOLDO</td>\n",
       "    </tr>\n",
       "    <tr>\n",
       "      <th>51</th>\n",
       "      <td>4</td>\n",
       "      <td>510361</td>\n",
       "      <td>MOM</td>\n",
       "      <td>2</td>\n",
       "      <td>MONTENEGRO</td>\n",
       "      <td>TU-MONTENEGRO</td>\n",
       "    </tr>\n",
       "    <tr>\n",
       "      <th>52</th>\n",
       "      <td>4</td>\n",
       "      <td>510388</td>\n",
       "      <td>EST</td>\n",
       "      <td>2</td>\n",
       "      <td>ESTEIO</td>\n",
       "      <td>TU-ESTEIO</td>\n",
       "    </tr>\n",
       "    <tr>\n",
       "      <th>53</th>\n",
       "      <td>4</td>\n",
       "      <td>510400</td>\n",
       "      <td>TRA</td>\n",
       "      <td>2</td>\n",
       "      <td>TRAMANDAI</td>\n",
       "      <td>TU-TRAMANDAI</td>\n",
       "    </tr>\n",
       "    <tr>\n",
       "      <th>54</th>\n",
       "      <td>4</td>\n",
       "      <td>510493</td>\n",
       "      <td>GRA</td>\n",
       "      <td>2</td>\n",
       "      <td>GRAVATAI</td>\n",
       "      <td>TU-GRAVATAI</td>\n",
       "    </tr>\n",
       "    <tr>\n",
       "      <th>55</th>\n",
       "      <td>4</td>\n",
       "      <td>510531</td>\n",
       "      <td>VIA</td>\n",
       "      <td>2</td>\n",
       "      <td>VIAMAO</td>\n",
       "      <td>TU-VIAMAO</td>\n",
       "    </tr>\n",
       "    <tr>\n",
       "      <th>56</th>\n",
       "      <td>4</td>\n",
       "      <td>510540</td>\n",
       "      <td>PEL</td>\n",
       "      <td>2</td>\n",
       "      <td>PELOTAS</td>\n",
       "      <td>TU-PELOTAS</td>\n",
       "    </tr>\n",
       "    <tr>\n",
       "      <th>57</th>\n",
       "      <td>4</td>\n",
       "      <td>510558</td>\n",
       "      <td>CPC</td>\n",
       "      <td>2</td>\n",
       "      <td>CAPAO CANOA</td>\n",
       "      <td>TU-CAPAO CANOA</td>\n",
       "    </tr>\n",
       "    <tr>\n",
       "      <th>58</th>\n",
       "      <td>4</td>\n",
       "      <td>510591</td>\n",
       "      <td>MED</td>\n",
       "      <td>2</td>\n",
       "      <td>MEDIANEIRA</td>\n",
       "      <td>TU-MEDIANEIRA</td>\n",
       "    </tr>\n",
       "    <tr>\n",
       "      <th>59</th>\n",
       "      <td>4</td>\n",
       "      <td>510612</td>\n",
       "      <td>IPA</td>\n",
       "      <td>2</td>\n",
       "      <td>IPANEMA</td>\n",
       "      <td>TU-IPANEMA</td>\n",
       "    </tr>\n",
       "    <tr>\n",
       "      <th>60</th>\n",
       "      <td>4</td>\n",
       "      <td>510752</td>\n",
       "      <td>CA2</td>\n",
       "      <td>2</td>\n",
       "      <td>CANOAS II</td>\n",
       "      <td>TU-CANOAS II</td>\n",
       "    </tr>\n",
       "    <tr>\n",
       "      <th>61</th>\n",
       "      <td>4</td>\n",
       "      <td>510779</td>\n",
       "      <td>PFO</td>\n",
       "      <td>2</td>\n",
       "      <td>PASSO FUNDO</td>\n",
       "      <td>TU-PASSO FUNDO</td>\n",
       "    </tr>\n",
       "    <tr>\n",
       "      <th>62</th>\n",
       "      <td>4</td>\n",
       "      <td>510094</td>\n",
       "      <td>CRI</td>\n",
       "      <td>2</td>\n",
       "      <td>CRISTAL</td>\n",
       "      <td>TU-CRISTAL</td>\n",
       "    </tr>\n",
       "    <tr>\n",
       "      <th>63</th>\n",
       "      <td>4</td>\n",
       "      <td>510116</td>\n",
       "      <td>CEN</td>\n",
       "      <td>2</td>\n",
       "      <td>CENTRO</td>\n",
       "      <td>TU-CENTRO</td>\n",
       "    </tr>\n",
       "    <tr>\n",
       "      <th>64</th>\n",
       "      <td>4</td>\n",
       "      <td>510141</td>\n",
       "      <td>CAX</td>\n",
       "      <td>2</td>\n",
       "      <td>CAXIAS</td>\n",
       "      <td>TU-CAXIAS</td>\n",
       "    </tr>\n",
       "    <tr>\n",
       "      <th>65</th>\n",
       "      <td>4</td>\n",
       "      <td>510159</td>\n",
       "      <td>RGD</td>\n",
       "      <td>2</td>\n",
       "      <td>RIO GRANDE</td>\n",
       "      <td>TU-RIO GRANDE</td>\n",
       "    </tr>\n",
       "  </tbody>\n",
       "</table>\n",
       "</div>"
      ],
      "text/plain": [
       "    id_unn  cod_loja sigla_loja  safra           loja        Unnamed: 5\n",
       "39       4    510175        LIV      1     LIVRAMENTO     TU-LIVRAMENTO\n",
       "40       4    510248        BAG      1           BAGE           TU-BAGE\n",
       "41       4    510281        SCR      1     SANTA CRUZ     TU-SANTA CRUZ\n",
       "42       4    510442        SMA      1    SANTA MARIA    TU-SANTA MARIA\n",
       "43       4    510574        IPI      1       IPIRANGA       TU-IPIRANGA\n",
       "44       4    510639        CCH      1   CACHOEIRINHA   TU-CACHOEIRINHA\n",
       "45       4    510019        MTZ      1         MATRIZ         TU-MATRIZ\n",
       "46       4    510078        NHA      1  NOVO HAMBURGO  TU-NOVO HAMBURGO\n",
       "47       4    510167        URU      1     URUGUAIANA     TU-URUGUAIANA\n",
       "48       4    510183        CSH      2      CASA SHOP      TU-CASA SHOP\n",
       "49       4    510230        SAN      2   SANTO ANGELO   TU-SANTO ANGELO\n",
       "50       4    510337        SLE      2   SAO LEOPOLDO   TU-SAO LEOPOLDO\n",
       "51       4    510361        MOM      2     MONTENEGRO     TU-MONTENEGRO\n",
       "52       4    510388        EST      2         ESTEIO         TU-ESTEIO\n",
       "53       4    510400        TRA      2      TRAMANDAI      TU-TRAMANDAI\n",
       "54       4    510493        GRA      2       GRAVATAI       TU-GRAVATAI\n",
       "55       4    510531        VIA      2         VIAMAO         TU-VIAMAO\n",
       "56       4    510540        PEL      2        PELOTAS        TU-PELOTAS\n",
       "57       4    510558        CPC      2    CAPAO CANOA    TU-CAPAO CANOA\n",
       "58       4    510591        MED      2     MEDIANEIRA     TU-MEDIANEIRA\n",
       "59       4    510612        IPA      2        IPANEMA        TU-IPANEMA\n",
       "60       4    510752        CA2      2      CANOAS II      TU-CANOAS II\n",
       "61       4    510779        PFO      2    PASSO FUNDO    TU-PASSO FUNDO\n",
       "62       4    510094        CRI      2        CRISTAL        TU-CRISTAL\n",
       "63       4    510116        CEN      2         CENTRO         TU-CENTRO\n",
       "64       4    510141        CAX      2         CAXIAS         TU-CAXIAS\n",
       "65       4    510159        RGD      2     RIO GRANDE     TU-RIO GRANDE"
      ]
     },
     "execution_count": 79,
     "metadata": {},
     "output_type": "execute_result"
    }
   ],
   "source": [
    "lojas_tina[lojas_tina['id_unn']==4]"
   ]
  },
  {
   "cell_type": "code",
   "execution_count": 80,
   "metadata": {},
   "outputs": [],
   "source": [
    "# Juntando codigo da loja na base de afastados\n",
    "afastados = afastados.merge(\n",
    "    lojas_tina[['id_unn', 'cod_loja','sigla_loja']].rename(columns={\n",
    "        'id_unn': 'EMPRESA',\n",
    "        'cod_loja': 'COD_LOJA',\n",
    "        'sigla_loja': 'LOJA'\n",
    "    }),\n",
    "    how = 'inner',\n",
    "    on=['EMPRESA','LOJA']\n",
    "    )\n"
   ]
  },
  {
   "cell_type": "code",
   "execution_count": 81,
   "metadata": {},
   "outputs": [],
   "source": [
    "# Manter somente funcionários afastados das Lojas Tina, filtrando pelo código da loja\n",
    "#               afastados=afastados[afastados['LOJA'].isin(lojas_tina['cod_loja'])].copy(deep=True)"
   ]
  },
  {
   "cell_type": "code",
   "execution_count": 82,
   "metadata": {},
   "outputs": [
    {
     "data": {
      "text/html": [
       "<div>\n",
       "<style scoped>\n",
       "    .dataframe tbody tr th:only-of-type {\n",
       "        vertical-align: middle;\n",
       "    }\n",
       "\n",
       "    .dataframe tbody tr th {\n",
       "        vertical-align: top;\n",
       "    }\n",
       "\n",
       "    .dataframe thead th {\n",
       "        text-align: right;\n",
       "    }\n",
       "</style>\n",
       "<table border=\"1\" class=\"dataframe\">\n",
       "  <thead>\n",
       "    <tr style=\"text-align: right;\">\n",
       "      <th></th>\n",
       "      <th>EMPRESA</th>\n",
       "      <th>Estabelecimento - Código</th>\n",
       "      <th>ESTABELECIMENTO</th>\n",
       "      <th>MATRICULA</th>\n",
       "      <th>NOME</th>\n",
       "      <th>CARGO</th>\n",
       "      <th>Centro de Resultado - Código</th>\n",
       "      <th>Centro de Resultado - Nome</th>\n",
       "      <th>DATA_ADMISSAO</th>\n",
       "      <th>DATA_AFASTAMENTO</th>\n",
       "      <th>DATA_RETORNO</th>\n",
       "      <th>Motivo</th>\n",
       "      <th>LOJA</th>\n",
       "      <th>COD_LOJA</th>\n",
       "    </tr>\n",
       "  </thead>\n",
       "  <tbody>\n",
       "    <tr>\n",
       "      <th>4129</th>\n",
       "      <td>1</td>\n",
       "      <td>10</td>\n",
       "      <td>Saint-Gobain Distribuição Brasil Ltda - MGN</td>\n",
       "      <td>24370</td>\n",
       "      <td>CLEONICE BARBOSA DA SILVA                     ...</td>\n",
       "      <td>Vendedor(a)</td>\n",
       "      <td>174403</td>\n",
       "      <td>MGN - VENDAS</td>\n",
       "      <td>20/10/2016</td>\n",
       "      <td>06/08/2021</td>\n",
       "      <td>09/08/2021</td>\n",
       "      <td>Atestado Médico</td>\n",
       "      <td>MGN</td>\n",
       "      <td>3</td>\n",
       "    </tr>\n",
       "    <tr>\n",
       "      <th>7447</th>\n",
       "      <td>1</td>\n",
       "      <td>57</td>\n",
       "      <td>Saint-Gobain Distribuição Brasil Ltda - SAN</td>\n",
       "      <td>2579</td>\n",
       "      <td>MARLENE CORREIA DE SANTANA                    ...</td>\n",
       "      <td>Enc de Caixa</td>\n",
       "      <td>574402</td>\n",
       "      <td>SAN - Operações Loja</td>\n",
       "      <td>07/06/1999</td>\n",
       "      <td>03/01/2022</td>\n",
       "      <td>02/02/2022</td>\n",
       "      <td>Férias</td>\n",
       "      <td>SAN</td>\n",
       "      <td>64</td>\n",
       "    </tr>\n",
       "    <tr>\n",
       "      <th>10728</th>\n",
       "      <td>1</td>\n",
       "      <td>18</td>\n",
       "      <td>Saint-Gobain Distribuição Brasil Ltda - PMG</td>\n",
       "      <td>28804</td>\n",
       "      <td>ELENICE DA PAZ CIRILO FERREIRA                ...</td>\n",
       "      <td>Ass Serviços ao Cliente</td>\n",
       "      <td>234402</td>\n",
       "      <td>PMG - OPERACOES LOJA</td>\n",
       "      <td>08/02/2021</td>\n",
       "      <td>14/02/2022</td>\n",
       "      <td>17/02/2022</td>\n",
       "      <td>Atestado Médico</td>\n",
       "      <td>PMG</td>\n",
       "      <td>23</td>\n",
       "    </tr>\n",
       "  </tbody>\n",
       "</table>\n",
       "</div>"
      ],
      "text/plain": [
       "       EMPRESA  Estabelecimento - Código  \\\n",
       "4129         1                        10   \n",
       "7447         1                        57   \n",
       "10728        1                        18   \n",
       "\n",
       "                                      ESTABELECIMENTO  MATRICULA  \\\n",
       "4129   Saint-Gobain Distribuição Brasil Ltda - MGN         24370   \n",
       "7447   Saint-Gobain Distribuição Brasil Ltda - SAN          2579   \n",
       "10728  Saint-Gobain Distribuição Brasil Ltda - PMG         28804   \n",
       "\n",
       "                                                    NOME  \\\n",
       "4129   CLEONICE BARBOSA DA SILVA                     ...   \n",
       "7447   MARLENE CORREIA DE SANTANA                    ...   \n",
       "10728  ELENICE DA PAZ CIRILO FERREIRA                ...   \n",
       "\n",
       "                                      CARGO  Centro de Resultado - Código  \\\n",
       "4129   Vendedor(a)                                                 174403   \n",
       "7447   Enc de Caixa                                                574402   \n",
       "10728  Ass Serviços ao Cliente                                     234402   \n",
       "\n",
       "                 Centro de Resultado - Nome DATA_ADMISSAO DATA_AFASTAMENTO  \\\n",
       "4129   MGN - VENDAS                            20/10/2016       06/08/2021   \n",
       "7447   SAN - Operações Loja                    07/06/1999       03/01/2022   \n",
       "10728  PMG - OPERACOES LOJA                    08/02/2021       14/02/2022   \n",
       "\n",
       "      DATA_RETORNO                                Motivo LOJA  COD_LOJA  \n",
       "4129    09/08/2021  Atestado Médico                       MGN         3  \n",
       "7447    02/02/2022  Férias                                SAN        64  \n",
       "10728   17/02/2022  Atestado Médico                       PMG        23  "
      ]
     },
     "execution_count": 82,
     "metadata": {},
     "output_type": "execute_result"
    }
   ],
   "source": [
    "#len(afastados['LOJA'].unique())\n",
    "afastados.sample(3)"
   ]
  },
  {
   "cell_type": "code",
   "execution_count": 83,
   "metadata": {},
   "outputs": [],
   "source": [
    "afastados['DATA_ADMISSAO']=pd.to_datetime(afastados['DATA_ADMISSAO'], format=\"%d/%m/%Y\")\n"
   ]
  },
  {
   "cell_type": "code",
   "execution_count": 84,
   "metadata": {},
   "outputs": [],
   "source": [
    "afastados['DATA_AFASTAMENTO']=pd.to_datetime(afastados['DATA_AFASTAMENTO'], format=\"%d/%m/%Y\")\n"
   ]
  },
  {
   "cell_type": "code",
   "execution_count": 85,
   "metadata": {},
   "outputs": [],
   "source": [
    "afastados['DATA_RETORNO']=np.where(afastados['DATA_RETORNO']=='', np.nan,afastados['DATA_RETORNO'])\n",
    "afastados['DATA_RETORNO']=pd.to_datetime(afastados['DATA_RETORNO'], format=\"%d/%m/%Y\")"
   ]
  },
  {
   "cell_type": "code",
   "execution_count": 86,
   "metadata": {},
   "outputs": [],
   "source": [
    "#  Função para calcular os dias ADMITIDOS dentro do período apurado\n",
    "def admitidos_no_mes(data_admissao):\n",
    "    global DATA_I, DATA_F\n",
    "    if data_admissao > DATA_F:\n",
    "        dias_admitidos = 0\n",
    "    elif data_admissao <= DATA_I :\n",
    "        dias_admitidos=DATA_F.day\n",
    "    else:\n",
    "        dias_admitidos=(DATA_F-data_admissao).days+1\n",
    "    return dias_admitidos\n"
   ]
  },
  {
   "cell_type": "code",
   "execution_count": 87,
   "metadata": {},
   "outputs": [],
   "source": [
    "# CALCULANDO QUANTOS DIAS O FUNCIONÁRIO ESTÁ ADMITIDO NO MÊS DA APURAÇÃO\n",
    "afastados['DIAS_ADMITIDOS']=afastados['DATA_ADMISSAO'].apply(\n",
    "    lambda x: admitidos_no_mes(x)\n",
    "    ).copy()"
   ]
  },
  {
   "cell_type": "code",
   "execution_count": 88,
   "metadata": {},
   "outputs": [],
   "source": [
    "# INCLUINDO INFORMAÇÃO SE O COLABORADOR ESTÁ ADMITIDO HÁ MAIS DE 15 DIAS DO PERÍODO DE APURAÇÃO\n",
    "afastados['MAIS_DE15DIAS_ADMITIDOS']=np.where(afastados['DIAS_ADMITIDOS']>=MEIO_MES,\"SIM\", \"NAO\")"
   ]
  },
  {
   "cell_type": "code",
   "execution_count": 89,
   "metadata": {},
   "outputs": [
    {
     "data": {
      "text/plain": [
       "array(['Enc Depósito', 'Vendedor(a)', 'Enc de Caixa', 'Ger Geral III',\n",
       "       'Ass Recebimento', 'ASSESSOR DE LOJA', 'Lider de Caixa',\n",
       "       'Ass Serviços ao Cliente', 'Sup de Vendas', 'Sup de Produto',\n",
       "       'Ger Operacional II', 'Assessor de Operações II',\n",
       "       'Ger de Vendas I', 'Assessor de Operações I', 'Ass de Expedição',\n",
       "       'DESIGNER PROJETISTA', 'Ger Geral I', 'Vendedor(a) Especialista',\n",
       "       'Sup Operacional', 'Vendedor(a) Televendas', 'Anl Contábil Pl',\n",
       "       'Coord Categoria', 'Anl Financeiro Jr', 'Ass Fiscal Sr',\n",
       "       'COMPRADOR ADM PL', 'Ass Financeiro', 'Ass Departamento Pessoal',\n",
       "       'Anl Financeiro Pl', 'COORD TECNOLOGIA DA INFORMACAO',\n",
       "       'Oficial Manutenção Eletricista', 'Ass Financeiro Sr',\n",
       "       'Enc Manutenção', 'Anl Funcional SAP PL', 'Gerente de Preços',\n",
       "       'Enc de Produto', 'Ass Recursos Humanos', 'Ger de Informática',\n",
       "       'Ger Regional I', 'Ger Categorias', 'Anl Infraestrut Pl',\n",
       "       'Anl Funcional SAP Sr', 'Anl Abastecimento Pl',\n",
       "       'GERENTE COMERCIAL', 'GER REGIONAL', 'Repositor(a)',\n",
       "       'Ass Recebimento Fiscal', 'Técnico Seguranca Trabalho Sr',\n",
       "       'Anl Gestão Compras Pl', 'Ass Prevenção de Perdas',\n",
       "       'Anl Abastecimento Sr', 'Ger Relacionamento e Operações',\n",
       "       'Coord de Serviços', 'Coord de EHS', 'Gerente Adm Financeiro',\n",
       "       'Médico do Trabalho', 'Ger de Produto II',\n",
       "       'SUP DE RECURSOS HUMANOS', 'ENC DE OPERACOES', 'Anl Fiscal Pl',\n",
       "       'COORDENADOR PREVENCAO PERDAS', 'Anl Recebimento Fiscal Jr',\n",
       "       'Ger de Vendas II', 'Anl Recursos Humanos Jr',\n",
       "       'Supervisor Financeiro', 'SUP CARTOES E SERV FINANCEIROS',\n",
       "       'Ger Recursos Humanos', 'Sup de Televendas', 'Ass Administrativo',\n",
       "       'Coord Recursos Humanos', 'Coord Fiscal', 'Anl Fiscal Jr',\n",
       "       'COORD CARTOES SERV FINANCEIROS', 'Ger Regional II',\n",
       "       'Anl de Importação Sr', 'Ger de Infraestrutura',\n",
       "       'GER CANAIS DIGITAIS', 'Ger. Qualidade e EHS',\n",
       "       'COORD PREV E GESTAO DE FRAUDE', 'Dir de Marketing',\n",
       "       'Anl Recursos Humanos Pl', 'Anl Contábil Sr',\n",
       "       'Ger Desenvolv. Organizacional', 'Assist Controle Gestão Oper',\n",
       "       'Técnico de Edificações Sr', 'Enc Serviços ao Cliente',\n",
       "       'Ger Compras e Importação', 'Especialista de Preço',\n",
       "       'Ger de Prevencao de Perdas', 'Ger Compras Adm',\n",
       "       'Anl Serv Merchandising Pl', 'GER GERAL SR',\n",
       "       'COORD INTELIGENCIA MERCADO', 'Anl Abastecimento Jr',\n",
       "       'Ger Gestão Categorias', 'Anl Prevenção Perdas Pl',\n",
       "       'Coord Controle Interno', 'ENC SEGURANCA PATRIMONIAL',\n",
       "       'GER REMUNERACAO E BENEFICIOS', 'SECRETARIA DIRETORIA',\n",
       "       'Sup Caixa', 'Anl Gestão Compras Jr', 'Dir Adm Financeiro',\n",
       "       'Ger Televendas', 'Oficial Manutenção',\n",
       "       'Anl Relacoes Trabalhistas Pl', 'Coordenador de Merchandising',\n",
       "       'Dir. Expansão e Novos Negócios', 'Coord Comunicação Interna',\n",
       "       'Diretor de Informatica', 'Ger Novos Negocios', 'COORD EXPANSAO',\n",
       "       'Anl Relacionamento e Operações', 'Gerente Projetos Operações',\n",
       "       'Ger de Controladoria', 'Anl Infraestrut Sr',\n",
       "       'Coord Financeiro(a)', 'COORD DE PROCESSOS', 'Anl Financeiro Sr',\n",
       "       'ASS ADM TELEVENDAS', 'COORDENADOR DE BI', 'Coordenador Compras',\n",
       "       'Dir Recursos Humanos', 'ANALISTA DE BI SR', 'Dir de Logística',\n",
       "       'Coord DHO', 'Ass Compras e Cadastro', 'Analista de Preços',\n",
       "       'COORD. MARKETING DE ATIVAÇÃO', 'Anl de Marketing Sr',\n",
       "       'DIRETOR COMERCIAL', 'Técnico de Edificações', 'Ass Fiscal Pl',\n",
       "       'Comprador', 'Anl Infraestrut Jr', 'Coord Recrutamento e Seleção',\n",
       "       'Coord de Engenharia', 'GERENTE LOGISTICA', 'COORDENADOR CONTABIL',\n",
       "       'GER PROD E SERV FINANCEIROS', 'Ass Logistico Televenda',\n",
       "       'Ger Operacional I', 'ANL RH REGIONAL PL', 'Supervisor Fiscal',\n",
       "       'GER DESENV DE SISTEMAS', 'Coord(a) Gestão e Seg de Dados',\n",
       "       'ANL MARKETING DE ATIVACAO JR', 'Anl Merchandising Sr',\n",
       "       'ASS INFRAESTRUTURA', 'COORD COMUNICACAO', 'Ger Marketing',\n",
       "       'Ass Compras', 'COORDENADOR DE PROJETOS', 'Coord  Abastecimento',\n",
       "       'ORCAMENTISTA', 'Analista de Novos Negócios Pl', 'Ass Cadastro Jr',\n",
       "       'Anl Merchandising Pl', 'Estagiário(a)', 'Analista de Preço Jr',\n",
       "       'Trainee', 'DIR OPERAÇÕES GERAIS DIST BRA',\n",
       "       'Coord Compras Administrativas', 'GERENTE REGIONAL',\n",
       "       'Ger Contr de Gest Operacional', 'Tec Manut Instal de Sistemas',\n",
       "       'Analista de Projetos Sr', 'Ass Manut Serv Gerais',\n",
       "       'Operador(a) Caixa', 'Ger Geral II', 'Aux Manutenção',\n",
       "       'Conferente', 'Enc CTN', 'Operador Empilhadeira',\n",
       "       'Ger de Vendas III', 'Gerente Operacional',\n",
       "       'Enc Prevenção de Perda', 'Ger de Produto I',\n",
       "       'Anl de Logística Jr', 'Sup de Depósito', 'Sup deProduto I',\n",
       "       'Técnico Seguranca Trabalho Pl', 'Vendedor(a) Especialista Lider',\n",
       "       'Atendente de Loja', 'Sup Administrativo',\n",
       "       'Ass Serviço ao Cliente', 'OPERADOR DE SAC',\n",
       "       'ANALISTA DE ESTOQUES', 'SUPERVISOR FISCAL DE LOJA',\n",
       "       'ATENDENTE DE RH', 'ENCARREGADO DO SAC',\n",
       "       'ASSISTENTE DE CONTABILIDADE', 'ASSISTENTE DE MERCHANDISING',\n",
       "       'ANALISTA DE CREDITO PLENO', 'Coord de Mercado',\n",
       "       'ASSISTENTE DE E-COMMERCE', 'ANALISTA DE SUPORTE PLENO',\n",
       "       'ANALISTA DE CUSTOS', 'GERENTE DE PREVENCAO DE PERDAS',\n",
       "       'ANALISTA FINANCEIRO', 'CONTROLADOR DE PRODUCAO',\n",
       "       'ANALISTA DE RELACOES TRABALHISTAS', 'AUDITOR INTERNO',\n",
       "       'AUXILIAR DE SERVICOS GERAIS', 'Técnico Seguranca Trabalho Jr',\n",
       "       'ASSISTENTE DE COMPRAS', 'CONTROLADOR DE PRODUCAO SENIOR',\n",
       "       'AUDITOR INTERNO DE ESTOQUES II', 'FISCAL DE LOJA',\n",
       "       'OPERADOR DE TELE VENDAS', 'GERENTE DE LOJA', 'COORDENADOR DE TI',\n",
       "       'COORD MARKETING DE ATIVACAO', 'GERENTE ADJUNTO',\n",
       "       'ANALISTA DE CONTROLADORIA', 'ASSISTENTE ADMINISTRATIVO II',\n",
       "       'AUXILIAR DE EXPEDICAO II', 'Anl Recursos Humanos Sr',\n",
       "       'ASSISTENTE FINANCEIRO', 'Gerente de Produtos',\n",
       "       'ANALISTA DE CONTROLE INTERNO', 'Anl Cartões e Serv Financeiro',\n",
       "       'ENCARREGADO EXPEDICAO DEPOSITO', 'AUXILIAR DE LOJA',\n",
       "       'AUXILIAR DE MALOTE', 'ANALISTA DE MARKETING',\n",
       "       'SUPERVISORA DE CAIXA', 'Supervisor Televendas',\n",
       "       'ASSISTENTE ADMINISTRATIVO', 'CAIXA CREDIARISTA', 'Anl Fiscal Sr',\n",
       "       'AUDITOR INTERNO DE ESTOQUE I', 'PROGRAMADOR SENIOR',\n",
       "       'VENDEDOR(A) TELEVENDAS', 'AUXILIAR DE MERCHANDISING',\n",
       "       'CONTROLADOR DE PRODUÇÃO PLENO', 'ANALISTA FISCAL PLENO',\n",
       "       'OPERADOR DE EMPILHADEIRA LOJA', 'ANALISTA CONTABIL',\n",
       "       'GERENTE DE INFRAESTRUTURA', 'CONSULTOR DE TREINAMENTO COML',\n",
       "       'Assistente  de Atendimento', 'GER TELEVENDAS',\n",
       "       'COORD ADMINISTRATIVO', 'ANL VISUAL MERCHANDISING SR',\n",
       "       'COORD MANUTENÇÃO E SERVIÇOS', 'Anl Servico ao Cliente Jr',\n",
       "       'AUXILIAR DE EXPEDICAO I', 'CAIXA CREDIARISTA LIDER', 'VIGILANTE',\n",
       "       'GERENTE TRAINEE', 'AUXILIAR DE EXPEDICAO LOJA',\n",
       "       'CAIXA ADMINISTRATIVA', 'ASSESSOR DE VENDAS E OPERAÇÕES',\n",
       "       'ENC DE OPERAÇOES E SERVICOS'], dtype=object)"
      ]
     },
     "execution_count": 89,
     "metadata": {},
     "output_type": "execute_result"
    }
   ],
   "source": [
    "# Elimina espaços em branco dos CARGOs dos funcionários \n",
    "afastados['CARGO']=afastados['CARGO'].apply(\n",
    "    lambda x: x.strip()\n",
    ")\n",
    "# CHECAGEM\n",
    "afastados['CARGO'].unique()"
   ]
  },
  {
   "cell_type": "code",
   "execution_count": 90,
   "metadata": {},
   "outputs": [],
   "source": [
    "#  Função para calcular os dias de afastamento dentro do período apurado\n",
    "def afastamento_do_mes(data_afastamento, data_retorno):\n",
    "    global DATA_I, DATA_F\n",
    "    if (data_afastamento < DATA_I and data_retorno < DATA_I) or (data_afastamento >= DATA_F and data_retorno > DATA_F):\n",
    "        dias_afastados=0\n",
    "    elif data_afastamento >= DATA_I and data_retorno <= DATA_F:\n",
    "        dias_afastados=(data_retorno-data_afastamento).days\n",
    "    elif (data_afastamento < DATA_I or pd.isnull(data_afastamento))  and data_retorno <= DATA_F:\n",
    "        dias_afastados=(data_retorno-DATA_I).days\n",
    "    elif data_afastamento >= DATA_I and (data_retorno > DATA_F or pd.isnull(data_retorno)):\n",
    "        dias_afastados=(DATA_F-data_afastamento).days+1\n",
    "    elif (data_afastamento < DATA_I or pd.isnull(data_afastamento)) and (data_retorno > DATA_F or pd.isnull(data_retorno)):\n",
    "        dias_afastados=(DATA_F.day)\n",
    "    elif (data_afastamento < DATA_I or pd.isnull(data_afastamento)) and (data_retorno < DATA_I):\n",
    "        dias_afastados=(DATA_F.day-DATA_F.day)\n",
    "    else:\n",
    "        print(\"ERRO\")\n",
    "        dias_afastados=0\n",
    "\n",
    "    return dias_afastados"
   ]
  },
  {
   "cell_type": "code",
   "execution_count": 91,
   "metadata": {},
   "outputs": [],
   "source": [
    "# Contando os dias de afastamento para cada período de afastamento considerando o período de apuração\n",
    "afastados['dias_afastados']=afastados.apply(\n",
    "    lambda x: afastamento_do_mes(x['DATA_AFASTAMENTO'],x['DATA_RETORNO']), axis=1)"
   ]
  },
  {
   "cell_type": "code",
   "execution_count": 92,
   "metadata": {},
   "outputs": [],
   "source": [
    "# CHECAGEM\n",
    "afastados[\n",
    "    (afastados['DATA_RETORNO']>=DATA_I) # & \n",
    "#    (afastados['DATA_ADMISSAO']<=DATA_I)\n",
    "    ].to_excel(FILE_CHECAGEM_AFASTADOS, index=False)      "
   ]
  },
  {
   "cell_type": "code",
   "execution_count": 93,
   "metadata": {},
   "outputs": [],
   "source": [
    "# SOMANDO OS DIAS AFASTADOS POR MATRÍCULA\n",
    "dias_afastados_por_matricula=afastados.groupby(\n",
    "    ['EMPRESA', 'COD_LOJA', 'LOJA','MATRICULA', 'NOME']\n",
    "    )['dias_afastados'].sum().reset_index(name='dias_afastados_totais')\n"
   ]
  },
  {
   "cell_type": "code",
   "execution_count": 94,
   "metadata": {},
   "outputs": [
    {
     "data": {
      "text/html": [
       "<div>\n",
       "<style scoped>\n",
       "    .dataframe tbody tr th:only-of-type {\n",
       "        vertical-align: middle;\n",
       "    }\n",
       "\n",
       "    .dataframe tbody tr th {\n",
       "        vertical-align: top;\n",
       "    }\n",
       "\n",
       "    .dataframe thead th {\n",
       "        text-align: right;\n",
       "    }\n",
       "</style>\n",
       "<table border=\"1\" class=\"dataframe\">\n",
       "  <thead>\n",
       "    <tr style=\"text-align: right;\">\n",
       "      <th></th>\n",
       "      <th>EMPRESA</th>\n",
       "      <th>COD_LOJA</th>\n",
       "      <th>LOJA</th>\n",
       "      <th>MATRICULA</th>\n",
       "      <th>NOME</th>\n",
       "      <th>dias_afastados_totais</th>\n",
       "    </tr>\n",
       "  </thead>\n",
       "  <tbody>\n",
       "    <tr>\n",
       "      <th>1</th>\n",
       "      <td>1</td>\n",
       "      <td>1</td>\n",
       "      <td>ANH</td>\n",
       "      <td>2147</td>\n",
       "      <td>ROSEMARY MARIA MARTINS                        ...</td>\n",
       "      <td>30</td>\n",
       "    </tr>\n",
       "    <tr>\n",
       "      <th>2</th>\n",
       "      <td>1</td>\n",
       "      <td>1</td>\n",
       "      <td>ANH</td>\n",
       "      <td>3037</td>\n",
       "      <td>DENECI XAVIER CABRAL SILVA                    ...</td>\n",
       "      <td>30</td>\n",
       "    </tr>\n",
       "    <tr>\n",
       "      <th>3</th>\n",
       "      <td>1</td>\n",
       "      <td>1</td>\n",
       "      <td>ANH</td>\n",
       "      <td>3402</td>\n",
       "      <td>AMABILE CHRISTINA LOURENCO                    ...</td>\n",
       "      <td>10</td>\n",
       "    </tr>\n",
       "    <tr>\n",
       "      <th>9</th>\n",
       "      <td>1</td>\n",
       "      <td>1</td>\n",
       "      <td>ANH</td>\n",
       "      <td>16948</td>\n",
       "      <td>JACQUELINE SANTOS TARIGI                      ...</td>\n",
       "      <td>4</td>\n",
       "    </tr>\n",
       "    <tr>\n",
       "      <th>12</th>\n",
       "      <td>1</td>\n",
       "      <td>1</td>\n",
       "      <td>ANH</td>\n",
       "      <td>22152</td>\n",
       "      <td>JOSIMARA CORREIA RODRIGUES MENDES             ...</td>\n",
       "      <td>2</td>\n",
       "    </tr>\n",
       "    <tr>\n",
       "      <th>...</th>\n",
       "      <td>...</td>\n",
       "      <td>...</td>\n",
       "      <td>...</td>\n",
       "      <td>...</td>\n",
       "      <td>...</td>\n",
       "      <td>...</td>\n",
       "    </tr>\n",
       "    <tr>\n",
       "      <th>2387</th>\n",
       "      <td>4</td>\n",
       "      <td>510779</td>\n",
       "      <td>PFO</td>\n",
       "      <td>9130</td>\n",
       "      <td>CLEBER CAMPO LEAO                             ...</td>\n",
       "      <td>10</td>\n",
       "    </tr>\n",
       "    <tr>\n",
       "      <th>2388</th>\n",
       "      <td>4</td>\n",
       "      <td>510779</td>\n",
       "      <td>PFO</td>\n",
       "      <td>9944</td>\n",
       "      <td>LETICIA LONGUI MARTINS                        ...</td>\n",
       "      <td>6</td>\n",
       "    </tr>\n",
       "    <tr>\n",
       "      <th>2389</th>\n",
       "      <td>4</td>\n",
       "      <td>510779</td>\n",
       "      <td>PFO</td>\n",
       "      <td>11888</td>\n",
       "      <td>JOENGRID ANGEL CAMARGO                        ...</td>\n",
       "      <td>28</td>\n",
       "    </tr>\n",
       "    <tr>\n",
       "      <th>2390</th>\n",
       "      <td>4</td>\n",
       "      <td>510779</td>\n",
       "      <td>PFO</td>\n",
       "      <td>11905</td>\n",
       "      <td>WOLNI FOLLMER                                 ...</td>\n",
       "      <td>6</td>\n",
       "    </tr>\n",
       "    <tr>\n",
       "      <th>2395</th>\n",
       "      <td>4</td>\n",
       "      <td>510779</td>\n",
       "      <td>PFO</td>\n",
       "      <td>12658</td>\n",
       "      <td>DIONI EDUARDO MARTINS                         ...</td>\n",
       "      <td>8</td>\n",
       "    </tr>\n",
       "  </tbody>\n",
       "</table>\n",
       "<p>685 rows × 6 columns</p>\n",
       "</div>"
      ],
      "text/plain": [
       "      EMPRESA  COD_LOJA LOJA  MATRICULA  \\\n",
       "1           1         1  ANH       2147   \n",
       "2           1         1  ANH       3037   \n",
       "3           1         1  ANH       3402   \n",
       "9           1         1  ANH      16948   \n",
       "12          1         1  ANH      22152   \n",
       "...       ...       ...  ...        ...   \n",
       "2387        4    510779  PFO       9130   \n",
       "2388        4    510779  PFO       9944   \n",
       "2389        4    510779  PFO      11888   \n",
       "2390        4    510779  PFO      11905   \n",
       "2395        4    510779  PFO      12658   \n",
       "\n",
       "                                                   NOME  dias_afastados_totais  \n",
       "1     ROSEMARY MARIA MARTINS                        ...                     30  \n",
       "2     DENECI XAVIER CABRAL SILVA                    ...                     30  \n",
       "3     AMABILE CHRISTINA LOURENCO                    ...                     10  \n",
       "9     JACQUELINE SANTOS TARIGI                      ...                      4  \n",
       "12    JOSIMARA CORREIA RODRIGUES MENDES             ...                      2  \n",
       "...                                                 ...                    ...  \n",
       "2387  CLEBER CAMPO LEAO                             ...                     10  \n",
       "2388  LETICIA LONGUI MARTINS                        ...                      6  \n",
       "2389  JOENGRID ANGEL CAMARGO                        ...                     28  \n",
       "2390  WOLNI FOLLMER                                 ...                      6  \n",
       "2395  DIONI EDUARDO MARTINS                         ...                      8  \n",
       "\n",
       "[685 rows x 6 columns]"
      ]
     },
     "execution_count": 94,
     "metadata": {},
     "output_type": "execute_result"
    }
   ],
   "source": [
    "dias_afastados_por_matricula[dias_afastados_por_matricula['dias_afastados_totais']>0]"
   ]
  },
  {
   "cell_type": "code",
   "execution_count": 95,
   "metadata": {},
   "outputs": [
    {
     "name": "stdout",
     "output_type": "stream",
     "text": [
      "Lendo base de ativos no arquivo:\n",
      "C:/apuracao/2022/jun/ORIGINAIS/BASE_TOTAL_ATIVOS_TINA.xlsx\n"
     ]
    }
   ],
   "source": [
    "# Lendo base de ativos\n",
    "print(\"Lendo base de ativos no arquivo:\")\n",
    "print(F_ATIVOS)\n",
    "#base_ativos = pd.read_excel(F_ATIVOS, header=0) # \n",
    "base_ativos = pd.read_excel(F_ATIVOS) # \n"
   ]
  },
  {
   "cell_type": "code",
   "execution_count": 96,
   "metadata": {},
   "outputs": [],
   "source": [
    "# Removendo espaços em branco do nome da coluna \n",
    "base_ativos.columns = base_ativos.columns.str.strip()"
   ]
  },
  {
   "cell_type": "code",
   "execution_count": 97,
   "metadata": {},
   "outputs": [],
   "source": [
    "# MANTENDO APENAS A SIGLA DAS LOJAS\n",
    "base_ativos['SIGLA_LOJA']=base_ativos['Estabelecimento - Nome'].apply(\n",
    "    lambda x: x.strip()[-3:]\n",
    ")"
   ]
  },
  {
   "cell_type": "code",
   "execution_count": 98,
   "metadata": {},
   "outputs": [],
   "source": [
    "base_ativos['ID_UNN']=np.where(\n",
    "    base_ativos['Estabelecimento - Nome'].apply(\n",
    "    lambda x: x.strip()[0:3])=='TUM',4,1\n",
    ")"
   ]
  },
  {
   "cell_type": "code",
   "execution_count": 99,
   "metadata": {},
   "outputs": [
    {
     "data": {
      "text/plain": [
       "Index(['Estabelecimento - Código', 'Matrícula', 'Nome - Primeiro Nome',\n",
       "       'Nome - Sobrenome', 'Cargo - Código', 'Cargo - Nome',\n",
       "       'Data de Nascimento', 'Data da Admissão',\n",
       "       'Situação do Empregado - Status', 'Escala - Código', 'Escala - Nome',\n",
       "       'Estabelecimento - Nome', 'Vínculo Empregatício - Código',\n",
       "       'Vínculo Empregatício - Nome', 'Chefia Imediata - Matrícula',\n",
       "       'Centro de Resultado - Código', 'Centro de Resultado - Nome',\n",
       "       'SIGLA_LOJA', 'ID_UNN'],\n",
       "      dtype='object')"
      ]
     },
     "execution_count": 99,
     "metadata": {},
     "output_type": "execute_result"
    }
   ],
   "source": [
    "base_ativos.columns"
   ]
  },
  {
   "cell_type": "code",
   "execution_count": 100,
   "metadata": {},
   "outputs": [],
   "source": [
    "#lojas_tina['sigla_loja']\n",
    "base_ativos=base_ativos.merge(\n",
    "    lojas_tina[['id_unn', 'cod_loja', 'sigla_loja']].rename(\n",
    "        columns={'id_unn':'ID_UNN', \n",
    "        'cod_loja':'COD_LOJA', \n",
    "        'sigla_loja':'SIGLA_LOJA'}\n",
    "    )\n",
    ")"
   ]
  },
  {
   "cell_type": "code",
   "execution_count": 101,
   "metadata": {},
   "outputs": [
    {
     "data": {
      "text/plain": [
       "Index(['Estabelecimento - Código', 'Matrícula', 'Nome - Primeiro Nome',\n",
       "       'Nome - Sobrenome', 'Cargo - Código', 'Cargo - Nome',\n",
       "       'Data de Nascimento', 'Data da Admissão',\n",
       "       'Situação do Empregado - Status', 'Escala - Código', 'Escala - Nome',\n",
       "       'Estabelecimento - Nome', 'Vínculo Empregatício - Código',\n",
       "       'Vínculo Empregatício - Nome', 'Chefia Imediata - Matrícula',\n",
       "       'Centro de Resultado - Código', 'Centro de Resultado - Nome',\n",
       "       'SIGLA_LOJA', 'ID_UNN', 'COD_LOJA'],\n",
       "      dtype='object')"
      ]
     },
     "execution_count": 101,
     "metadata": {},
     "output_type": "execute_result"
    }
   ],
   "source": [
    "base_ativos.columns"
   ]
  },
  {
   "cell_type": "code",
   "execution_count": 102,
   "metadata": {},
   "outputs": [],
   "source": [
    "# ELIMINA ESPAÇOS EM BRANCO ANTES E DEPOIS DA DATA\n",
    "base_ativos['Data da Admissão']=base_ativos['Data da Admissão'].apply(\n",
    "    lambda x: x.strip()\n",
    "    )"
   ]
  },
  {
   "cell_type": "code",
   "execution_count": 103,
   "metadata": {},
   "outputs": [
    {
     "data": {
      "text/plain": [
       "Index(['id_unn', 'cod_loja', 'sigla_loja', 'safra', 'loja', 'Unnamed: 5'], dtype='object')"
      ]
     },
     "execution_count": 103,
     "metadata": {},
     "output_type": "execute_result"
    }
   ],
   "source": [
    "lojas_tina.columns"
   ]
  },
  {
   "cell_type": "code",
   "execution_count": 104,
   "metadata": {},
   "outputs": [],
   "source": [
    "# Pegando da base de ativos somente parâmetros/colunas necessários \n",
    "ativos=base_ativos[[\n",
    "    'ID_UNN', 'COD_LOJA', 'SIGLA_LOJA',\n",
    "    'Matrícula', \n",
    "    'Nome - Primeiro Nome',\n",
    "    'Nome - Sobrenome', \n",
    "    'Cargo - Nome',\n",
    "    'Data da Admissão',\n",
    "    'Situação do Empregado - Status',\n",
    "     'Centro de Resultado - Código'\n",
    "    ]].copy(deep=True)"
   ]
  },
  {
   "cell_type": "code",
   "execution_count": 105,
   "metadata": {},
   "outputs": [],
   "source": [
    "# RENOMEANDO OS PARÂMETROS/COLUNAS DA BASE DE ativos DA esquerda para direita {'ESQUERDA':'DIREITA'}\n",
    "RENOMEA={\n",
    "    'Matrícula':'MATRICULA', \n",
    "    'Nome - Primeiro Nome':'NOME',\n",
    "    'Nome - Sobrenome':'SOBRENOME', \n",
    "    'Cargo - Nome':'CARGO',\n",
    "    'Data da Admissão':'DATA_ADMISSAO',\n",
    "    'Situação do Empregado - Status':'STATUS',\n",
    "    'SIGLA_LOJA': 'LOJA'\n",
    "}\n",
    "\n",
    "ativos.rename(columns=RENOMEA, inplace=True)"
   ]
  },
  {
   "cell_type": "code",
   "execution_count": 106,
   "metadata": {},
   "outputs": [],
   "source": [
    "# FORMATO DE DATA dd/mm/aaaa\n",
    "ativos['DATA_ADMISSAO']=pd.to_datetime(ativos['DATA_ADMISSAO'], format='%d/%m/%Y')\n"
   ]
  },
  {
   "cell_type": "code",
   "execution_count": 107,
   "metadata": {},
   "outputs": [],
   "source": [
    "# Mantendo apenas colaboradores da loja da MGN, excluindo sede\n",
    "ativos_nao_MGN=ativos[ativos['LOJA']!='MGN']\n",
    "# Toda a MGN\n",
    "ativos_MGN=ativos[ativos['LOJA']=='MGN'].copy(deep=True)\n",
    "loja_MGN=ativos_MGN[(ativos_MGN['Centro de Resultado - Código']==808568) |\n",
    "    ((ativos_MGN['Centro de Resultado - Código']>=174000) & \n",
    "    (ativos_MGN['Centro de Resultado - Código']<=174999) )  \n",
    "    ].copy(deep=True)"
   ]
  },
  {
   "cell_type": "code",
   "execution_count": 108,
   "metadata": {},
   "outputs": [],
   "source": [
    "# JUNTANDO BASE DE ATIVOS SOMENTE DAS LOJAS e a LOJA DA MARGINAL\n",
    "ativos_lojas=pd.concat([ativos_nao_MGN, loja_MGN], ignore_index=True)"
   ]
  },
  {
   "cell_type": "code",
   "execution_count": 109,
   "metadata": {},
   "outputs": [],
   "source": [
    "tina=ativos_lojas"
   ]
  },
  {
   "cell_type": "code",
   "execution_count": 110,
   "metadata": {},
   "outputs": [],
   "source": [
    "#  Função para calcular os dias ADMITIDOS dentro do período apurado\n",
    "def admitidos_no_mes(data_admissao):\n",
    "    global DATA_I, DATA_F\n",
    "    if data_admissao > DATA_F:\n",
    "        dias_admitidos = 0\n",
    "    elif data_admissao <= DATA_I :\n",
    "        dias_admitidos=DATA_F.day\n",
    "    else:\n",
    "        dias_admitidos=(DATA_F-data_admissao).days+1\n",
    "    return dias_admitidos\n"
   ]
  },
  {
   "cell_type": "code",
   "execution_count": 111,
   "metadata": {},
   "outputs": [],
   "source": [
    "# CALCULANDO QUANTOS DIAS O FUNCIONÁRIO ESTÁ ADMITIDO NO MÊS DA APURAÇÃO\n",
    "tina['DIAS_ADMITIDOS']=tina['DATA_ADMISSAO'].apply(\n",
    "    lambda x: admitidos_no_mes(x)\n",
    "    ).copy()"
   ]
  },
  {
   "cell_type": "code",
   "execution_count": 112,
   "metadata": {},
   "outputs": [],
   "source": [
    "# INCLUINDO INFORMAÇÃO SE O COLABORADOR ESTÁ ADMITIDO HÁ MAIS DE 15 DIAS DO PERÍODO DE APURAÇÃO\n",
    "tina['MAIS_DE15DIAS_ADMITIDOS']=np.where(tina['DIAS_ADMITIDOS']>=MEIO_MES,\"SIM\", \"NAO\")"
   ]
  },
  {
   "cell_type": "code",
   "execution_count": 113,
   "metadata": {},
   "outputs": [],
   "source": [
    "# LIMPANDO ESPAÇOS EM BRANCO DO STATUS\n",
    "tina['STATUS']=tina['STATUS'].apply(\n",
    "    lambda x: x.strip()\n",
    "    )\n",
    "    "
   ]
  },
  {
   "cell_type": "code",
   "execution_count": 114,
   "metadata": {},
   "outputs": [
    {
     "data": {
      "text/plain": [
       "array(['Enc Depósito', 'Vendedor(a)', 'Enc de Caixa', 'Ger Geral III',\n",
       "       'Ass Recebimento', 'ASSESSOR DE LOJA', 'Lider de Caixa',\n",
       "       'Ass Serviços ao Cliente', 'Sup de Vendas', 'Sup de Produto',\n",
       "       'Ger Operacional II', 'Assessor de Operações II',\n",
       "       'Ger de Vendas I', 'Assessor de Operações I', 'Ass de Expedição',\n",
       "       'DESIGNER PROJETISTA', 'Ass Prevenção de Perdas', 'Ger Geral I',\n",
       "       'Vendedor(a) Especialista', 'Sup Operacional',\n",
       "       'Ass Manut Serv Gerais', 'Operador(a) Caixa', 'Ger Geral II',\n",
       "       'Aux Manutenção', 'Conferente', 'Enc CTN',\n",
       "       'Oficial Manutenção Eletricista', 'Designer Projetista',\n",
       "       'Ger Operacional I', 'Enc de Produto', 'Ger de Produto II',\n",
       "       'Operador Empilhadeira', 'Consultor de Vendas Externas',\n",
       "       'Ger de Vendas II', 'Repositor(a)', 'Gerente Operacional',\n",
       "       'Enc Prevenção de Perda', 'Ger de Produto I', 'Estagiário(a)',\n",
       "       'Anl de Logística Jr', 'Sup de Depósito', 'Ger de Vendas III',\n",
       "       'Menor Aprendiz', 'Sup deProduto I',\n",
       "       'Técnico Seguranca Trabalho Pl', 'ANL RH REGIONAL PL',\n",
       "       'Vendedor(a) Especialista Lider', 'Atendente de Loja',\n",
       "       'Sup Administrativo', 'Ass Serviço ao Cliente', 'OPERADOR DE SAC',\n",
       "       'ANALISTA DE ESTOQUES', 'SUPERVISOR FISCAL DE LOJA',\n",
       "       'ATENDENTE DE RH', 'ENCARREGADO DO SAC',\n",
       "       'ASSISTENTE DE CONTABILIDADE', 'ASSISTENTE DE MERCHANDISING',\n",
       "       'ANALISTA DE CREDITO PLENO', 'Coord de Mercado',\n",
       "       'ASSISTENTE DE E-COMMERCE', 'ANALISTA DE SUPORTE PLENO',\n",
       "       'ANALISTA DE CUSTOS', 'GERENTE DE PREVENCAO DE PERDAS',\n",
       "       'ANALISTA FINANCEIRO', 'CONTROLADOR DE PRODUCAO',\n",
       "       'ANALISTA DE RELACOES TRABALHISTAS', 'AUDITOR INTERNO',\n",
       "       'AUXILIAR DE SERVICOS GERAIS', 'Técnico Seguranca Trabalho Jr',\n",
       "       'ASSISTENTE DE COMPRAS', 'CONTROLADOR DE PRODUCAO SENIOR',\n",
       "       'AUDITOR INTERNO DE ESTOQUES II', 'FISCAL DE LOJA',\n",
       "       'OPERADOR DE TELE VENDAS', 'GER REGIONAL', 'GERENTE DE LOJA',\n",
       "       'COORDENADOR DE TI', 'COORD MARKETING DE ATIVACAO',\n",
       "       'ANALISTA DE CONTROLADORIA', 'ASSISTENTE ADMINISTRATIVO II',\n",
       "       'GERENTE TRAINEE', 'AUXILIAR DE EXPEDICAO II',\n",
       "       'Anl Recursos Humanos Sr', 'ASSISTENTE FINANCEIRO',\n",
       "       'Gerente de Produtos', 'ANALISTA DE CONTROLE INTERNO',\n",
       "       'Anl Cartões e Serv Financeiro', 'ENCARREGADO EXPEDICAO DEPOSITO',\n",
       "       'AUXILIAR DE LOJA', 'AUXILIAR DE MALOTE', 'ANALISTA DE MARKETING',\n",
       "       'SUPERVISORA DE CAIXA', 'Supervisor Televendas',\n",
       "       'ASSISTENTE ADMINISTRATIVO', 'CAIXA CREDIARISTA',\n",
       "       'GERENTE ADJUNTO', 'Anl Fiscal Sr', 'AUDITOR INTERNO DE ESTOQUE I',\n",
       "       'PROGRAMADOR SENIOR', 'VENDEDOR(A) TELEVENDAS',\n",
       "       'AUXILIAR DE MERCHANDISING', 'Técnico Seguranca Trabalho Sr',\n",
       "       'CONTROLADOR DE PRODUÇÃO PLENO', 'ANALISTA FISCAL PLENO',\n",
       "       'OPERADOR DE EMPILHADEIRA LOJA', 'ANALISTA CONTABIL',\n",
       "       'GERENTE DE INFRAESTRUTURA', 'CONSULTOR DE TREINAMENTO COML',\n",
       "       'Assistente  de Atendimento', 'Enc Manutenção', 'GER TELEVENDAS',\n",
       "       'Ass Administrativo', 'COORD ADMINISTRATIVO',\n",
       "       'Coord Recursos Humanos', 'AUXILIAR DE EXPEDICAO I',\n",
       "       'SUP CARTOES E SERV FINANCEIROS', 'ANL VISUAL MERCHANDISING SR',\n",
       "       'COORD MANUTENÇÃO E SERVIÇOS', 'Anl Servico ao Cliente Jr',\n",
       "       'ANALISTA DE RELACIONAMENTO', 'COMPRADOR PLENO',\n",
       "       'Anl Recursos Humanos Pl', 'CAIXA CREDIARISTA LIDER', 'VIGILANTE',\n",
       "       'AUXILIAR DE EXPEDICAO LOJA', 'CAIXA ADMINISTRATIVA',\n",
       "       'OPERADOR DE EMPILHADEIRA', 'ENC DE OPERAÇOES E SERVICOS',\n",
       "       'Ass Departamento Pessoal', 'ENC DE OPERACOES',\n",
       "       'Enc Serviços ao Cliente', 'GER GERAL SR', 'Sup Caixa',\n",
       "       'ASSESSOR DE OPERACOES', 'Técnico Projetista'], dtype=object)"
      ]
     },
     "execution_count": 114,
     "metadata": {},
     "output_type": "execute_result"
    }
   ],
   "source": [
    "# Elimina espaços em branco dos CARGOs dos funcionários \n",
    "tina['CARGO']=tina['CARGO'].apply(\n",
    "    lambda x: x.strip()\n",
    ")\n",
    "# CHECAGEM\n",
    "tina['CARGO'].unique()"
   ]
  },
  {
   "cell_type": "code",
   "execution_count": 115,
   "metadata": {},
   "outputs": [],
   "source": [
    "# INCLUINDO ELEGIBILIDADE DA LOJA\n",
    "tina['LOJA_ELEGIVEL']=np.where(tina['COD_LOJA'].isin(lojas_elegiveis['cod_loja']),'SIM','NAO')"
   ]
  },
  {
   "cell_type": "code",
   "execution_count": 116,
   "metadata": {},
   "outputs": [
    {
     "name": "stdout",
     "output_type": "stream",
     "text": [
      "    cod_loja sigla_loja  Venda_Total   nps  id_mes  target_sales_store_1  \\\n",
      "2         28        SOR   3821230.77  73.7  202206             3726244.8   \n",
      "38        72        SCA   1798552.42  72.5  202206             1781616.5   \n",
      "\n",
      "    target_sales_store_2   alvo NPS_alcancado LOJA_ELEGIVEL  \n",
      "2              3921275.5  ALVO1           SIM           SIM  \n",
      "38             1901637.9  ALVO1           SIM           SIM  \n",
      "      EMPRESA  COD_LOJA LOJA  MATRICULA  \\\n",
      "0           1         1  ANH       1890   \n",
      "1           1         1  ANH       2147   \n",
      "2           1         1  ANH       3037   \n",
      "3           1         1  ANH       3402   \n",
      "4           1         1  ANH       7705   \n",
      "...       ...       ...  ...        ...   \n",
      "2392        4    510779  PFO      12311   \n",
      "2393        4    510779  PFO      12346   \n",
      "2394        4    510779  PFO      12553   \n",
      "2395        4    510779  PFO      12658   \n",
      "2396        4    510779  PFO      23881   \n",
      "\n",
      "                                                   NOME  dias_afastados_totais  \n",
      "0     JOSE APARECIDO PEREIRA CONCEICAO              ...                      0  \n",
      "1     ROSEMARY MARIA MARTINS                        ...                     30  \n",
      "2     DENECI XAVIER CABRAL SILVA                    ...                     30  \n",
      "3     AMABILE CHRISTINA LOURENCO                    ...                     10  \n",
      "4     NIVALDO MOREIRA DA SILVA                      ...                      0  \n",
      "...                                                 ...                    ...  \n",
      "2392  PEDRO ELOI WEHRMANN SCHWEIZER                 ...                      0  \n",
      "2393  CARLOS EDUARDO RIBEIRO MOREIRA                ...                      0  \n",
      "2394  EDIANA  CARLA SEEHABER                        ...                      0  \n",
      "2395  DIONI EDUARDO MARTINS                         ...                      8  \n",
      "2396  ERIK ANDERSEN BASTOS MELO                     ...                      0  \n",
      "\n",
      "[2397 rows x 6 columns]\n"
     ]
    }
   ],
   "source": [
    "print(lojas_elegiveis)\n",
    "print(dias_afastados_por_matricula)"
   ]
  },
  {
   "cell_type": "code",
   "execution_count": 117,
   "metadata": {},
   "outputs": [],
   "source": [
    "# INCLUINDO DIAS AFASTADOS TOTAIS DA MATRÍCULA\n",
    "tina_afastados=pd.merge(\n",
    "    tina.rename(columns={'cod_loja': 'COD_LOJA'}),\n",
    "    dias_afastados_por_matricula[\n",
    "        ['COD_LOJA','MATRICULA','dias_afastados_totais']\n",
    "        ],\n",
    "        how='left',\n",
    "        on=['COD_LOJA','MATRICULA']\n",
    "        )\n"
   ]
  },
  {
   "cell_type": "code",
   "execution_count": 118,
   "metadata": {},
   "outputs": [],
   "source": [
    "# PREENCHENDO COM ZERO ATIVOS SEM AFASTAMENTOS\n",
    "tina_afastados['dias_afastados_totais'].fillna(0, inplace=True)"
   ]
  },
  {
   "cell_type": "code",
   "execution_count": 119,
   "metadata": {},
   "outputs": [
    {
     "data": {
      "text/html": [
       "<div>\n",
       "<style scoped>\n",
       "    .dataframe tbody tr th:only-of-type {\n",
       "        vertical-align: middle;\n",
       "    }\n",
       "\n",
       "    .dataframe tbody tr th {\n",
       "        vertical-align: top;\n",
       "    }\n",
       "\n",
       "    .dataframe thead th {\n",
       "        text-align: right;\n",
       "    }\n",
       "</style>\n",
       "<table border=\"1\" class=\"dataframe\">\n",
       "  <thead>\n",
       "    <tr style=\"text-align: right;\">\n",
       "      <th></th>\n",
       "      <th>ID_UNN</th>\n",
       "      <th>COD_LOJA</th>\n",
       "      <th>LOJA</th>\n",
       "      <th>MATRICULA</th>\n",
       "      <th>NOME</th>\n",
       "      <th>SOBRENOME</th>\n",
       "      <th>CARGO</th>\n",
       "      <th>DATA_ADMISSAO</th>\n",
       "      <th>STATUS</th>\n",
       "      <th>Centro de Resultado - Código</th>\n",
       "      <th>DIAS_ADMITIDOS</th>\n",
       "      <th>MAIS_DE15DIAS_ADMITIDOS</th>\n",
       "      <th>LOJA_ELEGIVEL</th>\n",
       "      <th>dias_afastados_totais</th>\n",
       "    </tr>\n",
       "  </thead>\n",
       "  <tbody>\n",
       "    <tr>\n",
       "      <th>0</th>\n",
       "      <td>1</td>\n",
       "      <td>24</td>\n",
       "      <td>ARI</td>\n",
       "      <td>27</td>\n",
       "      <td>NILTON</td>\n",
       "      <td>DOS SANTOS</td>\n",
       "      <td>Enc Depósito</td>\n",
       "      <td>1991-06-01</td>\n",
       "      <td>ATIVO</td>\n",
       "      <td>244406</td>\n",
       "      <td>30</td>\n",
       "      <td>SIM</td>\n",
       "      <td>NAO</td>\n",
       "      <td>0.0</td>\n",
       "    </tr>\n",
       "    <tr>\n",
       "      <th>1</th>\n",
       "      <td>1</td>\n",
       "      <td>24</td>\n",
       "      <td>ARI</td>\n",
       "      <td>5085</td>\n",
       "      <td>JOAO</td>\n",
       "      <td>SOUZA</td>\n",
       "      <td>Vendedor(a)</td>\n",
       "      <td>2002-01-14</td>\n",
       "      <td>ATIVO</td>\n",
       "      <td>244403</td>\n",
       "      <td>30</td>\n",
       "      <td>SIM</td>\n",
       "      <td>NAO</td>\n",
       "      <td>0.0</td>\n",
       "    </tr>\n",
       "    <tr>\n",
       "      <th>2</th>\n",
       "      <td>1</td>\n",
       "      <td>24</td>\n",
       "      <td>ARI</td>\n",
       "      <td>5168</td>\n",
       "      <td>ANTONIO</td>\n",
       "      <td>LEMOS</td>\n",
       "      <td>Vendedor(a)</td>\n",
       "      <td>2002-03-01</td>\n",
       "      <td>ATIVO</td>\n",
       "      <td>244403</td>\n",
       "      <td>30</td>\n",
       "      <td>SIM</td>\n",
       "      <td>NAO</td>\n",
       "      <td>0.0</td>\n",
       "    </tr>\n",
       "    <tr>\n",
       "      <th>3</th>\n",
       "      <td>1</td>\n",
       "      <td>24</td>\n",
       "      <td>ARI</td>\n",
       "      <td>6444</td>\n",
       "      <td>ROBSON</td>\n",
       "      <td>RODRIGUES</td>\n",
       "      <td>Vendedor(a)</td>\n",
       "      <td>2003-06-24</td>\n",
       "      <td>ATIVO</td>\n",
       "      <td>244403</td>\n",
       "      <td>30</td>\n",
       "      <td>SIM</td>\n",
       "      <td>NAO</td>\n",
       "      <td>0.0</td>\n",
       "    </tr>\n",
       "    <tr>\n",
       "      <th>4</th>\n",
       "      <td>1</td>\n",
       "      <td>24</td>\n",
       "      <td>ARI</td>\n",
       "      <td>6454</td>\n",
       "      <td>SIGNEIDE</td>\n",
       "      <td>LIMA</td>\n",
       "      <td>Enc de Caixa</td>\n",
       "      <td>2003-06-24</td>\n",
       "      <td>ATIVO</td>\n",
       "      <td>244402</td>\n",
       "      <td>30</td>\n",
       "      <td>SIM</td>\n",
       "      <td>NAO</td>\n",
       "      <td>0.0</td>\n",
       "    </tr>\n",
       "    <tr>\n",
       "      <th>...</th>\n",
       "      <td>...</td>\n",
       "      <td>...</td>\n",
       "      <td>...</td>\n",
       "      <td>...</td>\n",
       "      <td>...</td>\n",
       "      <td>...</td>\n",
       "      <td>...</td>\n",
       "      <td>...</td>\n",
       "      <td>...</td>\n",
       "      <td>...</td>\n",
       "      <td>...</td>\n",
       "      <td>...</td>\n",
       "      <td>...</td>\n",
       "      <td>...</td>\n",
       "    </tr>\n",
       "    <tr>\n",
       "      <th>2606</th>\n",
       "      <td>1</td>\n",
       "      <td>3</td>\n",
       "      <td>MGN</td>\n",
       "      <td>30007</td>\n",
       "      <td>LEANDRO</td>\n",
       "      <td>SOARES</td>\n",
       "      <td>Sup de Depósito</td>\n",
       "      <td>2022-06-13</td>\n",
       "      <td>ATIVO</td>\n",
       "      <td>174406</td>\n",
       "      <td>18</td>\n",
       "      <td>SIM</td>\n",
       "      <td>NAO</td>\n",
       "      <td>0.0</td>\n",
       "    </tr>\n",
       "    <tr>\n",
       "      <th>2607</th>\n",
       "      <td>1</td>\n",
       "      <td>3</td>\n",
       "      <td>MGN</td>\n",
       "      <td>30017</td>\n",
       "      <td>EDUARDO</td>\n",
       "      <td>DE MELO</td>\n",
       "      <td>Vendedor(a)</td>\n",
       "      <td>2022-06-21</td>\n",
       "      <td>ATIVO</td>\n",
       "      <td>174403</td>\n",
       "      <td>10</td>\n",
       "      <td>NAO</td>\n",
       "      <td>NAO</td>\n",
       "      <td>0.0</td>\n",
       "    </tr>\n",
       "    <tr>\n",
       "      <th>2608</th>\n",
       "      <td>1</td>\n",
       "      <td>3</td>\n",
       "      <td>MGN</td>\n",
       "      <td>30036</td>\n",
       "      <td>RODRIGO</td>\n",
       "      <td>LEITE</td>\n",
       "      <td>ASSESSOR DE LOJA</td>\n",
       "      <td>2022-06-22</td>\n",
       "      <td>ATIVO</td>\n",
       "      <td>174402</td>\n",
       "      <td>9</td>\n",
       "      <td>NAO</td>\n",
       "      <td>NAO</td>\n",
       "      <td>0.0</td>\n",
       "    </tr>\n",
       "    <tr>\n",
       "      <th>2609</th>\n",
       "      <td>1</td>\n",
       "      <td>3</td>\n",
       "      <td>MGN</td>\n",
       "      <td>30038</td>\n",
       "      <td>ISABELA</td>\n",
       "      <td>RODRIGUES</td>\n",
       "      <td>DESIGNER PROJETISTA</td>\n",
       "      <td>2022-06-22</td>\n",
       "      <td>ATIVO</td>\n",
       "      <td>174403</td>\n",
       "      <td>9</td>\n",
       "      <td>NAO</td>\n",
       "      <td>NAO</td>\n",
       "      <td>0.0</td>\n",
       "    </tr>\n",
       "    <tr>\n",
       "      <th>2610</th>\n",
       "      <td>1</td>\n",
       "      <td>3</td>\n",
       "      <td>MGN</td>\n",
       "      <td>30026</td>\n",
       "      <td>DIEGO</td>\n",
       "      <td>PENA</td>\n",
       "      <td>Técnico Projetista</td>\n",
       "      <td>2022-06-21</td>\n",
       "      <td>ATIVO</td>\n",
       "      <td>174403</td>\n",
       "      <td>10</td>\n",
       "      <td>NAO</td>\n",
       "      <td>NAO</td>\n",
       "      <td>0.0</td>\n",
       "    </tr>\n",
       "  </tbody>\n",
       "</table>\n",
       "<p>2611 rows × 14 columns</p>\n",
       "</div>"
      ],
      "text/plain": [
       "      ID_UNN  COD_LOJA LOJA  MATRICULA                             NOME  \\\n",
       "0          1        24  ARI         27  NILTON                            \n",
       "1          1        24  ARI       5085  JOAO                              \n",
       "2          1        24  ARI       5168  ANTONIO                           \n",
       "3          1        24  ARI       6444  ROBSON                            \n",
       "4          1        24  ARI       6454  SIGNEIDE                          \n",
       "...      ...       ...  ...        ...                              ...   \n",
       "2606       1         3  MGN      30007  LEANDRO                           \n",
       "2607       1         3  MGN      30017  EDUARDO                           \n",
       "2608       1         3  MGN      30036  RODRIGO                           \n",
       "2609       1         3  MGN      30038  ISABELA                           \n",
       "2610       1         3  MGN      30026  DIEGO                             \n",
       "\n",
       "                                      SOBRENOME                CARGO  \\\n",
       "0     DOS SANTOS                                        Enc Depósito   \n",
       "1     SOUZA                                              Vendedor(a)   \n",
       "2     LEMOS                                              Vendedor(a)   \n",
       "3     RODRIGUES                                          Vendedor(a)   \n",
       "4     LIMA                                              Enc de Caixa   \n",
       "...                                         ...                  ...   \n",
       "2606  SOARES                                         Sup de Depósito   \n",
       "2607  DE MELO                                            Vendedor(a)   \n",
       "2608  LEITE                                         ASSESSOR DE LOJA   \n",
       "2609  RODRIGUES                                  DESIGNER PROJETISTA   \n",
       "2610  PENA                                        Técnico Projetista   \n",
       "\n",
       "     DATA_ADMISSAO STATUS  Centro de Resultado - Código  DIAS_ADMITIDOS  \\\n",
       "0       1991-06-01  ATIVO                        244406              30   \n",
       "1       2002-01-14  ATIVO                        244403              30   \n",
       "2       2002-03-01  ATIVO                        244403              30   \n",
       "3       2003-06-24  ATIVO                        244403              30   \n",
       "4       2003-06-24  ATIVO                        244402              30   \n",
       "...            ...    ...                           ...             ...   \n",
       "2606    2022-06-13  ATIVO                        174406              18   \n",
       "2607    2022-06-21  ATIVO                        174403              10   \n",
       "2608    2022-06-22  ATIVO                        174402               9   \n",
       "2609    2022-06-22  ATIVO                        174403               9   \n",
       "2610    2022-06-21  ATIVO                        174403              10   \n",
       "\n",
       "     MAIS_DE15DIAS_ADMITIDOS LOJA_ELEGIVEL  dias_afastados_totais  \n",
       "0                        SIM           NAO                    0.0  \n",
       "1                        SIM           NAO                    0.0  \n",
       "2                        SIM           NAO                    0.0  \n",
       "3                        SIM           NAO                    0.0  \n",
       "4                        SIM           NAO                    0.0  \n",
       "...                      ...           ...                    ...  \n",
       "2606                     SIM           NAO                    0.0  \n",
       "2607                     NAO           NAO                    0.0  \n",
       "2608                     NAO           NAO                    0.0  \n",
       "2609                     NAO           NAO                    0.0  \n",
       "2610                     NAO           NAO                    0.0  \n",
       "\n",
       "[2611 rows x 14 columns]"
      ]
     },
     "execution_count": 119,
     "metadata": {},
     "output_type": "execute_result"
    }
   ],
   "source": [
    "tina_afastados"
   ]
  },
  {
   "cell_type": "code",
   "execution_count": 120,
   "metadata": {},
   "outputs": [],
   "source": [
    "# CALCULANDO DIAS ATIVOS NO PERÍODO DE APURAÇÃO CONSIDERANDO A DATA DE ADMISSÃO\n",
    "tina_afastados['DIAS_ATIVOS']=tina_afastados['DIAS_ADMITIDOS']-tina_afastados['dias_afastados_totais']"
   ]
  },
  {
   "cell_type": "code",
   "execution_count": 121,
   "metadata": {},
   "outputs": [],
   "source": [
    "tina_afastados['MAIS_DE15DIAS_ATIVOS']=np.where(\n",
    "    tina_afastados['DIAS_ATIVOS']>=MEIO_MES, 'SIM','NAO'\n",
    "    )"
   ]
  },
  {
   "cell_type": "code",
   "execution_count": 122,
   "metadata": {},
   "outputs": [
    {
     "name": "stdout",
     "output_type": "stream",
     "text": [
      "Lendo faltas injustificadas do arquivo:\n",
      "C:/apuracao/2022/jun/ORIGINAIS/PREMIACOES TINA.xlsx tem ocorrências do dia 01 até 15 do mês anterior.\n",
      "C:/apuracao/2022/jul/ORIGINAIS/PREMIACOES TINA.xlsx tem ocorrências do dia 16 do mês anterior até 15 do mês atual.\n"
     ]
    }
   ],
   "source": [
    "# Lendo faltas injustificadas dos colaboradores\n",
    "print(\"Lendo faltas injustificadas do arquivo:\")\n",
    "print(F_FALTAS_MES_ANTERIOR+' tem ocorrências do dia 01 até 15 do mês anterior.')\n",
    "print(F_FALTAS+' tem ocorrências do dia 16 do mês anterior até 15 do mês atual.')\n",
    "faltas_inj = pd.read_excel(F_FALTAS, header=0) # Tem ocorrências do dia 16 do mes anterior até 15 do mes atual. Vou pegar somente do 16 ao final do mês anterior.\n",
    "faltas_mes_anterior=pd.read_excel(F_FALTAS_MES_ANTERIOR, header=0) # para pegar as ocorrências do dia 01 até o dia 15 do mês anterior"
   ]
  },
  {
   "cell_type": "code",
   "execution_count": 123,
   "metadata": {},
   "outputs": [
    {
     "data": {
      "text/plain": [
       "104   2022-06-01\n",
       "316   2022-06-01\n",
       "327   2022-06-01\n",
       "346   2022-06-01\n",
       "302   2022-06-01\n",
       "         ...    \n",
       "238   2022-06-30\n",
       "34    2022-06-30\n",
       "284   2022-06-30\n",
       "96    2022-06-30\n",
       "313   2022-06-30\n",
       "Name: DATA DA OCORRÊNCIA, Length: 383, dtype: datetime64[ns]"
      ]
     },
     "execution_count": 123,
     "metadata": {},
     "output_type": "execute_result"
    }
   ],
   "source": [
    "# Juntando as bases do mês passado e delimitando para o período de apuração\n",
    "todas_faltas=pd.concat([faltas_mes_anterior, faltas_inj], axis=0)\n",
    "faltas = todas_faltas[(todas_faltas['DATA DA OCORRÊNCIA'] >= DATA_I) &\n",
    "           (todas_faltas['DATA DA OCORRÊNCIA'] <= DATA_F)].copy()\n",
    "faltas['DATA DA OCORRÊNCIA'].sort_values()"
   ]
  },
  {
   "cell_type": "code",
   "execution_count": 124,
   "metadata": {},
   "outputs": [],
   "source": [
    "# Renomeando a coluna da MATRICULA nas faltas \n",
    "faltas.rename(columns={'MATR EMPR':'MATRICULA'}, inplace=True)"
   ]
  },
  {
   "cell_type": "code",
   "execution_count": 161,
   "metadata": {},
   "outputs": [],
   "source": [
    "faltas['DATA DA OCORRÊNCIA']=faltas['DATA DA OCORRÊNCIA'].dt.date"
   ]
  },
  {
   "cell_type": "code",
   "execution_count": 162,
   "metadata": {},
   "outputs": [
    {
     "data": {
      "text/html": [
       "<div>\n",
       "<style scoped>\n",
       "    .dataframe tbody tr th:only-of-type {\n",
       "        vertical-align: middle;\n",
       "    }\n",
       "\n",
       "    .dataframe tbody tr th {\n",
       "        vertical-align: top;\n",
       "    }\n",
       "\n",
       "    .dataframe thead th {\n",
       "        text-align: right;\n",
       "    }\n",
       "</style>\n",
       "<table border=\"1\" class=\"dataframe\">\n",
       "  <thead>\n",
       "    <tr style=\"text-align: right;\">\n",
       "      <th></th>\n",
       "      <th>PERIODO - DTINI</th>\n",
       "      <th>PERIODO - DTFIM</th>\n",
       "      <th>EMPRESA</th>\n",
       "      <th>DATA DA OCORRÊNCIA</th>\n",
       "      <th>COD ESTAB</th>\n",
       "      <th>NOME ESTAB</th>\n",
       "      <th>COD CR</th>\n",
       "      <th>NOME CR</th>\n",
       "      <th>CÓDIGO DO CENTRO CUSTO CONTABILIDADE</th>\n",
       "      <th>MATR CHEFIA</th>\n",
       "      <th>NOME CHEFIA</th>\n",
       "      <th>MATRICULA</th>\n",
       "      <th>NOME EMPPR</th>\n",
       "      <th>FUNCAO-DENOMINACAO</th>\n",
       "      <th>COD VERBA</th>\n",
       "      <th>DESCRICAO VERBA</th>\n",
       "      <th>VALOR</th>\n",
       "    </tr>\n",
       "  </thead>\n",
       "  <tbody>\n",
       "    <tr>\n",
       "      <th>233</th>\n",
       "      <td>2022-06-16</td>\n",
       "      <td>2022-07-15</td>\n",
       "      <td>1</td>\n",
       "      <td>2022-06-18</td>\n",
       "      <td>76</td>\n",
       "      <td>TUT</td>\n",
       "      <td>734401</td>\n",
       "      <td>TUT GERENCIA E SUPERVISAO</td>\n",
       "      <td>734401</td>\n",
       "      <td>29721</td>\n",
       "      <td>GLEICYELE MOREIRA FERREIRA</td>\n",
       "      <td>29849</td>\n",
       "      <td>WILLIAN DA SILVA CRUZ</td>\n",
       "      <td>Assessor (A) Loja I</td>\n",
       "      <td>9005</td>\n",
       "      <td>Falta Injustificada</td>\n",
       "      <td>7.33</td>\n",
       "    </tr>\n",
       "    <tr>\n",
       "      <th>207</th>\n",
       "      <td>2022-05-16</td>\n",
       "      <td>2022-06-15</td>\n",
       "      <td>1</td>\n",
       "      <td>2022-06-10</td>\n",
       "      <td>18</td>\n",
       "      <td>PMG</td>\n",
       "      <td>234402</td>\n",
       "      <td>PMG - OPERACOES LOJA</td>\n",
       "      <td>234402</td>\n",
       "      <td>8513</td>\n",
       "      <td>RENE CESAR MONTEIRO</td>\n",
       "      <td>29427</td>\n",
       "      <td>KEMELYM NICOLY PINHEIRO DOS SA</td>\n",
       "      <td>ASSESSOR DE LOJA</td>\n",
       "      <td>9005</td>\n",
       "      <td>Falta Injustificada</td>\n",
       "      <td>7.33</td>\n",
       "    </tr>\n",
       "  </tbody>\n",
       "</table>\n",
       "</div>"
      ],
      "text/plain": [
       "    PERIODO - DTINI PERIODO - DTFIM  EMPRESA DATA DA OCORRÊNCIA  COD ESTAB  \\\n",
       "233      2022-06-16      2022-07-15        1         2022-06-18         76   \n",
       "207      2022-05-16      2022-06-15        1         2022-06-10         18   \n",
       "\n",
       "    NOME ESTAB  COD CR                    NOME CR  \\\n",
       "233        TUT  734401  TUT GERENCIA E SUPERVISAO   \n",
       "207        PMG  234402       PMG - OPERACOES LOJA   \n",
       "\n",
       "     CÓDIGO DO CENTRO CUSTO CONTABILIDADE  MATR CHEFIA  \\\n",
       "233                                734401        29721   \n",
       "207                                234402         8513   \n",
       "\n",
       "                    NOME CHEFIA  MATRICULA                      NOME EMPPR  \\\n",
       "233  GLEICYELE MOREIRA FERREIRA      29849  WILLIAN DA SILVA CRUZ            \n",
       "207         RENE CESAR MONTEIRO      29427  KEMELYM NICOLY PINHEIRO DOS SA   \n",
       "\n",
       "      FUNCAO-DENOMINACAO  COD VERBA                      DESCRICAO VERBA  \\\n",
       "233  Assessor (A) Loja I       9005  Falta Injustificada                   \n",
       "207     ASSESSOR DE LOJA       9005  Falta Injustificada                   \n",
       "\n",
       "     VALOR  \n",
       "233   7.33  \n",
       "207   7.33  "
      ]
     },
     "execution_count": 162,
     "metadata": {},
     "output_type": "execute_result"
    }
   ],
   "source": [
    "faltas.sample(2)"
   ]
  },
  {
   "cell_type": "code",
   "execution_count": 125,
   "metadata": {},
   "outputs": [],
   "source": [
    "# PARA RENOMEAR PARÂMETROS DE ALVO E NPS E INCLUIR NA PLANILHA DE CHECAGEM\n",
    "RENOMEA={\n",
    "    'sigla_loja':'LOJA',\n",
    "    'alvo':'ALVO_ALCANCADO',\n",
    "    'nps':'NPS'\n",
    "    }"
   ]
  },
  {
   "cell_type": "code",
   "execution_count": 126,
   "metadata": {},
   "outputs": [],
   "source": [
    "# Mantendo apena Telhanorte\n",
    "# Para alterar para TUMELERO: ALTERAR O SINAL PARA >\n",
    "#             empresa_nps_venda_alvo=loja_nps_venda_alvo[loja_nps_venda_alvo['cod_loja']<510000]\n",
    "empresa_nps_venda_alvo=loja_nps_venda_alvo"
   ]
  },
  {
   "cell_type": "code",
   "execution_count": 163,
   "metadata": {},
   "outputs": [],
   "source": [
    "# PREPARANDO PLANILHA DE CHECAGEM\n",
    "tina_tudo=pd.merge(\n",
    "    tina_afastados,\n",
    "    loja_nps_venda_alvo[['sigla_loja', 'alvo','nps']].rename(columns=RENOMEA),\n",
    "    how='left',\n",
    "    on='LOJA'\n",
    "    )\n"
   ]
  },
  {
   "cell_type": "code",
   "execution_count": 164,
   "metadata": {},
   "outputs": [],
   "source": [
    "tina_copia=tina_tudo"
   ]
  },
  {
   "cell_type": "code",
   "execution_count": 151,
   "metadata": {},
   "outputs": [
    {
     "data": {
      "text/plain": [
       "0            ANL RH REGIONAL PL\n",
       "1            Ass Administrativo\n",
       "2      Ass Departamento Pessoal\n",
       "3         Ass Manut Serv Gerais\n",
       "4                Aux Manutenção\n",
       "                 ...           \n",
       "101              VENDEDOR PLENO\n",
       "102             VENDEDOR SENIOR\n",
       "103                 Vendedor(a)\n",
       "104      VENDEDOR(A) TELEVENDAS\n",
       "105                   VIGILANTE\n",
       "Name: Cargo, Length: 106, dtype: object"
      ]
     },
     "execution_count": 151,
     "metadata": {},
     "output_type": "execute_result"
    }
   ],
   "source": [
    "# CARREGANDO TODOS OS CARGOS CONTEMPLADOS PELA PREMIAÇÃO COLETIVA\n",
    "#cargos=pd.read_csv(F_CARGOS, sep=';', encoding=\"ISO-8859-1\")\n",
    "cargos=pd.read_excel(F_CARGOS)\n",
    "cargos['Cargo'].apply(lambda x: x.strip()) # Eliminando espaços brancos"
   ]
  },
  {
   "cell_type": "code",
   "execution_count": 165,
   "metadata": {},
   "outputs": [],
   "source": [
    "# ATRIBUINDO O GRUPO DE PREMIAÇÃO PARA CADA CARGO\n",
    "tina_tudo=pd.merge(\n",
    "    tina_tudo, \n",
    "    cargos.rename(columns={'Cargo':'CARGO'}),\n",
    "    how='left',\n",
    "    on=['ID_UNN','CARGO']\n",
    "    )"
   ]
  },
  {
   "cell_type": "code",
   "execution_count": 167,
   "metadata": {},
   "outputs": [
    {
     "data": {
      "text/html": [
       "<div>\n",
       "<style scoped>\n",
       "    .dataframe tbody tr th:only-of-type {\n",
       "        vertical-align: middle;\n",
       "    }\n",
       "\n",
       "    .dataframe tbody tr th {\n",
       "        vertical-align: top;\n",
       "    }\n",
       "\n",
       "    .dataframe thead th {\n",
       "        text-align: right;\n",
       "    }\n",
       "</style>\n",
       "<table border=\"1\" class=\"dataframe\">\n",
       "  <thead>\n",
       "    <tr style=\"text-align: right;\">\n",
       "      <th></th>\n",
       "      <th>ID_UNN</th>\n",
       "      <th>COD_LOJA</th>\n",
       "      <th>LOJA</th>\n",
       "      <th>MATRICULA</th>\n",
       "      <th>NOME</th>\n",
       "      <th>SOBRENOME</th>\n",
       "      <th>CARGO</th>\n",
       "      <th>DATA_ADMISSAO</th>\n",
       "      <th>STATUS</th>\n",
       "      <th>Centro de Resultado - Código</th>\n",
       "      <th>DIAS_ADMITIDOS</th>\n",
       "      <th>MAIS_DE15DIAS_ADMITIDOS</th>\n",
       "      <th>LOJA_ELEGIVEL</th>\n",
       "      <th>dias_afastados_totais</th>\n",
       "      <th>DIAS_ATIVOS</th>\n",
       "      <th>MAIS_DE15DIAS_ATIVOS</th>\n",
       "      <th>ALVO_ALCANCADO</th>\n",
       "      <th>NPS</th>\n",
       "      <th>Grupo</th>\n",
       "    </tr>\n",
       "  </thead>\n",
       "  <tbody>\n",
       "    <tr>\n",
       "      <th>1963</th>\n",
       "      <td>4</td>\n",
       "      <td>510574</td>\n",
       "      <td>IPI</td>\n",
       "      <td>9998</td>\n",
       "      <td>RITA</td>\n",
       "      <td>PEREIRA</td>\n",
       "      <td>Vendedor(a)</td>\n",
       "      <td>2013-10-14</td>\n",
       "      <td>ATIVO</td>\n",
       "      <td>298402</td>\n",
       "      <td>30</td>\n",
       "      <td>SIM</td>\n",
       "      <td>NAO</td>\n",
       "      <td>0.0</td>\n",
       "      <td>30.0</td>\n",
       "      <td>SIM</td>\n",
       "      <td>NAO</td>\n",
       "      <td>59.3</td>\n",
       "      <td>C</td>\n",
       "    </tr>\n",
       "    <tr>\n",
       "      <th>533</th>\n",
       "      <td>1</td>\n",
       "      <td>30</td>\n",
       "      <td>MOR</td>\n",
       "      <td>29098</td>\n",
       "      <td>DALVA</td>\n",
       "      <td>DA SILVA</td>\n",
       "      <td>Ass Serviços ao Cliente</td>\n",
       "      <td>2021-06-14</td>\n",
       "      <td>ATIVO</td>\n",
       "      <td>284402</td>\n",
       "      <td>30</td>\n",
       "      <td>SIM</td>\n",
       "      <td>NAO</td>\n",
       "      <td>0.0</td>\n",
       "      <td>30.0</td>\n",
       "      <td>SIM</td>\n",
       "      <td>NAO</td>\n",
       "      <td>55.2</td>\n",
       "      <td>D</td>\n",
       "    </tr>\n",
       "  </tbody>\n",
       "</table>\n",
       "</div>"
      ],
      "text/plain": [
       "      ID_UNN  COD_LOJA LOJA  MATRICULA                             NOME  \\\n",
       "1963       4    510574  IPI       9998  RITA                              \n",
       "533        1        30  MOR      29098  DALVA                             \n",
       "\n",
       "                                      SOBRENOME                    CARGO  \\\n",
       "1963  PEREIRA                                                Vendedor(a)   \n",
       "533   DA SILVA                                   Ass Serviços ao Cliente   \n",
       "\n",
       "     DATA_ADMISSAO STATUS  Centro de Resultado - Código  DIAS_ADMITIDOS  \\\n",
       "1963    2013-10-14  ATIVO                        298402              30   \n",
       "533     2021-06-14  ATIVO                        284402              30   \n",
       "\n",
       "     MAIS_DE15DIAS_ADMITIDOS LOJA_ELEGIVEL  dias_afastados_totais  \\\n",
       "1963                     SIM           NAO                    0.0   \n",
       "533                      SIM           NAO                    0.0   \n",
       "\n",
       "      DIAS_ATIVOS MAIS_DE15DIAS_ATIVOS ALVO_ALCANCADO   NPS Grupo  \n",
       "1963         30.0                  SIM            NAO  59.3     C  \n",
       "533          30.0                  SIM            NAO  55.2     D  "
      ]
     },
     "execution_count": 167,
     "metadata": {},
     "output_type": "execute_result"
    }
   ],
   "source": [
    "tina_tudo.sample(2)"
   ]
  },
  {
   "cell_type": "code",
   "execution_count": 168,
   "metadata": {},
   "outputs": [],
   "source": [
    "# Grupos sem cargo atribuido como \"NAO TINA\"\n",
    "tina_tudo['Grupo'].fillna('NAO TINA', inplace=True)"
   ]
  },
  {
   "cell_type": "code",
   "execution_count": 169,
   "metadata": {},
   "outputs": [],
   "source": [
    "# Função para atribuir valor da premiação dependendo do grupo de cargo\n",
    "def premiacao_alvo(grupo,alvo):\n",
    "    global PREMIOS\n",
    "    alvo1 = dict(zip(PREMIOS['Grupo'], PREMIOS['ALVO1']))\n",
    "    alvo2 = dict(zip(PREMIOS['Grupo'], PREMIOS['ALVO2']))\n",
    "    if alvo == 'ALVO1':\n",
    "        valor=alvo1[grupo]\n",
    "    elif alvo == 'ALVO2':\n",
    "        valor=alvo2[grupo]\n",
    "    elif alvo == 'NAO':\n",
    "        valor = 0.0\n",
    "    else: valor=0.0\n",
    "    return valor\n"
   ]
  },
  {
   "cell_type": "code",
   "execution_count": 170,
   "metadata": {},
   "outputs": [],
   "source": [
    "# Atribuindo valor da premiação dependendo do grupo de cargo\n",
    "tina_tudo['PREMIACAO']=tina_tudo.apply(\n",
    "    lambda x: premiacao_alvo(\n",
    "        x['Grupo'],x['ALVO_ALCANCADO'],\n",
    "    ), axis=1)\n",
    "    "
   ]
  },
  {
   "cell_type": "code",
   "execution_count": 171,
   "metadata": {},
   "outputs": [],
   "source": [
    "# Inclui coluna para checar se colaborador tem faltas injustificadas\n",
    "tina_tudo=pd.merge(\n",
    "    tina_tudo,\n",
    "    faltas[['EMPRESA', 'MATRICULA', 'DATA DA OCORRÊNCIA']].rename(columns={'EMPRESA':'ID_UNN','DATA DA OCORRÊNCIA':'FALTAS'}),\n",
    "    how='left',\n",
    "    on=['ID_UNN','MATRICULA']\n",
    ")\n",
    "\n",
    "# FALTAS SEM DATA, atribuir 'NAO'\n",
    "tina_tudo['FALTAS'].fillna('NAO', inplace=True)"
   ]
  },
  {
   "cell_type": "code",
   "execution_count": 174,
   "metadata": {},
   "outputs": [
    {
     "data": {
      "text/html": [
       "<div>\n",
       "<style scoped>\n",
       "    .dataframe tbody tr th:only-of-type {\n",
       "        vertical-align: middle;\n",
       "    }\n",
       "\n",
       "    .dataframe tbody tr th {\n",
       "        vertical-align: top;\n",
       "    }\n",
       "\n",
       "    .dataframe thead th {\n",
       "        text-align: right;\n",
       "    }\n",
       "</style>\n",
       "<table border=\"1\" class=\"dataframe\">\n",
       "  <thead>\n",
       "    <tr style=\"text-align: right;\">\n",
       "      <th></th>\n",
       "      <th>ID_UNN</th>\n",
       "      <th>COD_LOJA</th>\n",
       "      <th>LOJA</th>\n",
       "      <th>MATRICULA</th>\n",
       "      <th>NOME</th>\n",
       "      <th>SOBRENOME</th>\n",
       "      <th>CARGO</th>\n",
       "      <th>DATA_ADMISSAO</th>\n",
       "      <th>STATUS</th>\n",
       "      <th>Centro de Resultado - Código</th>\n",
       "      <th>DIAS_ADMITIDOS</th>\n",
       "      <th>MAIS_DE15DIAS_ADMITIDOS</th>\n",
       "      <th>LOJA_ELEGIVEL</th>\n",
       "      <th>dias_afastados_totais</th>\n",
       "      <th>DIAS_ATIVOS</th>\n",
       "      <th>MAIS_DE15DIAS_ATIVOS</th>\n",
       "      <th>ALVO_ALCANCADO</th>\n",
       "      <th>NPS</th>\n",
       "      <th>Grupo</th>\n",
       "      <th>PREMIACAO</th>\n",
       "      <th>FALTAS</th>\n",
       "    </tr>\n",
       "  </thead>\n",
       "  <tbody>\n",
       "    <tr>\n",
       "      <th>1170</th>\n",
       "      <td>1</td>\n",
       "      <td>28</td>\n",
       "      <td>SOR</td>\n",
       "      <td>9165</td>\n",
       "      <td>JOSE</td>\n",
       "      <td>DE OLIVEIRA</td>\n",
       "      <td>Vendedor(a)</td>\n",
       "      <td>2006-03-13</td>\n",
       "      <td>ATIVO</td>\n",
       "      <td>294403</td>\n",
       "      <td>30</td>\n",
       "      <td>SIM</td>\n",
       "      <td>SIM</td>\n",
       "      <td>21.0</td>\n",
       "      <td>9.0</td>\n",
       "      <td>NAO</td>\n",
       "      <td>ALVO1</td>\n",
       "      <td>73.7</td>\n",
       "      <td>C</td>\n",
       "      <td>200.0</td>\n",
       "      <td>NAO</td>\n",
       "    </tr>\n",
       "    <tr>\n",
       "      <th>1174</th>\n",
       "      <td>1</td>\n",
       "      <td>28</td>\n",
       "      <td>SOR</td>\n",
       "      <td>14484</td>\n",
       "      <td>ARTUR</td>\n",
       "      <td>DOS SANTOS</td>\n",
       "      <td>Enc de Produto</td>\n",
       "      <td>2010-03-01</td>\n",
       "      <td>ATIVO</td>\n",
       "      <td>294401</td>\n",
       "      <td>30</td>\n",
       "      <td>SIM</td>\n",
       "      <td>SIM</td>\n",
       "      <td>0.0</td>\n",
       "      <td>30.0</td>\n",
       "      <td>SIM</td>\n",
       "      <td>ALVO1</td>\n",
       "      <td>73.7</td>\n",
       "      <td>B</td>\n",
       "      <td>400.0</td>\n",
       "      <td>NAO</td>\n",
       "    </tr>\n",
       "    <tr>\n",
       "      <th>1197</th>\n",
       "      <td>1</td>\n",
       "      <td>28</td>\n",
       "      <td>SOR</td>\n",
       "      <td>27121</td>\n",
       "      <td>KARINA</td>\n",
       "      <td>TSUBOI</td>\n",
       "      <td>Sup de Vendas</td>\n",
       "      <td>2019-07-01</td>\n",
       "      <td>ATIVO</td>\n",
       "      <td>294401</td>\n",
       "      <td>30</td>\n",
       "      <td>SIM</td>\n",
       "      <td>SIM</td>\n",
       "      <td>0.0</td>\n",
       "      <td>30.0</td>\n",
       "      <td>SIM</td>\n",
       "      <td>ALVO1</td>\n",
       "      <td>73.7</td>\n",
       "      <td>A</td>\n",
       "      <td>600.0</td>\n",
       "      <td>NAO</td>\n",
       "    </tr>\n",
       "  </tbody>\n",
       "</table>\n",
       "</div>"
      ],
      "text/plain": [
       "      ID_UNN  COD_LOJA LOJA  MATRICULA                             NOME  \\\n",
       "1170       1        28  SOR       9165  JOSE                              \n",
       "1174       1        28  SOR      14484  ARTUR                             \n",
       "1197       1        28  SOR      27121  KARINA                            \n",
       "\n",
       "                                      SOBRENOME           CARGO DATA_ADMISSAO  \\\n",
       "1170  DE OLIVEIRA                                   Vendedor(a)    2006-03-13   \n",
       "1174  DOS SANTOS                                 Enc de Produto    2010-03-01   \n",
       "1197  TSUBOI                                      Sup de Vendas    2019-07-01   \n",
       "\n",
       "     STATUS  Centro de Resultado - Código  DIAS_ADMITIDOS  \\\n",
       "1170  ATIVO                        294403              30   \n",
       "1174  ATIVO                        294401              30   \n",
       "1197  ATIVO                        294401              30   \n",
       "\n",
       "     MAIS_DE15DIAS_ADMITIDOS LOJA_ELEGIVEL  dias_afastados_totais  \\\n",
       "1170                     SIM           SIM                   21.0   \n",
       "1174                     SIM           SIM                    0.0   \n",
       "1197                     SIM           SIM                    0.0   \n",
       "\n",
       "      DIAS_ATIVOS MAIS_DE15DIAS_ATIVOS ALVO_ALCANCADO   NPS Grupo  PREMIACAO  \\\n",
       "1170          9.0                  NAO          ALVO1  73.7     C      200.0   \n",
       "1174         30.0                  SIM          ALVO1  73.7     B      400.0   \n",
       "1197         30.0                  SIM          ALVO1  73.7     A      600.0   \n",
       "\n",
       "     FALTAS  \n",
       "1170    NAO  \n",
       "1174    NAO  \n",
       "1197    NAO  "
      ]
     },
     "execution_count": 174,
     "metadata": {},
     "output_type": "execute_result"
    }
   ],
   "source": [
    "tina_tudo[\n",
    "    (tina_tudo['FALTAS']=='NAO')\n",
    "    & (tina_tudo['PREMIACAO']>0) ].sample(3)"
   ]
  },
  {
   "cell_type": "code",
   "execution_count": 175,
   "metadata": {},
   "outputs": [],
   "source": [
    "tina_tudo['APTO_PREMIACAO']=np.where(\n",
    "    (tina_tudo['LOJA_ELEGIVEL']=='SIM') &\n",
    "        (tina_tudo['MAIS_DE15DIAS_ATIVOS']=='SIM') &\n",
    "        (tina_tudo['FALTAS']=='NAO') &\n",
    "        (tina_tudo['Grupo']!='NAO TINA') &\n",
    "        (tina_tudo['PREMIACAO']>0),\n",
    "        'SIM','NAO'\n",
    "    )"
   ]
  },
  {
   "cell_type": "code",
   "execution_count": 177,
   "metadata": {},
   "outputs": [],
   "source": [
    "# FUNÇÃO para salvar verba para TELHANORTE ou TUMELERO\n",
    "# Entradas: v verba, n nome_verba, x numero_verba, f f_nome\n",
    "def salva_verba(empresa,verba,numero_verba,arquivo):\n",
    "#    v.rename(columns={ v.columns[0]: 'MATRICULA'}, inplace=True)\n",
    "    verba.rename(columns={ verba.columns[1]: \"VALOR\" }, inplace=True)\n",
    "    verba['ZERO'] = 0\n",
    "    verba['VERBA'] = numero_verba\n",
    "    if empresa == 'TELHANORTE':\n",
    "        verba=verba[['MATRICULA', 'ZERO', 'VERBA','VALOR']]\n",
    "    elif empresa == 'TUMELERO':\n",
    "         verba=verba[['MATRICULA', 'VERBA', 'ZERO','VALOR']]\n",
    "    else: \n",
    "        print('Erro!!! Não veio a empresa nem como TELHANORTE e nem como TUMELERO')\n",
    "        return\n",
    "    verba = verba[verba['VALOR'] > 0]\n",
    "    # Saving as a excel file for RH\n",
    "    verba.to_excel(arquivo, sheet_name=\"VERBA \"+str(numero_verba), index=False)"
   ]
  },
  {
   "cell_type": "code",
   "execution_count": 179,
   "metadata": {},
   "outputs": [],
   "source": [
    "# Salva verba apuração coletiva TELHANORTE\n",
    "salva_verba(\n",
    "    dict_EMPRESAS[1], # ID_UNN TELHA\n",
    "    tina_tudo[['MATRICULA', 'PREMIACAO']][\n",
    "        (tina_tudo['ID_UNN']==1) \n",
    "        & (tina_tudo['LOJA_ELEGIVEL']=='SIM') \n",
    "        & (tina_tudo['MAIS_DE15DIAS_ATIVOS']=='SIM')\n",
    "        & (tina_tudo['FALTAS']=='NAO') # considera somente os sem faltas injustificadas\n",
    "    ].copy(deep=True),\n",
    "    4117,\n",
    "    verbas_telha['F_VERBA']) # verba TELHA somente funcionáros sem faltas injustificadas\n",
    "\n",
    "salva_verba(\n",
    "    dict_EMPRESAS[1], # ID_UNN TELHA\n",
    "    tina_tudo[['MATRICULA', 'PREMIACAO']][\n",
    "        (tina_tudo['ID_UNN']==1)\n",
    "        & (tina_tudo['LOJA_ELEGIVEL']=='SIM') \n",
    "        & (tina_tudo['MAIS_DE15DIAS_ATIVOS']=='SIM')\n",
    "    ].copy(deep=True),\n",
    "    4117,\n",
    "    verbas_telha['F_VERBA_SEM']) # verba TELHA sem considerar faltas injustificadas"
   ]
  },
  {
   "cell_type": "code",
   "execution_count": 180,
   "metadata": {},
   "outputs": [],
   "source": [
    "# Salva verba apuração coletiva TUMELERO\n",
    "salva_verba(\n",
    "    dict_EMPRESAS[4], # ID_UNN TUMELERO\n",
    "    tina_tudo[['MATRICULA', 'PREMIACAO']][\n",
    "        (tina_tudo['ID_UNN']==4) \n",
    "        & (tina_tudo['LOJA_ELEGIVEL']=='SIM') \n",
    "        & (tina_tudo['MAIS_DE15DIAS_ATIVOS']=='SIM')\n",
    "        & (tina_tudo['FALTAS']=='NAO') # considera somente os sem faltas injustificadas\n",
    "    ].copy(deep=True),\n",
    "    4117,\n",
    "    verbas_tume['F_VERBA']) # verba tume\n",
    "\n",
    "salva_verba(\n",
    "    dict_EMPRESAS[4], # ID_UNN TUME\n",
    "    tina_tudo[['MATRICULA', 'PREMIACAO']][\n",
    "        (tina_tudo['ID_UNN']==4) # ID_UNN TUME\n",
    "        & (tina_tudo['LOJA_ELEGIVEL']=='SIM') \n",
    "        & (tina_tudo['MAIS_DE15DIAS_ATIVOS']=='SIM')\n",
    "    ].copy(deep=True),\n",
    "    4117,\n",
    "    verbas_tume['F_VERBA_SEM']) # VERBA TUME sem considerar faltas injustificadas"
   ]
  },
  {
   "cell_type": "code",
   "execution_count": 181,
   "metadata": {},
   "outputs": [],
   "source": [
    "# SALVA PLANILHA DE CHECAGEM\n",
    "tina_tudo.to_excel(FILE_CHECAGEM, index=False)"
   ]
  }
 ],
 "metadata": {
  "interpreter": {
   "hash": "551579a37399ee361b7a87e2547c9a8bd014955eb03c28bb1a18301da647b49d"
  },
  "kernelspec": {
   "display_name": "Python 3.9.9 ('tina')",
   "language": "python",
   "name": "python3"
  },
  "language_info": {
   "codemirror_mode": {
    "name": "ipython",
    "version": 3
   },
   "file_extension": ".py",
   "mimetype": "text/x-python",
   "name": "python",
   "nbconvert_exporter": "python",
   "pygments_lexer": "ipython3",
   "version": "3.9.9"
  },
  "orig_nbformat": 4
 },
 "nbformat": 4,
 "nbformat_minor": 2
}
