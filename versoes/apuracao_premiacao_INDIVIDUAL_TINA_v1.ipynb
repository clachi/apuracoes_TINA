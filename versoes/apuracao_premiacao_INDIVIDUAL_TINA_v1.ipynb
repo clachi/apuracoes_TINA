{
 "cells": [
  {
   "cell_type": "markdown",
   "metadata": {},
   "source": [
    "Apuração da Premiação Tina (Individual)\n",
    "Cópia da apuração_premiação_individual_Tina_planilha_checagem.ipynb (27 de maio de 2022)\n"
   ]
  },
  {
   "cell_type": "code",
   "execution_count": 1,
   "metadata": {},
   "outputs": [],
   "source": [
    "import pandas as pd\n",
    "import numpy as np"
   ]
  },
  {
   "cell_type": "code",
   "execution_count": 2,
   "metadata": {},
   "outputs": [],
   "source": [
    "pd.set_option('display.max_columns', None)"
   ]
  },
  {
   "cell_type": "code",
   "execution_count": 3,
   "metadata": {},
   "outputs": [],
   "source": [
    "\n",
    "# Dia da apuração\n",
    "hoje = pd.to_datetime('today').date()\n",
    "ANO=str(hoje.year)"
   ]
  },
  {
   "cell_type": "code",
   "execution_count": 4,
   "metadata": {},
   "outputs": [],
   "source": [
    "# DIA PADRÃO DE APURAÇÃO\n",
    "# DIA_APURA=27\n",
    "DIA_APURA=hoje.day"
   ]
  },
  {
   "cell_type": "code",
   "execution_count": 5,
   "metadata": {},
   "outputs": [
    {
     "data": {
      "text/plain": [
       "29"
      ]
     },
     "execution_count": 5,
     "metadata": {},
     "output_type": "execute_result"
    }
   ],
   "source": [
    " DIA_APURA"
   ]
  },
  {
   "cell_type": "code",
   "execution_count": 6,
   "metadata": {},
   "outputs": [],
   "source": [
    "MESES= ['jan','fev','mar','abr','mai','jun','jul','ago','set','out','nov','dez']\n",
    "I_MESES= ['01','02','03','04','05','06','07','08','09','10','11','12']\n",
    "MES=MESES[hoje.month-1]\n",
    "I_MES=I_MESES[MESES.index(MES)]\n",
    "I_MES_ANTERIOR=I_MESES[MESES.index(MES)-1]\n"
   ]
  },
  {
   "cell_type": "code",
   "execution_count": 7,
   "metadata": {},
   "outputs": [
    {
     "data": {
      "text/plain": [
       "'03'"
      ]
     },
     "execution_count": 7,
     "metadata": {},
     "output_type": "execute_result"
    }
   ],
   "source": [
    "I_MES_ANTERIOR"
   ]
  },
  {
   "cell_type": "code",
   "execution_count": 8,
   "metadata": {},
   "outputs": [],
   "source": [
    "# Período de Apuração   -   Faltas injustificadas no período\n",
    "# 27 de Janeiro de 2022\n",
    "DATA_I = pd.to_datetime('2022-'+I_MES_ANTERIOR+'-'+str(DIA_APURA))  # data inicial AAAA-MM-DD\n",
    "DATA_F = pd.to_datetime('2022-'+I_MES+'-'+str(DIA_APURA-1))  # data final AAAA-MM-DD"
   ]
  },
  {
   "cell_type": "code",
   "execution_count": 9,
   "metadata": {},
   "outputs": [
    {
     "name": "stdout",
     "output_type": "stream",
     "text": [
      "2022-03-29 00:00:00\n",
      "2022-04-28 00:00:00\n"
     ]
    }
   ],
   "source": [
    "print(DATA_I)\n",
    "print(DATA_F)"
   ]
  },
  {
   "cell_type": "code",
   "execution_count": 10,
   "metadata": {},
   "outputs": [],
   "source": [
    "# PASTAS \n",
    "DIR_BASE='C:/apuracao/'\n",
    "DIR_INFO=DIR_BASE+ANO+'/info/'\n",
    "DIR_TINA_BASES=DIR_INFO\n",
    "DIR_IN=DIR_BASE+ANO+'/'+MES+'/ORIGINAIS/'\n",
    "# PASTA COM PLANILHA DE CHECAGEM PARA O ANALISTA DE NEGÓCIOS\n",
    "DIRETORIO_CHECAGEM=DIR_BASE+ANO+'/'+MES+'/CHECAGEM/'\n"
   ]
  },
  {
   "cell_type": "code",
   "execution_count": 11,
   "metadata": {},
   "outputs": [
    {
     "name": "stdout",
     "output_type": "stream",
     "text": [
      "C:/apuracao/2022/abr/ORIGINAIS/\n"
     ]
    }
   ],
   "source": [
    "print(DIR_IN)"
   ]
  },
  {
   "cell_type": "code",
   "execution_count": 12,
   "metadata": {},
   "outputs": [],
   "source": [
    "# Arquivos a serem importados\n",
    "# Enviado por e-mail pelo Ricardo Pontes - qua 23/03/2022 16:44 - reajuste nos alvos das lojas OSA, PGD e ARP\n",
    "F_ALVO = DIR_TINA_BASES+\"target_salesperson.csv\" # Válido a partir de abril 2022\n",
    "F_VERBAS = DIR_INFO+\"/verbas_descricao.xlsx\"\n",
    "\n",
    "F_LOJA_SAFRA=DIR_TINA_BASES+\"lojas.csv\" # Para fevereiro\n",
    "#f_loja_safra = \"info/lojas_pilotos_safra3.xlsx\" # Exemplo de janeiro\n"
   ]
  },
  {
   "cell_type": "code",
   "execution_count": 13,
   "metadata": {},
   "outputs": [],
   "source": [
    "\n",
    "# Ricardo Valdir via Teams para o Luis no dia da apuração\n",
    "#f_comissao = dir_in+\"LANCCOMISSAO022022.csv\"\n",
    "F_COMISSAO = DIR_IN+\"LANC_COMISSAO_\"+str(I_MES)+ANO\n",
    "\n",
    "# Vitor (Wingg) via e-mail no dia da apuração\n",
    "F_EXTRATO = DIR_IN+\"extract_remuneration_\"+ANO+I_MES+str(DIA_APURA)+\".xlsx\"\n",
    "\n",
    "# Thayna via sharepoint antes da apuração\n",
    "# F_FALTAS = DIR_IN+\"FALTAS_INJUSTIFICADAS_PREMIACOES TINA_23mar2022_ThaynaCarneiro.xlsx\"\n",
    "F_FALTAS = DIR_IN+\"PREMIACOES TINA.xlsx\""
   ]
  },
  {
   "cell_type": "code",
   "execution_count": 14,
   "metadata": {},
   "outputs": [
    {
     "name": "stdout",
     "output_type": "stream",
     "text": [
      "A planilha de checagem da Apuração da PREMIAÇÃO TINA INDIVIDUAL realizada em abr está aqui:\n",
      "C:/apuracao/2022/abr/CHECAGEM/\n",
      "C:/apuracao/2022/abr/CHECAGEM/checagem_apuração_PREMIACAO_INDIVIDUAL_abr.xlsx\n"
     ]
    }
   ],
   "source": [
    "print('A planilha de checagem da Apuração da PREMIAÇÃO TINA INDIVIDUAL realizada em '+MES+' está aqui:')\n",
    "print(DIRETORIO_CHECAGEM)\n",
    "# ARQUIO DE SAÍDA PARA CHECAGEM DO ANALISTA DE NEGÓCIOS - EM EXCEL\n",
    "F_SAI_CHECAGEM=DIRETORIO_CHECAGEM + \"checagem_apuração_PREMIACAO_INDIVIDUAL_\"+MES+\".xlsx\"\n",
    "print(F_SAI_CHECAGEM)\n"
   ]
  },
  {
   "cell_type": "code",
   "execution_count": 15,
   "metadata": {},
   "outputs": [],
   "source": [
    "# Sufixos possíveis\n",
    "sufixo=\"_sem_considerar_faltas_injustificadas\"\n",
    "#sufixo=\"_analista\""
   ]
  },
  {
   "cell_type": "code",
   "execution_count": 16,
   "metadata": {},
   "outputs": [],
   "source": [
    "# Arquivos a serem criados para o RH baseado na planilha de apuração\n",
    "DIR_RH=DIR_BASE+ANO+\"/\"+MES+\"/\"+\"para_RH/\"\n",
    "F_VERBA_ASS=DIR_RH+\"VERBA_4118_SEGMENTO_ASSESSORES.xlsx\"\n",
    "F_VERBA_VEN_REN=DIR_RH+\"VERBA_4119_RENTABILIDADE_VENDAS.xlsx\"\n",
    "F_VERBA_VEN_DEC=DIR_RH+\"VERBA_4120_DECORACAO_VENDAS.xlsx\"\n",
    "F_VERBA_VEN_SUP=DIR_RH+\"VERBA_4121_SUPERACAO_VENDAS.xlsx\"\n",
    "F_VERBA_VEN_TEC=DIR_RH+\"VERBA_4122_AREAS_TECNICAS_VENDAS.xlsx\"\n",
    "F_VERBA_ASS_SEM=DIR_RH+\"VERBA_4118_SEGMENTO_ASSESSORES\"+sufixo+\".xlsx\"\n",
    "F_VERBA_VEN_REN_SEM=DIR_RH+\"VERBA_4119_RENTABILIDADE_VENDAS\"+sufixo+\".xlsx\"\n",
    "F_VERBA_VEN_DEC_SEM=DIR_RH+\"VERBA_4120_DECORACAO_VENDAS\"+sufixo+\".xlsx\"\n",
    "F_VERBA_VEN_SUP_SEM=DIR_RH+\"VERBA_4121_SUPERACAO_VENDAS\"+sufixo+\".xlsx\"\n",
    "F_VERBA_VEN_TEC_SEM=DIR_RH+\"VERBA_4122_AREAS_TECNICAS_VENDAS\"+sufixo+\".xlsx\""
   ]
  },
  {
   "cell_type": "code",
   "execution_count": 17,
   "metadata": {},
   "outputs": [],
   "source": [
    "# Parâmetros do Modelo\n",
    "# Modelo Vendedores\n",
    "# Modelo Vendedores Comissão\n",
    "gat_min_comissao = 0.0  # Gatilho minimo comissão\n",
    "ANG_COEF_COMISSAO = 0.01  # Coeficiente angular = 1%\n",
    "lin_coef_comissao = 0.0  # Coeficiente Linear = 0.0%\n",
    "\n",
    "# Modelo Vendedores Comissão Turbinada Decoração\n",
    "# Como as safras 1, 2 e 3 tem os mesmos valores, mantive só um valor para todas as safras\n",
    "gat_min_decoracao = 0.0  # Gatilho minimo decoração\n",
    "ANG_COEF_DECORACAO = 0.02  # Coeficiente angular decoração = 2%\n",
    "lin_coef_decoracao = 0.0  # Coeficiente Linear decoração = 0.0%\n",
    "\n",
    "# Modelo Vendedores Comissão turbinada Áreas Técnicas\n",
    "# Como as safras 1, 2 e 3 tem os mesmos valores, mantive só um valor para todas as safras\n",
    "gat_min_areastecnicas = 0.0  # Gatilho minimo Áreas Técnicas = 0.0%\n",
    "ANG_COEF_AREASTECNICAS= 0.005  # Coeficiente angular Áreas Técnicas = 0.5%\n",
    "lin_coef_areastecnicas = 0.0  # Coeficiente Linear decoração = 0.0%\n",
    "\n",
    "# Modelo Vendedores Prêmio superação vendas\n",
    "M1 = 100  # meta1 = 100%\n",
    "M2 = 150  # meta2 = 150%\n",
    "M3 = 200  # meta3 = 200%\n",
    "M4 = 250  # meta4 = 250%\n",
    "B1 = 300  # bonus1 = R$300,00 -> ganha se bater a meta1\n",
    "B2 = 600  # bonus2 = R$600,00 -> ganha se bater a meta2\n",
    "B3 = 900  # bonus3 = R$900,00 -> ganha se bater a meta3\n",
    "B4 = 1200  # bonus4 = R$1200,00 -> ganha se bater a meta4\n",
    "\n",
    "# Modelo Vendedores Prêmio Rentabilidade\n",
    "GAT_MIN_RENTAB = 100.  # Tem que bater 100% da rentabilidade\n",
    "ANG_COEF_RENTAB = 0.001  # Coeficiente angular da rentabilidade = 0.1%\n",
    "LIN_COEF_RENTAB = -0.1  # Coeficiente linear da rentabilidade = -0.1\n",
    "KICKER = 200.\n"
   ]
  },
  {
   "cell_type": "code",
   "execution_count": 18,
   "metadata": {},
   "outputs": [],
   "source": [
    "# Parâmetros do Modelo\n",
    "# Modelo Assessores\n",
    "ASS_A1 = 30000  # Alvo1 = R$30.000,00\n",
    "ASS_A2 = 50000  # Alvo2 = R$50.000,00\n",
    "ASS_B1 = 100  # Bônus1 caso bata Alvo1\n",
    "ASS_B2 = 200  # Bônus2 caso bata Alvo2\n"
   ]
  },
  {
   "cell_type": "code",
   "execution_count": 19,
   "metadata": {},
   "outputs": [],
   "source": [
    "nome_lojas = pd.read_csv(F_LOJA_SAFRA, delimiter=\";\")"
   ]
  },
  {
   "cell_type": "code",
   "execution_count": 20,
   "metadata": {},
   "outputs": [
    {
     "name": "stdout",
     "output_type": "stream",
     "text": [
      "Importando as comissões\n",
      "Arquivo: C:/apuracao/2022/abr/ORIGINAIS/LANC_COMISSAO_042022\n"
     ]
    }
   ],
   "source": [
    "# importando as comissões\n",
    "print(\"Importando as comissões\")\n",
    "print(\"Arquivo: \"+F_COMISSAO)\n",
    "column_names=[\n",
    "    'N1',\t\n",
    "    'N2',\t\n",
    "    'N3',\t\n",
    "    'MATRICULA',\t\n",
    "    'POS_NEG',\t \n",
    "    'VALOR',\n",
    "    'NONE'\n",
    "    ]\n",
    "comissao = pd.read_csv(F_COMISSAO, delimiter=\";\", names=column_names, header=None, skiprows=1)"
   ]
  },
  {
   "cell_type": "code",
   "execution_count": 21,
   "metadata": {},
   "outputs": [],
   "source": [
    "# Trocando \",\" por \".\" para poder calcular os números no Python\n",
    "comissao[\"VALOR\"]=comissao[\"VALOR\"].str.replace(\",\",\".\").astype(float)\n"
   ]
  },
  {
   "cell_type": "code",
   "execution_count": 23,
   "metadata": {},
   "outputs": [
    {
     "name": "stdout",
     "output_type": "stream",
     "text": [
      "Valores negativos para vendas devolvidas\n"
     ]
    }
   ],
   "source": [
    "##  Vendas devolvidas como negativas\n",
    "print(\"Valores negativos para vendas devolvidas\")\n",
    "\n",
    "comissao[\"VALOR_COR\"]=np.where(comissao[\"POS_NEG\"]==3771, -comissao[\"VALOR\"],comissao[\"VALOR\"])\n"
   ]
  },
  {
   "cell_type": "code",
   "execution_count": 24,
   "metadata": {},
   "outputs": [],
   "source": [
    "# Só matrícula e valor das vendas correspondente a essa matrícula\n",
    "comissao=comissao[['MATRICULA','VALOR_COR']]"
   ]
  },
  {
   "cell_type": "code",
   "execution_count": 25,
   "metadata": {},
   "outputs": [
    {
     "name": "stdout",
     "output_type": "stream",
     "text": [
      "Somando todas as vendas de uma matrícula:\n"
     ]
    }
   ],
   "source": [
    "# Somando as vendas totais de cada matrícula\n",
    "# TODO nomear origem dos arquivos \n",
    "print(\"Somando todas as vendas de uma matrícula:\")\n",
    "comissao = comissao.groupby(['MATRICULA'])['VALOR_COR'].sum().reset_index()\n",
    "comissao.rename(columns={'VALOR_COR':'VENDAS_TOT'}, inplace=True)\n",
    "comissao['COMISSAO']=comissao['VENDAS_TOT']*0.01\n"
   ]
  },
  {
   "cell_type": "code",
   "execution_count": 26,
   "metadata": {},
   "outputs": [
    {
     "data": {
      "text/html": [
       "<div>\n",
       "<style scoped>\n",
       "    .dataframe tbody tr th:only-of-type {\n",
       "        vertical-align: middle;\n",
       "    }\n",
       "\n",
       "    .dataframe tbody tr th {\n",
       "        vertical-align: top;\n",
       "    }\n",
       "\n",
       "    .dataframe thead th {\n",
       "        text-align: right;\n",
       "    }\n",
       "</style>\n",
       "<table border=\"1\" class=\"dataframe\">\n",
       "  <thead>\n",
       "    <tr style=\"text-align: right;\">\n",
       "      <th></th>\n",
       "      <th>MATRICULA</th>\n",
       "      <th>VENDAS_TOT</th>\n",
       "      <th>COMISSAO</th>\n",
       "    </tr>\n",
       "  </thead>\n",
       "  <tbody>\n",
       "    <tr>\n",
       "      <th>848</th>\n",
       "      <td>28586</td>\n",
       "      <td>40672.27</td>\n",
       "      <td>406.7227</td>\n",
       "    </tr>\n",
       "  </tbody>\n",
       "</table>\n",
       "</div>"
      ],
      "text/plain": [
       "     MATRICULA  VENDAS_TOT  COMISSAO\n",
       "848      28586    40672.27  406.7227"
      ]
     },
     "execution_count": 26,
     "metadata": {},
     "output_type": "execute_result"
    }
   ],
   "source": [
    "# Para visualizar as vendas totais e a comissão de um colaborador \n",
    "comissao[comissao['MATRICULA'] == 28586]"
   ]
  },
  {
   "cell_type": "code",
   "execution_count": 27,
   "metadata": {},
   "outputs": [
    {
     "name": "stdout",
     "output_type": "stream",
     "text": [
      "Lendo alvos das lojas no arquivo:\n",
      "C:/apuracao/2022/info/target_salesperson.csv\n"
     ]
    }
   ],
   "source": [
    "# Lendo os alvos que os vendedores devem atingir por loja\n",
    "print(\"Lendo alvos das lojas no arquivo:\")\n",
    "print(F_ALVO)\n",
    "alvos = pd.read_csv(F_ALVO, delimiter=\";\", header=0, skiprows=0)\n"
   ]
  },
  {
   "cell_type": "code",
   "execution_count": 28,
   "metadata": {},
   "outputs": [],
   "source": [
    "\n",
    "alvos.rename(columns={'target_sales_salesperson':'Alvo1'}, inplace=True)\n",
    "alvos['Alvo1']=alvos['Alvo1'].str.replace(\",\",\".\").astype(float)"
   ]
  },
  {
   "cell_type": "code",
   "execution_count": 29,
   "metadata": {},
   "outputs": [],
   "source": [
    "alvos['Minimo Garantido']=alvos['floor_remuneration'].str.replace(\",\",\".\").astype(float)\n"
   ]
  },
  {
   "cell_type": "code",
   "execution_count": 30,
   "metadata": {},
   "outputs": [],
   "source": [
    "# Mantendo somente alvos Telhanorte\n",
    "alvos=alvos[alvos['id_unn']==1] # id_unn = (1=Telhanorte; 2=Tumelero)"
   ]
  },
  {
   "cell_type": "code",
   "execution_count": 31,
   "metadata": {},
   "outputs": [],
   "source": [
    "# Mantendo somente alguns parâmetros\n",
    "alvos= alvos[['cod_loja','Alvo1', 'Minimo Garantido']]"
   ]
  },
  {
   "cell_type": "code",
   "execution_count": 33,
   "metadata": {},
   "outputs": [],
   "source": [
    "alvos_telha=pd.merge(alvos,nome_lojas[['cod_loja','sigla_loja']],how='left',on='cod_loja')"
   ]
  },
  {
   "cell_type": "code",
   "execution_count": 34,
   "metadata": {},
   "outputs": [],
   "source": [
    "# Dicionário de alvo por codigo da loja\n",
    "dict_alvo=dict(zip(alvos_telha['sigla_loja'], alvos_telha['Alvo1']))"
   ]
  },
  {
   "cell_type": "code",
   "execution_count": 35,
   "metadata": {},
   "outputs": [],
   "source": [
    "# Dicionário de alvo por codigo da loja\n",
    "dict_minimo_garantido=dict(zip(alvos_telha['sigla_loja'], alvos_telha['Minimo Garantido']))"
   ]
  },
  {
   "cell_type": "code",
   "execution_count": 36,
   "metadata": {},
   "outputs": [],
   "source": [
    "# Lendo os alvos que os vendedores devem atingir por loja\n",
    "#print(\"Lendo alvos das lojas no arquivo:\")\n",
    "# print(F_ALVO)\n",
    "# alvos = pd.read_excel(F_ALVO, header=0, skiprows=1)\n",
    "# alvos['Minimo Garantido']=alvos['Minimo Garantido']/100.\n",
    "#a[a['Loja']==7992]\n",
    "# alvos.columns"
   ]
  },
  {
   "cell_type": "code",
   "execution_count": 37,
   "metadata": {},
   "outputs": [
    {
     "name": "stdout",
     "output_type": "stream",
     "text": [
      "Lendo faltas injustificadas no arquivo:\n",
      "C:/apuracao/2022/abr/ORIGINAIS/PREMIACOES TINA.xlsx\n"
     ]
    }
   ],
   "source": [
    "# Lendo faltas injustificadas\n",
    "print(\"Lendo faltas injustificadas no arquivo:\")\n",
    "print(F_FALTAS)\n",
    "faltas_inj = pd.read_excel(F_FALTAS, header=0)"
   ]
  },
  {
   "cell_type": "code",
   "execution_count": 38,
   "metadata": {},
   "outputs": [
    {
     "data": {
      "text/plain": [
       "11    2022-03-29\n",
       "90    2022-03-29\n",
       "150   2022-03-29\n",
       "173   2022-03-29\n",
       "234   2022-03-29\n",
       "         ...    \n",
       "143   2022-04-14\n",
       "288   2022-04-14\n",
       "169   2022-04-14\n",
       "39    2022-04-14\n",
       "125   2022-04-14\n",
       "Name: DATA DA OCORRÊNCIA, Length: 184, dtype: datetime64[ns]"
      ]
     },
     "execution_count": 38,
     "metadata": {},
     "output_type": "execute_result"
    }
   ],
   "source": [
    "faltas = faltas_inj[(faltas_inj['DATA DA OCORRÊNCIA'] >= DATA_I) &\n",
    "           (faltas_inj['DATA DA OCORRÊNCIA'] <= DATA_F)]\n",
    "faltas['DATA DA OCORRÊNCIA'].sort_values()"
   ]
  },
  {
   "cell_type": "code",
   "execution_count": 40,
   "metadata": {},
   "outputs": [
    {
     "name": "stdout",
     "output_type": "stream",
     "text": [
      "Lendo Extrato de Remuneração da Tina\n",
      "C:/apuracao/2022/abr/ORIGINAIS/extract_remuneration_20220429.xlsx\n"
     ]
    }
   ],
   "source": [
    "# Loading Remuneration extract from Tina\n",
    "print(\"Lendo Extrato de Remuneração da Tina\")\n",
    "print(F_EXTRATO)\n",
    "extrato = pd.read_excel(F_EXTRATO)"
   ]
  },
  {
   "cell_type": "code",
   "execution_count": 41,
   "metadata": {},
   "outputs": [
    {
     "name": "stdout",
     "output_type": "stream",
     "text": [
      "Considerando somente colaboradores das lojas participantes da Tina\n"
     ]
    },
    {
     "data": {
      "text/plain": [
       "Index(['store_sk', 'registration_id', 'segment', 'job_simplified',\n",
       "       'E1_gross_sales', 'E2_gross_sales', 'E3_gross_sales', 'gross_sales',\n",
       "       'sales_segment', 'rentability'],\n",
       "      dtype='object')"
      ]
     },
     "execution_count": 41,
     "metadata": {},
     "output_type": "execute_result"
    }
   ],
   "source": [
    "# Somente colaboradores Tina das lojas da safra\n",
    "print(\"Considerando somente colaboradores das lojas participantes da Tina\")\n",
    "COLS_TO_KEEP=[\n",
    "    'store_sk', \n",
    "    'registration_id', \n",
    "    'segment', \n",
    "    'job_simplified',\n",
    "    'E1_gross_sales', \n",
    "    'E2_gross_sales', \n",
    "    'E3_gross_sales', \n",
    "    'gross_sales', \n",
    "    'sales_segment', \n",
    "    'rentability'\n",
    "    ]\n",
    "so_safra = extrato[extrato[\"store_sk\"].isin(nome_lojas['cod_loja'])][COLS_TO_KEEP].copy(deep=True)\n",
    "so_safra.columns"
   ]
  },
  {
   "cell_type": "code",
   "execution_count": 42,
   "metadata": {},
   "outputs": [],
   "source": [
    "#para planilha checagem\n",
    "tina=so_safra.copy(deep=True)\n"
   ]
  },
  {
   "cell_type": "code",
   "execution_count": 43,
   "metadata": {},
   "outputs": [],
   "source": [
    "# Verificando quem tem falta injustificada\n",
    "tina['FALTA']=np.where(tina['registration_id'].isin(faltas['MATR EMPR'])==True,'sim','nao')"
   ]
  },
  {
   "cell_type": "code",
   "execution_count": 44,
   "metadata": {},
   "outputs": [],
   "source": [
    "# Juntando nome de sigla das lojas\n",
    "tina=pd.merge(\n",
    "    tina.rename(columns={'store_sk':'cod_loja'}),\n",
    "    nome_lojas[nome_lojas['id_unn']==1][['cod_loja', 'sigla_loja']],\n",
    "    how='left',on='cod_loja'\n",
    "    )"
   ]
  },
  {
   "cell_type": "code",
   "execution_count": 45,
   "metadata": {},
   "outputs": [],
   "source": [
    "# Renomeando matricula para juntar com a comissão\n",
    "tina.rename(columns={'registration_id':'MATRICULA'}, inplace=True)\n"
   ]
  },
  {
   "cell_type": "code",
   "execution_count": 46,
   "metadata": {},
   "outputs": [],
   "source": [
    "# # Juntando com a comissão\n",
    "tina=tina.merge(comissao,how='left',on='MATRICULA')"
   ]
  },
  {
   "cell_type": "code",
   "execution_count": 47,
   "metadata": {},
   "outputs": [],
   "source": [
    "\n",
    "tina=pd.merge(\n",
    "    tina,\n",
    "    alvos_telha[['sigla_loja','Alvo1', 'Minimo Garantido']],\n",
    "    how='left', on='sigla_loja'\n",
    "    )"
   ]
  },
  {
   "cell_type": "code",
   "execution_count": 48,
   "metadata": {},
   "outputs": [],
   "source": [
    "tina['vendas_sobre_alvo']=tina['VENDAS_TOT']/tina['Alvo1']"
   ]
  },
  {
   "cell_type": "code",
   "execution_count": 49,
   "metadata": {},
   "outputs": [],
   "source": [
    "# Eliminando alvos de assessores\n",
    "tina['Alvo1']=np.where(tina['job_simplified']=='assistant',np.nan,tina['Alvo1'])"
   ]
  },
  {
   "cell_type": "code",
   "execution_count": 50,
   "metadata": {},
   "outputs": [],
   "source": [
    "# Eliminando minimos garantidos de assessores\n",
    "tina['Minimo Garantido']=np.where(tina['job_simplified']=='assistant',np.nan,tina['Minimo Garantido'])"
   ]
  },
  {
   "cell_type": "code",
   "execution_count": 51,
   "metadata": {},
   "outputs": [],
   "source": [
    "# Eliminando vendas sobre alvo de assessores\n",
    "tina['vendas_sobre_alvo']=np.where(tina['job_simplified']=='assistant',np.nan,tina['vendas_sobre_alvo'])"
   ]
  },
  {
   "cell_type": "code",
   "execution_count": 52,
   "metadata": {},
   "outputs": [],
   "source": [
    "tina['recebe_premiacao']=np.where(tina['vendas_sobre_alvo']>=1.,'sim','nao')"
   ]
  },
  {
   "cell_type": "code",
   "execution_count": 53,
   "metadata": {},
   "outputs": [],
   "source": [
    "#Salvando verba\n",
    "# Entradas: v verba, n nome_verba, x numero_verba, f f_nome\n",
    "def salva_verba(v,x,f):\n",
    "#    v.rename(columns={ v.columns[0]: 'MATRICULA'}, inplace=True)\n",
    "    v.rename(columns={ v.columns[1]: \"VALOR\" }, inplace=True)\n",
    "    v['ZERO'] = 0\n",
    "    v['VERBA'] = x\n",
    "    v=v[['MATRICULA', 'ZERO', 'VERBA','VALOR']]\n",
    "    v = v[v['VALOR'] > 0]\n",
    "    # Saving as a excel file for RH\n",
    "    writer = pd.ExcelWriter(f, engine='xlsxwriter')  # #\n",
    "    v.to_excel(writer, sheet_name=\"VERBA \"+str(x), index=False)\n",
    "    writer.save()\n",
    "\n"
   ]
  },
  {
   "cell_type": "code",
   "execution_count": 54,
   "metadata": {},
   "outputs": [],
   "source": [
    "def alvo_bonus_rentabilidade(vendas_tot,rentabilidade,vendas_seg,alvo):\n",
    "#     # Modelo Vendedores Prêmio Rentabilidade\n",
    "#    T E S T A D O     E     C H E C A D O\n",
    "# gat_min_rentab = 100.  # Tem que bater 100% da rentabilidade\n",
    "# ang_coef_rentab = 0.001  # Coeficiente angular da rentabilidade = 0.1%\n",
    "# lin_coef_rentab = -0.1  # Coeficiente linear da rentabilidade = -0.1\n",
    "# kicker = 200.\n",
    "    global GAT_MIN_RENTAB, ANG_COEF_RENTAB, LIN_COEF_RENTAB, KICKER\n",
    "    if vendas_tot>=alvo and rentabilidade >= GAT_MIN_RENTAB:\n",
    "    #    # TODO DELETAR SE OK\n",
    "#        val_rent = KICKER DELETAR SE OK\n",
    "        # TODO DELETAR SE OK\n",
    "        #if (rentabilidade-GAT_MIN_RENTAB)>0: DELETAR SE OK\n",
    "        val_rent=(rentabilidade*ANG_COEF_RENTAB+LIN_COEF_RENTAB)*vendas_seg+KICKER\n",
    "            # val_rent=val_rent+int(r-gat_min_rentab)*ang_coef_rentab*s\n",
    "    else:\n",
    "        val_rent=0.0\n",
    "    return val_rent\n",
    "\n"
   ]
  },
  {
   "cell_type": "code",
   "execution_count": 55,
   "metadata": {},
   "outputs": [],
   "source": [
    "# Calculando rentabilidade\n",
    "tina['REM_REN'] = np.where(\n",
    "    tina['job_simplified']=='salesperson',\n",
    "    tina.apply(\n",
    "    lambda x: alvo_bonus_rentabilidade(x['VENDAS_TOT'],x['rentability'],x['sales_segment'],x['Alvo1']), axis=1\n",
    "    ).copy(),np.nan\n",
    "    )\n"
   ]
  },
  {
   "cell_type": "code",
   "execution_count": 57,
   "metadata": {},
   "outputs": [],
   "source": [
    "# Salva verba rentabilidade \n",
    "salva_verba(tina[['MATRICULA','REM_REN']].copy(deep=True),4119,F_VERBA_VEN_REN_SEM)\n",
    "salva_verba(tina[['MATRICULA','REM_REN']][tina['FALTA']=='nao'].copy(deep=True),4119,F_VERBA_VEN_REN)\n"
   ]
  },
  {
   "cell_type": "code",
   "execution_count": 58,
   "metadata": {},
   "outputs": [],
   "source": [
    "# Calculating bonus for SALESPERSON\n",
    "# Verba 4120 - Segmento vendedores - DECORAÇÃO\n",
    "def alvo_bonus_decoracao(vendas_seg,vendas_tot,alvo):\n",
    "# Modelo Vendedores Prêmio DECORAÇÃO vendas\n",
    "#    T E S T A D O     E     C H E C A D O\n",
    "# Modelo Vendedores Comissão Turbinada Decoração\n",
    "# Como as safras 1, 2 e 3 tem os mesmos valores, mantive só um valor para todas as safras\n",
    "# gat_min_decoracao = 0.0  # Gatilho minimo decoração\n",
    "# ang_coef_decoracao = 0.02  # Coeficiente angular decoração = 2%\n",
    "# lin_coef_decoracao = 0.0  # Coeficiente Linear decoração = 0.0%\n",
    "\n",
    "    global ANG_COEF_DECORACAO \n",
    "    if vendas_tot>=alvo:\n",
    "        bonus = vendas_seg*ANG_COEF_DECORACAO\n",
    "    else:\n",
    "        bonus=0.0\n",
    "    return bonus\n"
   ]
  },
  {
   "cell_type": "code",
   "execution_count": 59,
   "metadata": {},
   "outputs": [],
   "source": [
    "# Calculando Verba DECORAÇÃO \n",
    "tina['DECORACAO'] = np.where(\n",
    "    tina['job_simplified']=='salesperson',\n",
    "    tina.apply(\n",
    "    lambda x: alvo_bonus_decoracao(x['E2_gross_sales'],x['VENDAS_TOT'],x['Alvo1']), axis=1).copy(),np.nan\n",
    "    )\n",
    "\n"
   ]
  },
  {
   "cell_type": "code",
   "execution_count": 60,
   "metadata": {},
   "outputs": [],
   "source": [
    "# SALVA verba DECORAÇÃO     \n",
    "salva_verba(tina[['MATRICULA','DECORACAO']].copy(deep=True),4120,F_VERBA_VEN_DEC_SEM)\n",
    "salva_verba(tina[['MATRICULA','DECORACAO']][tina['FALTA']=='nao'].copy(deep=True),4120,F_VERBA_VEN_DEC)\n"
   ]
  },
  {
   "cell_type": "code",
   "execution_count": 61,
   "metadata": {},
   "outputs": [],
   "source": [
    "# Calculating bonus for SALESPERSON\n",
    "def alvo_bonus_superacao(vendas_tot):\n",
    "# Modelo Vendedores Prêmio superação vendas\n",
    "# T E S T A D O    E    C H E C A D O \n",
    "# m1 = 100  # meta1 = 100%\n",
    "# m2 = 150  # meta2 = 150%\n",
    "# m3 = 200  # meta3 = 200%\n",
    "# m4 = 250  # meta4 = 250%\n",
    "# b1 = 300  # bonus1 = R$300,00 -> ganha se bater a meta1\n",
    "# b2 = 600  # bonus2 = R$600,00 -> ganha se bater a meta2\n",
    "# b3 = 900  # bonus3 = R$900,00 -> ganha se bater a meta3\n",
    "# b4 = 1200  # bonus4 = R$1200,00 -> ganha se bater a meta4\n",
    "    global M1, M2, M3, M4, B1, B2, B3, B4 # metas e respectivos bonus\n",
    "    if vendas_tot>=M4:\n",
    "        bonus = B4\n",
    "    elif vendas_tot>=M3:\n",
    "        bonus = B3\n",
    "    elif vendas_tot>=M2:\n",
    "        bonus= B2\n",
    "    elif vendas_tot>=M1:\n",
    "        bonus=B1\n",
    "    else:\n",
    "        bonus=0.0\n",
    "    return bonus\n",
    "\n"
   ]
  },
  {
   "cell_type": "code",
   "execution_count": 62,
   "metadata": {},
   "outputs": [],
   "source": [
    "# Calculando Prêmio SUPERAÇÃO   \n",
    "tina['SUPERACAO'] = np.where(\n",
    "    tina['job_simplified']=='salesperson',\n",
    "    tina.apply(\n",
    "    lambda x: alvo_bonus_superacao(x['VENDAS_TOT']/x['Alvo1']*100.), axis=1).copy(),np.nan\n",
    "    )"
   ]
  },
  {
   "cell_type": "code",
   "execution_count": 63,
   "metadata": {},
   "outputs": [],
   "source": [
    "# SALVA verba SUPERAÇÃO    \n",
    "salva_verba(tina[['MATRICULA','SUPERACAO']].copy(deep=True),4121,F_VERBA_VEN_SUP_SEM)\n",
    "salva_verba(tina[['MATRICULA','SUPERACAO']][tina['FALTA']=='nao'].copy(deep=True),4121,F_VERBA_VEN_SUP)\n"
   ]
  },
  {
   "cell_type": "code",
   "execution_count": 64,
   "metadata": {},
   "outputs": [],
   "source": [
    "def alvo_bonus_areastecnicas(vendas_seg,vendas_tot,alvo):\n",
    "# Modelo Vendedores Prêmio ÁREAS TÉCNICAS\n",
    "#    T E S T A D O     E     C H E C A D O\n",
    "# Modelo Vendedores Comissão  ÁREAS TÉCNICAS\n",
    "# Como as safras 1, 2 e 3 tem os mesmos valores, mantive só um valor para todas as safras\n",
    "# gat_min_areastecnicas = 0.0  # Gatilho minimo Áreas Técnicas = 0.0%\n",
    "# ang_coef_areastecnicas = 0.005  # Coeficiente angular Áreas Técnicas = 0.5%\n",
    "# lin_coef_areastecnicas = 0.0  # Coeficiente Linear decoração = 0.0%\n",
    "\n",
    "    global ANG_COEF_AREASTECNICAS # gat_min_areastecnicas, ang_coef_areastecnicas, lin_coef_areastecnicas \n",
    "    if vendas_tot>=alvo:\n",
    "        bonus = vendas_seg*ANG_COEF_AREASTECNICAS\n",
    "    else:\n",
    "        bonus=0.0\n",
    "    return bonus\n",
    "\n",
    "\n"
   ]
  },
  {
   "cell_type": "code",
   "execution_count": 65,
   "metadata": {},
   "outputs": [],
   "source": [
    "# Calculando Premiação Individual ÁREAS TÉCNICAS\n",
    "tina['AREAS_TEC'] = np.where(\n",
    "    tina['job_simplified']=='salesperson',\n",
    "    tina.apply(\n",
    "    lambda x: alvo_bonus_areastecnicas(x['E1_gross_sales'],x['VENDAS_TOT'],x['Alvo1']), axis=1).copy(),np.nan\n",
    "    )"
   ]
  },
  {
   "cell_type": "code",
   "execution_count": 66,
   "metadata": {},
   "outputs": [],
   "source": [
    "# SALVA verba PREMIAÇÃO ÁREAS TÉCNICAS\n",
    "salva_verba(tina[['MATRICULA','AREAS_TEC']].copy(deep=True),4122,F_VERBA_VEN_TEC_SEM)\n",
    "salva_verba(tina[['MATRICULA','AREAS_TEC']][tina['FALTA']=='nao'].copy(deep=True),4122,F_VERBA_VEN_TEC)\n"
   ]
  },
  {
   "cell_type": "code",
   "execution_count": 67,
   "metadata": {},
   "outputs": [],
   "source": [
    "# Calculando Prêmio Assessor\n",
    "def alvo_bonus_assessor(vendas_seg):\n",
    "    global ASS_A1, ASS_A2, ASS_B1, ASS_B2 # ass_a1, ass_a2, ass_b1, ass_b2\n",
    "    if vendas_seg >= ASS_A2:\n",
    "        bonus = ASS_B2\n",
    "    elif vendas_seg >= ASS_A1:\n",
    "        bonus = ASS_B1\n",
    "    else:\n",
    "        bonus = 0.0\n",
    "    return bonus\n",
    "    "
   ]
  },
  {
   "cell_type": "code",
   "execution_count": 68,
   "metadata": {},
   "outputs": [
    {
     "data": {
      "text/plain": [
       "Index(['cod_loja', 'MATRICULA', 'segment', 'job_simplified', 'E1_gross_sales',\n",
       "       'E2_gross_sales', 'E3_gross_sales', 'gross_sales', 'sales_segment',\n",
       "       'rentability', 'FALTA', 'sigla_loja', 'VENDAS_TOT', 'COMISSAO', 'Alvo1',\n",
       "       'Minimo Garantido', 'vendas_sobre_alvo', 'recebe_premiacao', 'REM_REN',\n",
       "       'DECORACAO', 'SUPERACAO', 'AREAS_TEC'],\n",
       "      dtype='object')"
      ]
     },
     "execution_count": 68,
     "metadata": {},
     "output_type": "execute_result"
    }
   ],
   "source": [
    "tina.columns"
   ]
  },
  {
   "cell_type": "code",
   "execution_count": 69,
   "metadata": {},
   "outputs": [],
   "source": [
    "# Somente assessores\n",
    "tina['PREMIO_ASSESSOR'] = np.where(\n",
    "    tina['job_simplified']=='assistant',\n",
    "    tina.apply(\n",
    "    lambda x: alvo_bonus_assessor(x['sales_segment']), axis=1).copy(),np.nan\n",
    "    )\n",
    "\n",
    "    "
   ]
  },
  {
   "cell_type": "code",
   "execution_count": 70,
   "metadata": {},
   "outputs": [],
   "source": [
    "tina['diferenca_vendas_Tina_ADP']=tina['gross_sales']-tina['VENDAS_TOT']"
   ]
  },
  {
   "cell_type": "code",
   "execution_count": 71,
   "metadata": {},
   "outputs": [
    {
     "data": {
      "text/html": [
       "<div>\n",
       "<style scoped>\n",
       "    .dataframe tbody tr th:only-of-type {\n",
       "        vertical-align: middle;\n",
       "    }\n",
       "\n",
       "    .dataframe tbody tr th {\n",
       "        vertical-align: top;\n",
       "    }\n",
       "\n",
       "    .dataframe thead th {\n",
       "        text-align: right;\n",
       "    }\n",
       "</style>\n",
       "<table border=\"1\" class=\"dataframe\">\n",
       "  <thead>\n",
       "    <tr style=\"text-align: right;\">\n",
       "      <th></th>\n",
       "      <th>cod_loja</th>\n",
       "      <th>MATRICULA</th>\n",
       "      <th>segment</th>\n",
       "      <th>job_simplified</th>\n",
       "      <th>E1_gross_sales</th>\n",
       "      <th>E2_gross_sales</th>\n",
       "      <th>E3_gross_sales</th>\n",
       "      <th>gross_sales</th>\n",
       "      <th>sales_segment</th>\n",
       "      <th>rentability</th>\n",
       "      <th>FALTA</th>\n",
       "      <th>sigla_loja</th>\n",
       "      <th>VENDAS_TOT</th>\n",
       "      <th>COMISSAO</th>\n",
       "      <th>Alvo1</th>\n",
       "      <th>Minimo Garantido</th>\n",
       "      <th>vendas_sobre_alvo</th>\n",
       "      <th>recebe_premiacao</th>\n",
       "      <th>REM_REN</th>\n",
       "      <th>DECORACAO</th>\n",
       "      <th>SUPERACAO</th>\n",
       "      <th>AREAS_TEC</th>\n",
       "      <th>PREMIO_ASSESSOR</th>\n",
       "      <th>diferenca_vendas_Tina_ADP</th>\n",
       "    </tr>\n",
       "  </thead>\n",
       "  <tbody>\n",
       "    <tr>\n",
       "      <th>8</th>\n",
       "      <td>30.0</td>\n",
       "      <td>3343.0</td>\n",
       "      <td>E3</td>\n",
       "      <td>salesperson</td>\n",
       "      <td>34139.104</td>\n",
       "      <td>3474.379</td>\n",
       "      <td>427426.25</td>\n",
       "      <td>467757.733</td>\n",
       "      <td>427426.25</td>\n",
       "      <td>103.647421</td>\n",
       "      <td>nao</td>\n",
       "      <td>MOR</td>\n",
       "      <td>467757.73</td>\n",
       "      <td>4677.5773</td>\n",
       "      <td>270000.0</td>\n",
       "      <td>1985.0</td>\n",
       "      <td>1.732436</td>\n",
       "      <td>sim</td>\n",
       "      <td>1759.003543</td>\n",
       "      <td>69.48758</td>\n",
       "      <td>600.0</td>\n",
       "      <td>170.69552</td>\n",
       "      <td>NaN</td>\n",
       "      <td>0.003</td>\n",
       "    </tr>\n",
       "  </tbody>\n",
       "</table>\n",
       "</div>"
      ],
      "text/plain": [
       "   cod_loja  MATRICULA segment job_simplified  E1_gross_sales  E2_gross_sales  \\\n",
       "8      30.0     3343.0      E3    salesperson       34139.104        3474.379   \n",
       "\n",
       "   E3_gross_sales  gross_sales  sales_segment  rentability FALTA sigla_loja  \\\n",
       "8       427426.25   467757.733      427426.25   103.647421   nao        MOR   \n",
       "\n",
       "   VENDAS_TOT   COMISSAO     Alvo1  Minimo Garantido  vendas_sobre_alvo  \\\n",
       "8   467757.73  4677.5773  270000.0            1985.0           1.732436   \n",
       "\n",
       "  recebe_premiacao      REM_REN  DECORACAO  SUPERACAO  AREAS_TEC  \\\n",
       "8              sim  1759.003543   69.48758      600.0  170.69552   \n",
       "\n",
       "   PREMIO_ASSESSOR  diferenca_vendas_Tina_ADP  \n",
       "8              NaN                      0.003  "
      ]
     },
     "execution_count": 71,
     "metadata": {},
     "output_type": "execute_result"
    }
   ],
   "source": [
    "tina[tina['MATRICULA']==3343]"
   ]
  },
  {
   "cell_type": "code",
   "execution_count": 72,
   "metadata": {},
   "outputs": [
    {
     "data": {
      "text/plain": [
       "Index(['cod_loja', 'MATRICULA', 'segment', 'job_simplified', 'E1_gross_sales',\n",
       "       'E2_gross_sales', 'E3_gross_sales', 'gross_sales', 'sales_segment',\n",
       "       'rentability', 'FALTA', 'sigla_loja', 'VENDAS_TOT', 'COMISSAO', 'Alvo1',\n",
       "       'Minimo Garantido', 'vendas_sobre_alvo', 'recebe_premiacao', 'REM_REN',\n",
       "       'DECORACAO', 'SUPERACAO', 'AREAS_TEC', 'PREMIO_ASSESSOR',\n",
       "       'diferenca_vendas_Tina_ADP'],\n",
       "      dtype='object')"
      ]
     },
     "execution_count": 72,
     "metadata": {},
     "output_type": "execute_result"
    }
   ],
   "source": [
    "tina.columns"
   ]
  },
  {
   "cell_type": "code",
   "execution_count": 73,
   "metadata": {},
   "outputs": [],
   "source": [
    "# SALVA verba PREMIAÇÃO ASSESSOR\n",
    "salva_verba(tina[['MATRICULA','PREMIO_ASSESSOR']].copy(deep=True),4118,F_VERBA_ASS_SEM)\n"
   ]
  },
  {
   "cell_type": "code",
   "execution_count": 74,
   "metadata": {},
   "outputs": [],
   "source": [
    "salva_verba(tina[['MATRICULA','PREMIO_ASSESSOR']][tina['FALTA']=='nao'].copy(deep=True),4118,F_VERBA_ASS)\n"
   ]
  },
  {
   "cell_type": "code",
   "execution_count": 75,
   "metadata": {},
   "outputs": [],
   "source": [
    "tina.to_excel(F_SAI_CHECAGEM)"
   ]
  }
 ],
 "metadata": {
  "interpreter": {
   "hash": "8668f36d5fe333b63cfdfa8b388d3e945d6d1d647f9a9a6cdf96645c6a001ade"
  },
  "kernelspec": {
   "display_name": "Python 3.9.9 ('tina')",
   "language": "python",
   "name": "python3"
  },
  "language_info": {
   "codemirror_mode": {
    "name": "ipython",
    "version": 3
   },
   "file_extension": ".py",
   "mimetype": "text/x-python",
   "name": "python",
   "nbconvert_exporter": "python",
   "pygments_lexer": "ipython3",
   "version": "3.9.9"
  },
  "orig_nbformat": 4
 },
 "nbformat": 4,
 "nbformat_minor": 2
}
