{
 "cells": [
  {
   "cell_type": "code",
   "execution_count": 1,
   "metadata": {},
   "outputs": [],
   "source": [
    "import pandas as pd\n",
    "import numpy as np"
   ]
  },
  {
   "cell_type": "code",
   "execution_count": 2,
   "metadata": {},
   "outputs": [],
   "source": [
    "#sufixo=\"_ativos_mes_anterior\"\n",
    "sufixo=\"_verificando_afastados_lojas_tina\""
   ]
  },
  {
   "cell_type": "code",
   "execution_count": 3,
   "metadata": {},
   "outputs": [],
   "source": [
    "pd.set_option('display.max_columns', None)"
   ]
  },
  {
   "cell_type": "code",
   "execution_count": 4,
   "metadata": {},
   "outputs": [],
   "source": [
    "ID_UNN=1 # 1=TELHANORTE   2=TUMELERO"
   ]
  },
  {
   "cell_type": "code",
   "execution_count": 5,
   "metadata": {},
   "outputs": [],
   "source": [
    "# MÍNIMO NPS CONSIDERADO PARA ELEGIBILIDADE DA LOJA AO PRÊMIO COLETIVO TINA\n",
    "NPS_ALVO=65"
   ]
  },
  {
   "cell_type": "code",
   "execution_count": 6,
   "metadata": {},
   "outputs": [],
   "source": [
    "# Dia da apuração\n",
    "#hoje = pd.to_datetime('today').date()\n",
    "hoje = pd.to_datetime('2022-05-27')\n",
    "ANO=str(hoje.year)"
   ]
  },
  {
   "cell_type": "code",
   "execution_count": 7,
   "metadata": {},
   "outputs": [
    {
     "data": {
      "text/plain": [
       "5"
      ]
     },
     "execution_count": 7,
     "metadata": {},
     "output_type": "execute_result"
    }
   ],
   "source": [
    "hoje.month"
   ]
  },
  {
   "cell_type": "code",
   "execution_count": 8,
   "metadata": {},
   "outputs": [],
   "source": [
    "# DIA PADRÃO DE APURAÇÃO\n",
    "#DIA_APURA=27\n",
    "DIA_APURA=hoje.day"
   ]
  },
  {
   "cell_type": "code",
   "execution_count": 9,
   "metadata": {},
   "outputs": [],
   "source": [
    "# Dias a serem considerados\n",
    "MES_COMERCIAL=30 # MES COMERCIAL TEM 30 DIAS\n",
    "MEIO_MES=int(MES_COMERCIAL/2.)"
   ]
  },
  {
   "cell_type": "code",
   "execution_count": 10,
   "metadata": {},
   "outputs": [],
   "source": [
    "MESES= ['jan','fev','mar','abr','mai','jun','jul','ago','set','out','nov','dez']\n",
    "I_MESES= ['01','02','03','04','05','06','07','08','09','10','11','12']\n",
    "MES=MESES[hoje.month-1]\n",
    "I_MES=I_MESES[MESES.index(MES)]\n",
    "I_MES_ANTERIOR=I_MESES[MESES.index(MES)-1]\n"
   ]
  },
  {
   "cell_type": "code",
   "execution_count": 11,
   "metadata": {},
   "outputs": [
    {
     "data": {
      "text/plain": [
       "'abr'"
      ]
     },
     "execution_count": 11,
     "metadata": {},
     "output_type": "execute_result"
    }
   ],
   "source": [
    "MES_ANTERIOR=MESES[MESES.index(MES)-1]\n",
    "MES_ANTERIOR"
   ]
  },
  {
   "cell_type": "code",
   "execution_count": 12,
   "metadata": {},
   "outputs": [
    {
     "name": "stdout",
     "output_type": "stream",
     "text": [
      "Como a apuração está sendo feita em mai, a apuração coletiva será correspondente ao do mês anterior abr\n"
     ]
    }
   ],
   "source": [
    "print('Como a apuração está sendo feita em '+MES+', a apuração coletiva será correspondente ao do mês anterior '+MES_ANTERIOR)"
   ]
  },
  {
   "cell_type": "code",
   "execution_count": 13,
   "metadata": {},
   "outputs": [],
   "source": [
    "I_DIAS=pd.to_datetime(ANO+'-'+I_MES_ANTERIOR).days_in_month"
   ]
  },
  {
   "cell_type": "code",
   "execution_count": 14,
   "metadata": {},
   "outputs": [
    {
     "name": "stdout",
     "output_type": "stream",
     "text": [
      "30 dias em abr\n"
     ]
    }
   ],
   "source": [
    "print(str(I_DIAS)+' dias em '+MES_ANTERIOR)"
   ]
  },
  {
   "cell_type": "code",
   "execution_count": 15,
   "metadata": {},
   "outputs": [
    {
     "name": "stdout",
     "output_type": "stream",
     "text": [
      "Apuração da Premiação Coletiva para TELHANORTE\n"
     ]
    }
   ],
   "source": [
    "# IDENTIFICAÇÃO SE TELHANORTE OU TUMELERO\n",
    "ID_UNN=1 # 1=TELHANORTE    4=TUMELERO\n",
    "if ID_UNN == 1:\n",
    "    empresa='TELHANORTE'\n",
    "elif ID_UNN == 4:\n",
    "    empresa = 'TUMELERO'\n",
    "else: \n",
    "    print('ID_UNN deve ser 1=TELHANORTE    4=TUMELERO ')\n",
    "    print('Abortando notebook!!!!')\n",
    "    class StopExecution(Exception):\n",
    "        def _render_traceback_(self):\n",
    "            pass\n",
    "\n",
    "    raise StopExecution\n",
    "\n",
    "print('Apuração da Premiação Coletiva para '+empresa)\n"
   ]
  },
  {
   "cell_type": "code",
   "execution_count": 16,
   "metadata": {},
   "outputs": [
    {
     "name": "stdout",
     "output_type": "stream",
     "text": [
      "Considerando \n",
      "Data de início:\n",
      "2022-04-01\n",
      "\n",
      "Data final:\n",
      "2022-04-30\n"
     ]
    }
   ],
   "source": [
    "# Período de Apuração   -   Faltas injustificadas no período\n",
    "# Fevereiro de 2022\n",
    "DATA_I = pd.to_datetime(ANO+'-'+I_MES_ANTERIOR+'-01', format='%Y/%m/%d')  # data inicial AAAA-MM-DD\n",
    "DATA_F = pd.to_datetime(ANO+'-'+I_MES_ANTERIOR+'-'+str(I_DIAS), format='%Y/%m/%d')  # data final AAAA-MM-DD\n",
    "print('Considerando ')\n",
    "print('Data de início:')\n",
    "print(DATA_I.date())\n",
    "print('')\n",
    "print('Data final:')\n",
    "print(DATA_F.date())"
   ]
  },
  {
   "cell_type": "code",
   "execution_count": 17,
   "metadata": {},
   "outputs": [
    {
     "name": "stdout",
     "output_type": "stream",
     "text": [
      "Dentro da pasta C:/apuracao/TELHANORTE/ tem a pasta ano e mês? Se não crie como explicado a seguir.\n"
     ]
    }
   ],
   "source": [
    "# Diretório ou pasta base\n",
    "DIRETORIO='C:/apuracao/'+empresa+'/'\n",
    "print('Dentro da pasta '+DIRETORIO+' tem a pasta ano e mês? Se não crie como explicado a seguir.')"
   ]
  },
  {
   "cell_type": "code",
   "execution_count": 18,
   "metadata": {},
   "outputs": [],
   "source": [
    "# PASTAS \n",
    "\n",
    "DIR_BASE='C:/apuracao/'+empresa+'/'\n",
    "DIR_INFO='C:/apuracao/info/'\n",
    "DIR_TINA_BASES=DIR_INFO\n",
    "DIR_IN=DIR_BASE+ANO+'/'+MES+'/ORIGINAIS/'\n",
    "# PASTA COM PLANILHA DE CHECAGEM PARA O ANALISTA DE NEGÓCIOS\n",
    "DIRETORIO_CHECAGEM=DIR_BASE+ANO+'/'+MES+'/CHECAGEM/'\n"
   ]
  },
  {
   "cell_type": "code",
   "execution_count": 19,
   "metadata": {},
   "outputs": [
    {
     "name": "stdout",
     "output_type": "stream",
     "text": [
      "A apuração da premiação coletiva é correspondente ao mês anterior.\n",
      "Portanto, buscar arquivos do mês anterior na pasta:\n",
      "C:/apuracao/TELHANORTE/2022/abr/\n"
     ]
    }
   ],
   "source": [
    "print('A apuração da premiação coletiva é correspondente ao mês anterior.')\n",
    "print('Portanto, buscar arquivos do mês anterior na pasta:')\n",
    "DIRETORIO_ANTERIOR=DIRETORIO+ANO+'/'+MES_ANTERIOR+'/'\n",
    "print(DIRETORIO_ANTERIOR)"
   ]
  },
  {
   "cell_type": "code",
   "execution_count": 20,
   "metadata": {},
   "outputs": [
    {
     "name": "stdout",
     "output_type": "stream",
     "text": [
      "Pasta:\n",
      "C:/apuracao/TELHANORTE/2022/mai/ORIGINAIS/\n",
      "Coloque nesta pasta os arquivos bases vindos do RH no mês da apuração:\n",
      "     base de ativos, \n",
      "     base de falta injustificada; e\n",
      "     base de afastamentos.\n"
     ]
    }
   ],
   "source": [
    "# PASTA COM ARQUIVOS BASES DO RH\n",
    "DIRETORIO_ENTRA=DIRETORIO+ANO+'/'+MES+'/ORIGINAIS/'\n",
    "print('Pasta:')\n",
    "print(DIRETORIO_ENTRA)\n",
    "print('Coloque nesta pasta os arquivos bases vindos do RH no mês da apuração:')\n",
    "print('     base de ativos, ')\n",
    "print('     base de falta injustificada; e')\n",
    "print('     base de afastamentos.')"
   ]
  },
  {
   "cell_type": "code",
   "execution_count": 21,
   "metadata": {},
   "outputs": [
    {
     "name": "stdout",
     "output_type": "stream",
     "text": [
      "Pasta:\n",
      "C:/apuracao/TELHANORTE/2022/mai/ORIGINAIS/\n",
      "Coloque nesta pasta a base de VENDAS de abr puxadas no MicroStrategy.\n"
     ]
    }
   ],
   "source": [
    "# PASTA COM BASES DE VENDAS PUXADAS DO MicroStrategy\n",
    "DIRETORIO_VENDAS_NPS=DIRETORIO_ENTRA # pasta com vendas do MicroStrategy\n",
    "print('Pasta:')\n",
    "print(DIRETORIO_VENDAS_NPS)\n",
    "print('Coloque nesta pasta a base de VENDAS de '+MES_ANTERIOR+' puxadas no MicroStrategy.')"
   ]
  },
  {
   "cell_type": "code",
   "execution_count": 22,
   "metadata": {},
   "outputs": [
    {
     "name": "stdout",
     "output_type": "stream",
     "text": [
      "Pasta:\n",
      "C:/apuracao/TELHANORTE/2022/mai/ORIGINAIS/\n",
      "Coloque nesta pasta a base de NPS de abr baixada do SOLUX.\n"
     ]
    }
   ],
   "source": [
    "# PASTA COM BASES DE NPS \n",
    "print('Pasta:')\n",
    "print(DIRETORIO_VENDAS_NPS)\n",
    "print('Coloque nesta pasta a base de NPS de '+MES_ANTERIOR+' baixada do SOLUX.')"
   ]
  },
  {
   "cell_type": "code",
   "execution_count": 23,
   "metadata": {},
   "outputs": [
    {
     "name": "stdout",
     "output_type": "stream",
     "text": [
      "A planilha de checagem da apuração coletiva realizada em mai está aqui:\n",
      "C:/apuracao/TELHANORTE/2022/mai/CHECAGEM/\n"
     ]
    }
   ],
   "source": [
    "# PASTA COM PLANILHA DE CHECAGEM PARA O ANALISTA DE NEGÓCIOS\n",
    "DIRETORIO_CHECAGEM=DIRETORIO+ANO+'/'+MES+'/CHECAGEM/'\n",
    "print('A planilha de checagem da apuração coletiva realizada em '+MES+' está aqui:')\n",
    "print(DIRETORIO_CHECAGEM)"
   ]
  },
  {
   "cell_type": "code",
   "execution_count": 24,
   "metadata": {},
   "outputs": [
    {
     "name": "stdout",
     "output_type": "stream",
     "text": [
      "Pasta com informações bases: C:/apuracao/info/\n",
      "Aqui deve ter os arquivos com:\n"
     ]
    }
   ],
   "source": [
    "DIRETORIO_INFO='C:/apuracao/info/'\n",
    "print('Pasta com informações bases: '+DIRETORIO_INFO)\n",
    "print('Aqui deve ter os arquivos com:')"
   ]
  },
  {
   "cell_type": "code",
   "execution_count": 25,
   "metadata": {},
   "outputs": [],
   "source": [
    "# PASTA DE SAÍDA DAS VERBAS DE PREMIAÇÕES TINA EM EXCEL A SEREM ENVIADOS AO RH\n",
    "DIRETORIO_SAI=DIRETORIO+ANO+'/'+MES+'/para_RH/'"
   ]
  },
  {
   "cell_type": "code",
   "execution_count": 26,
   "metadata": {},
   "outputs": [
    {
     "name": "stdout",
     "output_type": "stream",
     "text": [
      "C:/apuracao/info/premiacao_cargo_alvo.csv\n"
     ]
    }
   ],
   "source": [
    "# ARQUIVO DE ENTRADA: VALORES DE PREMIAÇÃO POR GRUPO DE CARGOS\n",
    "F_PREMIO_CARGO=DIRETORIO_INFO+'premiacao_cargo_alvo.csv'\n",
    "print(F_PREMIO_CARGO)"
   ]
  },
  {
   "cell_type": "code",
   "execution_count": 27,
   "metadata": {},
   "outputs": [
    {
     "name": "stdout",
     "output_type": "stream",
     "text": [
      "Arquivos de saída para RH\n",
      "C:/apuracao/TELHANORTE/2022/mai/para_RH/VERBA_4117_PREMIACAO_COLETIVA_verificando_afastados_lojas_tina.xlsx\n"
     ]
    }
   ],
   "source": [
    "# ARQUIVO DE SAÍDA PARA O RH - EM EXCEL\n",
    "FILE_SAI=DIRETORIO_SAI + \"VERBA_4117_PREMIACAO_COLETIVA\"+sufixo+\".xlsx\"\n",
    "FILE_SAI_SEM=DIRETORIO_SAI + \"VERBA_4117_PREMIACAO_COLETIVA_sem_considerar_falta_injustificada\"+sufixo+\".xlsx\"\n",
    "print('Arquivos de saída para RH')\n",
    "print(FILE_SAI)"
   ]
  },
  {
   "cell_type": "code",
   "execution_count": 28,
   "metadata": {},
   "outputs": [
    {
     "name": "stdout",
     "output_type": "stream",
     "text": [
      "Arquivos de backup SEM CONSIDERAR FALTA INJUSTIFICADA\n",
      "C:/apuracao/TELHANORTE/2022/mai/para_RH/VERBA_4117_PREMIACAO_COLETIVA_sem_considerar_falta_injustificada_verificando_afastados_lojas_tina.xlsx\n"
     ]
    }
   ],
   "source": [
    "print('Arquivos de backup SEM CONSIDERAR FALTA INJUSTIFICADA')\n",
    "print(FILE_SAI_SEM)"
   ]
  },
  {
   "cell_type": "code",
   "execution_count": 29,
   "metadata": {},
   "outputs": [
    {
     "name": "stdout",
     "output_type": "stream",
     "text": [
      "Planilha para checar a situação dos colaboradores em relação à Premiação Coletiva Tina\n",
      "C:/apuracao/TELHANORTE/2022/mai/CHECAGEM/CHECANDO_APURACAO_COLETIVA_verificando_afastados_lojas_tina.xlsx\n"
     ]
    }
   ],
   "source": [
    "# ARQUIO DE SAÍDA PARA CHECAGEM DO ANALISTA DE NEGÓCIOS - EM EXCEL\n",
    "FILE_CHECAGEM=DIRETORIO_CHECAGEM + \"CHECANDO_APURACAO_COLETIVA\"+sufixo+\".xlsx\"\n",
    "print('Planilha para checar a situação dos colaboradores em relação à Premiação Coletiva Tina')\n",
    "print(FILE_CHECAGEM)"
   ]
  },
  {
   "cell_type": "code",
   "execution_count": 30,
   "metadata": {},
   "outputs": [
    {
     "name": "stdout",
     "output_type": "stream",
     "text": [
      "Planilha para checar lojas elegíveis à Premiação Coletiva Tina\n",
      "C:/apuracao/TELHANORTE/2022/mai/CHECAGEM/CHECANDO_LOJAS_APURACAO_COLETIVA_verificando_afastados_lojas_tina.xlsx\n"
     ]
    }
   ],
   "source": [
    "# ARQUIO DE SAÍDA PARA CHECAGEM DO ANALISTA DE NEGÓCIOS - EM EXCEL\n",
    "FILE_CHECAGEM_LOJAS=DIRETORIO_CHECAGEM + \"CHECANDO_LOJAS_APURACAO_COLETIVA\"+sufixo+\".xlsx\"\n",
    "print('Planilha para checar lojas elegíveis à Premiação Coletiva Tina')\n",
    "print(FILE_CHECAGEM_LOJAS)"
   ]
  },
  {
   "cell_type": "code",
   "execution_count": 31,
   "metadata": {},
   "outputs": [
    {
     "name": "stdout",
     "output_type": "stream",
     "text": [
      "Planilha para checar base de afastados\n",
      "C:/apuracao/TELHANORTE/2022/mai/CHECAGEM/CHECANDO_AFASTADOS_APURACAO_COLETIVA_verificando_afastados_lojas_tina.xlsx\n"
     ]
    }
   ],
   "source": [
    "# ARQUIO DE SAÍDA PARA CHECAGEM DO ANALISTA DE NEGÓCIOS - EM EXCEL\n",
    "FILE_CHECAGEM_AFASTADOS=DIRETORIO_CHECAGEM + \"CHECANDO_AFASTADOS_APURACAO_COLETIVA\"+sufixo+\".xlsx\"\n",
    "print('Planilha para checar base de afastados')\n",
    "print(FILE_CHECAGEM_AFASTADOS)"
   ]
  },
  {
   "cell_type": "code",
   "execution_count": 32,
   "metadata": {},
   "outputs": [
    {
     "name": "stdout",
     "output_type": "stream",
     "text": [
      "C:/apuracao/info/premiacao_cargo_alvo.csv\n"
     ]
    }
   ],
   "source": [
    "# ARQUIVO DE ENTRADA: VALORES DE PREMIAÇÃO POR GRUPO DE CARGOS\n",
    "F_PREMIO_CARGO=DIRETORIO_INFO+'premiacao_cargo_alvo.csv'\n",
    "print(F_PREMIO_CARGO)"
   ]
  },
  {
   "cell_type": "code",
   "execution_count": 33,
   "metadata": {},
   "outputs": [
    {
     "name": "stdout",
     "output_type": "stream",
     "text": [
      "C:/apuracao/info/cargos_contemplados_grupo.csv\n"
     ]
    }
   ],
   "source": [
    "# ARQUIVO DE ENTRADA: CARGOS CONTEMPLADO PELA PREMIAÇÃO COLETIVA TINA\n",
    "F_CARGOS=DIRETORIO_INFO+'cargos_contemplados_grupo.csv'\n",
    "print(F_CARGOS)"
   ]
  },
  {
   "cell_type": "code",
   "execution_count": 34,
   "metadata": {},
   "outputs": [
    {
     "name": "stdout",
     "output_type": "stream",
     "text": [
      "C:/apuracao/info/lojas_pilotos_rollout.csv\n"
     ]
    }
   ],
   "source": [
    "# ARQUIVO DE ENTRADA: LOJAS TINA ROLL-OUT DE JANEIRO DE 2022 COM COD_LOJA, SIGLA E NOME\n",
    "FILE_LOJAS_TINA=DIRETORIO_INFO+'lojas_pilotos_rollout.csv'\n",
    "print(FILE_LOJAS_TINA)"
   ]
  },
  {
   "cell_type": "code",
   "execution_count": 35,
   "metadata": {},
   "outputs": [
    {
     "name": "stdout",
     "output_type": "stream",
     "text": [
      "Arquivo de alvos coletivos\n",
      "C:/apuracao/info/target_store.csv\n"
     ]
    }
   ],
   "source": [
    "# ARQUIVO DE ENTRADA: ALVOS COLETIVOS DAS LOJAS\n",
    "F_ALVOS=DIRETORIO_INFO+'target_store.csv'\n",
    "print('Arquivo de alvos coletivos')\n",
    "print(F_ALVOS)"
   ]
  },
  {
   "cell_type": "code",
   "execution_count": 36,
   "metadata": {},
   "outputs": [
    {
     "name": "stdout",
     "output_type": "stream",
     "text": [
      "C:/apuracao/TELHANORTE/2022/mai/ORIGINAIS/Ranking NPS.csv\n"
     ]
    }
   ],
   "source": [
    "# ARQUIVO DE ENTRADA: NPS DAS LOJAS\n",
    "FILE_NPS=DIRETORIO_VENDAS_NPS+'Ranking NPS.csv'\n",
    "print(''+FILE_NPS)"
   ]
  },
  {
   "cell_type": "code",
   "execution_count": 37,
   "metadata": {},
   "outputs": [
    {
     "name": "stdout",
     "output_type": "stream",
     "text": [
      "C:/apuracao/TELHANORTE/2022/mai/ORIGINAIS/RECEITA_LOJA_MENSAL.xlsx\n"
     ]
    }
   ],
   "source": [
    "# ARQUIVO DE ENTRADA: VENDAS DO MÊS ANTERIOR \n",
    "FILE_VENDAS=DIRETORIO_VENDAS_NPS+'RECEITA_LOJA_MENSAL.xlsx'\n",
    "print(FILE_VENDAS)"
   ]
  },
  {
   "cell_type": "code",
   "execution_count": 38,
   "metadata": {},
   "outputs": [
    {
     "name": "stdout",
     "output_type": "stream",
     "text": [
      "C:/apuracao/TELHANORTE/2022/abr/ORIGINAIS/PREMIACOES TINA.xlsx\n",
      "C:/apuracao/TELHANORTE/2022/mai/ORIGINAIS/PREMIACOES TINA.xlsx\n"
     ]
    }
   ],
   "source": [
    "# ARQUIVO DE ENTRADA: faltas injustificadas do mês e do mês anterior\n",
    "F_FALTAS = DIRETORIO_ENTRA+\"PREMIACOES TINA.xlsx\"\n",
    "F_FALTAS_MES_ANTERIOR=DIRETORIO_ANTERIOR+\"ORIGINAIS/PREMIACOES TINA.xlsx\"\n",
    "print(F_FALTAS_MES_ANTERIOR)\n",
    "print(F_FALTAS)"
   ]
  },
  {
   "cell_type": "markdown",
   "metadata": {},
   "source": [
    "ELEGIBILIDADE DAS LOJAS À PREMIAÇÃO COLETIVA TINA"
   ]
  },
  {
   "cell_type": "code",
   "execution_count": 39,
   "metadata": {},
   "outputs": [],
   "source": [
    "# CARREGANDO PRÊMIOS POR GRUPO DE CARGOS \n",
    "PREMIOS=pd.read_csv(F_PREMIO_CARGO, sep=';')"
   ]
  },
  {
   "cell_type": "code",
   "execution_count": 40,
   "metadata": {},
   "outputs": [],
   "source": [
    "# CARREGANDO TODAS AS LOJAS TINA DO ROLL-OUT DA TELHANORTE\n",
    "lojas_tina=pd.read_csv(FILE_LOJAS_TINA,sep=';', encoding='latin1')\n"
   ]
  },
  {
   "cell_type": "code",
   "execution_count": 41,
   "metadata": {},
   "outputs": [],
   "source": [
    "# CARREGANDO SOMENTE AS LOJAS TINA DA EMPRESA SELECIONADA\n",
    "lojas_tina=lojas_tina[lojas_tina['id_unn']==ID_UNN]"
   ]
  },
  {
   "cell_type": "code",
   "execution_count": 42,
   "metadata": {},
   "outputs": [],
   "source": [
    "#TODO Se o mês for janeiro, pegar dezembro do ano anteriorf\n",
    "\n",
    "# if MESES.index(MES) == 0:\n",
    "#     MES_ANTERIOR=MES[11]\n",
    "#     DIRETORIO_ANTERIOR=DIRETORIO+str(int(float(ANO))-1)+'/'+MES_ANTERIOR+'/originais/'\n",
    "#     print(DIRETORIO_ANTERIOR)\n",
    "\n",
    "# print(DIRETORIO_ANTERIOR)"
   ]
  },
  {
   "cell_type": "code",
   "execution_count": 43,
   "metadata": {},
   "outputs": [
    {
     "name": "stdout",
     "output_type": "stream",
     "text": [
      "Carregando alvos coletivos do arquivo:\n",
      "C:/apuracao/info/target_store.csv\n"
     ]
    }
   ],
   "source": [
    "# CARREGANDO ALVOS COLETIVOS DAS LOJAS\n",
    "print('Carregando alvos coletivos do arquivo:')\n",
    "print(F_ALVOS)\n",
    "alvos=pd.read_csv(F_ALVOS, sep=';', encoding='latin1')"
   ]
  },
  {
   "cell_type": "code",
   "execution_count": 44,
   "metadata": {},
   "outputs": [],
   "source": [
    "# FILTRANDO ALVOS DO MÊS ANTERIOR\n",
    "alvos=alvos[(alvos['id_unn']==ID_UNN) & (alvos['id_mes']==int(float(ANO+I_MES_ANTERIOR)))].copy(deep=True)"
   ]
  },
  {
   "cell_type": "code",
   "execution_count": 45,
   "metadata": {},
   "outputs": [
    {
     "data": {
      "text/html": [
       "<div>\n",
       "<style scoped>\n",
       "    .dataframe tbody tr th:only-of-type {\n",
       "        vertical-align: middle;\n",
       "    }\n",
       "\n",
       "    .dataframe tbody tr th {\n",
       "        vertical-align: top;\n",
       "    }\n",
       "\n",
       "    .dataframe thead th {\n",
       "        text-align: right;\n",
       "    }\n",
       "</style>\n",
       "<table border=\"1\" class=\"dataframe\">\n",
       "  <thead>\n",
       "    <tr style=\"text-align: right;\">\n",
       "      <th></th>\n",
       "      <th>target_sales_store_1</th>\n",
       "      <th>target_sales_store_2</th>\n",
       "    </tr>\n",
       "  </thead>\n",
       "  <tbody>\n",
       "    <tr>\n",
       "      <th>117</th>\n",
       "      <td>4222728,8</td>\n",
       "      <td>4417709,0</td>\n",
       "    </tr>\n",
       "    <tr>\n",
       "      <th>118</th>\n",
       "      <td>1599579,8</td>\n",
       "      <td>1698419,8</td>\n",
       "    </tr>\n",
       "    <tr>\n",
       "      <th>119</th>\n",
       "      <td>8462883,2</td>\n",
       "      <td>8794235,2</td>\n",
       "    </tr>\n",
       "    <tr>\n",
       "      <th>120</th>\n",
       "      <td>2257801,4</td>\n",
       "      <td>2418465,0</td>\n",
       "    </tr>\n",
       "    <tr>\n",
       "      <th>121</th>\n",
       "      <td>2513036,8</td>\n",
       "      <td>2695488,8</td>\n",
       "    </tr>\n",
       "    <tr>\n",
       "      <th>122</th>\n",
       "      <td>1507591,6</td>\n",
       "      <td>1625142,6</td>\n",
       "    </tr>\n",
       "    <tr>\n",
       "      <th>123</th>\n",
       "      <td>1702625,9</td>\n",
       "      <td>1820096,9</td>\n",
       "    </tr>\n",
       "    <tr>\n",
       "      <th>124</th>\n",
       "      <td>3042991,7</td>\n",
       "      <td>3206973,5</td>\n",
       "    </tr>\n",
       "    <tr>\n",
       "      <th>125</th>\n",
       "      <td>3011064,1</td>\n",
       "      <td>3203174,4</td>\n",
       "    </tr>\n",
       "    <tr>\n",
       "      <th>126</th>\n",
       "      <td>2348110,5</td>\n",
       "      <td>2479512,1</td>\n",
       "    </tr>\n",
       "    <tr>\n",
       "      <th>127</th>\n",
       "      <td>3290751,4</td>\n",
       "      <td>3501658,0</td>\n",
       "    </tr>\n",
       "    <tr>\n",
       "      <th>128</th>\n",
       "      <td>8026309,3</td>\n",
       "      <td>8302750,5</td>\n",
       "    </tr>\n",
       "    <tr>\n",
       "      <th>129</th>\n",
       "      <td>5201755,3</td>\n",
       "      <td>5417401,0</td>\n",
       "    </tr>\n",
       "    <tr>\n",
       "      <th>130</th>\n",
       "      <td>2437709,9</td>\n",
       "      <td>2612566,1</td>\n",
       "    </tr>\n",
       "    <tr>\n",
       "      <th>131</th>\n",
       "      <td>19556613,9</td>\n",
       "      <td>20365671,2</td>\n",
       "    </tr>\n",
       "    <tr>\n",
       "      <th>132</th>\n",
       "      <td>10474420,3</td>\n",
       "      <td>10843131,3</td>\n",
       "    </tr>\n",
       "    <tr>\n",
       "      <th>133</th>\n",
       "      <td>2024387,5</td>\n",
       "      <td>2169889,3</td>\n",
       "    </tr>\n",
       "    <tr>\n",
       "      <th>134</th>\n",
       "      <td>2593292,2</td>\n",
       "      <td>2772994,0</td>\n",
       "    </tr>\n",
       "    <tr>\n",
       "      <th>135</th>\n",
       "      <td>1768299,2</td>\n",
       "      <td>1951613,8</td>\n",
       "    </tr>\n",
       "    <tr>\n",
       "      <th>136</th>\n",
       "      <td>3025118,3</td>\n",
       "      <td>3200656,9</td>\n",
       "    </tr>\n",
       "    <tr>\n",
       "      <th>137</th>\n",
       "      <td>2538288,0</td>\n",
       "      <td>2689959,2</td>\n",
       "    </tr>\n",
       "    <tr>\n",
       "      <th>138</th>\n",
       "      <td>2933833,9</td>\n",
       "      <td>3213696,0</td>\n",
       "    </tr>\n",
       "    <tr>\n",
       "      <th>139</th>\n",
       "      <td>2927500,0</td>\n",
       "      <td>3139764,0</td>\n",
       "    </tr>\n",
       "    <tr>\n",
       "      <th>140</th>\n",
       "      <td>2566427,7</td>\n",
       "      <td>2726896,2</td>\n",
       "    </tr>\n",
       "    <tr>\n",
       "      <th>141</th>\n",
       "      <td>3627298,9</td>\n",
       "      <td>3868502,8</td>\n",
       "    </tr>\n",
       "    <tr>\n",
       "      <th>142</th>\n",
       "      <td>2728980,7</td>\n",
       "      <td>2893057,8</td>\n",
       "    </tr>\n",
       "    <tr>\n",
       "      <th>143</th>\n",
       "      <td>2982560,6</td>\n",
       "      <td>3141049,0</td>\n",
       "    </tr>\n",
       "    <tr>\n",
       "      <th>144</th>\n",
       "      <td>5139625,0</td>\n",
       "      <td>5351773,8</td>\n",
       "    </tr>\n",
       "    <tr>\n",
       "      <th>145</th>\n",
       "      <td>1753628,4</td>\n",
       "      <td>1873649,8</td>\n",
       "    </tr>\n",
       "    <tr>\n",
       "      <th>146</th>\n",
       "      <td>5040451,7</td>\n",
       "      <td>5269598,3</td>\n",
       "    </tr>\n",
       "    <tr>\n",
       "      <th>147</th>\n",
       "      <td>3843981,4</td>\n",
       "      <td>4039012,2</td>\n",
       "    </tr>\n",
       "    <tr>\n",
       "      <th>148</th>\n",
       "      <td>2277617,2</td>\n",
       "      <td>2415186,4</td>\n",
       "    </tr>\n",
       "    <tr>\n",
       "      <th>149</th>\n",
       "      <td>4403924,9</td>\n",
       "      <td>4614318,0</td>\n",
       "    </tr>\n",
       "    <tr>\n",
       "      <th>150</th>\n",
       "      <td>3021009,3</td>\n",
       "      <td>3188369,9</td>\n",
       "    </tr>\n",
       "    <tr>\n",
       "      <th>151</th>\n",
       "      <td>2126227,5</td>\n",
       "      <td>2274356,1</td>\n",
       "    </tr>\n",
       "    <tr>\n",
       "      <th>152</th>\n",
       "      <td>3809932,5</td>\n",
       "      <td>3991700,8</td>\n",
       "    </tr>\n",
       "    <tr>\n",
       "      <th>153</th>\n",
       "      <td>1892494,0</td>\n",
       "      <td>2039985,9</td>\n",
       "    </tr>\n",
       "    <tr>\n",
       "      <th>154</th>\n",
       "      <td>1548967,7</td>\n",
       "      <td>1651054,7</td>\n",
       "    </tr>\n",
       "    <tr>\n",
       "      <th>155</th>\n",
       "      <td>6496375,0</td>\n",
       "      <td>6800431,9</td>\n",
       "    </tr>\n",
       "  </tbody>\n",
       "</table>\n",
       "</div>"
      ],
      "text/plain": [
       "    target_sales_store_1 target_sales_store_2\n",
       "117            4222728,8            4417709,0\n",
       "118            1599579,8            1698419,8\n",
       "119            8462883,2            8794235,2\n",
       "120            2257801,4            2418465,0\n",
       "121            2513036,8            2695488,8\n",
       "122            1507591,6            1625142,6\n",
       "123            1702625,9            1820096,9\n",
       "124            3042991,7            3206973,5\n",
       "125            3011064,1            3203174,4\n",
       "126            2348110,5            2479512,1\n",
       "127            3290751,4            3501658,0\n",
       "128            8026309,3            8302750,5\n",
       "129            5201755,3            5417401,0\n",
       "130            2437709,9            2612566,1\n",
       "131           19556613,9           20365671,2\n",
       "132           10474420,3           10843131,3\n",
       "133            2024387,5            2169889,3\n",
       "134            2593292,2            2772994,0\n",
       "135            1768299,2            1951613,8\n",
       "136            3025118,3            3200656,9\n",
       "137            2538288,0            2689959,2\n",
       "138            2933833,9            3213696,0\n",
       "139            2927500,0            3139764,0\n",
       "140            2566427,7            2726896,2\n",
       "141            3627298,9            3868502,8\n",
       "142            2728980,7            2893057,8\n",
       "143            2982560,6            3141049,0\n",
       "144            5139625,0            5351773,8\n",
       "145            1753628,4            1873649,8\n",
       "146            5040451,7            5269598,3\n",
       "147            3843981,4            4039012,2\n",
       "148            2277617,2            2415186,4\n",
       "149            4403924,9            4614318,0\n",
       "150            3021009,3            3188369,9\n",
       "151            2126227,5            2274356,1\n",
       "152            3809932,5            3991700,8\n",
       "153            1892494,0            2039985,9\n",
       "154            1548967,7            1651054,7\n",
       "155            6496375,0            6800431,9"
      ]
     },
     "execution_count": 45,
     "metadata": {},
     "output_type": "execute_result"
    }
   ],
   "source": [
    "alvos[['target_sales_store_1','target_sales_store_2']]"
   ]
  },
  {
   "cell_type": "code",
   "execution_count": 46,
   "metadata": {},
   "outputs": [
    {
     "name": "stdout",
     "output_type": "stream",
     "text": [
      "C:/apuracao/TELHANORTE/2022/mai/ORIGINAIS/RECEITA_LOJA_MENSAL.xlsx\n"
     ]
    },
    {
     "name": "stderr",
     "output_type": "stream",
     "text": [
      "c:\\Users\\C1075636\\Miniconda3\\envs\\tina\\lib\\site-packages\\openpyxl\\styles\\stylesheet.py:226: UserWarning: Workbook contains no default style, apply openpyxl's default\n",
      "  warn(\"Workbook contains no default style, apply openpyxl's default\")\n"
     ]
    }
   ],
   "source": [
    "# CARREGANDO AS VENDAS DO MES ANTERIOR\n",
    "print(FILE_VENDAS)\n",
    "vendas=pd.read_excel(FILE_VENDAS) # \n",
    "if any(vendas['Loja']==\"Total\"): # Eliminando a linha com vendas totais\n",
    "    vendas=vendas[vendas['Loja']!='Total']\n"
   ]
  },
  {
   "cell_type": "code",
   "execution_count": 47,
   "metadata": {},
   "outputs": [],
   "source": [
    "# transformando vendas de caracteres para número\n",
    "vendas = vendas[['Loja', 'Venda Bruta (Receita Caixa)']].rename(\n",
    "        columns={'Loja':'cod_loja','Venda Bruta (Receita Caixa)':'Venda_Total'})"
   ]
  },
  {
   "cell_type": "code",
   "execution_count": 48,
   "metadata": {},
   "outputs": [],
   "source": [
    "vendas['cod_loja']=vendas['cod_loja'].astype(float).astype(int)"
   ]
  },
  {
   "cell_type": "code",
   "execution_count": 49,
   "metadata": {},
   "outputs": [
    {
     "name": "stdout",
     "output_type": "stream",
     "text": [
      "Carregando NPS das lojas\n",
      "C:/apuracao/TELHANORTE/2022/mai/ORIGINAIS/Ranking NPS.csv\n"
     ]
    }
   ],
   "source": [
    "# CARREGANDO NPS DAS LOJAS\n",
    "print('Carregando NPS das lojas')\n",
    "print(FILE_NPS)\n",
    "nps_lojas=pd.read_csv(FILE_NPS,sep=';')\n"
   ]
  },
  {
   "cell_type": "code",
   "execution_count": 50,
   "metadata": {},
   "outputs": [],
   "source": [
    "# ORGANIZANDO VENDAS POR LOJA\n",
    "loja_nps_venda_alvo=pd.merge(\n",
    "    lojas_tina[['cod_loja', 'sigla_loja']],\n",
    "    vendas, \n",
    "    how='left',on='cod_loja'\n",
    "    )\n"
   ]
  },
  {
   "cell_type": "code",
   "execution_count": 51,
   "metadata": {},
   "outputs": [],
   "source": [
    "# JUNTANDO NPS ÀS VENDAS\n",
    "loja_nps_venda_alvo=pd.merge(\n",
    "    loja_nps_venda_alvo,\n",
    "    nps_lojas[['externalId','nps']].rename(\n",
    "        columns={'externalId':'cod_loja'}\n",
    "        ),how='left',on='cod_loja'\n",
    "    )"
   ]
  },
  {
   "cell_type": "code",
   "execution_count": 52,
   "metadata": {},
   "outputs": [],
   "source": [
    "# JUNTANDO OS ALVOS COLETIVOS ÀS VENDAS E NPS\n",
    "loja_nps_venda_alvo=pd.merge(\n",
    "    loja_nps_venda_alvo,\n",
    "    alvos[['id_fil', 'id_mes', 'target_sales_store_1',\n",
    "       'target_sales_store_2']].rename(\n",
    "        columns={'id_fil':'cod_loja'}\n",
    "        ),how='left',on='cod_loja'\n",
    "    )\n"
   ]
  },
  {
   "cell_type": "code",
   "execution_count": 53,
   "metadata": {},
   "outputs": [],
   "source": [
    "# TRANSFORMANDO OS CARACTERES DA NPS EM NÚMEROS \n",
    "# REMOVENDO % DE nps e trocando a vírgula por ponto e obter número com decimal\n",
    "loja_nps_venda_alvo['nps']=loja_nps_venda_alvo['nps'].str.replace(\"%\",\"\")\n",
    "loja_nps_venda_alvo['nps']=loja_nps_venda_alvo['nps'].str.replace(\",\",\".\").astype(float)"
   ]
  },
  {
   "cell_type": "code",
   "execution_count": 54,
   "metadata": {},
   "outputs": [],
   "source": [
    "# TRANSFORMANDO OS CARACTERES DOS ALVOS EM NÚMEROS \n",
    "# REMOVENDO % DE nps e trocando a vírgula por ponto e obter número com decimal\n",
    "loja_nps_venda_alvo['target_sales_store_1']=loja_nps_venda_alvo['target_sales_store_1'].str.replace(\",\",\".\").astype(float)\n",
    "loja_nps_venda_alvo['target_sales_store_2']=loja_nps_venda_alvo['target_sales_store_2'].str.replace(\",\",\".\").astype(float)"
   ]
  },
  {
   "cell_type": "code",
   "execution_count": 55,
   "metadata": {},
   "outputs": [],
   "source": [
    "# FUNÇÃO PARA VERIFICAR SE ATINTIU ALVO1 OU ALVO2 OU NENHUM\n",
    "def alvo_alcancado(venda, alvo1, alvo2):\n",
    "    if venda >= alvo2:\n",
    "        alvo='ALVO2'\n",
    "    elif venda >= alvo1:\n",
    "        alvo='ALVO1'\n",
    "    else: alvo = 'NAO'\n",
    "    return alvo"
   ]
  },
  {
   "cell_type": "code",
   "execution_count": 56,
   "metadata": {},
   "outputs": [],
   "source": [
    "# VERIFICANDO SE A LOJA BATEU ALVO1, ALVO2 OU NÃO BATEU O ALVO\n",
    "loja_nps_venda_alvo['alvo']=loja_nps_venda_alvo.apply(\n",
    "    lambda x: alvo_alcancado(\n",
    "        x['Venda_Total'], x['target_sales_store_1'], x['target_sales_store_2']\n",
    "        ), axis=1).copy()"
   ]
  },
  {
   "cell_type": "code",
   "execution_count": 57,
   "metadata": {},
   "outputs": [],
   "source": [
    "# FUNÇÃO PARA VERFICAR SE A LOJA BATEU A META DE NPS\n",
    "def nps_alcancado(nps):\n",
    "    global NPS_ALVO\n",
    "    if nps >=NPS_ALVO:\n",
    "        nps_loja='SIM'\n",
    "    else: nps_loja = 'NAO'\n",
    "    return nps_loja"
   ]
  },
  {
   "cell_type": "code",
   "execution_count": 58,
   "metadata": {},
   "outputs": [],
   "source": [
    "# Incluindo parâmetro para verificar se a loja alcançou a NPS estabelecida\n",
    "loja_nps_venda_alvo['NPS_alcancado']=loja_nps_venda_alvo['nps'].apply(\n",
    "    lambda x: nps_alcancado(x)).copy()\n"
   ]
  },
  {
   "cell_type": "code",
   "execution_count": 59,
   "metadata": {},
   "outputs": [
    {
     "data": {
      "text/html": [
       "<div>\n",
       "<style scoped>\n",
       "    .dataframe tbody tr th:only-of-type {\n",
       "        vertical-align: middle;\n",
       "    }\n",
       "\n",
       "    .dataframe tbody tr th {\n",
       "        vertical-align: top;\n",
       "    }\n",
       "\n",
       "    .dataframe thead th {\n",
       "        text-align: right;\n",
       "    }\n",
       "</style>\n",
       "<table border=\"1\" class=\"dataframe\">\n",
       "  <thead>\n",
       "    <tr style=\"text-align: right;\">\n",
       "      <th></th>\n",
       "      <th>cod_loja</th>\n",
       "      <th>sigla_loja</th>\n",
       "      <th>Venda_Total</th>\n",
       "      <th>nps</th>\n",
       "      <th>id_mes</th>\n",
       "      <th>target_sales_store_1</th>\n",
       "      <th>target_sales_store_2</th>\n",
       "      <th>alvo</th>\n",
       "      <th>NPS_alcancado</th>\n",
       "    </tr>\n",
       "  </thead>\n",
       "  <tbody>\n",
       "    <tr>\n",
       "      <th>3</th>\n",
       "      <td>43</td>\n",
       "      <td>TAT</td>\n",
       "      <td>3116576.28</td>\n",
       "      <td>66.7</td>\n",
       "      <td>202204</td>\n",
       "      <td>3021009.3</td>\n",
       "      <td>3188369.9</td>\n",
       "      <td>ALVO1</td>\n",
       "      <td>SIM</td>\n",
       "    </tr>\n",
       "    <tr>\n",
       "      <th>5</th>\n",
       "      <td>12</td>\n",
       "      <td>JDI</td>\n",
       "      <td>5629601.58</td>\n",
       "      <td>68.6</td>\n",
       "      <td>202204</td>\n",
       "      <td>5201755.3</td>\n",
       "      <td>5417401.0</td>\n",
       "      <td>ALVO2</td>\n",
       "      <td>SIM</td>\n",
       "    </tr>\n",
       "    <tr>\n",
       "      <th>18</th>\n",
       "      <td>3</td>\n",
       "      <td>MGN</td>\n",
       "      <td>19755502.86</td>\n",
       "      <td>55.4</td>\n",
       "      <td>202204</td>\n",
       "      <td>19556613.9</td>\n",
       "      <td>20365671.2</td>\n",
       "      <td>ALVO1</td>\n",
       "      <td>NAO</td>\n",
       "    </tr>\n",
       "    <tr>\n",
       "      <th>31</th>\n",
       "      <td>48</td>\n",
       "      <td>BRG</td>\n",
       "      <td>1595695.62</td>\n",
       "      <td>67.4</td>\n",
       "      <td>202204</td>\n",
       "      <td>1507591.6</td>\n",
       "      <td>1625142.6</td>\n",
       "      <td>ALVO1</td>\n",
       "      <td>SIM</td>\n",
       "    </tr>\n",
       "    <tr>\n",
       "      <th>38</th>\n",
       "      <td>72</td>\n",
       "      <td>SCA</td>\n",
       "      <td>1792661.11</td>\n",
       "      <td>81.8</td>\n",
       "      <td>202204</td>\n",
       "      <td>1753628.4</td>\n",
       "      <td>1873649.8</td>\n",
       "      <td>ALVO1</td>\n",
       "      <td>SIM</td>\n",
       "    </tr>\n",
       "  </tbody>\n",
       "</table>\n",
       "</div>"
      ],
      "text/plain": [
       "    cod_loja sigla_loja  Venda_Total   nps  id_mes  target_sales_store_1  \\\n",
       "3         43        TAT   3116576.28  66.7  202204             3021009.3   \n",
       "5         12        JDI   5629601.58  68.6  202204             5201755.3   \n",
       "18         3        MGN  19755502.86  55.4  202204            19556613.9   \n",
       "31        48        BRG   1595695.62  67.4  202204             1507591.6   \n",
       "38        72        SCA   1792661.11  81.8  202204             1753628.4   \n",
       "\n",
       "    target_sales_store_2   alvo NPS_alcancado  \n",
       "3              3188369.9  ALVO1           SIM  \n",
       "5              5417401.0  ALVO2           SIM  \n",
       "18            20365671.2  ALVO1           NAO  \n",
       "31             1625142.6  ALVO1           SIM  \n",
       "38             1873649.8  ALVO1           SIM  "
      ]
     },
     "execution_count": 59,
     "metadata": {},
     "output_type": "execute_result"
    }
   ],
   "source": [
    "# CHECAGEM DAS LOJAS QUE ALCANÇARAM O ALVO\n",
    "loja_nps_venda_alvo[\n",
    "    (loja_nps_venda_alvo['alvo'] != 'NAO')\n",
    "]"
   ]
  },
  {
   "cell_type": "code",
   "execution_count": 132,
   "metadata": {},
   "outputs": [],
   "source": [
    "loja_nps_venda_alvo['LOJA_ELEGIVEL']=np.where(\n",
    "    (loja_nps_venda_alvo['alvo'] != 'NAO') &\n",
    "    (loja_nps_venda_alvo['NPS_alcancado'] == 'SIM'),\n",
    "    'SIM',\n",
    "    'NAO'\n",
    "    )"
   ]
  },
  {
   "cell_type": "code",
   "execution_count": 60,
   "metadata": {},
   "outputs": [
    {
     "name": "stdout",
     "output_type": "stream",
     "text": [
      "LOJAS ELEGÍVEIS À PREMIAÇÃO COLETIVA:\n"
     ]
    },
    {
     "data": {
      "text/html": [
       "<div>\n",
       "<style scoped>\n",
       "    .dataframe tbody tr th:only-of-type {\n",
       "        vertical-align: middle;\n",
       "    }\n",
       "\n",
       "    .dataframe tbody tr th {\n",
       "        vertical-align: top;\n",
       "    }\n",
       "\n",
       "    .dataframe thead th {\n",
       "        text-align: right;\n",
       "    }\n",
       "</style>\n",
       "<table border=\"1\" class=\"dataframe\">\n",
       "  <thead>\n",
       "    <tr style=\"text-align: right;\">\n",
       "      <th></th>\n",
       "      <th>cod_loja</th>\n",
       "      <th>sigla_loja</th>\n",
       "      <th>Venda_Total</th>\n",
       "      <th>nps</th>\n",
       "      <th>id_mes</th>\n",
       "      <th>target_sales_store_1</th>\n",
       "      <th>target_sales_store_2</th>\n",
       "      <th>alvo</th>\n",
       "      <th>NPS_alcancado</th>\n",
       "    </tr>\n",
       "  </thead>\n",
       "  <tbody>\n",
       "    <tr>\n",
       "      <th>3</th>\n",
       "      <td>43</td>\n",
       "      <td>TAT</td>\n",
       "      <td>3116576.28</td>\n",
       "      <td>66.7</td>\n",
       "      <td>202204</td>\n",
       "      <td>3021009.3</td>\n",
       "      <td>3188369.9</td>\n",
       "      <td>ALVO1</td>\n",
       "      <td>SIM</td>\n",
       "    </tr>\n",
       "    <tr>\n",
       "      <th>5</th>\n",
       "      <td>12</td>\n",
       "      <td>JDI</td>\n",
       "      <td>5629601.58</td>\n",
       "      <td>68.6</td>\n",
       "      <td>202204</td>\n",
       "      <td>5201755.3</td>\n",
       "      <td>5417401.0</td>\n",
       "      <td>ALVO2</td>\n",
       "      <td>SIM</td>\n",
       "    </tr>\n",
       "    <tr>\n",
       "      <th>31</th>\n",
       "      <td>48</td>\n",
       "      <td>BRG</td>\n",
       "      <td>1595695.62</td>\n",
       "      <td>67.4</td>\n",
       "      <td>202204</td>\n",
       "      <td>1507591.6</td>\n",
       "      <td>1625142.6</td>\n",
       "      <td>ALVO1</td>\n",
       "      <td>SIM</td>\n",
       "    </tr>\n",
       "    <tr>\n",
       "      <th>38</th>\n",
       "      <td>72</td>\n",
       "      <td>SCA</td>\n",
       "      <td>1792661.11</td>\n",
       "      <td>81.8</td>\n",
       "      <td>202204</td>\n",
       "      <td>1753628.4</td>\n",
       "      <td>1873649.8</td>\n",
       "      <td>ALVO1</td>\n",
       "      <td>SIM</td>\n",
       "    </tr>\n",
       "  </tbody>\n",
       "</table>\n",
       "</div>"
      ],
      "text/plain": [
       "    cod_loja sigla_loja  Venda_Total   nps  id_mes  target_sales_store_1  \\\n",
       "3         43        TAT   3116576.28  66.7  202204             3021009.3   \n",
       "5         12        JDI   5629601.58  68.6  202204             5201755.3   \n",
       "31        48        BRG   1595695.62  67.4  202204             1507591.6   \n",
       "38        72        SCA   1792661.11  81.8  202204             1753628.4   \n",
       "\n",
       "    target_sales_store_2   alvo NPS_alcancado  \n",
       "3              3188369.9  ALVO1           SIM  \n",
       "5              5417401.0  ALVO2           SIM  \n",
       "31             1625142.6  ALVO1           SIM  \n",
       "38             1873649.8  ALVO1           SIM  "
      ]
     },
     "execution_count": 60,
     "metadata": {},
     "output_type": "execute_result"
    }
   ],
   "source": [
    "# Obtendo somente as lojas elegíveis à premiação coletiva da Tina \n",
    "print('LOJAS ELEGÍVEIS À PREMIAÇÃO COLETIVA:')\n",
    "lojas_elegiveis = loja_nps_venda_alvo[\n",
    "    (loja_nps_venda_alvo['alvo'] != 'NAO') & \n",
    "    (loja_nps_venda_alvo['NPS_alcancado'] == 'SIM')\n",
    "    ].copy(deep=True)\n",
    "lojas_elegiveis"
   ]
  },
  {
   "cell_type": "code",
   "execution_count": 133,
   "metadata": {},
   "outputs": [],
   "source": [
    "# CRIANDO PLANILHA DE CHECAGEM PARA META DE NPS E VENDAS DAS LOJAS\n",
    "loja_nps_venda_alvo.to_excel(FILE_CHECAGEM_LOJAS, index=False)      "
   ]
  },
  {
   "cell_type": "code",
   "execution_count": 134,
   "metadata": {},
   "outputs": [
    {
     "data": {
      "text/plain": [
       "'C:/apuracao/TELHANORTE/2022/mai/ORIGINAIS/wr2w-run-get.xlsx'"
      ]
     },
     "execution_count": 134,
     "metadata": {},
     "output_type": "execute_result"
    }
   ],
   "source": [
    "import os\n",
    "# ARQUIVO DE ENTRADA: base de afastados do mês anterior\n",
    "for file in os.listdir(DIRETORIO_ENTRA):\n",
    "    if file.startswith('wr2w') & file.endswith('.xlsx'):\n",
    "        F_AFASTADOS=os.path.join(DIRETORIO_ENTRA, file)\n",
    "F_AFASTADOS # BASE DE AFASTAMENTOS DESDE O INÍCIO ATÉ O MÊS ANTERIOR"
   ]
  },
  {
   "cell_type": "code",
   "execution_count": 135,
   "metadata": {},
   "outputs": [
    {
     "name": "stdout",
     "output_type": "stream",
     "text": [
      "Lendo base de afastados no arquivo:\n",
      "C:/apuracao/TELHANORTE/2022/mai/ORIGINAIS/wr2w-run-get.xlsx\n"
     ]
    }
   ],
   "source": [
    "# Lendo base de afastados\n",
    "print(\"Lendo base de afastados no arquivo:\")\n",
    "print(F_AFASTADOS)\n",
    "base_afastados = pd.read_excel(F_AFASTADOS) # afastados="
   ]
  },
  {
   "cell_type": "code",
   "execution_count": 136,
   "metadata": {},
   "outputs": [
    {
     "name": "stdout",
     "output_type": "stream",
     "text": [
      "Index(['Empresa - Código', 'Estabelecimento - Código',\n",
      "       'Estabelecimento - Nome', 'Matrícula', 'Nome', 'Função - Nome',\n",
      "       'Centro de Resultado - Código', 'Centro de Resultado - Nome',\n",
      "       'Data da Admissão', 'Data Afastamento', 'Data Retorno', 'Motivo',\n",
      "       'Sigla do Motivo'],\n",
      "      dtype='object')\n"
     ]
    }
   ],
   "source": [
    "# Removendo espaços em branco do nome da coluna \n",
    "base_afastados.columns = base_afastados.columns.str.strip()\n",
    "print(base_afastados.columns)\n"
   ]
  },
  {
   "cell_type": "code",
   "execution_count": 137,
   "metadata": {},
   "outputs": [],
   "source": [
    "# ELIMINA ESPAÇOS EM BRANCO ANTES E DEPOIS DA DATA\n",
    "base_afastados['Data da Admissão']=base_afastados['Data da Admissão'].apply(\n",
    "    lambda x: x.strip()\n",
    "    )\n",
    "base_afastados['Data Afastamento']=base_afastados['Data Afastamento'].apply(\n",
    "    lambda x: x.strip()\n",
    "    )\n",
    "base_afastados['Data Retorno']=base_afastados['Data Retorno'].apply(\n",
    "    lambda x: x.strip()\n",
    "    )\n"
   ]
  },
  {
   "cell_type": "code",
   "execution_count": 138,
   "metadata": {},
   "outputs": [],
   "source": [
    "# PARÂMETROS NECESSÁRIOS DOS AFASTADOS\n",
    "PARAMETROS=[\n",
    "    'Empresa - Código', \n",
    "    'Estabelecimento - Código',\n",
    "    'Estabelecimento - Nome', \n",
    "    'Matrícula', \n",
    "    'Nome', \n",
    "    'Função - Nome',\n",
    "    'Centro de Resultado - Código', \n",
    "    'Centro de Resultado - Nome',\n",
    "    'Data da Admissão',\n",
    "    'Data Afastamento',\n",
    "    'Data Retorno',\n",
    "    'Motivo',\n",
    "]"
   ]
  },
  {
   "cell_type": "code",
   "execution_count": 139,
   "metadata": {},
   "outputs": [],
   "source": [
    "# Para renomear  os parâmetros da base de afastados\n",
    "RENOMEA={\n",
    "    'Empresa - Código': 'EMPRESA',\n",
    "    'Estabelecimento - Código': 'COD_LOJA', \n",
    "    'Estabelecimento - Nome': 'ESTABELECIMENTO', \n",
    "    'Matrícula':'MATRICULA', \n",
    "    'Nome':'NOME',\n",
    "    'Função - Nome': 'CARGO',\n",
    "    'Data da Admissão':'DATA_ADMISSAO', \n",
    "    'Data Afastamento':'DATA_AFASTAMENTO', \n",
    "    'Data Retorno':'DATA_RETORNO',   \n",
    "    'Tipo de Afastamento':'MOTIVO'\n",
    "    }\n",
    "\n",
    "# Renomeando as colunas da base de afastados com nome da direita pelo da esquerda\n",
    "afastados=base_afastados[PARAMETROS].rename(columns=RENOMEA)"
   ]
  },
  {
   "cell_type": "code",
   "execution_count": 140,
   "metadata": {},
   "outputs": [
    {
     "data": {
      "text/html": [
       "<div>\n",
       "<style scoped>\n",
       "    .dataframe tbody tr th:only-of-type {\n",
       "        vertical-align: middle;\n",
       "    }\n",
       "\n",
       "    .dataframe tbody tr th {\n",
       "        vertical-align: top;\n",
       "    }\n",
       "\n",
       "    .dataframe thead th {\n",
       "        text-align: right;\n",
       "    }\n",
       "</style>\n",
       "<table border=\"1\" class=\"dataframe\">\n",
       "  <thead>\n",
       "    <tr style=\"text-align: right;\">\n",
       "      <th></th>\n",
       "      <th>EMPRESA</th>\n",
       "      <th>COD_LOJA</th>\n",
       "      <th>ESTABELECIMENTO</th>\n",
       "      <th>MATRICULA</th>\n",
       "      <th>NOME</th>\n",
       "      <th>CARGO</th>\n",
       "      <th>Centro de Resultado - Código</th>\n",
       "      <th>Centro de Resultado - Nome</th>\n",
       "      <th>DATA_ADMISSAO</th>\n",
       "      <th>DATA_AFASTAMENTO</th>\n",
       "      <th>DATA_RETORNO</th>\n",
       "      <th>Motivo</th>\n",
       "    </tr>\n",
       "  </thead>\n",
       "  <tbody>\n",
       "    <tr>\n",
       "      <th>0</th>\n",
       "      <td>1</td>\n",
       "      <td>20</td>\n",
       "      <td>Saint-Gobain Distribuição Brasil Ltda - ARI</td>\n",
       "      <td>27</td>\n",
       "      <td>NILTON JESUS DOS SANTOS                       ...</td>\n",
       "      <td>Enc Depósito</td>\n",
       "      <td>244406</td>\n",
       "      <td>ARI - DEPOSITO LOJA</td>\n",
       "      <td>01/06/1991</td>\n",
       "      <td>10/01/2022</td>\n",
       "      <td>09/02/2022</td>\n",
       "      <td>Férias</td>\n",
       "    </tr>\n",
       "    <tr>\n",
       "      <th>1</th>\n",
       "      <td>1</td>\n",
       "      <td>20</td>\n",
       "      <td>Saint-Gobain Distribuição Brasil Ltda - ARI</td>\n",
       "      <td>27</td>\n",
       "      <td>NILTON JESUS DOS SANTOS                       ...</td>\n",
       "      <td>Enc Depósito</td>\n",
       "      <td>244406</td>\n",
       "      <td>ARI - DEPOSITO LOJA</td>\n",
       "      <td>01/06/1991</td>\n",
       "      <td>31/03/2021</td>\n",
       "      <td>04/04/2021</td>\n",
       "      <td>Atestado Médico</td>\n",
       "    </tr>\n",
       "    <tr>\n",
       "      <th>2</th>\n",
       "      <td>1</td>\n",
       "      <td>20</td>\n",
       "      <td>Saint-Gobain Distribuição Brasil Ltda - ARI</td>\n",
       "      <td>27</td>\n",
       "      <td>NILTON JESUS DOS SANTOS                       ...</td>\n",
       "      <td>Enc Depósito</td>\n",
       "      <td>244406</td>\n",
       "      <td>ARI - DEPOSITO LOJA</td>\n",
       "      <td>01/06/1991</td>\n",
       "      <td>17/03/2021</td>\n",
       "      <td>31/03/2021</td>\n",
       "      <td>Atestado Médico</td>\n",
       "    </tr>\n",
       "    <tr>\n",
       "      <th>3</th>\n",
       "      <td>1</td>\n",
       "      <td>20</td>\n",
       "      <td>Saint-Gobain Distribuição Brasil Ltda - ARI</td>\n",
       "      <td>27</td>\n",
       "      <td>NILTON JESUS DOS SANTOS                       ...</td>\n",
       "      <td>Enc Depósito</td>\n",
       "      <td>244406</td>\n",
       "      <td>ARI - DEPOSITO LOJA</td>\n",
       "      <td>01/06/1991</td>\n",
       "      <td>11/03/2021</td>\n",
       "      <td>17/03/2021</td>\n",
       "      <td>Atestado Médico</td>\n",
       "    </tr>\n",
       "    <tr>\n",
       "      <th>4</th>\n",
       "      <td>1</td>\n",
       "      <td>20</td>\n",
       "      <td>Saint-Gobain Distribuição Brasil Ltda - ARI</td>\n",
       "      <td>27</td>\n",
       "      <td>NILTON JESUS DOS SANTOS                       ...</td>\n",
       "      <td>Enc Depósito</td>\n",
       "      <td>244406</td>\n",
       "      <td>ARI - DEPOSITO LOJA</td>\n",
       "      <td>01/06/1991</td>\n",
       "      <td>11/01/2021</td>\n",
       "      <td>01/02/2021</td>\n",
       "      <td>Férias</td>\n",
       "    </tr>\n",
       "    <tr>\n",
       "      <th>...</th>\n",
       "      <td>...</td>\n",
       "      <td>...</td>\n",
       "      <td>...</td>\n",
       "      <td>...</td>\n",
       "      <td>...</td>\n",
       "      <td>...</td>\n",
       "      <td>...</td>\n",
       "      <td>...</td>\n",
       "      <td>...</td>\n",
       "      <td>...</td>\n",
       "      <td>...</td>\n",
       "      <td>...</td>\n",
       "    </tr>\n",
       "    <tr>\n",
       "      <th>22281</th>\n",
       "      <td>1</td>\n",
       "      <td>10</td>\n",
       "      <td>Saint-Gobain Distribuição Brasil Ltda - MGN</td>\n",
       "      <td>29815</td>\n",
       "      <td>KAROLINA BELMONTE VON DER HEYDE               ...</td>\n",
       "      <td>Ger Recursos Humanos</td>\n",
       "      <td>101555</td>\n",
       "      <td>DRH - REGIONAL RH</td>\n",
       "      <td>21/01/2015</td>\n",
       "      <td>14/05/2018</td>\n",
       "      <td>24/05/2018</td>\n",
       "      <td>Férias</td>\n",
       "    </tr>\n",
       "    <tr>\n",
       "      <th>22282</th>\n",
       "      <td>1</td>\n",
       "      <td>10</td>\n",
       "      <td>Saint-Gobain Distribuição Brasil Ltda - MGN</td>\n",
       "      <td>29815</td>\n",
       "      <td>KAROLINA BELMONTE VON DER HEYDE               ...</td>\n",
       "      <td>Ger Recursos Humanos</td>\n",
       "      <td>101555</td>\n",
       "      <td>DRH - REGIONAL RH</td>\n",
       "      <td>21/01/2015</td>\n",
       "      <td>28/08/2017</td>\n",
       "      <td>07/09/2017</td>\n",
       "      <td>Férias</td>\n",
       "    </tr>\n",
       "    <tr>\n",
       "      <th>22283</th>\n",
       "      <td>1</td>\n",
       "      <td>10</td>\n",
       "      <td>Saint-Gobain Distribuição Brasil Ltda - MGN</td>\n",
       "      <td>29815</td>\n",
       "      <td>KAROLINA BELMONTE VON DER HEYDE               ...</td>\n",
       "      <td>Ger Recursos Humanos</td>\n",
       "      <td>101555</td>\n",
       "      <td>DRH - REGIONAL RH</td>\n",
       "      <td>21/01/2015</td>\n",
       "      <td>13/03/2017</td>\n",
       "      <td>02/04/2017</td>\n",
       "      <td>Férias</td>\n",
       "    </tr>\n",
       "    <tr>\n",
       "      <th>22284</th>\n",
       "      <td>1</td>\n",
       "      <td>10</td>\n",
       "      <td>Saint-Gobain Distribuição Brasil Ltda - MGN</td>\n",
       "      <td>29815</td>\n",
       "      <td>KAROLINA BELMONTE VON DER HEYDE               ...</td>\n",
       "      <td>Ger Recursos Humanos</td>\n",
       "      <td>101555</td>\n",
       "      <td>DRH - REGIONAL RH</td>\n",
       "      <td>21/01/2015</td>\n",
       "      <td>25/07/2016</td>\n",
       "      <td>04/08/2016</td>\n",
       "      <td>Férias</td>\n",
       "    </tr>\n",
       "    <tr>\n",
       "      <th>22285</th>\n",
       "      <td>1</td>\n",
       "      <td>10</td>\n",
       "      <td>Saint-Gobain Distribuição Brasil Ltda - MGN</td>\n",
       "      <td>29815</td>\n",
       "      <td>KAROLINA BELMONTE VON DER HEYDE               ...</td>\n",
       "      <td>Ger Recursos Humanos</td>\n",
       "      <td>101555</td>\n",
       "      <td>DRH - REGIONAL RH</td>\n",
       "      <td>21/01/2015</td>\n",
       "      <td>14/03/2016</td>\n",
       "      <td>03/04/2016</td>\n",
       "      <td>Férias</td>\n",
       "    </tr>\n",
       "  </tbody>\n",
       "</table>\n",
       "<p>22286 rows × 12 columns</p>\n",
       "</div>"
      ],
      "text/plain": [
       "       EMPRESA  COD_LOJA                                 ESTABELECIMENTO  \\\n",
       "0            1        20  Saint-Gobain Distribuição Brasil Ltda - ARI      \n",
       "1            1        20  Saint-Gobain Distribuição Brasil Ltda - ARI      \n",
       "2            1        20  Saint-Gobain Distribuição Brasil Ltda - ARI      \n",
       "3            1        20  Saint-Gobain Distribuição Brasil Ltda - ARI      \n",
       "4            1        20  Saint-Gobain Distribuição Brasil Ltda - ARI      \n",
       "...        ...       ...                                             ...   \n",
       "22281        1        10  Saint-Gobain Distribuição Brasil Ltda - MGN      \n",
       "22282        1        10  Saint-Gobain Distribuição Brasil Ltda - MGN      \n",
       "22283        1        10  Saint-Gobain Distribuição Brasil Ltda - MGN      \n",
       "22284        1        10  Saint-Gobain Distribuição Brasil Ltda - MGN      \n",
       "22285        1        10  Saint-Gobain Distribuição Brasil Ltda - MGN      \n",
       "\n",
       "       MATRICULA                                               NOME  \\\n",
       "0             27  NILTON JESUS DOS SANTOS                       ...   \n",
       "1             27  NILTON JESUS DOS SANTOS                       ...   \n",
       "2             27  NILTON JESUS DOS SANTOS                       ...   \n",
       "3             27  NILTON JESUS DOS SANTOS                       ...   \n",
       "4             27  NILTON JESUS DOS SANTOS                       ...   \n",
       "...          ...                                                ...   \n",
       "22281      29815  KAROLINA BELMONTE VON DER HEYDE               ...   \n",
       "22282      29815  KAROLINA BELMONTE VON DER HEYDE               ...   \n",
       "22283      29815  KAROLINA BELMONTE VON DER HEYDE               ...   \n",
       "22284      29815  KAROLINA BELMONTE VON DER HEYDE               ...   \n",
       "22285      29815  KAROLINA BELMONTE VON DER HEYDE               ...   \n",
       "\n",
       "                                      CARGO  Centro de Resultado - Código  \\\n",
       "0      Enc Depósito                                                244406   \n",
       "1      Enc Depósito                                                244406   \n",
       "2      Enc Depósito                                                244406   \n",
       "3      Enc Depósito                                                244406   \n",
       "4      Enc Depósito                                                244406   \n",
       "...                                     ...                           ...   \n",
       "22281  Ger Recursos Humanos                                        101555   \n",
       "22282  Ger Recursos Humanos                                        101555   \n",
       "22283  Ger Recursos Humanos                                        101555   \n",
       "22284  Ger Recursos Humanos                                        101555   \n",
       "22285  Ger Recursos Humanos                                        101555   \n",
       "\n",
       "                 Centro de Resultado - Nome DATA_ADMISSAO DATA_AFASTAMENTO  \\\n",
       "0      ARI - DEPOSITO LOJA                     01/06/1991       10/01/2022   \n",
       "1      ARI - DEPOSITO LOJA                     01/06/1991       31/03/2021   \n",
       "2      ARI - DEPOSITO LOJA                     01/06/1991       17/03/2021   \n",
       "3      ARI - DEPOSITO LOJA                     01/06/1991       11/03/2021   \n",
       "4      ARI - DEPOSITO LOJA                     01/06/1991       11/01/2021   \n",
       "...                                     ...           ...              ...   \n",
       "22281  DRH - REGIONAL RH                       21/01/2015       14/05/2018   \n",
       "22282  DRH - REGIONAL RH                       21/01/2015       28/08/2017   \n",
       "22283  DRH - REGIONAL RH                       21/01/2015       13/03/2017   \n",
       "22284  DRH - REGIONAL RH                       21/01/2015       25/07/2016   \n",
       "22285  DRH - REGIONAL RH                       21/01/2015       14/03/2016   \n",
       "\n",
       "      DATA_RETORNO                                Motivo  \n",
       "0       09/02/2022  Férias                                \n",
       "1       04/04/2021  Atestado Médico                       \n",
       "2       31/03/2021  Atestado Médico                       \n",
       "3       17/03/2021  Atestado Médico                       \n",
       "4       01/02/2021  Férias                                \n",
       "...            ...                                   ...  \n",
       "22281   24/05/2018  Férias                                \n",
       "22282   07/09/2017  Férias                                \n",
       "22283   02/04/2017  Férias                                \n",
       "22284   04/08/2016  Férias                                \n",
       "22285   03/04/2016  Férias                                \n",
       "\n",
       "[22286 rows x 12 columns]"
      ]
     },
     "execution_count": 140,
     "metadata": {},
     "output_type": "execute_result"
    }
   ],
   "source": [
    "afastados"
   ]
  },
  {
   "cell_type": "code",
   "execution_count": 141,
   "metadata": {},
   "outputs": [
    {
     "data": {
      "text/html": [
       "<div>\n",
       "<style scoped>\n",
       "    .dataframe tbody tr th:only-of-type {\n",
       "        vertical-align: middle;\n",
       "    }\n",
       "\n",
       "    .dataframe tbody tr th {\n",
       "        vertical-align: top;\n",
       "    }\n",
       "\n",
       "    .dataframe thead th {\n",
       "        text-align: right;\n",
       "    }\n",
       "</style>\n",
       "<table border=\"1\" class=\"dataframe\">\n",
       "  <thead>\n",
       "    <tr style=\"text-align: right;\">\n",
       "      <th></th>\n",
       "      <th>EMPRESA</th>\n",
       "      <th>COD_LOJA</th>\n",
       "      <th>ESTABELECIMENTO</th>\n",
       "      <th>MATRICULA</th>\n",
       "      <th>NOME</th>\n",
       "      <th>CARGO</th>\n",
       "      <th>Centro de Resultado - Código</th>\n",
       "      <th>Centro de Resultado - Nome</th>\n",
       "      <th>DATA_ADMISSAO</th>\n",
       "      <th>DATA_AFASTAMENTO</th>\n",
       "      <th>DATA_RETORNO</th>\n",
       "      <th>Motivo</th>\n",
       "      <th>LOJA</th>\n",
       "    </tr>\n",
       "  </thead>\n",
       "  <tbody>\n",
       "    <tr>\n",
       "      <th>0</th>\n",
       "      <td>1</td>\n",
       "      <td>20</td>\n",
       "      <td>Saint-Gobain Distribuição Brasil Ltda - ARI</td>\n",
       "      <td>27</td>\n",
       "      <td>NILTON JESUS DOS SANTOS                       ...</td>\n",
       "      <td>Enc Depósito</td>\n",
       "      <td>244406</td>\n",
       "      <td>ARI - DEPOSITO LOJA</td>\n",
       "      <td>01/06/1991</td>\n",
       "      <td>10/01/2022</td>\n",
       "      <td>09/02/2022</td>\n",
       "      <td>Férias</td>\n",
       "      <td>ARI</td>\n",
       "    </tr>\n",
       "    <tr>\n",
       "      <th>1</th>\n",
       "      <td>1</td>\n",
       "      <td>20</td>\n",
       "      <td>Saint-Gobain Distribuição Brasil Ltda - ARI</td>\n",
       "      <td>27</td>\n",
       "      <td>NILTON JESUS DOS SANTOS                       ...</td>\n",
       "      <td>Enc Depósito</td>\n",
       "      <td>244406</td>\n",
       "      <td>ARI - DEPOSITO LOJA</td>\n",
       "      <td>01/06/1991</td>\n",
       "      <td>31/03/2021</td>\n",
       "      <td>04/04/2021</td>\n",
       "      <td>Atestado Médico</td>\n",
       "      <td>ARI</td>\n",
       "    </tr>\n",
       "    <tr>\n",
       "      <th>2</th>\n",
       "      <td>1</td>\n",
       "      <td>20</td>\n",
       "      <td>Saint-Gobain Distribuição Brasil Ltda - ARI</td>\n",
       "      <td>27</td>\n",
       "      <td>NILTON JESUS DOS SANTOS                       ...</td>\n",
       "      <td>Enc Depósito</td>\n",
       "      <td>244406</td>\n",
       "      <td>ARI - DEPOSITO LOJA</td>\n",
       "      <td>01/06/1991</td>\n",
       "      <td>17/03/2021</td>\n",
       "      <td>31/03/2021</td>\n",
       "      <td>Atestado Médico</td>\n",
       "      <td>ARI</td>\n",
       "    </tr>\n",
       "    <tr>\n",
       "      <th>3</th>\n",
       "      <td>1</td>\n",
       "      <td>20</td>\n",
       "      <td>Saint-Gobain Distribuição Brasil Ltda - ARI</td>\n",
       "      <td>27</td>\n",
       "      <td>NILTON JESUS DOS SANTOS                       ...</td>\n",
       "      <td>Enc Depósito</td>\n",
       "      <td>244406</td>\n",
       "      <td>ARI - DEPOSITO LOJA</td>\n",
       "      <td>01/06/1991</td>\n",
       "      <td>11/03/2021</td>\n",
       "      <td>17/03/2021</td>\n",
       "      <td>Atestado Médico</td>\n",
       "      <td>ARI</td>\n",
       "    </tr>\n",
       "    <tr>\n",
       "      <th>4</th>\n",
       "      <td>1</td>\n",
       "      <td>20</td>\n",
       "      <td>Saint-Gobain Distribuição Brasil Ltda - ARI</td>\n",
       "      <td>27</td>\n",
       "      <td>NILTON JESUS DOS SANTOS                       ...</td>\n",
       "      <td>Enc Depósito</td>\n",
       "      <td>244406</td>\n",
       "      <td>ARI - DEPOSITO LOJA</td>\n",
       "      <td>01/06/1991</td>\n",
       "      <td>11/01/2021</td>\n",
       "      <td>01/02/2021</td>\n",
       "      <td>Férias</td>\n",
       "      <td>ARI</td>\n",
       "    </tr>\n",
       "    <tr>\n",
       "      <th>...</th>\n",
       "      <td>...</td>\n",
       "      <td>...</td>\n",
       "      <td>...</td>\n",
       "      <td>...</td>\n",
       "      <td>...</td>\n",
       "      <td>...</td>\n",
       "      <td>...</td>\n",
       "      <td>...</td>\n",
       "      <td>...</td>\n",
       "      <td>...</td>\n",
       "      <td>...</td>\n",
       "      <td>...</td>\n",
       "      <td>...</td>\n",
       "    </tr>\n",
       "    <tr>\n",
       "      <th>22281</th>\n",
       "      <td>1</td>\n",
       "      <td>10</td>\n",
       "      <td>Saint-Gobain Distribuição Brasil Ltda - MGN</td>\n",
       "      <td>29815</td>\n",
       "      <td>KAROLINA BELMONTE VON DER HEYDE               ...</td>\n",
       "      <td>Ger Recursos Humanos</td>\n",
       "      <td>101555</td>\n",
       "      <td>DRH - REGIONAL RH</td>\n",
       "      <td>21/01/2015</td>\n",
       "      <td>14/05/2018</td>\n",
       "      <td>24/05/2018</td>\n",
       "      <td>Férias</td>\n",
       "      <td>MGN</td>\n",
       "    </tr>\n",
       "    <tr>\n",
       "      <th>22282</th>\n",
       "      <td>1</td>\n",
       "      <td>10</td>\n",
       "      <td>Saint-Gobain Distribuição Brasil Ltda - MGN</td>\n",
       "      <td>29815</td>\n",
       "      <td>KAROLINA BELMONTE VON DER HEYDE               ...</td>\n",
       "      <td>Ger Recursos Humanos</td>\n",
       "      <td>101555</td>\n",
       "      <td>DRH - REGIONAL RH</td>\n",
       "      <td>21/01/2015</td>\n",
       "      <td>28/08/2017</td>\n",
       "      <td>07/09/2017</td>\n",
       "      <td>Férias</td>\n",
       "      <td>MGN</td>\n",
       "    </tr>\n",
       "    <tr>\n",
       "      <th>22283</th>\n",
       "      <td>1</td>\n",
       "      <td>10</td>\n",
       "      <td>Saint-Gobain Distribuição Brasil Ltda - MGN</td>\n",
       "      <td>29815</td>\n",
       "      <td>KAROLINA BELMONTE VON DER HEYDE               ...</td>\n",
       "      <td>Ger Recursos Humanos</td>\n",
       "      <td>101555</td>\n",
       "      <td>DRH - REGIONAL RH</td>\n",
       "      <td>21/01/2015</td>\n",
       "      <td>13/03/2017</td>\n",
       "      <td>02/04/2017</td>\n",
       "      <td>Férias</td>\n",
       "      <td>MGN</td>\n",
       "    </tr>\n",
       "    <tr>\n",
       "      <th>22284</th>\n",
       "      <td>1</td>\n",
       "      <td>10</td>\n",
       "      <td>Saint-Gobain Distribuição Brasil Ltda - MGN</td>\n",
       "      <td>29815</td>\n",
       "      <td>KAROLINA BELMONTE VON DER HEYDE               ...</td>\n",
       "      <td>Ger Recursos Humanos</td>\n",
       "      <td>101555</td>\n",
       "      <td>DRH - REGIONAL RH</td>\n",
       "      <td>21/01/2015</td>\n",
       "      <td>25/07/2016</td>\n",
       "      <td>04/08/2016</td>\n",
       "      <td>Férias</td>\n",
       "      <td>MGN</td>\n",
       "    </tr>\n",
       "    <tr>\n",
       "      <th>22285</th>\n",
       "      <td>1</td>\n",
       "      <td>10</td>\n",
       "      <td>Saint-Gobain Distribuição Brasil Ltda - MGN</td>\n",
       "      <td>29815</td>\n",
       "      <td>KAROLINA BELMONTE VON DER HEYDE               ...</td>\n",
       "      <td>Ger Recursos Humanos</td>\n",
       "      <td>101555</td>\n",
       "      <td>DRH - REGIONAL RH</td>\n",
       "      <td>21/01/2015</td>\n",
       "      <td>14/03/2016</td>\n",
       "      <td>03/04/2016</td>\n",
       "      <td>Férias</td>\n",
       "      <td>MGN</td>\n",
       "    </tr>\n",
       "  </tbody>\n",
       "</table>\n",
       "<p>22286 rows × 13 columns</p>\n",
       "</div>"
      ],
      "text/plain": [
       "       EMPRESA  COD_LOJA                                 ESTABELECIMENTO  \\\n",
       "0            1        20  Saint-Gobain Distribuição Brasil Ltda - ARI      \n",
       "1            1        20  Saint-Gobain Distribuição Brasil Ltda - ARI      \n",
       "2            1        20  Saint-Gobain Distribuição Brasil Ltda - ARI      \n",
       "3            1        20  Saint-Gobain Distribuição Brasil Ltda - ARI      \n",
       "4            1        20  Saint-Gobain Distribuição Brasil Ltda - ARI      \n",
       "...        ...       ...                                             ...   \n",
       "22281        1        10  Saint-Gobain Distribuição Brasil Ltda - MGN      \n",
       "22282        1        10  Saint-Gobain Distribuição Brasil Ltda - MGN      \n",
       "22283        1        10  Saint-Gobain Distribuição Brasil Ltda - MGN      \n",
       "22284        1        10  Saint-Gobain Distribuição Brasil Ltda - MGN      \n",
       "22285        1        10  Saint-Gobain Distribuição Brasil Ltda - MGN      \n",
       "\n",
       "       MATRICULA                                               NOME  \\\n",
       "0             27  NILTON JESUS DOS SANTOS                       ...   \n",
       "1             27  NILTON JESUS DOS SANTOS                       ...   \n",
       "2             27  NILTON JESUS DOS SANTOS                       ...   \n",
       "3             27  NILTON JESUS DOS SANTOS                       ...   \n",
       "4             27  NILTON JESUS DOS SANTOS                       ...   \n",
       "...          ...                                                ...   \n",
       "22281      29815  KAROLINA BELMONTE VON DER HEYDE               ...   \n",
       "22282      29815  KAROLINA BELMONTE VON DER HEYDE               ...   \n",
       "22283      29815  KAROLINA BELMONTE VON DER HEYDE               ...   \n",
       "22284      29815  KAROLINA BELMONTE VON DER HEYDE               ...   \n",
       "22285      29815  KAROLINA BELMONTE VON DER HEYDE               ...   \n",
       "\n",
       "                                      CARGO  Centro de Resultado - Código  \\\n",
       "0      Enc Depósito                                                244406   \n",
       "1      Enc Depósito                                                244406   \n",
       "2      Enc Depósito                                                244406   \n",
       "3      Enc Depósito                                                244406   \n",
       "4      Enc Depósito                                                244406   \n",
       "...                                     ...                           ...   \n",
       "22281  Ger Recursos Humanos                                        101555   \n",
       "22282  Ger Recursos Humanos                                        101555   \n",
       "22283  Ger Recursos Humanos                                        101555   \n",
       "22284  Ger Recursos Humanos                                        101555   \n",
       "22285  Ger Recursos Humanos                                        101555   \n",
       "\n",
       "                 Centro de Resultado - Nome DATA_ADMISSAO DATA_AFASTAMENTO  \\\n",
       "0      ARI - DEPOSITO LOJA                     01/06/1991       10/01/2022   \n",
       "1      ARI - DEPOSITO LOJA                     01/06/1991       31/03/2021   \n",
       "2      ARI - DEPOSITO LOJA                     01/06/1991       17/03/2021   \n",
       "3      ARI - DEPOSITO LOJA                     01/06/1991       11/03/2021   \n",
       "4      ARI - DEPOSITO LOJA                     01/06/1991       11/01/2021   \n",
       "...                                     ...           ...              ...   \n",
       "22281  DRH - REGIONAL RH                       21/01/2015       14/05/2018   \n",
       "22282  DRH - REGIONAL RH                       21/01/2015       28/08/2017   \n",
       "22283  DRH - REGIONAL RH                       21/01/2015       13/03/2017   \n",
       "22284  DRH - REGIONAL RH                       21/01/2015       25/07/2016   \n",
       "22285  DRH - REGIONAL RH                       21/01/2015       14/03/2016   \n",
       "\n",
       "      DATA_RETORNO                                Motivo LOJA  \n",
       "0       09/02/2022  Férias                                ARI  \n",
       "1       04/04/2021  Atestado Médico                       ARI  \n",
       "2       31/03/2021  Atestado Médico                       ARI  \n",
       "3       17/03/2021  Atestado Médico                       ARI  \n",
       "4       01/02/2021  Férias                                ARI  \n",
       "...            ...                                   ...  ...  \n",
       "22281   24/05/2018  Férias                                MGN  \n",
       "22282   07/09/2017  Férias                                MGN  \n",
       "22283   02/04/2017  Férias                                MGN  \n",
       "22284   04/08/2016  Férias                                MGN  \n",
       "22285   03/04/2016  Férias                                MGN  \n",
       "\n",
       "[22286 rows x 13 columns]"
      ]
     },
     "execution_count": 141,
     "metadata": {},
     "output_type": "execute_result"
    }
   ],
   "source": [
    "afastados['LOJA']=afastados['ESTABELECIMENTO'].apply(\n",
    "    lambda x: x.strip()[-3:]\n",
    ")\n",
    "\n",
    "afastados"
   ]
  },
  {
   "cell_type": "code",
   "execution_count": 142,
   "metadata": {},
   "outputs": [
    {
     "data": {
      "text/html": [
       "<div>\n",
       "<style scoped>\n",
       "    .dataframe tbody tr th:only-of-type {\n",
       "        vertical-align: middle;\n",
       "    }\n",
       "\n",
       "    .dataframe tbody tr th {\n",
       "        vertical-align: top;\n",
       "    }\n",
       "\n",
       "    .dataframe thead th {\n",
       "        text-align: right;\n",
       "    }\n",
       "</style>\n",
       "<table border=\"1\" class=\"dataframe\">\n",
       "  <thead>\n",
       "    <tr style=\"text-align: right;\">\n",
       "      <th></th>\n",
       "      <th>id_unn</th>\n",
       "      <th>cod_loja</th>\n",
       "      <th>sigla_loja</th>\n",
       "      <th>safra</th>\n",
       "      <th>loja</th>\n",
       "      <th>Unnamed: 5</th>\n",
       "    </tr>\n",
       "  </thead>\n",
       "  <tbody>\n",
       "    <tr>\n",
       "      <th>0</th>\n",
       "      <td>1</td>\n",
       "      <td>19</td>\n",
       "      <td>IMI</td>\n",
       "      <td>1</td>\n",
       "      <td>IMIGRANTES</td>\n",
       "      <td>NaN</td>\n",
       "    </tr>\n",
       "    <tr>\n",
       "      <th>1</th>\n",
       "      <td>1</td>\n",
       "      <td>25</td>\n",
       "      <td>ZNO</td>\n",
       "      <td>1</td>\n",
       "      <td>ZONA NORTE</td>\n",
       "      <td>NaN</td>\n",
       "    </tr>\n",
       "    <tr>\n",
       "      <th>2</th>\n",
       "      <td>1</td>\n",
       "      <td>28</td>\n",
       "      <td>SOR</td>\n",
       "      <td>1</td>\n",
       "      <td>SOROCABA</td>\n",
       "      <td>NaN</td>\n",
       "    </tr>\n",
       "    <tr>\n",
       "      <th>3</th>\n",
       "      <td>1</td>\n",
       "      <td>43</td>\n",
       "      <td>TAT</td>\n",
       "      <td>1</td>\n",
       "      <td>TATUAPÉ</td>\n",
       "      <td>NaN</td>\n",
       "    </tr>\n",
       "    <tr>\n",
       "      <th>4</th>\n",
       "      <td>1</td>\n",
       "      <td>8</td>\n",
       "      <td>PGD</td>\n",
       "      <td>2</td>\n",
       "      <td>PRAIA GRANDE</td>\n",
       "      <td>NaN</td>\n",
       "    </tr>\n",
       "    <tr>\n",
       "      <th>5</th>\n",
       "      <td>1</td>\n",
       "      <td>12</td>\n",
       "      <td>JDI</td>\n",
       "      <td>2</td>\n",
       "      <td>JUNDIAÍ</td>\n",
       "      <td>NaN</td>\n",
       "    </tr>\n",
       "    <tr>\n",
       "      <th>6</th>\n",
       "      <td>1</td>\n",
       "      <td>27</td>\n",
       "      <td>OSA</td>\n",
       "      <td>2</td>\n",
       "      <td>OSASCO</td>\n",
       "      <td>NaN</td>\n",
       "    </tr>\n",
       "    <tr>\n",
       "      <th>7</th>\n",
       "      <td>1</td>\n",
       "      <td>31</td>\n",
       "      <td>BEL</td>\n",
       "      <td>2</td>\n",
       "      <td>BELVEDERE</td>\n",
       "      <td>NaN</td>\n",
       "    </tr>\n",
       "    <tr>\n",
       "      <th>8</th>\n",
       "      <td>1</td>\n",
       "      <td>38</td>\n",
       "      <td>DPE</td>\n",
       "      <td>2</td>\n",
       "      <td>DOM PEDRO</td>\n",
       "      <td>NaN</td>\n",
       "    </tr>\n",
       "    <tr>\n",
       "      <th>9</th>\n",
       "      <td>1</td>\n",
       "      <td>40</td>\n",
       "      <td>TAM</td>\n",
       "      <td>2</td>\n",
       "      <td>TAMBORÉ</td>\n",
       "      <td>NaN</td>\n",
       "    </tr>\n",
       "    <tr>\n",
       "      <th>10</th>\n",
       "      <td>1</td>\n",
       "      <td>54</td>\n",
       "      <td>MGA</td>\n",
       "      <td>2</td>\n",
       "      <td>MARINGÁ</td>\n",
       "      <td>NaN</td>\n",
       "    </tr>\n",
       "    <tr>\n",
       "      <th>11</th>\n",
       "      <td>1</td>\n",
       "      <td>57</td>\n",
       "      <td>ARP</td>\n",
       "      <td>2</td>\n",
       "      <td>ARICANDUVA 2</td>\n",
       "      <td>NaN</td>\n",
       "    </tr>\n",
       "    <tr>\n",
       "      <th>12</th>\n",
       "      <td>1</td>\n",
       "      <td>70</td>\n",
       "      <td>WHL</td>\n",
       "      <td>2</td>\n",
       "      <td>W. LUIS</td>\n",
       "      <td>NaN</td>\n",
       "    </tr>\n",
       "    <tr>\n",
       "      <th>13</th>\n",
       "      <td>1</td>\n",
       "      <td>71</td>\n",
       "      <td>RDV</td>\n",
       "      <td>2</td>\n",
       "      <td>RODA VIVA</td>\n",
       "      <td>NaN</td>\n",
       "    </tr>\n",
       "    <tr>\n",
       "      <th>14</th>\n",
       "      <td>1</td>\n",
       "      <td>73</td>\n",
       "      <td>TBT</td>\n",
       "      <td>2</td>\n",
       "      <td>TAUBATÉ</td>\n",
       "      <td>NaN</td>\n",
       "    </tr>\n",
       "    <tr>\n",
       "      <th>15</th>\n",
       "      <td>1</td>\n",
       "      <td>74</td>\n",
       "      <td>RPT</td>\n",
       "      <td>2</td>\n",
       "      <td>RIBEIRÃO PRETO</td>\n",
       "      <td>NaN</td>\n",
       "    </tr>\n",
       "    <tr>\n",
       "      <th>16</th>\n",
       "      <td>1</td>\n",
       "      <td>75</td>\n",
       "      <td>AMZ</td>\n",
       "      <td>2</td>\n",
       "      <td>AMAZONAS</td>\n",
       "      <td>NaN</td>\n",
       "    </tr>\n",
       "    <tr>\n",
       "      <th>17</th>\n",
       "      <td>1</td>\n",
       "      <td>1</td>\n",
       "      <td>ANH</td>\n",
       "      <td>3</td>\n",
       "      <td>ANHANGUERA</td>\n",
       "      <td>NaN</td>\n",
       "    </tr>\n",
       "    <tr>\n",
       "      <th>18</th>\n",
       "      <td>1</td>\n",
       "      <td>3</td>\n",
       "      <td>MGN</td>\n",
       "      <td>3</td>\n",
       "      <td>MARGINAL</td>\n",
       "      <td>NaN</td>\n",
       "    </tr>\n",
       "    <tr>\n",
       "      <th>19</th>\n",
       "      <td>1</td>\n",
       "      <td>9</td>\n",
       "      <td>SA1</td>\n",
       "      <td>3</td>\n",
       "      <td>SANTO ANDRÉ 1</td>\n",
       "      <td>NaN</td>\n",
       "    </tr>\n",
       "    <tr>\n",
       "      <th>20</th>\n",
       "      <td>1</td>\n",
       "      <td>22</td>\n",
       "      <td>TAB</td>\n",
       "      <td>3</td>\n",
       "      <td>TABOÃO</td>\n",
       "      <td>NaN</td>\n",
       "    </tr>\n",
       "    <tr>\n",
       "      <th>21</th>\n",
       "      <td>1</td>\n",
       "      <td>23</td>\n",
       "      <td>PMG</td>\n",
       "      <td>3</td>\n",
       "      <td>PRO-MARGINAL</td>\n",
       "      <td>NaN</td>\n",
       "    </tr>\n",
       "    <tr>\n",
       "      <th>22</th>\n",
       "      <td>1</td>\n",
       "      <td>24</td>\n",
       "      <td>ARI</td>\n",
       "      <td>3</td>\n",
       "      <td>ARICANDUVA 1</td>\n",
       "      <td>NaN</td>\n",
       "    </tr>\n",
       "    <tr>\n",
       "      <th>23</th>\n",
       "      <td>1</td>\n",
       "      <td>26</td>\n",
       "      <td>SJC</td>\n",
       "      <td>3</td>\n",
       "      <td>SÃO JOSÉ DOS CAMPOS</td>\n",
       "      <td>NaN</td>\n",
       "    </tr>\n",
       "    <tr>\n",
       "      <th>24</th>\n",
       "      <td>1</td>\n",
       "      <td>29</td>\n",
       "      <td>PAR</td>\n",
       "      <td>3</td>\n",
       "      <td>PRO-ARICANDUVA</td>\n",
       "      <td>NaN</td>\n",
       "    </tr>\n",
       "    <tr>\n",
       "      <th>25</th>\n",
       "      <td>1</td>\n",
       "      <td>30</td>\n",
       "      <td>MOR</td>\n",
       "      <td>3</td>\n",
       "      <td>MORUMBI</td>\n",
       "      <td>NaN</td>\n",
       "    </tr>\n",
       "    <tr>\n",
       "      <th>26</th>\n",
       "      <td>1</td>\n",
       "      <td>32</td>\n",
       "      <td>GRU</td>\n",
       "      <td>3</td>\n",
       "      <td>GUARULHOS</td>\n",
       "      <td>NaN</td>\n",
       "    </tr>\n",
       "    <tr>\n",
       "      <th>27</th>\n",
       "      <td>1</td>\n",
       "      <td>34</td>\n",
       "      <td>PAM</td>\n",
       "      <td>3</td>\n",
       "      <td>PAMPULHA</td>\n",
       "      <td>NaN</td>\n",
       "    </tr>\n",
       "    <tr>\n",
       "      <th>28</th>\n",
       "      <td>1</td>\n",
       "      <td>36</td>\n",
       "      <td>CTG</td>\n",
       "      <td>3</td>\n",
       "      <td>CONTAGEM</td>\n",
       "      <td>NaN</td>\n",
       "    </tr>\n",
       "    <tr>\n",
       "      <th>29</th>\n",
       "      <td>1</td>\n",
       "      <td>37</td>\n",
       "      <td>PIR</td>\n",
       "      <td>3</td>\n",
       "      <td>PIRACICABA</td>\n",
       "      <td>NaN</td>\n",
       "    </tr>\n",
       "    <tr>\n",
       "      <th>30</th>\n",
       "      <td>1</td>\n",
       "      <td>39</td>\n",
       "      <td>UBE</td>\n",
       "      <td>3</td>\n",
       "      <td>UBERLÂNDIA</td>\n",
       "      <td>NaN</td>\n",
       "    </tr>\n",
       "    <tr>\n",
       "      <th>31</th>\n",
       "      <td>1</td>\n",
       "      <td>48</td>\n",
       "      <td>BRG</td>\n",
       "      <td>3</td>\n",
       "      <td>BRAGANÇA</td>\n",
       "      <td>NaN</td>\n",
       "    </tr>\n",
       "    <tr>\n",
       "      <th>32</th>\n",
       "      <td>1</td>\n",
       "      <td>51</td>\n",
       "      <td>TIR</td>\n",
       "      <td>3</td>\n",
       "      <td>TIRADENTES</td>\n",
       "      <td>NaN</td>\n",
       "    </tr>\n",
       "    <tr>\n",
       "      <th>33</th>\n",
       "      <td>1</td>\n",
       "      <td>52</td>\n",
       "      <td>CAT</td>\n",
       "      <td>3</td>\n",
       "      <td>CATUAI</td>\n",
       "      <td>NaN</td>\n",
       "    </tr>\n",
       "    <tr>\n",
       "      <th>34</th>\n",
       "      <td>1</td>\n",
       "      <td>55</td>\n",
       "      <td>PRU</td>\n",
       "      <td>3</td>\n",
       "      <td>PRESIDENTE PRUDENTE</td>\n",
       "      <td>NaN</td>\n",
       "    </tr>\n",
       "    <tr>\n",
       "      <th>35</th>\n",
       "      <td>1</td>\n",
       "      <td>56</td>\n",
       "      <td>CLI</td>\n",
       "      <td>3</td>\n",
       "      <td>CAMPO LIMPO</td>\n",
       "      <td>NaN</td>\n",
       "    </tr>\n",
       "    <tr>\n",
       "      <th>36</th>\n",
       "      <td>1</td>\n",
       "      <td>64</td>\n",
       "      <td>SAN</td>\n",
       "      <td>3</td>\n",
       "      <td>SANTOS</td>\n",
       "      <td>NaN</td>\n",
       "    </tr>\n",
       "    <tr>\n",
       "      <th>37</th>\n",
       "      <td>1</td>\n",
       "      <td>66</td>\n",
       "      <td>RAP</td>\n",
       "      <td>3</td>\n",
       "      <td>RAPOSO</td>\n",
       "      <td>NaN</td>\n",
       "    </tr>\n",
       "    <tr>\n",
       "      <th>38</th>\n",
       "      <td>1</td>\n",
       "      <td>72</td>\n",
       "      <td>SCA</td>\n",
       "      <td>3</td>\n",
       "      <td>SÃO CARLOS</td>\n",
       "      <td>NaN</td>\n",
       "    </tr>\n",
       "  </tbody>\n",
       "</table>\n",
       "</div>"
      ],
      "text/plain": [
       "    id_unn  cod_loja sigla_loja  safra                 loja Unnamed: 5\n",
       "0        1        19        IMI      1           IMIGRANTES        NaN\n",
       "1        1        25        ZNO      1           ZONA NORTE        NaN\n",
       "2        1        28        SOR      1             SOROCABA        NaN\n",
       "3        1        43        TAT      1              TATUAPÉ        NaN\n",
       "4        1         8        PGD      2         PRAIA GRANDE        NaN\n",
       "5        1        12        JDI      2              JUNDIAÍ        NaN\n",
       "6        1        27        OSA      2               OSASCO        NaN\n",
       "7        1        31        BEL      2            BELVEDERE        NaN\n",
       "8        1        38        DPE      2            DOM PEDRO        NaN\n",
       "9        1        40        TAM      2              TAMBORÉ        NaN\n",
       "10       1        54        MGA      2              MARINGÁ        NaN\n",
       "11       1        57        ARP      2         ARICANDUVA 2        NaN\n",
       "12       1        70        WHL      2              W. LUIS        NaN\n",
       "13       1        71        RDV      2            RODA VIVA        NaN\n",
       "14       1        73        TBT      2              TAUBATÉ        NaN\n",
       "15       1        74        RPT      2       RIBEIRÃO PRETO        NaN\n",
       "16       1        75        AMZ      2             AMAZONAS        NaN\n",
       "17       1         1        ANH      3           ANHANGUERA        NaN\n",
       "18       1         3        MGN      3             MARGINAL        NaN\n",
       "19       1         9        SA1      3        SANTO ANDRÉ 1        NaN\n",
       "20       1        22        TAB      3              TABOÃO        NaN\n",
       "21       1        23        PMG      3         PRO-MARGINAL        NaN\n",
       "22       1        24        ARI      3         ARICANDUVA 1        NaN\n",
       "23       1        26        SJC      3  SÃO JOSÉ DOS CAMPOS        NaN\n",
       "24       1        29        PAR      3       PRO-ARICANDUVA        NaN\n",
       "25       1        30        MOR      3              MORUMBI        NaN\n",
       "26       1        32        GRU      3            GUARULHOS        NaN\n",
       "27       1        34        PAM      3             PAMPULHA        NaN\n",
       "28       1        36        CTG      3             CONTAGEM        NaN\n",
       "29       1        37        PIR      3           PIRACICABA        NaN\n",
       "30       1        39        UBE      3           UBERLÂNDIA        NaN\n",
       "31       1        48        BRG      3             BRAGANÇA        NaN\n",
       "32       1        51        TIR      3           TIRADENTES        NaN\n",
       "33       1        52        CAT      3               CATUAI        NaN\n",
       "34       1        55        PRU      3  PRESIDENTE PRUDENTE        NaN\n",
       "35       1        56        CLI      3          CAMPO LIMPO        NaN\n",
       "36       1        64        SAN      3               SANTOS        NaN\n",
       "37       1        66        RAP      3               RAPOSO        NaN\n",
       "38       1        72        SCA      3           SÃO CARLOS        NaN"
      ]
     },
     "execution_count": 142,
     "metadata": {},
     "output_type": "execute_result"
    }
   ],
   "source": [
    "lojas_tina"
   ]
  },
  {
   "cell_type": "code",
   "execution_count": 143,
   "metadata": {},
   "outputs": [],
   "source": [
    "afastados=afastados[afastados['LOJA'].isin(lojas_tina['sigla_loja'])].copy(deep=True)"
   ]
  },
  {
   "cell_type": "code",
   "execution_count": 144,
   "metadata": {},
   "outputs": [
    {
     "data": {
      "text/plain": [
       "39"
      ]
     },
     "execution_count": 144,
     "metadata": {},
     "output_type": "execute_result"
    }
   ],
   "source": [
    "len(afastados['LOJA'].unique())"
   ]
  },
  {
   "cell_type": "code",
   "execution_count": 145,
   "metadata": {},
   "outputs": [],
   "source": [
    "afastados['DATA_ADMISSAO']=pd.to_datetime(afastados['DATA_ADMISSAO'], format=\"%d/%m/%Y\")\n"
   ]
  },
  {
   "cell_type": "code",
   "execution_count": 146,
   "metadata": {},
   "outputs": [],
   "source": [
    "afastados['DATA_AFASTAMENTO']=pd.to_datetime(afastados['DATA_AFASTAMENTO'], format=\"%d/%m/%Y\")\n"
   ]
  },
  {
   "cell_type": "code",
   "execution_count": 147,
   "metadata": {},
   "outputs": [],
   "source": [
    "afastados['DATA_RETORNO']=np.where(afastados['DATA_RETORNO']=='', np.nan,afastados['DATA_RETORNO'])\n",
    "afastados['DATA_RETORNO']=pd.to_datetime(afastados['DATA_RETORNO'], format=\"%d/%m/%Y\")"
   ]
  },
  {
   "cell_type": "code",
   "execution_count": 148,
   "metadata": {},
   "outputs": [],
   "source": [
    "#  Função para calcular os dias ADMITIDOS dentro do período apurado\n",
    "def admitidos_no_mes(data_admissao):\n",
    "    global DATA_I, DATA_F\n",
    "    if data_admissao > DATA_F:\n",
    "        dias_admitidos = 0\n",
    "    elif data_admissao <= DATA_I :\n",
    "        dias_admitidos=DATA_F.day\n",
    "    else:\n",
    "        dias_admitidos=(DATA_F-data_admissao).days+1\n",
    "    return dias_admitidos\n"
   ]
  },
  {
   "cell_type": "code",
   "execution_count": 149,
   "metadata": {},
   "outputs": [],
   "source": [
    "# CALCULANDO QUANTOS DIAS O FUNCIONÁRIO ESTÁ ADMITIDO NO MÊS DA APURAÇÃO\n",
    "afastados['DIAS_ADMITIDOS']=afastados['DATA_ADMISSAO'].apply(\n",
    "    lambda x: admitidos_no_mes(x)\n",
    "    ).copy()"
   ]
  },
  {
   "cell_type": "code",
   "execution_count": 150,
   "metadata": {},
   "outputs": [],
   "source": [
    "# INCLUINDO INFORMAÇÃO SE O COLABORADOR ESTÁ ADMITIDO HÁ MAIS DE 15 DIAS DO PERÍODO DE APURAÇÃO\n",
    "afastados['MAIS_DE15DIAS_ADMITIDOS']=np.where(afastados['DIAS_ADMITIDOS']>=MEIO_MES,\"SIM\", \"NAO\")"
   ]
  },
  {
   "cell_type": "code",
   "execution_count": 151,
   "metadata": {},
   "outputs": [
    {
     "data": {
      "text/plain": [
       "array(['Enc Depósito', 'Ger Geral I', 'Vendedor(a) Televendas',\n",
       "       'Anl Contábil Pl', 'Vendedor(a)', 'Coord Categoria',\n",
       "       'Ger Operacional II', 'Ass Manut Serv Gerais', 'Ger Geral II',\n",
       "       'Assessor de Operações I', 'Anl Financeiro Jr', 'Ass Fiscal Sr',\n",
       "       'COMPRADOR ADM PL', 'Assessor de Operações II', 'Ass Financeiro',\n",
       "       'Ass Recebimento', 'Enc de Caixa', 'Ass Departamento Pessoal',\n",
       "       'Anl Financeiro Pl', 'Sup Operacional',\n",
       "       'COORD TECNOLOGIA DA INFORMACAO', 'Dir Vendas e Operações',\n",
       "       'Ger de Vendas I', 'ASSESSOR DE LOJA', 'Lider de Caixa',\n",
       "       'Repositor(a)', 'Oficial Manutenção Eletricista', 'Conferente',\n",
       "       'Ass Financeiro Sr', 'Enc Manutenção', 'Operador Empilhadeira',\n",
       "       'Anl Funcional SAP PL', 'Gerente de Preços', 'Aux Manutenção',\n",
       "       'Enc de Produto', 'Ass Recursos Humanos', 'Ger de Informática',\n",
       "       'Sup de Vendas', 'Ass Serviços ao Cliente', 'Ger Regional I',\n",
       "       'Ger Categorias', 'Anl Infraestrut Pl', 'Anl Funcional SAP Sr',\n",
       "       'Anl Abastecimento Pl', 'Anl Mídias Sociais Jr',\n",
       "       'GERENTE COMERCIAL', 'GER REGIONAL', 'Ass de Expedição',\n",
       "       'Sup de Produto', 'Ass Recebimento Fiscal',\n",
       "       'Técnico Seguranca Trabalho Sr', 'Vendedor(a) Especialista',\n",
       "       'Anl Gestão Compras Pl', 'Ass Prevenção de Perdas',\n",
       "       'Anl Abastecimento Sr', 'Ger Operacional I',\n",
       "       'GERENTE DE RELACIONAMENTO E PRODUTO', 'Ger Geral III',\n",
       "       'Ger de Produto II', 'Coord de Serviços', 'Coord de EHS',\n",
       "       'Gerente Adm Financeiro', 'Médico do Trabalho',\n",
       "       'ANL RH REGIONAL PL', 'SUP DE RECURSOS HUMANOS',\n",
       "       'ENC DE OPERACOES', 'Anl Fiscal Pl',\n",
       "       'COORDENADOR PREVENCAO PERDAS', 'Anl Recebimento Fiscal Jr',\n",
       "       'Ger de Vendas II', 'Operador(a) Caixa', 'Anl Recursos Humanos Jr',\n",
       "       'Enc CTN', 'Supervisor Financeiro',\n",
       "       'SUP CARTOES E SERV FINANCEIROS', 'Ger Recursos Humanos',\n",
       "       'Sup de Televendas', 'Ass Administrativo', 'ANL RH REGIONAL SR',\n",
       "       'Coord Fiscal', 'Anl Fiscal Jr', 'COORD CARTOES SERV FINANCEIROS',\n",
       "       'Ger Regional II', 'Enc Prevenção de Perda',\n",
       "       'Anl de Importação Sr', 'Sup Administrativo',\n",
       "       'Ger de Infraestrutura', 'GER CANAIS DIGITAIS',\n",
       "       'Vendedor(a) Especialista Lider', 'Ger. Qualidade e EHS',\n",
       "       'COORD PREV E GESTAO DE FRAUDE', 'Dir de Marketing',\n",
       "       'Anl Recursos Humanos Pl', 'Anl Contábil Sr',\n",
       "       'Ger Desenvolv. Organizacional', 'Assist Controle Gestão Oper',\n",
       "       'Técnico de Edificações Sr', 'Enc Serviços ao Cliente',\n",
       "       'Ger Compras e Importação', 'Especialista de Preço',\n",
       "       'Ger de Prevencao de Perdas', 'Ger Compras Adm',\n",
       "       'Anl Serv Merchandising Pl', 'GER GERAL SR',\n",
       "       'COORD INTELIGENCIA MERCADO', 'Ger Gestão Categorias',\n",
       "       'Anl Prevenção Perdas Pl', 'Coord Controle Interno',\n",
       "       'ENC SEGURANCA PATRIMONIAL', 'GER REMUNERACAO E BENEFICIOS',\n",
       "       'SECRETARIA DIRETORIA', 'Sup Caixa', 'Anl Gestão Compras Jr',\n",
       "       'Ass Depósito', 'Anl de Logística Jr', 'Dir Adm Financeiro',\n",
       "       'Ger Televendas', 'Oficial Manutenção', 'Ger de Vendas III',\n",
       "       'ASSIST RELACOES TRABALHISTAS', 'Coordenador de Merchandising',\n",
       "       'Dir. Expansão e Novos Negócios', 'Enc SAC',\n",
       "       'Coord Comunicação Interna', 'Diretor de Informatica',\n",
       "       'Ger Novos Negocios', 'COORD EXPANSAO',\n",
       "       'Anl Relacionamento e Operações', 'Gerente Projetos Operações',\n",
       "       'Ger de Controladoria', 'Gerente de Omnicanalidade',\n",
       "       'Anl Infraestrut Sr', 'Coord Financeiro(a)', 'COORD DE PROCESSOS',\n",
       "       'Anl Financeiro Sr', 'ASS ADM TELEVENDAS',\n",
       "       'Coord Recursos Humanos', 'COORDENADOR DE BI',\n",
       "       'Coordenador Compras', 'DESIGNER PROJETISTA',\n",
       "       'Dir Recursos Humanos', 'ANALISTA DE BI SR', 'Coord DHO',\n",
       "       'Ass Compras e Cadastro', 'Analista de Preços',\n",
       "       'COORD. MARKETING DE ATIVAÇÃO', 'Anl de Marketing Sr',\n",
       "       'DIRETOR COMERCIAL', 'SECRETARIA', 'Técnico de Edificações',\n",
       "       'Ass Fiscal Pl', 'Esp Remuneração e Benefícios', 'Comprador',\n",
       "       'Anl Infraestrut Jr', 'Coord Recrutamento e Seleção',\n",
       "       'Coord de Engenharia', 'GERENTE LOGISTICA', 'Atendente de Loja',\n",
       "       'Gerente Operacional', 'ASSESSOR DE OPERACOES',\n",
       "       'COORDENADOR CONTABIL', 'GER PROD E SERV FINANCEIROS',\n",
       "       'Coord de Treinamento', 'Sup deProduto I',\n",
       "       'Ass Logistico Televenda', 'Supervisor Fiscal',\n",
       "       'GER DESENV DE SISTEMAS', 'Ger de Produto I', 'Coord de Marketing',\n",
       "       'ESP DE SEGURANCA DE DADOS', 'Dir de Logística',\n",
       "       'ANL MARKETING DE ATIVACAO JR', 'Técnico Projetista',\n",
       "       'Anl Merchandising Sr', 'ESP DE CONTROLE E GESTAO',\n",
       "       'ASS INFRAESTRUTURA', 'COORD COMUNICACAO', 'Ger Marketing',\n",
       "       'Ass Compras', 'COORDENADOR DE PROJETOS', 'Coord  Abastecimento',\n",
       "       'Ass Cadastro Jr', 'Estagiário(a)', 'Analista de Preço Jr',\n",
       "       'Técnico Seguranca Trabalho Pl', 'Trainee',\n",
       "       'Coord Compras Administrativas', 'GERENTE REGIONAL',\n",
       "       'Ger Contr de Gest Operacional', 'Ass Serviço ao Cliente',\n",
       "       'Analista de Projetos Sr'], dtype=object)"
      ]
     },
     "execution_count": 151,
     "metadata": {},
     "output_type": "execute_result"
    }
   ],
   "source": [
    "# Elimina espaços em branco dos CARGOs dos funcionários \n",
    "afastados['CARGO']=afastados['CARGO'].apply(\n",
    "    lambda x: x.strip()\n",
    ")\n",
    "# CHECAGEM\n",
    "afastados['CARGO'].unique()"
   ]
  },
  {
   "cell_type": "code",
   "execution_count": 152,
   "metadata": {},
   "outputs": [],
   "source": [
    "#  Função para calcular os dias de afastamento dentro do período apurado\n",
    "def afastamento_do_mes(data_afastamento, data_retorno):\n",
    "    global DATA_I, DATA_F\n",
    "    if data_afastamento < DATA_I and data_retorno < DATA_I:\n",
    "        dias_afastados=0\n",
    "    elif data_afastamento >= DATA_I and data_retorno <= DATA_F:\n",
    "        dias_afastados=(data_retorno-data_afastamento).days\n",
    "    elif (data_afastamento < DATA_I or pd.isnull(data_afastamento))  and data_retorno <= DATA_F:\n",
    "        dias_afastados=(data_retorno-DATA_I).days\n",
    "    elif data_afastamento >= DATA_I and (data_retorno > DATA_F or pd.isnull(data_retorno)):\n",
    "        dias_afastados=(DATA_F-data_afastamento).days+1\n",
    "    elif (data_afastamento < DATA_I or pd.isnull(data_afastamento)) and (data_retorno > DATA_F or pd.isnull(data_retorno)):\n",
    "        dias_afastados=(DATA_F.day)\n",
    "    elif (data_afastamento < DATA_I or pd.isnull(data_afastamento)) and (data_retorno < DATA_I):\n",
    "        dias_afastados=(DATA_F.day-DATA_F.day)\n",
    "    else:\n",
    "        print(\"ERRO\")\n",
    "        dias_afastados=0\n",
    "\n",
    "    return dias_afastados"
   ]
  },
  {
   "cell_type": "code",
   "execution_count": 153,
   "metadata": {},
   "outputs": [],
   "source": [
    "# Contando os dias de afastamento para cada período de afastamento considerando o período de apuração\n",
    "afastados['dias_afastados']=afastados.apply(\n",
    "    lambda x: afastamento_do_mes(x['DATA_AFASTAMENTO'],x['DATA_RETORNO']), axis=1)"
   ]
  },
  {
   "cell_type": "code",
   "execution_count": 154,
   "metadata": {},
   "outputs": [],
   "source": [
    "# CHECAGEM\n",
    "afastados[\n",
    "    (afastados['DATA_RETORNO']>=DATA_I) # & \n",
    "#    (afastados['DATA_ADMISSAO']<=DATA_I)\n",
    "    ].to_excel(FILE_CHECAGEM_AFASTADOS, index=False)      "
   ]
  },
  {
   "cell_type": "code",
   "execution_count": 155,
   "metadata": {},
   "outputs": [],
   "source": [
    "# SOMANDO OS DIAS AFASTADOS POR MATRÍCULA\n",
    "dias_afastados_por_matricula=afastados.groupby(\n",
    "    ['EMPRESA', 'LOJA','MATRICULA', 'NOME']\n",
    "    )['dias_afastados'].sum().reset_index(name='dias_afastados_totais')\n"
   ]
  },
  {
   "cell_type": "code",
   "execution_count": 156,
   "metadata": {},
   "outputs": [
    {
     "data": {
      "text/html": [
       "<div>\n",
       "<style scoped>\n",
       "    .dataframe tbody tr th:only-of-type {\n",
       "        vertical-align: middle;\n",
       "    }\n",
       "\n",
       "    .dataframe tbody tr th {\n",
       "        vertical-align: top;\n",
       "    }\n",
       "\n",
       "    .dataframe thead th {\n",
       "        text-align: right;\n",
       "    }\n",
       "</style>\n",
       "<table border=\"1\" class=\"dataframe\">\n",
       "  <thead>\n",
       "    <tr style=\"text-align: right;\">\n",
       "      <th></th>\n",
       "      <th>EMPRESA</th>\n",
       "      <th>LOJA</th>\n",
       "      <th>MATRICULA</th>\n",
       "      <th>NOME</th>\n",
       "      <th>dias_afastados_totais</th>\n",
       "    </tr>\n",
       "  </thead>\n",
       "  <tbody>\n",
       "    <tr>\n",
       "      <th>0</th>\n",
       "      <td>1</td>\n",
       "      <td>AMZ</td>\n",
       "      <td>14869</td>\n",
       "      <td>LUAN RAFAEL FERREIRA                          ...</td>\n",
       "      <td>12</td>\n",
       "    </tr>\n",
       "    <tr>\n",
       "      <th>1</th>\n",
       "      <td>1</td>\n",
       "      <td>AMZ</td>\n",
       "      <td>15598</td>\n",
       "      <td>JULIANA LINO ROCHA                            ...</td>\n",
       "      <td>5</td>\n",
       "    </tr>\n",
       "    <tr>\n",
       "      <th>2</th>\n",
       "      <td>1</td>\n",
       "      <td>AMZ</td>\n",
       "      <td>23069</td>\n",
       "      <td>MARLOWA CAROLINA DE ANDRADE LEITE             ...</td>\n",
       "      <td>17</td>\n",
       "    </tr>\n",
       "    <tr>\n",
       "      <th>11</th>\n",
       "      <td>1</td>\n",
       "      <td>AMZ</td>\n",
       "      <td>27414</td>\n",
       "      <td>NATHAN TADEU PEREIRA ROCHA                    ...</td>\n",
       "      <td>10</td>\n",
       "    </tr>\n",
       "    <tr>\n",
       "      <th>13</th>\n",
       "      <td>1</td>\n",
       "      <td>AMZ</td>\n",
       "      <td>27672</td>\n",
       "      <td>NATASHA ORRANA DE OLIVEIRA MAGALHAES          ...</td>\n",
       "      <td>30</td>\n",
       "    </tr>\n",
       "    <tr>\n",
       "      <th>...</th>\n",
       "      <td>...</td>\n",
       "      <td>...</td>\n",
       "      <td>...</td>\n",
       "      <td>...</td>\n",
       "      <td>...</td>\n",
       "    </tr>\n",
       "    <tr>\n",
       "      <th>1911</th>\n",
       "      <td>1</td>\n",
       "      <td>ZNO</td>\n",
       "      <td>26799</td>\n",
       "      <td>FELIPI CARMO RIBEIRO                          ...</td>\n",
       "      <td>30</td>\n",
       "    </tr>\n",
       "    <tr>\n",
       "      <th>1918</th>\n",
       "      <td>1</td>\n",
       "      <td>ZNO</td>\n",
       "      <td>27441</td>\n",
       "      <td>ADRIANA MARIA DE ASSIS                        ...</td>\n",
       "      <td>4</td>\n",
       "    </tr>\n",
       "    <tr>\n",
       "      <th>1927</th>\n",
       "      <td>1</td>\n",
       "      <td>ZNO</td>\n",
       "      <td>28191</td>\n",
       "      <td>HELEN TAMIS BISPO DOS SANTOS                  ...</td>\n",
       "      <td>3</td>\n",
       "    </tr>\n",
       "    <tr>\n",
       "      <th>1928</th>\n",
       "      <td>1</td>\n",
       "      <td>ZNO</td>\n",
       "      <td>28258</td>\n",
       "      <td>JOSE MAURICIO DE OLIVEIRA                     ...</td>\n",
       "      <td>26</td>\n",
       "    </tr>\n",
       "    <tr>\n",
       "      <th>1931</th>\n",
       "      <td>1</td>\n",
       "      <td>ZNO</td>\n",
       "      <td>28782</td>\n",
       "      <td>JOAO VITOR SOARES MARTINS                     ...</td>\n",
       "      <td>20</td>\n",
       "    </tr>\n",
       "  </tbody>\n",
       "</table>\n",
       "<p>521 rows × 5 columns</p>\n",
       "</div>"
      ],
      "text/plain": [
       "      EMPRESA LOJA  MATRICULA  \\\n",
       "0           1  AMZ      14869   \n",
       "1           1  AMZ      15598   \n",
       "2           1  AMZ      23069   \n",
       "11          1  AMZ      27414   \n",
       "13          1  AMZ      27672   \n",
       "...       ...  ...        ...   \n",
       "1911        1  ZNO      26799   \n",
       "1918        1  ZNO      27441   \n",
       "1927        1  ZNO      28191   \n",
       "1928        1  ZNO      28258   \n",
       "1931        1  ZNO      28782   \n",
       "\n",
       "                                                   NOME  dias_afastados_totais  \n",
       "0     LUAN RAFAEL FERREIRA                          ...                     12  \n",
       "1     JULIANA LINO ROCHA                            ...                      5  \n",
       "2     MARLOWA CAROLINA DE ANDRADE LEITE             ...                     17  \n",
       "11    NATHAN TADEU PEREIRA ROCHA                    ...                     10  \n",
       "13    NATASHA ORRANA DE OLIVEIRA MAGALHAES          ...                     30  \n",
       "...                                                 ...                    ...  \n",
       "1911  FELIPI CARMO RIBEIRO                          ...                     30  \n",
       "1918  ADRIANA MARIA DE ASSIS                        ...                      4  \n",
       "1927  HELEN TAMIS BISPO DOS SANTOS                  ...                      3  \n",
       "1928  JOSE MAURICIO DE OLIVEIRA                     ...                     26  \n",
       "1931  JOAO VITOR SOARES MARTINS                     ...                     20  \n",
       "\n",
       "[521 rows x 5 columns]"
      ]
     },
     "execution_count": 156,
     "metadata": {},
     "output_type": "execute_result"
    }
   ],
   "source": [
    "dias_afastados_por_matricula[dias_afastados_por_matricula['dias_afastados_totais']>0]"
   ]
  },
  {
   "cell_type": "code",
   "execution_count": 157,
   "metadata": {},
   "outputs": [
    {
     "name": "stdout",
     "output_type": "stream",
     "text": [
      "C:/apuracao/TELHANORTE/2022/abr/ORIGINAIS/wr2b-111909177.xlsx\n"
     ]
    }
   ],
   "source": [
    "# ARQUIVO DE ENTRADA: base de ativos do mês em apuração gerado pela ADP\n",
    "for file in os.listdir(DIRETORIO_ANTERIOR+'ORIGINAIS/'):\n",
    "    if file.startswith('wr2b-') & file.endswith('.xlsx'):\n",
    "        nome_base=file\n",
    "#F_ATIVOS=DIRETORIO_ENTRA+nome_base\n",
    "F_ATIVOS=DIRETORIO_ANTERIOR+'ORIGINAIS/'+nome_base\n",
    "print(F_ATIVOS)"
   ]
  },
  {
   "cell_type": "code",
   "execution_count": 158,
   "metadata": {},
   "outputs": [
    {
     "name": "stdout",
     "output_type": "stream",
     "text": [
      "Lendo base de ativos no arquivo:\n",
      "C:/apuracao/TELHANORTE/2022/abr/ORIGINAIS/wr2b-111909177.xlsx\n"
     ]
    }
   ],
   "source": [
    "# Lendo base de ativos\n",
    "print(\"Lendo base de ativos no arquivo:\")\n",
    "print(F_ATIVOS)\n",
    "#base_ativos = pd.read_excel(F_ATIVOS, header=0) # \n",
    "base_ativos = pd.read_excel(F_ATIVOS) # \n"
   ]
  },
  {
   "cell_type": "code",
   "execution_count": 159,
   "metadata": {},
   "outputs": [],
   "source": [
    "# Removendo espaços em branco do nome da coluna \n",
    "base_ativos.columns = base_ativos.columns.str.strip()"
   ]
  },
  {
   "cell_type": "code",
   "execution_count": 160,
   "metadata": {},
   "outputs": [],
   "source": [
    "# MANTENDO APENAS A SIGLA DAS LOJAS\n",
    "base_ativos['Estabelecimento - Nome']=base_ativos['Estabelecimento - Nome'].apply(\n",
    "    lambda x: x.strip()[-3:]\n",
    ")"
   ]
  },
  {
   "cell_type": "code",
   "execution_count": 161,
   "metadata": {},
   "outputs": [],
   "source": [
    "base_ativos=base_ativos[base_ativos['Estabelecimento - Nome'].isin(lojas_tina['sigla_loja'])]"
   ]
  },
  {
   "cell_type": "code",
   "execution_count": 162,
   "metadata": {},
   "outputs": [
    {
     "data": {
      "text/plain": [
       "39"
      ]
     },
     "execution_count": 162,
     "metadata": {},
     "output_type": "execute_result"
    }
   ],
   "source": [
    "len(base_ativos['Estabelecimento - Nome'].unique())"
   ]
  },
  {
   "cell_type": "code",
   "execution_count": 163,
   "metadata": {},
   "outputs": [],
   "source": [
    "# ELIMINA ESPAÇOS EM BRANCO ANTES E DEPOIS DA DATA\n",
    "base_ativos['Data da Admissão']=base_ativos['Data da Admissão'].apply(\n",
    "    lambda x: x.strip()\n",
    "    )"
   ]
  },
  {
   "cell_type": "code",
   "execution_count": 164,
   "metadata": {},
   "outputs": [],
   "source": [
    "# Pegando da base de ativos somente parâmetros/colunas necessários \n",
    "ativos=base_ativos[[\n",
    "    'Matrícula', \n",
    "    'Nome - Primeiro Nome',\n",
    "    'Nome - Sobrenome', \n",
    "    'Cargo - Nome',\n",
    "    'Data da Admissão',\n",
    "    'Situação do Empregado - Status',\n",
    "    'Estabelecimento - Nome',\n",
    "    'Centro de Resultado - Código'\n",
    "    ]].copy(deep=True)"
   ]
  },
  {
   "cell_type": "code",
   "execution_count": 165,
   "metadata": {},
   "outputs": [],
   "source": [
    "# RENOMEANDO OS PARÂMETROS/COLUNAS DA BASE DE ativos DA esquerda para direita {'ESQUERDA':'DIREITA'}\n",
    "RENOMEA={\n",
    "    'Matrícula':'MATRICULA', \n",
    "    'Nome - Primeiro Nome':'NOME',\n",
    "    'Nome - Sobrenome':'SOBRENOME', \n",
    "    'Cargo - Nome':'CARGO',\n",
    "    'Data da Admissão':'DATA_ADMISSAO',\n",
    "    'Situação do Empregado - Status':'STATUS',\n",
    "    'Estabelecimento - Nome':'LOJA'\n",
    "}\n",
    "\n",
    "ativos.rename(columns=RENOMEA, inplace=True)"
   ]
  },
  {
   "cell_type": "code",
   "execution_count": 166,
   "metadata": {},
   "outputs": [],
   "source": [
    "# FORMATO DE DATA dd/mm/aaaa\n",
    "ativos['DATA_ADMISSAO']=pd.to_datetime(ativos['DATA_ADMISSAO'], format='%d/%m/%Y')\n"
   ]
  },
  {
   "cell_type": "code",
   "execution_count": 167,
   "metadata": {},
   "outputs": [],
   "source": [
    "# Mantendo apenas colaboradores da loja da MGN, excluindo sede\n",
    "ativos_nao_MGN=ativos[ativos['LOJA']!='MGN']\n",
    "# Toda a MGN\n",
    "ativos_MGN=ativos[ativos['LOJA']=='MGN'].copy(deep=True)\n",
    "loja_MGN=ativos_MGN[(ativos_MGN['Centro de Resultado - Código']==808568) |\n",
    "    ((ativos_MGN['Centro de Resultado - Código']>=174000) & \n",
    "    (ativos_MGN['Centro de Resultado - Código']<=174999) )  \n",
    "    ].copy(deep=True)"
   ]
  },
  {
   "cell_type": "code",
   "execution_count": 168,
   "metadata": {},
   "outputs": [],
   "source": [
    "# JUNTANDO BASE DE ATIVOS SOMENTE DAS LOJAS e a LOJA DA MARGINAL\n",
    "ativos_lojas=pd.concat([ativos_nao_MGN, loja_MGN], ignore_index=True)"
   ]
  },
  {
   "cell_type": "code",
   "execution_count": 169,
   "metadata": {},
   "outputs": [],
   "source": [
    "tina=ativos_lojas"
   ]
  },
  {
   "cell_type": "code",
   "execution_count": 170,
   "metadata": {},
   "outputs": [],
   "source": [
    "#  Função para calcular os dias ADMITIDOS dentro do período apurado\n",
    "def admitidos_no_mes(data_admissao):\n",
    "    global DATA_I, DATA_F\n",
    "    if data_admissao > DATA_F:\n",
    "        dias_admitidos = 0\n",
    "    elif data_admissao <= DATA_I :\n",
    "        dias_admitidos=DATA_F.day\n",
    "    else:\n",
    "        dias_admitidos=(DATA_F-data_admissao).days+1\n",
    "    return dias_admitidos\n"
   ]
  },
  {
   "cell_type": "code",
   "execution_count": 171,
   "metadata": {},
   "outputs": [],
   "source": [
    "# CALCULANDO QUANTOS DIAS O FUNCIONÁRIO ESTÁ ADMITIDO NO MÊS DA APURAÇÃO\n",
    "tina['DIAS_ADMITIDOS']=tina['DATA_ADMISSAO'].apply(\n",
    "    lambda x: admitidos_no_mes(x)\n",
    "    ).copy()"
   ]
  },
  {
   "cell_type": "code",
   "execution_count": 172,
   "metadata": {},
   "outputs": [],
   "source": [
    "# INCLUINDO INFORMAÇÃO SE O COLABORADOR ESTÁ ADMITIDO HÁ MAIS DE 15 DIAS DO PERÍODO DE APURAÇÃO\n",
    "tina['MAIS_DE15DIAS_ADMITIDOS']=np.where(tina['DIAS_ADMITIDOS']>=MEIO_MES,\"SIM\", \"NAO\")"
   ]
  },
  {
   "cell_type": "code",
   "execution_count": 173,
   "metadata": {},
   "outputs": [],
   "source": [
    "# LIMBANDO ESPAÇOS EM BRANCO DO STATUS\n",
    "tina['STATUS']=tina['STATUS'].apply(\n",
    "    lambda x: x.strip()\n",
    "    )\n",
    "    "
   ]
  },
  {
   "cell_type": "code",
   "execution_count": 174,
   "metadata": {},
   "outputs": [
    {
     "data": {
      "text/plain": [
       "array(['Enc Depósito', 'Ger Geral I', 'Ger Operacional II',\n",
       "       'Ass Manut Serv Gerais', 'Ger Geral II', 'Vendedor(a)',\n",
       "       'Assessor de Operações II', 'Enc de Caixa', 'Sup Operacional',\n",
       "       'Repositor(a)', 'Conferente', 'Operador Empilhadeira',\n",
       "       'Aux Manutenção', 'Sup de Vendas', 'Ger de Vendas I',\n",
       "       'Ass Serviços ao Cliente', 'Ass Recebimento',\n",
       "       'Assessor de Operações I', 'ASSESSOR DE LOJA', 'Ass de Expedição',\n",
       "       'Sup de Produto', 'Vendedor(a) Especialista', 'Enc de Produto',\n",
       "       'Enc SAC', 'Operador(a) Caixa', 'Lider de Caixa',\n",
       "       'Ger Operacional I', 'Ger Geral III', 'Ger de Produto II',\n",
       "       'ANL RH REGIONAL PL', 'Enc CTN', 'Ass Prevenção de Perdas',\n",
       "       'Enc Prevenção de Perda', 'Sup Administrativo',\n",
       "       'Vendedor(a) Especialista Lider', 'Ger de Vendas II',\n",
       "       'Ass Depósito', 'Oficial Manutenção Eletricista',\n",
       "       'Ger de Vendas III', 'Atendente de Loja', 'Vendedor(a) Projetista',\n",
       "       'DESIGNER PROJETISTA', 'Ger de Produto I', 'Anl de Logística Jr',\n",
       "       'Gerente Operacional', 'Sup deProduto I',\n",
       "       'Técnico Seguranca Trabalho Pl', 'Menor Aprendiz',\n",
       "       'Ass Serviço ao Cliente', 'Consultor de Vendas Externas',\n",
       "       'Estagiário(a)', 'Ass Departamento Pessoal', 'ENC DE OPERACOES',\n",
       "       'Enc Serviços ao Cliente', 'Ass Administrativo', 'GER GERAL SR',\n",
       "       'Sup Caixa', 'ASSESSOR DE OPERACOES', 'Técnico Projetista'],\n",
       "      dtype=object)"
      ]
     },
     "execution_count": 174,
     "metadata": {},
     "output_type": "execute_result"
    }
   ],
   "source": [
    "# Elimina espaços em branco dos CARGOs dos funcionários \n",
    "tina['CARGO']=tina['CARGO'].apply(\n",
    "    lambda x: x.strip()\n",
    ")\n",
    "# CHECAGEM\n",
    "tina['CARGO'].unique()"
   ]
  },
  {
   "cell_type": "code",
   "execution_count": 175,
   "metadata": {},
   "outputs": [],
   "source": [
    "# INCLUINDO ELEGIBILIDADE DA LOJA\n",
    "tina['LOJA_ELEGIVEL']=np.where(tina['LOJA'].isin(lojas_elegiveis['sigla_loja']),'SIM','NAO')"
   ]
  },
  {
   "cell_type": "code",
   "execution_count": 176,
   "metadata": {},
   "outputs": [
    {
     "data": {
      "text/html": [
       "<div>\n",
       "<style scoped>\n",
       "    .dataframe tbody tr th:only-of-type {\n",
       "        vertical-align: middle;\n",
       "    }\n",
       "\n",
       "    .dataframe tbody tr th {\n",
       "        vertical-align: top;\n",
       "    }\n",
       "\n",
       "    .dataframe thead th {\n",
       "        text-align: right;\n",
       "    }\n",
       "</style>\n",
       "<table border=\"1\" class=\"dataframe\">\n",
       "  <thead>\n",
       "    <tr style=\"text-align: right;\">\n",
       "      <th></th>\n",
       "      <th>MATRICULA</th>\n",
       "      <th>NOME</th>\n",
       "      <th>SOBRENOME</th>\n",
       "      <th>CARGO</th>\n",
       "      <th>DATA_ADMISSAO</th>\n",
       "      <th>STATUS</th>\n",
       "      <th>LOJA</th>\n",
       "      <th>Centro de Resultado - Código</th>\n",
       "      <th>DIAS_ADMITIDOS</th>\n",
       "      <th>MAIS_DE15DIAS_ADMITIDOS</th>\n",
       "      <th>LOJA_ELEGIVEL</th>\n",
       "    </tr>\n",
       "  </thead>\n",
       "  <tbody>\n",
       "    <tr>\n",
       "      <th>0</th>\n",
       "      <td>27</td>\n",
       "      <td>NILTON</td>\n",
       "      <td>DOS SANTOS</td>\n",
       "      <td>Enc Depósito</td>\n",
       "      <td>1991-06-01</td>\n",
       "      <td>ATIVO</td>\n",
       "      <td>ARI</td>\n",
       "      <td>244406</td>\n",
       "      <td>30</td>\n",
       "      <td>SIM</td>\n",
       "      <td>NAO</td>\n",
       "    </tr>\n",
       "    <tr>\n",
       "      <th>1</th>\n",
       "      <td>84</td>\n",
       "      <td>ALEXANDRE</td>\n",
       "      <td>POLONI</td>\n",
       "      <td>Ger Geral I</td>\n",
       "      <td>1993-03-11</td>\n",
       "      <td>ATIVO</td>\n",
       "      <td>PAR</td>\n",
       "      <td>304401</td>\n",
       "      <td>30</td>\n",
       "      <td>SIM</td>\n",
       "      <td>NAO</td>\n",
       "    </tr>\n",
       "    <tr>\n",
       "      <th>2</th>\n",
       "      <td>382</td>\n",
       "      <td>BIANCA</td>\n",
       "      <td>SILVA</td>\n",
       "      <td>Ger Operacional II</td>\n",
       "      <td>1996-03-04</td>\n",
       "      <td>ATIVO</td>\n",
       "      <td>GRU</td>\n",
       "      <td>324401</td>\n",
       "      <td>30</td>\n",
       "      <td>SIM</td>\n",
       "      <td>NAO</td>\n",
       "    </tr>\n",
       "    <tr>\n",
       "      <th>3</th>\n",
       "      <td>454</td>\n",
       "      <td>JOSE</td>\n",
       "      <td>SERIGATTI</td>\n",
       "      <td>Ass Manut Serv Gerais</td>\n",
       "      <td>1996-06-03</td>\n",
       "      <td>ATIVO</td>\n",
       "      <td>GRU</td>\n",
       "      <td>324402</td>\n",
       "      <td>30</td>\n",
       "      <td>SIM</td>\n",
       "      <td>NAO</td>\n",
       "    </tr>\n",
       "    <tr>\n",
       "      <th>4</th>\n",
       "      <td>472</td>\n",
       "      <td>MARCELO</td>\n",
       "      <td>DE ARAUJO</td>\n",
       "      <td>Ger Geral II</td>\n",
       "      <td>1996-06-03</td>\n",
       "      <td>ATIVO</td>\n",
       "      <td>PGD</td>\n",
       "      <td>124401</td>\n",
       "      <td>30</td>\n",
       "      <td>SIM</td>\n",
       "      <td>NAO</td>\n",
       "    </tr>\n",
       "    <tr>\n",
       "      <th>...</th>\n",
       "      <td>...</td>\n",
       "      <td>...</td>\n",
       "      <td>...</td>\n",
       "      <td>...</td>\n",
       "      <td>...</td>\n",
       "      <td>...</td>\n",
       "      <td>...</td>\n",
       "      <td>...</td>\n",
       "      <td>...</td>\n",
       "      <td>...</td>\n",
       "      <td>...</td>\n",
       "    </tr>\n",
       "    <tr>\n",
       "      <th>1975</th>\n",
       "      <td>29763</td>\n",
       "      <td>JULIO</td>\n",
       "      <td>DE MELLO</td>\n",
       "      <td>ASSESSOR DE LOJA</td>\n",
       "      <td>2022-03-14</td>\n",
       "      <td>ATIVO</td>\n",
       "      <td>MGN</td>\n",
       "      <td>174402</td>\n",
       "      <td>30</td>\n",
       "      <td>SIM</td>\n",
       "      <td>NAO</td>\n",
       "    </tr>\n",
       "    <tr>\n",
       "      <th>1976</th>\n",
       "      <td>29834</td>\n",
       "      <td>ALINE</td>\n",
       "      <td>NASCIMENTO</td>\n",
       "      <td>Sup de Vendas</td>\n",
       "      <td>2022-04-18</td>\n",
       "      <td>ATIVO</td>\n",
       "      <td>MGN</td>\n",
       "      <td>174401</td>\n",
       "      <td>13</td>\n",
       "      <td>NAO</td>\n",
       "      <td>NAO</td>\n",
       "    </tr>\n",
       "    <tr>\n",
       "      <th>1977</th>\n",
       "      <td>29833</td>\n",
       "      <td>ELIANE</td>\n",
       "      <td>MAURO</td>\n",
       "      <td>Sup de Vendas</td>\n",
       "      <td>2022-04-18</td>\n",
       "      <td>ATIVO</td>\n",
       "      <td>MGN</td>\n",
       "      <td>174401</td>\n",
       "      <td>13</td>\n",
       "      <td>NAO</td>\n",
       "      <td>NAO</td>\n",
       "    </tr>\n",
       "    <tr>\n",
       "      <th>1978</th>\n",
       "      <td>29855</td>\n",
       "      <td>ADRIANO</td>\n",
       "      <td>DA PAZ</td>\n",
       "      <td>ASSESSOR DE LOJA</td>\n",
       "      <td>2022-05-02</td>\n",
       "      <td>ATIVO</td>\n",
       "      <td>MGN</td>\n",
       "      <td>174402</td>\n",
       "      <td>0</td>\n",
       "      <td>NAO</td>\n",
       "      <td>NAO</td>\n",
       "    </tr>\n",
       "    <tr>\n",
       "      <th>1979</th>\n",
       "      <td>29860</td>\n",
       "      <td>LEONEL</td>\n",
       "      <td>FREEMAM JUNIOR</td>\n",
       "      <td>ASSESSOR DE LOJA</td>\n",
       "      <td>2022-05-02</td>\n",
       "      <td>ATIVO</td>\n",
       "      <td>MGN</td>\n",
       "      <td>174402</td>\n",
       "      <td>0</td>\n",
       "      <td>NAO</td>\n",
       "      <td>NAO</td>\n",
       "    </tr>\n",
       "  </tbody>\n",
       "</table>\n",
       "<p>1980 rows × 11 columns</p>\n",
       "</div>"
      ],
      "text/plain": [
       "      MATRICULA                             NOME  \\\n",
       "0            27  NILTON                            \n",
       "1            84  ALEXANDRE                         \n",
       "2           382  BIANCA                            \n",
       "3           454  JOSE                              \n",
       "4           472  MARCELO                           \n",
       "...         ...                              ...   \n",
       "1975      29763  JULIO                             \n",
       "1976      29834  ALINE                             \n",
       "1977      29833  ELIANE                            \n",
       "1978      29855  ADRIANO                           \n",
       "1979      29860  LEONEL                            \n",
       "\n",
       "                                      SOBRENOME                  CARGO  \\\n",
       "0     DOS SANTOS                                          Enc Depósito   \n",
       "1     POLONI                                               Ger Geral I   \n",
       "2     SILVA                                         Ger Operacional II   \n",
       "3     SERIGATTI                                  Ass Manut Serv Gerais   \n",
       "4     DE ARAUJO                                           Ger Geral II   \n",
       "...                                         ...                    ...   \n",
       "1975  DE MELLO                                        ASSESSOR DE LOJA   \n",
       "1976  NASCIMENTO                                         Sup de Vendas   \n",
       "1977  MAURO                                              Sup de Vendas   \n",
       "1978  DA PAZ                                          ASSESSOR DE LOJA   \n",
       "1979  FREEMAM JUNIOR                                  ASSESSOR DE LOJA   \n",
       "\n",
       "     DATA_ADMISSAO STATUS LOJA  Centro de Resultado - Código  DIAS_ADMITIDOS  \\\n",
       "0       1991-06-01  ATIVO  ARI                        244406              30   \n",
       "1       1993-03-11  ATIVO  PAR                        304401              30   \n",
       "2       1996-03-04  ATIVO  GRU                        324401              30   \n",
       "3       1996-06-03  ATIVO  GRU                        324402              30   \n",
       "4       1996-06-03  ATIVO  PGD                        124401              30   \n",
       "...            ...    ...  ...                           ...             ...   \n",
       "1975    2022-03-14  ATIVO  MGN                        174402              30   \n",
       "1976    2022-04-18  ATIVO  MGN                        174401              13   \n",
       "1977    2022-04-18  ATIVO  MGN                        174401              13   \n",
       "1978    2022-05-02  ATIVO  MGN                        174402               0   \n",
       "1979    2022-05-02  ATIVO  MGN                        174402               0   \n",
       "\n",
       "     MAIS_DE15DIAS_ADMITIDOS LOJA_ELEGIVEL  \n",
       "0                        SIM           NAO  \n",
       "1                        SIM           NAO  \n",
       "2                        SIM           NAO  \n",
       "3                        SIM           NAO  \n",
       "4                        SIM           NAO  \n",
       "...                      ...           ...  \n",
       "1975                     SIM           NAO  \n",
       "1976                     NAO           NAO  \n",
       "1977                     NAO           NAO  \n",
       "1978                     NAO           NAO  \n",
       "1979                     NAO           NAO  \n",
       "\n",
       "[1980 rows x 11 columns]"
      ]
     },
     "execution_count": 176,
     "metadata": {},
     "output_type": "execute_result"
    }
   ],
   "source": [
    "tina"
   ]
  },
  {
   "cell_type": "code",
   "execution_count": 177,
   "metadata": {},
   "outputs": [],
   "source": [
    "# INCLUINDO DIAS AFASTADOS TOTAIS DA MATRÍCULA\n",
    "tina_afastados=pd.merge(\n",
    "    tina,\n",
    "    dias_afastados_por_matricula[\n",
    "        ['MATRICULA','dias_afastados_totais']\n",
    "        ],\n",
    "        how='left',\n",
    "        on=['MATRICULA']\n",
    "        )\n"
   ]
  },
  {
   "cell_type": "code",
   "execution_count": 178,
   "metadata": {},
   "outputs": [],
   "source": [
    "# PREENCHENDO COM ZERO ATIVOS SEM AFASTAMENTOS\n",
    "tina_afastados['dias_afastados_totais'].fillna(0, inplace=True)"
   ]
  },
  {
   "cell_type": "code",
   "execution_count": 179,
   "metadata": {},
   "outputs": [
    {
     "data": {
      "text/html": [
       "<div>\n",
       "<style scoped>\n",
       "    .dataframe tbody tr th:only-of-type {\n",
       "        vertical-align: middle;\n",
       "    }\n",
       "\n",
       "    .dataframe tbody tr th {\n",
       "        vertical-align: top;\n",
       "    }\n",
       "\n",
       "    .dataframe thead th {\n",
       "        text-align: right;\n",
       "    }\n",
       "</style>\n",
       "<table border=\"1\" class=\"dataframe\">\n",
       "  <thead>\n",
       "    <tr style=\"text-align: right;\">\n",
       "      <th></th>\n",
       "      <th>MATRICULA</th>\n",
       "      <th>NOME</th>\n",
       "      <th>SOBRENOME</th>\n",
       "      <th>CARGO</th>\n",
       "      <th>DATA_ADMISSAO</th>\n",
       "      <th>STATUS</th>\n",
       "      <th>LOJA</th>\n",
       "      <th>Centro de Resultado - Código</th>\n",
       "      <th>DIAS_ADMITIDOS</th>\n",
       "      <th>MAIS_DE15DIAS_ADMITIDOS</th>\n",
       "      <th>LOJA_ELEGIVEL</th>\n",
       "      <th>dias_afastados_totais</th>\n",
       "    </tr>\n",
       "  </thead>\n",
       "  <tbody>\n",
       "    <tr>\n",
       "      <th>0</th>\n",
       "      <td>27</td>\n",
       "      <td>NILTON</td>\n",
       "      <td>DOS SANTOS</td>\n",
       "      <td>Enc Depósito</td>\n",
       "      <td>1991-06-01</td>\n",
       "      <td>ATIVO</td>\n",
       "      <td>ARI</td>\n",
       "      <td>244406</td>\n",
       "      <td>30</td>\n",
       "      <td>SIM</td>\n",
       "      <td>NAO</td>\n",
       "      <td>0.0</td>\n",
       "    </tr>\n",
       "    <tr>\n",
       "      <th>1</th>\n",
       "      <td>84</td>\n",
       "      <td>ALEXANDRE</td>\n",
       "      <td>POLONI</td>\n",
       "      <td>Ger Geral I</td>\n",
       "      <td>1993-03-11</td>\n",
       "      <td>ATIVO</td>\n",
       "      <td>PAR</td>\n",
       "      <td>304401</td>\n",
       "      <td>30</td>\n",
       "      <td>SIM</td>\n",
       "      <td>NAO</td>\n",
       "      <td>2.0</td>\n",
       "    </tr>\n",
       "    <tr>\n",
       "      <th>2</th>\n",
       "      <td>382</td>\n",
       "      <td>BIANCA</td>\n",
       "      <td>SILVA</td>\n",
       "      <td>Ger Operacional II</td>\n",
       "      <td>1996-03-04</td>\n",
       "      <td>ATIVO</td>\n",
       "      <td>GRU</td>\n",
       "      <td>324401</td>\n",
       "      <td>30</td>\n",
       "      <td>SIM</td>\n",
       "      <td>NAO</td>\n",
       "      <td>0.0</td>\n",
       "    </tr>\n",
       "    <tr>\n",
       "      <th>3</th>\n",
       "      <td>454</td>\n",
       "      <td>JOSE</td>\n",
       "      <td>SERIGATTI</td>\n",
       "      <td>Ass Manut Serv Gerais</td>\n",
       "      <td>1996-06-03</td>\n",
       "      <td>ATIVO</td>\n",
       "      <td>GRU</td>\n",
       "      <td>324402</td>\n",
       "      <td>30</td>\n",
       "      <td>SIM</td>\n",
       "      <td>NAO</td>\n",
       "      <td>0.0</td>\n",
       "    </tr>\n",
       "    <tr>\n",
       "      <th>4</th>\n",
       "      <td>472</td>\n",
       "      <td>MARCELO</td>\n",
       "      <td>DE ARAUJO</td>\n",
       "      <td>Ger Geral II</td>\n",
       "      <td>1996-06-03</td>\n",
       "      <td>ATIVO</td>\n",
       "      <td>PGD</td>\n",
       "      <td>124401</td>\n",
       "      <td>30</td>\n",
       "      <td>SIM</td>\n",
       "      <td>NAO</td>\n",
       "      <td>0.0</td>\n",
       "    </tr>\n",
       "    <tr>\n",
       "      <th>...</th>\n",
       "      <td>...</td>\n",
       "      <td>...</td>\n",
       "      <td>...</td>\n",
       "      <td>...</td>\n",
       "      <td>...</td>\n",
       "      <td>...</td>\n",
       "      <td>...</td>\n",
       "      <td>...</td>\n",
       "      <td>...</td>\n",
       "      <td>...</td>\n",
       "      <td>...</td>\n",
       "      <td>...</td>\n",
       "    </tr>\n",
       "    <tr>\n",
       "      <th>1975</th>\n",
       "      <td>29763</td>\n",
       "      <td>JULIO</td>\n",
       "      <td>DE MELLO</td>\n",
       "      <td>ASSESSOR DE LOJA</td>\n",
       "      <td>2022-03-14</td>\n",
       "      <td>ATIVO</td>\n",
       "      <td>MGN</td>\n",
       "      <td>174402</td>\n",
       "      <td>30</td>\n",
       "      <td>SIM</td>\n",
       "      <td>NAO</td>\n",
       "      <td>0.0</td>\n",
       "    </tr>\n",
       "    <tr>\n",
       "      <th>1976</th>\n",
       "      <td>29834</td>\n",
       "      <td>ALINE</td>\n",
       "      <td>NASCIMENTO</td>\n",
       "      <td>Sup de Vendas</td>\n",
       "      <td>2022-04-18</td>\n",
       "      <td>ATIVO</td>\n",
       "      <td>MGN</td>\n",
       "      <td>174401</td>\n",
       "      <td>13</td>\n",
       "      <td>NAO</td>\n",
       "      <td>NAO</td>\n",
       "      <td>0.0</td>\n",
       "    </tr>\n",
       "    <tr>\n",
       "      <th>1977</th>\n",
       "      <td>29833</td>\n",
       "      <td>ELIANE</td>\n",
       "      <td>MAURO</td>\n",
       "      <td>Sup de Vendas</td>\n",
       "      <td>2022-04-18</td>\n",
       "      <td>ATIVO</td>\n",
       "      <td>MGN</td>\n",
       "      <td>174401</td>\n",
       "      <td>13</td>\n",
       "      <td>NAO</td>\n",
       "      <td>NAO</td>\n",
       "      <td>0.0</td>\n",
       "    </tr>\n",
       "    <tr>\n",
       "      <th>1978</th>\n",
       "      <td>29855</td>\n",
       "      <td>ADRIANO</td>\n",
       "      <td>DA PAZ</td>\n",
       "      <td>ASSESSOR DE LOJA</td>\n",
       "      <td>2022-05-02</td>\n",
       "      <td>ATIVO</td>\n",
       "      <td>MGN</td>\n",
       "      <td>174402</td>\n",
       "      <td>0</td>\n",
       "      <td>NAO</td>\n",
       "      <td>NAO</td>\n",
       "      <td>0.0</td>\n",
       "    </tr>\n",
       "    <tr>\n",
       "      <th>1979</th>\n",
       "      <td>29860</td>\n",
       "      <td>LEONEL</td>\n",
       "      <td>FREEMAM JUNIOR</td>\n",
       "      <td>ASSESSOR DE LOJA</td>\n",
       "      <td>2022-05-02</td>\n",
       "      <td>ATIVO</td>\n",
       "      <td>MGN</td>\n",
       "      <td>174402</td>\n",
       "      <td>0</td>\n",
       "      <td>NAO</td>\n",
       "      <td>NAO</td>\n",
       "      <td>0.0</td>\n",
       "    </tr>\n",
       "  </tbody>\n",
       "</table>\n",
       "<p>1980 rows × 12 columns</p>\n",
       "</div>"
      ],
      "text/plain": [
       "      MATRICULA                             NOME  \\\n",
       "0            27  NILTON                            \n",
       "1            84  ALEXANDRE                         \n",
       "2           382  BIANCA                            \n",
       "3           454  JOSE                              \n",
       "4           472  MARCELO                           \n",
       "...         ...                              ...   \n",
       "1975      29763  JULIO                             \n",
       "1976      29834  ALINE                             \n",
       "1977      29833  ELIANE                            \n",
       "1978      29855  ADRIANO                           \n",
       "1979      29860  LEONEL                            \n",
       "\n",
       "                                      SOBRENOME                  CARGO  \\\n",
       "0     DOS SANTOS                                          Enc Depósito   \n",
       "1     POLONI                                               Ger Geral I   \n",
       "2     SILVA                                         Ger Operacional II   \n",
       "3     SERIGATTI                                  Ass Manut Serv Gerais   \n",
       "4     DE ARAUJO                                           Ger Geral II   \n",
       "...                                         ...                    ...   \n",
       "1975  DE MELLO                                        ASSESSOR DE LOJA   \n",
       "1976  NASCIMENTO                                         Sup de Vendas   \n",
       "1977  MAURO                                              Sup de Vendas   \n",
       "1978  DA PAZ                                          ASSESSOR DE LOJA   \n",
       "1979  FREEMAM JUNIOR                                  ASSESSOR DE LOJA   \n",
       "\n",
       "     DATA_ADMISSAO STATUS LOJA  Centro de Resultado - Código  DIAS_ADMITIDOS  \\\n",
       "0       1991-06-01  ATIVO  ARI                        244406              30   \n",
       "1       1993-03-11  ATIVO  PAR                        304401              30   \n",
       "2       1996-03-04  ATIVO  GRU                        324401              30   \n",
       "3       1996-06-03  ATIVO  GRU                        324402              30   \n",
       "4       1996-06-03  ATIVO  PGD                        124401              30   \n",
       "...            ...    ...  ...                           ...             ...   \n",
       "1975    2022-03-14  ATIVO  MGN                        174402              30   \n",
       "1976    2022-04-18  ATIVO  MGN                        174401              13   \n",
       "1977    2022-04-18  ATIVO  MGN                        174401              13   \n",
       "1978    2022-05-02  ATIVO  MGN                        174402               0   \n",
       "1979    2022-05-02  ATIVO  MGN                        174402               0   \n",
       "\n",
       "     MAIS_DE15DIAS_ADMITIDOS LOJA_ELEGIVEL  dias_afastados_totais  \n",
       "0                        SIM           NAO                    0.0  \n",
       "1                        SIM           NAO                    2.0  \n",
       "2                        SIM           NAO                    0.0  \n",
       "3                        SIM           NAO                    0.0  \n",
       "4                        SIM           NAO                    0.0  \n",
       "...                      ...           ...                    ...  \n",
       "1975                     SIM           NAO                    0.0  \n",
       "1976                     NAO           NAO                    0.0  \n",
       "1977                     NAO           NAO                    0.0  \n",
       "1978                     NAO           NAO                    0.0  \n",
       "1979                     NAO           NAO                    0.0  \n",
       "\n",
       "[1980 rows x 12 columns]"
      ]
     },
     "execution_count": 179,
     "metadata": {},
     "output_type": "execute_result"
    }
   ],
   "source": [
    "tina_afastados"
   ]
  },
  {
   "cell_type": "code",
   "execution_count": 180,
   "metadata": {},
   "outputs": [],
   "source": [
    "# CALCULANDO DIAS ATIVOS NO PERÍODO DE APURAÇÃO CONSIDERANDO A DATA DE ADMISSÃO\n",
    "tina_afastados['DIAS_ATIVOS']=tina_afastados['DIAS_ADMITIDOS']-tina_afastados['dias_afastados_totais']"
   ]
  },
  {
   "cell_type": "code",
   "execution_count": 181,
   "metadata": {},
   "outputs": [],
   "source": [
    "tina_afastados['MAIS_DE15DIAS_ATIVOS']=np.where(\n",
    "    tina_afastados['DIAS_ATIVOS']>=MEIO_MES, 'SIM','NAO'\n",
    "    )"
   ]
  },
  {
   "cell_type": "code",
   "execution_count": 182,
   "metadata": {},
   "outputs": [
    {
     "name": "stdout",
     "output_type": "stream",
     "text": [
      "Lendo faltas injustificadas do arquivo:\n",
      "C:/apuracao/TELHANORTE/2022/abr/ORIGINAIS/PREMIACOES TINA.xlsx tem ocorrências do dia 01 até 15 do mês anterior.\n",
      "C:/apuracao/TELHANORTE/2022/mai/ORIGINAIS/PREMIACOES TINA.xlsx tem ocorrências do dia 16 do mês anterior até 15 do mês atual.\n"
     ]
    }
   ],
   "source": [
    "# Lendo faltas injustificadas dos colaboradores\n",
    "print(\"Lendo faltas injustificadas do arquivo:\")\n",
    "print(F_FALTAS_MES_ANTERIOR+' tem ocorrências do dia 01 até 15 do mês anterior.')\n",
    "print(F_FALTAS+' tem ocorrências do dia 16 do mês anterior até 15 do mês atual.')\n",
    "faltas_inj = pd.read_excel(F_FALTAS, header=0) # Tem ocorrências do dia 16 do mes anterior até 15 do mes atual. Vou pegar somente do 16 ao final do mês anterior.\n",
    "faltas_mes_anterior=pd.read_excel(F_FALTAS_MES_ANTERIOR, header=0) # para pegar as ocorrências do dia 01 até o dia 15 do mês anterior"
   ]
  },
  {
   "cell_type": "code",
   "execution_count": 183,
   "metadata": {},
   "outputs": [
    {
     "data": {
      "text/plain": [
       "132   2022-04-01\n",
       "66    2022-04-01\n",
       "237   2022-04-01\n",
       "77    2022-04-01\n",
       "93    2022-04-01\n",
       "         ...    \n",
       "288   2022-04-30\n",
       "302   2022-04-30\n",
       "11    2022-04-30\n",
       "227   2022-04-30\n",
       "37    2022-04-30\n",
       "Name: DATA DA OCORRÊNCIA, Length: 303, dtype: datetime64[ns]"
      ]
     },
     "execution_count": 183,
     "metadata": {},
     "output_type": "execute_result"
    }
   ],
   "source": [
    "# Juntando as bases do mês passado e delimitando para o período de apuração\n",
    "todas_faltas=pd.concat([faltas_mes_anterior, faltas_inj], axis=0)\n",
    "faltas = todas_faltas[(todas_faltas['DATA DA OCORRÊNCIA'] >= DATA_I) &\n",
    "           (todas_faltas['DATA DA OCORRÊNCIA'] <= DATA_F)].copy()\n",
    "faltas['DATA DA OCORRÊNCIA'].sort_values()"
   ]
  },
  {
   "cell_type": "code",
   "execution_count": 184,
   "metadata": {},
   "outputs": [],
   "source": [
    "# Renomeando a coluna da MATRICULA nas faltas \n",
    "faltas.rename(columns={'MATR EMPR':'MATRICULA'}, inplace=True)"
   ]
  },
  {
   "cell_type": "code",
   "execution_count": 185,
   "metadata": {},
   "outputs": [],
   "source": [
    "# PARA RENOMEAR PARÂMETROS DE ALVO E NPS E INCLUIR NA PLANILHA DE CHECAGEM\n",
    "RENOMEA={\n",
    "    'sigla_loja':'LOJA',\n",
    "    'alvo':'ALVO_ALCANCADO',\n",
    "    'nps':'NPS'\n",
    "    }"
   ]
  },
  {
   "cell_type": "code",
   "execution_count": 186,
   "metadata": {},
   "outputs": [],
   "source": [
    "# Mantendo apena Telhanorte\n",
    "# Para alterar para TUMELERO: ALTERAR O SINAL PARA >\n",
    "empresa_nps_venda_alvo=loja_nps_venda_alvo[loja_nps_venda_alvo['cod_loja']<510000]"
   ]
  },
  {
   "cell_type": "code",
   "execution_count": 187,
   "metadata": {},
   "outputs": [],
   "source": [
    "# PREPARANDO PLANILHA DE CHECAGEM\n",
    "tina_tudo=pd.merge(\n",
    "    tina_afastados,\n",
    "    loja_nps_venda_alvo[['sigla_loja', 'alvo','nps']].rename(columns=RENOMEA),\n",
    "    how='left',\n",
    "    on='LOJA'\n",
    "    )\n"
   ]
  },
  {
   "cell_type": "code",
   "execution_count": 188,
   "metadata": {},
   "outputs": [],
   "source": [
    "tina_copia=tina_tudo"
   ]
  },
  {
   "cell_type": "code",
   "execution_count": 189,
   "metadata": {},
   "outputs": [],
   "source": [
    "# CARREGANDO TODOS OS CARGOS CONTEMPLADOS PELA PREMIAÇÃO COLETIVA\n",
    "cargos=pd.read_csv(F_CARGOS, sep=';')"
   ]
  },
  {
   "cell_type": "code",
   "execution_count": 190,
   "metadata": {},
   "outputs": [],
   "source": [
    "# ATRIBUINDO O GRUPO DE PREMIAÇÃO PARA CADA CARGO\n",
    "tina_tudo=pd.merge(\n",
    "    tina_tudo, \n",
    "    cargos.rename(columns={'Cargo':'CARGO'}),\n",
    "    how='left',\n",
    "    on='CARGO'\n",
    "    )"
   ]
  },
  {
   "cell_type": "code",
   "execution_count": 191,
   "metadata": {},
   "outputs": [],
   "source": [
    "# Grupos sem cargo atribuido como \"NAO TINA\"\n",
    "tina_tudo['Grupo'].fillna('NAO TINA', inplace=True)"
   ]
  },
  {
   "cell_type": "code",
   "execution_count": 192,
   "metadata": {},
   "outputs": [],
   "source": [
    "# Função para atribuir valor da premiação dependendo do grupo de cargo\n",
    "def premiacao_alvo(grupo,alvo):\n",
    "    global PREMIOS\n",
    "    alvo1 = dict(zip(PREMIOS['Grupo'], PREMIOS['ALVO1']))\n",
    "    alvo2 = dict(zip(PREMIOS['Grupo'], PREMIOS['ALVO2']))\n",
    "    if alvo == 'ALVO1':\n",
    "        valor=alvo1[grupo]\n",
    "    elif alvo == 'ALVO2':\n",
    "        valor=alvo2[grupo]\n",
    "    elif alvo == 'NAO':\n",
    "        valor = 0.0\n",
    "    else: valor=0.0\n",
    "    return valor\n"
   ]
  },
  {
   "cell_type": "code",
   "execution_count": 193,
   "metadata": {},
   "outputs": [],
   "source": [
    "# Atribuindo valor da premiação dependendo do grupo de cargo\n",
    "tina_tudo['PREMIACAO']=tina_tudo.apply(\n",
    "    lambda x: premiacao_alvo(\n",
    "        x['Grupo'],x['ALVO_ALCANCADO'],\n",
    "    ), axis=1)\n",
    "    "
   ]
  },
  {
   "cell_type": "code",
   "execution_count": 194,
   "metadata": {},
   "outputs": [],
   "source": [
    "# Inclui coluna para checar se colaborador tem faltas injustificadas\n",
    "tina_tudo['FALTAS']=np.where(tina_tudo['MATRICULA'].isin(faltas['MATRICULA']),'SIM','NAO')"
   ]
  },
  {
   "cell_type": "code",
   "execution_count": 195,
   "metadata": {},
   "outputs": [],
   "source": [
    "tina_tudo['APTO_PREMIACAO']=np.where(\n",
    "    (tina_tudo['LOJA_ELEGIVEL']=='SIM') &\n",
    "        (tina_tudo['MAIS_DE15DIAS_ATIVOS']=='SIM') &\n",
    "        (tina_tudo['FALTAS']=='NAO') &\n",
    "        (tina_tudo['Grupo']!='NAO TINA') &\n",
    "        (tina_tudo['PREMIACAO']>0),\n",
    "        'SIM','NAO'\n",
    "    )"
   ]
  },
  {
   "cell_type": "code",
   "execution_count": 196,
   "metadata": {},
   "outputs": [],
   "source": [
    "#Salvando verba\n",
    "# Entradas: v verba, n nome_verba, x numero_verba, f f_nome\n",
    "def salva_verba(verba,num_verba,arq_nome):\n",
    "#    v.rename(columns={ v.columns[0]: 'MATRICULA'}, inplace=True)\n",
    "    verba.rename(columns={ verba.columns[1]: \"VALOR\" }, inplace=True)\n",
    "    verba['ZERO'] = 0\n",
    "    verba['VERBA'] = num_verba\n",
    "    verba=verba[['MATRICULA', 'ZERO', 'VERBA','VALOR']]\n",
    "    verba = verba[verba['VALOR'] > 0]\n",
    "    # Saving as a excel file for RH\n",
    "    verba.to_excel(arq_nome, sheet_name=\"VERBA \"+str(num_verba), index=False)\n"
   ]
  },
  {
   "cell_type": "code",
   "execution_count": 197,
   "metadata": {},
   "outputs": [],
   "source": [
    "# Salva verba apuração coletiva\n",
    "salva_verba(\n",
    "    tina_tudo[['MATRICULA', 'PREMIACAO']][\n",
    "        (tina_tudo['LOJA_ELEGIVEL']=='SIM') &\n",
    "        (tina_tudo['MAIS_DE15DIAS_ATIVOS']=='SIM') &\n",
    "        (tina_tudo['FALTAS']=='NAO')\n",
    "    ].copy(),4117,FILE_SAI)"
   ]
  },
  {
   "cell_type": "code",
   "execution_count": 198,
   "metadata": {},
   "outputs": [],
   "source": [
    "# Salva verba apuração coletiva\n",
    "salva_verba(\n",
    "    tina_tudo[['MATRICULA', 'PREMIACAO']][\n",
    "        (tina_tudo['LOJA_ELEGIVEL']=='SIM') &\n",
    "        (tina_tudo['MAIS_DE15DIAS_ATIVOS']=='SIM')\n",
    "    ].copy(),4117,FILE_SAI_SEM)"
   ]
  },
  {
   "cell_type": "code",
   "execution_count": 199,
   "metadata": {},
   "outputs": [],
   "source": [
    "# SALVA PLANILHA DE CHECAGEM\n",
    "tina_tudo.to_excel(FILE_CHECAGEM, index=False)"
   ]
  }
 ],
 "metadata": {
  "interpreter": {
   "hash": "551579a37399ee361b7a87e2547c9a8bd014955eb03c28bb1a18301da647b49d"
  },
  "kernelspec": {
   "display_name": "Python 3.9.9 ('tina')",
   "language": "python",
   "name": "python3"
  },
  "language_info": {
   "codemirror_mode": {
    "name": "ipython",
    "version": 3
   },
   "file_extension": ".py",
   "mimetype": "text/x-python",
   "name": "python",
   "nbconvert_exporter": "python",
   "pygments_lexer": "ipython3",
   "version": "3.9.9"
  },
  "orig_nbformat": 4
 },
 "nbformat": 4,
 "nbformat_minor": 2
}
