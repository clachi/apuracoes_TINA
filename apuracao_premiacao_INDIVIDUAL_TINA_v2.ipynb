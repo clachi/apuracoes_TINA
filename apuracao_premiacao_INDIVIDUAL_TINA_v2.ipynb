{
 "cells": [
  {
   "cell_type": "markdown",
   "metadata": {},
   "source": [
    "Apuração da Premiação Tina (Individual)\n",
    "\n"
   ]
  },
  {
   "cell_type": "code",
   "execution_count": 1,
   "metadata": {},
   "outputs": [],
   "source": [
    "import pandas as pd\n",
    "import numpy as np\n",
    "from pathlib import Path"
   ]
  },
  {
   "cell_type": "code",
   "execution_count": 2,
   "metadata": {},
   "outputs": [],
   "source": [
    "pd.set_option('display.max_columns', None)"
   ]
  },
  {
   "cell_type": "code",
   "execution_count": 3,
   "metadata": {},
   "outputs": [],
   "source": [
    "# TODO MUDAR QUANDO AS LOJAS TUMELERO DA 2a ONDA ENTRAREM\n",
    "# Ondas Telhanorte e Tumelero cujas lojas serão consideradas para apuração\n",
    "safra_tume=1 # Onda cujas lojas Tumelero serão consideradas\n",
    "safra_telha=3 #  Onda cujas lojas Telhanorte serão consideradas"
   ]
  },
  {
   "cell_type": "code",
   "execution_count": 255,
   "metadata": {},
   "outputs": [],
   "source": [
    "# Dia da apuração\n",
    "hoje = pd.to_datetime('today').date()\n",
    "# hoje = pd.to_datetime('2022-05-28')\n",
    "ANO=str(hoje.year)"
   ]
  },
  {
   "cell_type": "code",
   "execution_count": 256,
   "metadata": {},
   "outputs": [
    {
     "name": "stdout",
     "output_type": "stream",
     "text": [
      "1\n",
      "TELHANORTE\n"
     ]
    }
   ],
   "source": [
    "# Dictionary para extrair empresa\n",
    "ID_UNN=1\n",
    "\n",
    "dict_EMPRESAS={1:\"TELHANORTE\", 4:\"TUMELERO\"}\n",
    "empresa=dict_EMPRESAS[ID_UNN]\n",
    "print(ID_UNN)\n",
    "print(empresa)"
   ]
  },
  {
   "cell_type": "code",
   "execution_count": 257,
   "metadata": {},
   "outputs": [],
   "source": [
    "# DIA PADRÃO DE APURAÇÃO\n",
    "DIA_APURA=hoje.day"
   ]
  },
  {
   "cell_type": "code",
   "execution_count": 258,
   "metadata": {},
   "outputs": [
    {
     "data": {
      "text/plain": [
       "28"
      ]
     },
     "execution_count": 258,
     "metadata": {},
     "output_type": "execute_result"
    }
   ],
   "source": [
    "DIA_APURA"
   ]
  },
  {
   "cell_type": "code",
   "execution_count": 259,
   "metadata": {},
   "outputs": [],
   "source": [
    "MESES= ['jan','fev','mar','abr','mai','jun','jul','ago','set','out','nov','dez']\n",
    "I_MESES= ['01','02','03','04','05','06','07','08','09','10','11','12']\n",
    "MES=MESES[hoje.month-1]\n",
    "I_MES=I_MESES[MESES.index(MES)]\n",
    "I_MES_ANTERIOR=I_MESES[MESES.index(MES)-1]\n"
   ]
  },
  {
   "cell_type": "code",
   "execution_count": 260,
   "metadata": {},
   "outputs": [
    {
     "data": {
      "text/plain": [
       "'04'"
      ]
     },
     "execution_count": 260,
     "metadata": {},
     "output_type": "execute_result"
    }
   ],
   "source": [
    "I_MES_ANTERIOR"
   ]
  },
  {
   "cell_type": "code",
   "execution_count": 261,
   "metadata": {},
   "outputs": [],
   "source": [
    "# Período de Apuração   -   Faltas injustificadas no período\n",
    "# 27 de Janeiro de 2022\n",
    "DATA_I = pd.to_datetime('2022-'+I_MES_ANTERIOR+'-'+str(DIA_APURA))  # data inicial AAAA-MM-DD\n",
    "DATA_F = pd.to_datetime('2022-'+I_MES+'-'+str(DIA_APURA-1))  # data final AAAA-MM-DD"
   ]
  },
  {
   "cell_type": "code",
   "execution_count": 262,
   "metadata": {},
   "outputs": [
    {
     "name": "stdout",
     "output_type": "stream",
     "text": [
      "2022-04-28 00:00:00\n",
      "2022-05-27 00:00:00\n"
     ]
    }
   ],
   "source": [
    "print(DATA_I)\n",
    "print(DATA_F)"
   ]
  },
  {
   "cell_type": "code",
   "execution_count": 263,
   "metadata": {},
   "outputs": [],
   "source": [
    "# PASTAS \n",
    "\n",
    "DIR_BASE='C:/apuracao/'\n",
    "DIR_INFO=DIR_BASE+'info/'\n",
    "DIR_TINA_BASES=DIR_INFO\n",
    "DIR_ENTRA=DIR_BASE+'ENTRADA/'\n",
    "# PASTA PARA MANTER AS BASES ORIGINAIS\n",
    "DIR_IN=DIR_BASE+ANO+'/'+MES+'/ORIGINAIS/'\n",
    "# PASTA COM PLANILHA DE CHECAGEM PARA O ANALISTA DE NEGÓCIOS\n",
    "DIRETORIO_CHECAGEM=DIR_BASE+ANO+'/'+MES+'/CHECAGEM/'\n",
    "# PASTA PARA PLANILHAS DAS VERBAS PARA RH \n",
    "DIR_RH=DIR_BASE+ANO+\"/\"+MES+\"/\"+\"para_RH/\"\n",
    "\n"
   ]
  },
  {
   "cell_type": "code",
   "execution_count": 264,
   "metadata": {},
   "outputs": [],
   "source": [
    "# CRIANDO PASTAS DE SAÍDA SE NÃO EXISTIREM\n",
    "Path(DIR_IN).mkdir(parents=True, exist_ok=True)\n",
    "Path(DIRETORIO_CHECAGEM).mkdir(parents=True, exist_ok=True)\n",
    "Path(DIR_RH).mkdir(parents=True, exist_ok=True)\n"
   ]
  },
  {
   "cell_type": "code",
   "execution_count": 265,
   "metadata": {},
   "outputs": [],
   "source": [
    "# Arquivos a serem importados\n",
    "# Incluídas lojas TUMELERO\n",
    "F_ALVO = DIR_INFO+\"target_salesperson.csv\" # \n",
    "F_VERBAS = DIR_INFO+\"/verbas_descricao.xlsx\"\n",
    "\n",
    "F_LOJA_SAFRA=DIR_INFO+\"lojas.csv\" # \n",
    "#f_loja_safra = \"info/lojas_pilotos_safra3.xlsx\" # Exemplo de janeiro\n"
   ]
  },
  {
   "cell_type": "code",
   "execution_count": 266,
   "metadata": {},
   "outputs": [],
   "source": [
    "# TODO Colocar os valores dos parâmetros em arquivo e importar \n",
    "# Parâmetros do Modelo\n",
    "# Modelo Vendedores\n",
    "# Modelo Vendedores Comissão\n",
    "gat_min_comissao = 0.0  # Gatilho minimo comissão\n",
    "ANG_COEF_COMISSAO = 0.01  # Coeficiente angular = 1%\n",
    "lin_coef_comissao = 0.0  # Coeficiente Linear = 0.0%\n",
    "\n",
    "# Modelo Vendedores Comissão Turbinada Decoração\n",
    "# Como as safras 1, 2 e 3 tem os mesmos valores, mantive só um valor para todas as safras\n",
    "gat_min_decoracao = 0.0  # Gatilho minimo decoração\n",
    "ANG_COEF_DECORACAO = 0.02  # Coeficiente angular decoração = 2%\n",
    "lin_coef_decoracao = 0.0  # Coeficiente Linear decoração = 0.0%\n",
    "\n",
    "# Modelo Vendedores Comissão turbinada Áreas Técnicas\n",
    "# Como as safras 1, 2 e 3 tem os mesmos valores, mantive só um valor para todas as safras\n",
    "gat_min_areastecnicas = 0.0  # Gatilho minimo Áreas Técnicas = 0.0%\n",
    "ANG_COEF_AREASTECNICAS= 0.005  # Coeficiente angular Áreas Técnicas = 0.5%\n",
    "lin_coef_areastecnicas = 0.0  # Coeficiente Linear decoração = 0.0%\n",
    "\n",
    "# Modelo Vendedores Prêmio superação vendas\n",
    "M1 = 100  # meta1 = 100%\n",
    "M2 = 150  # meta2 = 150%\n",
    "M3 = 200  # meta3 = 200%\n",
    "M4 = 250  # meta4 = 250%\n",
    "B1 = {1:300, 4:200}  # bonus1 -> ganha se bater a meta1; Telhanorte 1 = R$300,00; Tumelero 4= R$200,00\n",
    "B2 = {1:600, 4:400}  # bonus2 -> ganha se bater a meta2; Telhanorte 1 = R$600,00; Tumelero 4= R$400,00\n",
    "B3 = {1:900, 4:600}  # bonus3 -> ganha se bater a meta3; Telhanorte 1 = R$900,00; Tumelero 4= R$600,00\n",
    "B4 = {1:1200, 4:800}  # bonus4  -> ganha se bater a meta4; Telhanorte 1 = R$1200,00; Tumelero 4= R$800,00\n",
    "\n",
    "# Modelo Vendedores Prêmio Rentabilidade\n",
    "GAT_MIN_RENTAB = 100.  # Tem que bater 100% da rentabilidade\n",
    "ANG_COEF_RENTAB = 0.001  # Coeficiente angular da rentabilidade = 0.1%\n",
    "LIN_COEF_RENTAB = -0.1  # Coeficiente linear da rentabilidade = -0.1\n",
    "KICKER = {1:200., 4:100} # Premiação inicial quando a rentabilidade alcança 100%; \n",
    "                                   # Telhanorte 1 = R$200,00; Tumelero 4 = R$100,00"
   ]
  },
  {
   "cell_type": "code",
   "execution_count": 267,
   "metadata": {},
   "outputs": [],
   "source": [
    "# Parâmetros do Modelo\n",
    "# Modelo Assessores\n",
    "ASS_A1 = 30000  # Alvo1 = R$30.000,00\n",
    "ASS_A2 = 50000  # Alvo2 = R$50.000,00\n",
    "ASS_B1 = 100  # Bônus1 caso bata Alvo1\n",
    "ASS_B2 = 200  # Bônus2 caso bata Alvo2\n"
   ]
  },
  {
   "cell_type": "code",
   "execution_count": 268,
   "metadata": {},
   "outputs": [],
   "source": [
    "# Vitor (Wingg) via e-mail no dia da apuração\n",
    "E_EXTRATO = DIR_ENTRA+\"extract_remuneration_\"+ANO+I_MES+str(DIA_APURA)+\".xlsx\"\n",
    "F_EXTRATO = DIR_IN+\"extract_remuneration_\"+ANO+I_MES+str(DIA_APURA)+\".xlsx\"\n",
    "\n",
    "# Thayna via sharepoint antes da apuração\n",
    "# F_FALTAS = DIR_IN+\"FALTAS_INJUSTIFICADAS_PREMIACOES TINA_23mar2022_ThaynaCarneiro.xlsx\"\n",
    "E_FALTAS = DIR_ENTRA+\"PREMIACOES TINA.xlsx\"\n",
    "F_FALTAS = DIR_IN+\"PREMIACOES TINA.xlsx\""
   ]
  },
  {
   "cell_type": "code",
   "execution_count": 269,
   "metadata": {},
   "outputs": [
    {
     "name": "stdout",
     "output_type": "stream",
     "text": [
      "A planilha de checagem da Apuração da PREMIAÇÃO TINA INDIVIDUAL realizada em mai está aqui:\n",
      "C:/apuracao/2022/mai/CHECAGEM/\n",
      "C:/apuracao/2022/mai/CHECAGEM/checagem_apuração_PREMIACAO_INDIVIDUAL_mai.xlsx\n"
     ]
    }
   ],
   "source": [
    "print('A planilha de checagem da Apuração da PREMIAÇÃO TINA INDIVIDUAL realizada em '+MES+' está aqui:')\n",
    "print(DIRETORIO_CHECAGEM)\n",
    "# ARQUIO DE SAÍDA PARA CHECAGEM DO ANALISTA DE NEGÓCIOS - EM EXCEL\n",
    "F_SAI_CHECAGEM=DIRETORIO_CHECAGEM + \"CHECAGEM_APURACAO_PREMIACAO_INDIVIDUAL_\"+MES+\".xlsx\"\n",
    "print(F_SAI_CHECAGEM)\n"
   ]
  },
  {
   "cell_type": "code",
   "execution_count": 270,
   "metadata": {},
   "outputs": [],
   "source": [
    "# Sufixos possíveis\n",
    "sufixo=\"_sem_considerar_faltas_injustificadas\"\n",
    "#sufixo=\"_analista\""
   ]
  },
  {
   "cell_type": "code",
   "execution_count": 271,
   "metadata": {},
   "outputs": [],
   "source": [
    "def nome_verbas(DIR_RH, empresa):\n",
    "    # Verbas para o RH das premiações Tina Individuais\n",
    "    F_VERBA_ASS=DIR_RH+\"VERBA_4118_SEGMENTO_ASSESSORES_\"+empresa+\".xlsx\"\n",
    "    F_VERBA_VEN_REN=DIR_RH+\"VERBA_4119_RENTABILIDADE_VENDAS_\"+empresa+\".xlsx\"\n",
    "    F_VERBA_VEN_DEC=DIR_RH+\"VERBA_4120_DECORACAO_VENDAS_\"+empresa+\".xlsx\"\n",
    "    F_VERBA_VEN_SUP=DIR_RH+\"VERBA_4121_SUPERACAO_VENDAS_\"+empresa+\".xlsx\"\n",
    "    F_VERBA_VEN_TEC=DIR_RH+\"VERBA_4122_AREAS_TECNICAS_VENDAS_\"+empresa+\".xlsx\"\n",
    "    # Verbas para o RH das premiações Tina Individuais SEM CONSIDERAR FALTAS INJUSTIFICADAS\n",
    "    F_VERBA_ASS_SEM=DIR_RH+\"VERBA_4118_SEGMENTO_ASSESSORES_\"+empresa+sufixo+\".xlsx\"\n",
    "    F_VERBA_VEN_REN_SEM=DIR_RH+\"VERBA_4119_RENTABILIDADE_VENDAS_\"+empresa+sufixo+\".xlsx\"\n",
    "    F_VERBA_VEN_DEC_SEM=DIR_RH+\"VERBA_4120_DECORACAO_VENDAS_\"+empresa+sufixo+\".xlsx\"\n",
    "    F_VERBA_VEN_SUP_SEM=DIR_RH+\"VERBA_4121_SUPERACAO_VENDAS_\"+empresa+sufixo+\".xlsx\"\n",
    "    F_VERBA_VEN_TEC_SEM=DIR_RH+\"VERBA_4122_AREAS_TECNICAS_VENDAS_\"+empresa+sufixo+\".xlsx\"\n",
    "\n",
    "    return {'F_VERBA_ASS':F_VERBA_ASS, \n",
    "        'F_VERBA_VEN_REN':F_VERBA_VEN_REN, \n",
    "        'F_VERBA_VEN_DEC':F_VERBA_VEN_DEC, \n",
    "        'F_VERBA_VEN_SUP':F_VERBA_VEN_SUP, \n",
    "        'F_VERBA_VEN_TEC':F_VERBA_VEN_TEC,\n",
    "        'F_VERBA_ASS_SEM':F_VERBA_ASS_SEM,\n",
    "        'F_VERBA_VEN_REN_SEM':F_VERBA_VEN_REN_SEM, \n",
    "        'F_VERBA_VEN_DEC_SEM':F_VERBA_VEN_DEC_SEM, \n",
    "        'F_VERBA_VEN_SUP_SEM':F_VERBA_VEN_SUP_SEM, \n",
    "        'F_VERBA_VEN_TEC_SEM':F_VERBA_VEN_TEC_SEM}"
   ]
  },
  {
   "cell_type": "code",
   "execution_count": 272,
   "metadata": {},
   "outputs": [],
   "source": [
    "# Nomes dos arquivos de verbas para RH\n",
    "verbas_telha=nome_verbas(DIR_RH,dict_EMPRESAS[1])\n",
    "verbas_tume=nome_verbas(DIR_RH,dict_EMPRESAS[4])"
   ]
  },
  {
   "cell_type": "code",
   "execution_count": 273,
   "metadata": {},
   "outputs": [
    {
     "data": {
      "text/plain": [
       "'C:/apuracao/2022/mai/para_RH/VERBA_4118_SEGMENTO_ASSESSORES_TELHANORTE_sem_considerar_faltas_injustificadas.xlsx'"
      ]
     },
     "execution_count": 273,
     "metadata": {},
     "output_type": "execute_result"
    }
   ],
   "source": [
    "verbas_telha['F_VERBA_ASS_SEM']"
   ]
  },
  {
   "cell_type": "code",
   "execution_count": 274,
   "metadata": {},
   "outputs": [
    {
     "data": {
      "text/plain": [
       "'C:/apuracao/2022/mai/ORIGINAIS/PREMIACOES TINA.xlsx'"
      ]
     },
     "execution_count": 274,
     "metadata": {},
     "output_type": "execute_result"
    }
   ],
   "source": [
    "import shutil\n",
    "# Fazendo backup das bases nas pasta ORIGINAIS respectiva ao mes e ano da apuração \n",
    "shutil.copy2(E_EXTRATO,F_EXTRATO)\n",
    "shutil.copy2(E_FALTAS,F_FALTAS)"
   ]
  },
  {
   "cell_type": "code",
   "execution_count": 275,
   "metadata": {},
   "outputs": [],
   "source": [
    "# Carregando lojas TINA da Telhanorte e da Tumelero \n",
    "#\n",
    "nome_lojas = pd.read_csv(F_LOJA_SAFRA, encoding=\"ISO-8859-1\", delimiter=\";\")\n",
    "# Deletando lojas que não estão na safra TINA\n",
    "nome_lojas.drop(nome_lojas[(\n",
    "    (nome_lojas['id_unn']==1) & (nome_lojas['safra']>safra_telha)\n",
    "    ) | (\n",
    "    (nome_lojas['id_unn']==4) & (nome_lojas['safra']>safra_tume)   \n",
    "    )\n",
    "    ].index, inplace=True)"
   ]
  },
  {
   "cell_type": "code",
   "execution_count": 276,
   "metadata": {},
   "outputs": [],
   "source": [
    "# Função para importar comissões separamente por empresa (vendas da ADP)\n",
    "def importa_comissoes(arquivo):\n",
    "    # Atribuindo nomes às colunas das comissões\n",
    "    column_names=[\n",
    "    'N1',\t\n",
    "    'N2',\t\n",
    "    'N3',\t\n",
    "    'MATRICULA',\t\n",
    "    'POS_NEG',\t \n",
    "    'VALOR',\n",
    "    'NONE'\n",
    "    ]\n",
    "    print(arquivo)\n",
    "    print(\"Importando as comissões\")\n",
    "    print(\"Arquivo: \"+arquivo)\n",
    "    comissao = pd.read_csv(arquivo, delimiter=\";\", names=column_names, header=None, skiprows=1)\n",
    "    # Trocando \",\" por \".\" para poder calcular os números no Python\n",
    "    comissao[\"VALOR\"]=comissao[\"VALOR\"].str.replace(\",\",\".\").astype(float)\n",
    "    ##  Vendas devolvidas como negativas\n",
    "    print(\"Valores negativos para vendas devolvidas\")\n",
    "    comissao[\"VALOR_COR\"]=np.where(comissao[\"POS_NEG\"]==3771, -comissao[\"VALOR\"],comissao[\"VALOR\"])\n",
    "    # Só matrícula e valor das vendas correspondente a essa matrícula\n",
    "    comissao=comissao[['MATRICULA','VALOR_COR']]\n",
    "    # Somando as vendas totais de cada matrícula\n",
    "    n_vendas = comissao.groupby(['MATRICULA']).size().reset_index()\n",
    "    n_vendas.rename(columns={0:'NUMERO_DE_LOJAS_COM_VENDA'}, inplace=True)\n",
    "    print(\"Somando todas as vendas de uma matrícula:\")\n",
    "    comissao = comissao.groupby(['MATRICULA'])['VALOR_COR'].sum().reset_index()\n",
    "    comissao.rename(columns={'VALOR_COR':'VENDAS_TOT'}, inplace=True)\n",
    "    comissao['COMISSAO']=comissao['VENDAS_TOT']*0.01\n",
    "    comissao=pd.merge(comissao,n_vendas, how='left', on=['MATRICULA'] )\n",
    "    return comissao"
   ]
  },
  {
   "cell_type": "code",
   "execution_count": 277,
   "metadata": {},
   "outputs": [
    {
     "name": "stdout",
     "output_type": "stream",
     "text": [
      "C:/apuracao/2022/mai/ORIGINAIS/LANC_COMISSAO_052022_telhanorte\n",
      "Importando as comissões\n",
      "Arquivo: C:/apuracao/2022/mai/ORIGINAIS/LANC_COMISSAO_052022_telhanorte\n",
      "Valores negativos para vendas devolvidas\n",
      "Somando todas as vendas de uma matrícula:\n"
     ]
    }
   ],
   "source": [
    "# Comissão TELHANORTE\n",
    "# Ricardo Valdir via e-mail para o Junior no dia da apuração\n",
    "E_COMISSAO = DIR_ENTRA+\"LANC_COMISSAO_\"+str(I_MES)+ANO+'_'+dict_EMPRESAS[1].lower() # base de entrada Comissao\n",
    "F_COMISSAO = DIR_IN+\"LANC_COMISSAO_\"+str(I_MES)+ANO+'_'+dict_EMPRESAS[1].lower() # cópia da base Comissão a ser mantida\n",
    "# backup da base de comissão TELHANORTE\n",
    "shutil.copy2(E_COMISSAO,F_COMISSAO)\n",
    "# importando a comissão Telhanorte\n",
    "comissao_telha=importa_comissoes(F_COMISSAO)\n"
   ]
  },
  {
   "cell_type": "code",
   "execution_count": 278,
   "metadata": {},
   "outputs": [
    {
     "data": {
      "text/html": [
       "<div>\n",
       "<style scoped>\n",
       "    .dataframe tbody tr th:only-of-type {\n",
       "        vertical-align: middle;\n",
       "    }\n",
       "\n",
       "    .dataframe tbody tr th {\n",
       "        vertical-align: top;\n",
       "    }\n",
       "\n",
       "    .dataframe thead th {\n",
       "        text-align: right;\n",
       "    }\n",
       "</style>\n",
       "<table border=\"1\" class=\"dataframe\">\n",
       "  <thead>\n",
       "    <tr style=\"text-align: right;\">\n",
       "      <th></th>\n",
       "      <th>MATRICULA</th>\n",
       "      <th>VENDAS_TOT</th>\n",
       "      <th>COMISSAO</th>\n",
       "      <th>NUMERO_DE_LOJAS_COM_VENDA</th>\n",
       "    </tr>\n",
       "  </thead>\n",
       "  <tbody>\n",
       "    <tr>\n",
       "      <th>435</th>\n",
       "      <td>25724</td>\n",
       "      <td>79905.1</td>\n",
       "      <td>799.051</td>\n",
       "      <td>3</td>\n",
       "    </tr>\n",
       "  </tbody>\n",
       "</table>\n",
       "</div>"
      ],
      "text/plain": [
       "     MATRICULA  VENDAS_TOT  COMISSAO  NUMERO_DE_LOJAS_COM_VENDA\n",
       "435      25724     79905.1   799.051                          3"
      ]
     },
     "execution_count": 278,
     "metadata": {},
     "output_type": "execute_result"
    }
   ],
   "source": [
    "# Para visualizar as vendas totais e a comissão de um colaborador \n",
    "comissao_telha[comissao_telha['MATRICULA'] == 25724]"
   ]
  },
  {
   "cell_type": "code",
   "execution_count": 279,
   "metadata": {},
   "outputs": [
    {
     "name": "stdout",
     "output_type": "stream",
     "text": [
      "C:/apuracao/2022/mai/ORIGINAIS/LANC_COMISSAO_052022_tumelero\n",
      "Importando as comissões\n",
      "Arquivo: C:/apuracao/2022/mai/ORIGINAIS/LANC_COMISSAO_052022_tumelero\n",
      "Valores negativos para vendas devolvidas\n",
      "Somando todas as vendas de uma matrícula:\n"
     ]
    }
   ],
   "source": [
    "# Comissão TUMELERO\n",
    "# Ricardo Valdir via e-mail para o Junior no dia da apuração\n",
    "E_COMISSAO = DIR_ENTRA+\"LANC_COMISSAO_\"+str(I_MES)+ANO+'_'+dict_EMPRESAS[4].lower() # base de entrada Comissao\n",
    "F_COMISSAO = DIR_IN+\"LANC_COMISSAO_\"+str(I_MES)+ANO+'_'+dict_EMPRESAS[4].lower() # cópia da base Comissão a ser mantida\n",
    "# backup da base de comissão TUMELERO\n",
    "shutil.copy2(E_COMISSAO,F_COMISSAO)\n",
    "# importando a comissão Tumelero\n",
    "comissao_tume=importa_comissoes(F_COMISSAO)\n"
   ]
  },
  {
   "cell_type": "code",
   "execution_count": 281,
   "metadata": {},
   "outputs": [],
   "source": [
    "# juntando comissão da Telhanorte e Tumelero\n",
    "comissao_telha['ID_UNN']=1 # Identidade da empresa Telhanorte = 1\n",
    "comissao_tume['ID_UNN']=4 # Identidade da empresa Tumelero = 4\n",
    "comissao=pd.concat([\n",
    "    comissao_telha[['ID_UNN', 'MATRICULA', 'VENDAS_TOT', 'COMISSAO', 'NUMERO_DE_LOJAS_COM_VENDA']],\n",
    "    comissao_tume[['ID_UNN', 'MATRICULA', 'VENDAS_TOT', 'COMISSAO', 'NUMERO_DE_LOJAS_COM_VENDA']]\n",
    "    ])\n",
    "\n"
   ]
  },
  {
   "cell_type": "code",
   "execution_count": 282,
   "metadata": {},
   "outputs": [
    {
     "name": "stdout",
     "output_type": "stream",
     "text": [
      "Lendo alvos das lojas no arquivo:\n",
      "C:/apuracao/info/target_salesperson.csv\n"
     ]
    }
   ],
   "source": [
    "# Lendo os alvos que os vendedores devem atingir por loja\n",
    "print(\"Lendo alvos das lojas no arquivo:\")\n",
    "print(F_ALVO)\n",
    "alvos = pd.read_csv(F_ALVO, delimiter=\";\", header=0, skiprows=0)\n",
    "# Renomeando e transformando em número\n",
    "alvos.rename(columns={'target_sales_salesperson':'Alvo1'}, inplace=True)\n",
    "alvos['Alvo1']=alvos['Alvo1'].str.replace(\",\",\".\").astype(float)\n",
    "#Transformando floor remuneration em Mínimo Garantido e em número\n",
    "alvos['Minimo Garantido']=alvos['floor_remuneration'].str.replace(\",\",\".\").astype(float)"
   ]
  },
  {
   "cell_type": "code",
   "execution_count": 284,
   "metadata": {},
   "outputs": [],
   "source": [
    "# Mantendo somente alvos Telhanorte\n",
    "#alvos=alvos[alvos['id_unn']==1] # id_unn = (1=Telhanorte; 2=Tumelero)\n",
    "# Mantendo somente alguns parâmetros\n",
    "alvos= alvos[['cod_loja','Alvo1', 'Minimo Garantido']]\n",
    "\n",
    "alvos=pd.merge(alvos,nome_lojas[['cod_loja','sigla_loja']],how='left',on='cod_loja')"
   ]
  },
  {
   "cell_type": "code",
   "execution_count": 288,
   "metadata": {},
   "outputs": [
    {
     "name": "stdout",
     "output_type": "stream",
     "text": [
      "Lendo faltas injustificadas no arquivo:\n",
      "C:/apuracao/2022/mai/ORIGINAIS/PREMIACOES TINA.xlsx\n"
     ]
    }
   ],
   "source": [
    "# Lendo faltas injustificadas\n",
    "print(\"Lendo faltas injustificadas no arquivo:\")\n",
    "print(F_FALTAS)\n",
    "faltas_inj = pd.read_excel(F_FALTAS, header=0)"
   ]
  },
  {
   "cell_type": "code",
   "execution_count": 289,
   "metadata": {},
   "outputs": [
    {
     "data": {
      "text/plain": [
       "10    2022-04-28\n",
       "83    2022-04-28\n",
       "121   2022-04-28\n",
       "133   2022-04-28\n",
       "36    2022-04-28\n",
       "         ...    \n",
       "307   2022-05-26\n",
       "329   2022-05-27\n",
       "308   2022-05-27\n",
       "340   2022-05-27\n",
       "322   2022-05-27\n",
       "Name: DATA DA OCORRÊNCIA, Length: 225, dtype: datetime64[ns]"
      ]
     },
     "execution_count": 289,
     "metadata": {},
     "output_type": "execute_result"
    }
   ],
   "source": [
    "faltas = faltas_inj[(faltas_inj['DATA DA OCORRÊNCIA'] >= DATA_I) &\n",
    "           (faltas_inj['DATA DA OCORRÊNCIA'] <= DATA_F)]\n",
    "faltas['DATA DA OCORRÊNCIA'].sort_values()"
   ]
  },
  {
   "cell_type": "code",
   "execution_count": 290,
   "metadata": {},
   "outputs": [],
   "source": [
    "faltas=pd.merge(\n",
    "    faltas.rename(columns={\n",
    "        'EMPRESA':'ID_UNN',\n",
    "        'NOME ESTAB':'SIGLA_LOJA'\n",
    "        }),\n",
    "    nome_lojas[['id_unn','cod_loja','sigla_loja']].rename(columns={\n",
    "        'id_unn':'ID_UNN',\n",
    "        'cod_loja':'COD_LOJA',\n",
    "        'sigla_loja': 'SIGLA_LOJA'\n",
    "        }),\n",
    "    how='left',\n",
    "    on=['ID_UNN', 'SIGLA_LOJA']\n",
    "    )"
   ]
  },
  {
   "cell_type": "code",
   "execution_count": 292,
   "metadata": {},
   "outputs": [
    {
     "name": "stdout",
     "output_type": "stream",
     "text": [
      "Lendo Extrato de Remuneração da Tina\n",
      "C:/apuracao/2022/mai/ORIGINAIS/extract_remuneration_20220528.xlsx\n"
     ]
    }
   ],
   "source": [
    "# Loading Remuneration extract from Tina\n",
    "print(\"Lendo Extrato de Remuneração da Tina\")\n",
    "print(F_EXTRATO)\n",
    "extrato = pd.read_excel(F_EXTRATO)"
   ]
  },
  {
   "cell_type": "code",
   "execution_count": 293,
   "metadata": {},
   "outputs": [
    {
     "name": "stdout",
     "output_type": "stream",
     "text": [
      "Considerando somente colaboradores das lojas participantes da Tina\n"
     ]
    },
    {
     "data": {
      "text/plain": [
       "Index(['store_sk', 'registration_id', 'segment', 'job_simplified',\n",
       "       'E1_gross_sales', 'E2_gross_sales', 'E3_gross_sales', 'gross_sales',\n",
       "       'sales_segment', 'rentability'],\n",
       "      dtype='object')"
      ]
     },
     "execution_count": 293,
     "metadata": {},
     "output_type": "execute_result"
    }
   ],
   "source": [
    "# Somente colaboradores Tina das lojas da safra\n",
    "print(\"Considerando somente colaboradores das lojas participantes da Tina\")\n",
    "COLS_TO_KEEP=[\n",
    "    'store_sk', \n",
    "    'registration_id', \n",
    "    'segment', \n",
    "    'job_simplified',\n",
    "    'E1_gross_sales', \n",
    "    'E2_gross_sales', \n",
    "    'E3_gross_sales', \n",
    "    'gross_sales', \n",
    "    'sales_segment', \n",
    "    'rentability'\n",
    "    ]\n",
    "so_safra = extrato[extrato[\"store_sk\"].isin(nome_lojas['cod_loja'])][COLS_TO_KEEP].copy(deep=True)\n",
    "so_safra.columns"
   ]
  },
  {
   "cell_type": "code",
   "execution_count": 295,
   "metadata": {},
   "outputs": [],
   "source": [
    "#para planilha checagem\n",
    "tina=so_safra.copy(deep=True)\n"
   ]
  },
  {
   "cell_type": "code",
   "execution_count": 296,
   "metadata": {},
   "outputs": [],
   "source": [
    "# Verificando quem tem falta injustificada\n",
    "tina['FALTA']=np.where(\n",
    "    (tina['store_sk'].isin(faltas['COD_LOJA'])==True) &\n",
    "    (tina['registration_id'].isin(faltas['MATR EMPR'])==True) \n",
    "    ,'SIM','NAO')"
   ]
  },
  {
   "cell_type": "code",
   "execution_count": 338,
   "metadata": {},
   "outputs": [
    {
     "data": {
      "text/plain": [
       "0          34.0\n",
       "1          34.0\n",
       "2          34.0\n",
       "3          34.0\n",
       "4          34.0\n",
       "         ...   \n",
       "220    510078.0\n",
       "221    510078.0\n",
       "222    510078.0\n",
       "223    510078.0\n",
       "224         NaN\n",
       "Name: COD_LOJA, Length: 225, dtype: float64"
      ]
     },
     "execution_count": 338,
     "metadata": {},
     "output_type": "execute_result"
    }
   ],
   "source": [
    "faltas['COD_LOJA']"
   ]
  },
  {
   "cell_type": "code",
   "execution_count": 298,
   "metadata": {},
   "outputs": [],
   "source": [
    "# Juntando nome de sigla das lojas\n",
    "tina=pd.merge(\n",
    "    tina.rename(columns={'store_sk':'cod_loja'}),\n",
    "    nome_lojas[['cod_loja', 'sigla_loja']],\n",
    "    how='left',on='cod_loja'\n",
    "    )"
   ]
  },
  {
   "cell_type": "code",
   "execution_count": 299,
   "metadata": {},
   "outputs": [],
   "source": [
    "# Renomeando matricula para juntar com a comissão\n",
    "tina.rename(columns={'registration_id':'MATRICULA'}, inplace=True)\n"
   ]
  },
  {
   "cell_type": "code",
   "execution_count": 300,
   "metadata": {},
   "outputs": [],
   "source": [
    "# Identificando lojas da empresa (ID_UNN) Telhanorte = 1 e Tumelero = 4\n",
    "tina['ID_UNN']=np.where(tina['cod_loja']<510000,1,4)"
   ]
  },
  {
   "cell_type": "code",
   "execution_count": 301,
   "metadata": {},
   "outputs": [],
   "source": [
    "# # Juntando com a comissão\n",
    "tina=tina.merge(\n",
    "    comissao,\n",
    "    how='left',on=['ID_UNN','MATRICULA'])"
   ]
  },
  {
   "cell_type": "code",
   "execution_count": 303,
   "metadata": {},
   "outputs": [],
   "source": [
    "\n",
    "tina=pd.merge(\n",
    "    tina,\n",
    "    alvos[['cod_loja','Alvo1', 'Minimo Garantido']],\n",
    "    how='left', on='cod_loja'\n",
    "    )"
   ]
  },
  {
   "cell_type": "code",
   "execution_count": 305,
   "metadata": {},
   "outputs": [
    {
     "data": {
      "text/html": [
       "<div>\n",
       "<style scoped>\n",
       "    .dataframe tbody tr th:only-of-type {\n",
       "        vertical-align: middle;\n",
       "    }\n",
       "\n",
       "    .dataframe tbody tr th {\n",
       "        vertical-align: top;\n",
       "    }\n",
       "\n",
       "    .dataframe thead th {\n",
       "        text-align: right;\n",
       "    }\n",
       "</style>\n",
       "<table border=\"1\" class=\"dataframe\">\n",
       "  <thead>\n",
       "    <tr style=\"text-align: right;\">\n",
       "      <th></th>\n",
       "      <th>cod_loja</th>\n",
       "      <th>MATRICULA</th>\n",
       "      <th>segment</th>\n",
       "      <th>job_simplified</th>\n",
       "      <th>E1_gross_sales</th>\n",
       "      <th>E2_gross_sales</th>\n",
       "      <th>E3_gross_sales</th>\n",
       "      <th>gross_sales</th>\n",
       "      <th>sales_segment</th>\n",
       "      <th>rentability</th>\n",
       "      <th>FALTA</th>\n",
       "      <th>sigla_loja</th>\n",
       "      <th>ID_UNN</th>\n",
       "      <th>VENDAS_TOT</th>\n",
       "      <th>COMISSAO</th>\n",
       "      <th>NUMERO_DE_LOJAS_COM_VENDA</th>\n",
       "      <th>Alvo1</th>\n",
       "      <th>Minimo Garantido</th>\n",
       "      <th>VENDAS_SOBRE_ALVO</th>\n",
       "    </tr>\n",
       "  </thead>\n",
       "  <tbody>\n",
       "    <tr>\n",
       "      <th>621</th>\n",
       "      <td>39</td>\n",
       "      <td>27960</td>\n",
       "      <td>E1</td>\n",
       "      <td>assistant</td>\n",
       "      <td>9291.757</td>\n",
       "      <td>6945.977</td>\n",
       "      <td>15428.828</td>\n",
       "      <td>31666.562</td>\n",
       "      <td>9291.757</td>\n",
       "      <td>-570.350524</td>\n",
       "      <td>NAO</td>\n",
       "      <td>UBE</td>\n",
       "      <td>1</td>\n",
       "      <td>31666.56</td>\n",
       "      <td>316.6656</td>\n",
       "      <td>1.0</td>\n",
       "      <td>NaN</td>\n",
       "      <td>1400.4</td>\n",
       "      <td>None</td>\n",
       "    </tr>\n",
       "    <tr>\n",
       "      <th>527</th>\n",
       "      <td>32</td>\n",
       "      <td>24922</td>\n",
       "      <td>NaN</td>\n",
       "      <td>salesperson</td>\n",
       "      <td>6822.458</td>\n",
       "      <td>757.158</td>\n",
       "      <td>27243.045</td>\n",
       "      <td>34822.661</td>\n",
       "      <td>NaN</td>\n",
       "      <td>102.386038</td>\n",
       "      <td>NAO</td>\n",
       "      <td>GRU</td>\n",
       "      <td>1</td>\n",
       "      <td>34822.66</td>\n",
       "      <td>348.2266</td>\n",
       "      <td>1.0</td>\n",
       "      <td>245148.00</td>\n",
       "      <td>2042.9</td>\n",
       "      <td>0.142047</td>\n",
       "    </tr>\n",
       "    <tr>\n",
       "      <th>169</th>\n",
       "      <td>9</td>\n",
       "      <td>29630</td>\n",
       "      <td>E1</td>\n",
       "      <td>assistant</td>\n",
       "      <td>32419.161</td>\n",
       "      <td>18987.432</td>\n",
       "      <td>45917.512</td>\n",
       "      <td>97324.105</td>\n",
       "      <td>32419.161</td>\n",
       "      <td>-2.193520</td>\n",
       "      <td>NAO</td>\n",
       "      <td>SA1</td>\n",
       "      <td>1</td>\n",
       "      <td>97324.11</td>\n",
       "      <td>973.2411</td>\n",
       "      <td>2.0</td>\n",
       "      <td>NaN</td>\n",
       "      <td>1983.7</td>\n",
       "      <td>None</td>\n",
       "    </tr>\n",
       "    <tr>\n",
       "      <th>627</th>\n",
       "      <td>39</td>\n",
       "      <td>29231</td>\n",
       "      <td>E1</td>\n",
       "      <td>assistant</td>\n",
       "      <td>9233.455</td>\n",
       "      <td>3799.059</td>\n",
       "      <td>16518.565</td>\n",
       "      <td>29551.079</td>\n",
       "      <td>9233.455</td>\n",
       "      <td>106.259212</td>\n",
       "      <td>NAO</td>\n",
       "      <td>UBE</td>\n",
       "      <td>1</td>\n",
       "      <td>29551.08</td>\n",
       "      <td>295.5108</td>\n",
       "      <td>1.0</td>\n",
       "      <td>NaN</td>\n",
       "      <td>1400.4</td>\n",
       "      <td>None</td>\n",
       "    </tr>\n",
       "    <tr>\n",
       "      <th>603</th>\n",
       "      <td>38</td>\n",
       "      <td>26059</td>\n",
       "      <td>E3</td>\n",
       "      <td>salesperson</td>\n",
       "      <td>17169.839</td>\n",
       "      <td>11463.312</td>\n",
       "      <td>195355.149</td>\n",
       "      <td>223988.300</td>\n",
       "      <td>195355.149</td>\n",
       "      <td>104.170546</td>\n",
       "      <td>NAO</td>\n",
       "      <td>DPE</td>\n",
       "      <td>1</td>\n",
       "      <td>223988.30</td>\n",
       "      <td>2239.8830</td>\n",
       "      <td>1.0</td>\n",
       "      <td>198000.00</td>\n",
       "      <td>1929.2</td>\n",
       "      <td>1.131254</td>\n",
       "    </tr>\n",
       "    <tr>\n",
       "      <th>669</th>\n",
       "      <td>43</td>\n",
       "      <td>27647</td>\n",
       "      <td>E1</td>\n",
       "      <td>salesperson</td>\n",
       "      <td>43841.091</td>\n",
       "      <td>13534.721</td>\n",
       "      <td>60680.798</td>\n",
       "      <td>118056.610</td>\n",
       "      <td>43841.091</td>\n",
       "      <td>-465.471395</td>\n",
       "      <td>NAO</td>\n",
       "      <td>TAT</td>\n",
       "      <td>1</td>\n",
       "      <td>118056.61</td>\n",
       "      <td>1180.5661</td>\n",
       "      <td>1.0</td>\n",
       "      <td>238200.00</td>\n",
       "      <td>1985.0</td>\n",
       "      <td>0.49562</td>\n",
       "    </tr>\n",
       "    <tr>\n",
       "      <th>264</th>\n",
       "      <td>23</td>\n",
       "      <td>23976</td>\n",
       "      <td>E3</td>\n",
       "      <td>salesperson</td>\n",
       "      <td>1016.430</td>\n",
       "      <td>NaN</td>\n",
       "      <td>2337.640</td>\n",
       "      <td>3354.070</td>\n",
       "      <td>2337.640</td>\n",
       "      <td>104.961797</td>\n",
       "      <td>NAO</td>\n",
       "      <td>PMG</td>\n",
       "      <td>1</td>\n",
       "      <td>3354.07</td>\n",
       "      <td>33.5407</td>\n",
       "      <td>1.0</td>\n",
       "      <td>238200.00</td>\n",
       "      <td>1985.0</td>\n",
       "      <td>0.014081</td>\n",
       "    </tr>\n",
       "    <tr>\n",
       "      <th>623</th>\n",
       "      <td>39</td>\n",
       "      <td>28225</td>\n",
       "      <td>E3</td>\n",
       "      <td>salesperson</td>\n",
       "      <td>15212.523</td>\n",
       "      <td>8662.295</td>\n",
       "      <td>131130.772</td>\n",
       "      <td>155005.590</td>\n",
       "      <td>131130.772</td>\n",
       "      <td>-143.765657</td>\n",
       "      <td>NAO</td>\n",
       "      <td>UBE</td>\n",
       "      <td>1</td>\n",
       "      <td>155005.59</td>\n",
       "      <td>1550.0559</td>\n",
       "      <td>1.0</td>\n",
       "      <td>160000.00</td>\n",
       "      <td>1400.4</td>\n",
       "      <td>0.968785</td>\n",
       "    </tr>\n",
       "    <tr>\n",
       "      <th>894</th>\n",
       "      <td>75</td>\n",
       "      <td>101</td>\n",
       "      <td>NaN</td>\n",
       "      <td>-</td>\n",
       "      <td>-383.460</td>\n",
       "      <td>-356.900</td>\n",
       "      <td>-363.300</td>\n",
       "      <td>-1103.660</td>\n",
       "      <td>NaN</td>\n",
       "      <td>106.746306</td>\n",
       "      <td>NAO</td>\n",
       "      <td>AMZ</td>\n",
       "      <td>1</td>\n",
       "      <td>-1103.66</td>\n",
       "      <td>-11.0366</td>\n",
       "      <td>1.0</td>\n",
       "      <td>160000.00</td>\n",
       "      <td>1283.7</td>\n",
       "      <td>None</td>\n",
       "    </tr>\n",
       "    <tr>\n",
       "      <th>788</th>\n",
       "      <td>64</td>\n",
       "      <td>20948</td>\n",
       "      <td>E1</td>\n",
       "      <td>salesperson</td>\n",
       "      <td>40956.348</td>\n",
       "      <td>19346.085</td>\n",
       "      <td>271583.585</td>\n",
       "      <td>331886.018</td>\n",
       "      <td>40956.348</td>\n",
       "      <td>-26280.364072</td>\n",
       "      <td>NAO</td>\n",
       "      <td>SAN</td>\n",
       "      <td>1</td>\n",
       "      <td>331886.02</td>\n",
       "      <td>3318.8602</td>\n",
       "      <td>1.0</td>\n",
       "      <td>256003.20</td>\n",
       "      <td>2133.4</td>\n",
       "      <td>1.296414</td>\n",
       "    </tr>\n",
       "    <tr>\n",
       "      <th>93</th>\n",
       "      <td>3</td>\n",
       "      <td>27597</td>\n",
       "      <td>E3</td>\n",
       "      <td>salesperson</td>\n",
       "      <td>7433.268</td>\n",
       "      <td>4545.190</td>\n",
       "      <td>61268.239</td>\n",
       "      <td>73246.697</td>\n",
       "      <td>61268.239</td>\n",
       "      <td>105.122321</td>\n",
       "      <td>NAO</td>\n",
       "      <td>MGN</td>\n",
       "      <td>1</td>\n",
       "      <td>73246.70</td>\n",
       "      <td>732.4670</td>\n",
       "      <td>1.0</td>\n",
       "      <td>280000.00</td>\n",
       "      <td>1985.0</td>\n",
       "      <td>0.261595</td>\n",
       "    </tr>\n",
       "    <tr>\n",
       "      <th>148</th>\n",
       "      <td>8</td>\n",
       "      <td>29310</td>\n",
       "      <td>E1</td>\n",
       "      <td>salesperson</td>\n",
       "      <td>15545.575</td>\n",
       "      <td>13728.543</td>\n",
       "      <td>104389.888</td>\n",
       "      <td>133664.006</td>\n",
       "      <td>15545.575</td>\n",
       "      <td>102.408749</td>\n",
       "      <td>NAO</td>\n",
       "      <td>PGD</td>\n",
       "      <td>1</td>\n",
       "      <td>133664.00</td>\n",
       "      <td>1336.6400</td>\n",
       "      <td>1.0</td>\n",
       "      <td>230402.88</td>\n",
       "      <td>2133.4</td>\n",
       "      <td>0.580132</td>\n",
       "    </tr>\n",
       "    <tr>\n",
       "      <th>530</th>\n",
       "      <td>32</td>\n",
       "      <td>25366</td>\n",
       "      <td>E2</td>\n",
       "      <td>assistant</td>\n",
       "      <td>43414.607</td>\n",
       "      <td>7901.588</td>\n",
       "      <td>51271.683</td>\n",
       "      <td>102587.878</td>\n",
       "      <td>7901.588</td>\n",
       "      <td>-715.198416</td>\n",
       "      <td>NAO</td>\n",
       "      <td>GRU</td>\n",
       "      <td>1</td>\n",
       "      <td>102587.88</td>\n",
       "      <td>1025.8788</td>\n",
       "      <td>1.0</td>\n",
       "      <td>NaN</td>\n",
       "      <td>2042.9</td>\n",
       "      <td>None</td>\n",
       "    </tr>\n",
       "  </tbody>\n",
       "</table>\n",
       "</div>"
      ],
      "text/plain": [
       "     cod_loja  MATRICULA segment job_simplified  E1_gross_sales  \\\n",
       "621        39      27960      E1      assistant        9291.757   \n",
       "527        32      24922     NaN    salesperson        6822.458   \n",
       "169         9      29630      E1      assistant       32419.161   \n",
       "627        39      29231      E1      assistant        9233.455   \n",
       "603        38      26059      E3    salesperson       17169.839   \n",
       "669        43      27647      E1    salesperson       43841.091   \n",
       "264        23      23976      E3    salesperson        1016.430   \n",
       "623        39      28225      E3    salesperson       15212.523   \n",
       "894        75        101     NaN              -        -383.460   \n",
       "788        64      20948      E1    salesperson       40956.348   \n",
       "93          3      27597      E3    salesperson        7433.268   \n",
       "148         8      29310      E1    salesperson       15545.575   \n",
       "530        32      25366      E2      assistant       43414.607   \n",
       "\n",
       "     E2_gross_sales  E3_gross_sales  gross_sales  sales_segment   rentability  \\\n",
       "621        6945.977       15428.828    31666.562       9291.757   -570.350524   \n",
       "527         757.158       27243.045    34822.661            NaN    102.386038   \n",
       "169       18987.432       45917.512    97324.105      32419.161     -2.193520   \n",
       "627        3799.059       16518.565    29551.079       9233.455    106.259212   \n",
       "603       11463.312      195355.149   223988.300     195355.149    104.170546   \n",
       "669       13534.721       60680.798   118056.610      43841.091   -465.471395   \n",
       "264             NaN        2337.640     3354.070       2337.640    104.961797   \n",
       "623        8662.295      131130.772   155005.590     131130.772   -143.765657   \n",
       "894        -356.900        -363.300    -1103.660            NaN    106.746306   \n",
       "788       19346.085      271583.585   331886.018      40956.348 -26280.364072   \n",
       "93         4545.190       61268.239    73246.697      61268.239    105.122321   \n",
       "148       13728.543      104389.888   133664.006      15545.575    102.408749   \n",
       "530        7901.588       51271.683   102587.878       7901.588   -715.198416   \n",
       "\n",
       "    FALTA sigla_loja  ID_UNN  VENDAS_TOT   COMISSAO  \\\n",
       "621   NAO        UBE       1    31666.56   316.6656   \n",
       "527   NAO        GRU       1    34822.66   348.2266   \n",
       "169   NAO        SA1       1    97324.11   973.2411   \n",
       "627   NAO        UBE       1    29551.08   295.5108   \n",
       "603   NAO        DPE       1   223988.30  2239.8830   \n",
       "669   NAO        TAT       1   118056.61  1180.5661   \n",
       "264   NAO        PMG       1     3354.07    33.5407   \n",
       "623   NAO        UBE       1   155005.59  1550.0559   \n",
       "894   NAO        AMZ       1    -1103.66   -11.0366   \n",
       "788   NAO        SAN       1   331886.02  3318.8602   \n",
       "93    NAO        MGN       1    73246.70   732.4670   \n",
       "148   NAO        PGD       1   133664.00  1336.6400   \n",
       "530   NAO        GRU       1   102587.88  1025.8788   \n",
       "\n",
       "     NUMERO_DE_LOJAS_COM_VENDA      Alvo1  Minimo Garantido VENDAS_SOBRE_ALVO  \n",
       "621                        1.0        NaN            1400.4              None  \n",
       "527                        1.0  245148.00            2042.9          0.142047  \n",
       "169                        2.0        NaN            1983.7              None  \n",
       "627                        1.0        NaN            1400.4              None  \n",
       "603                        1.0  198000.00            1929.2          1.131254  \n",
       "669                        1.0  238200.00            1985.0           0.49562  \n",
       "264                        1.0  238200.00            1985.0          0.014081  \n",
       "623                        1.0  160000.00            1400.4          0.968785  \n",
       "894                        1.0  160000.00            1283.7              None  \n",
       "788                        1.0  256003.20            2133.4          1.296414  \n",
       "93                         1.0  280000.00            1985.0          0.261595  \n",
       "148                        1.0  230402.88            2133.4          0.580132  \n",
       "530                        1.0        NaN            2042.9              None  "
      ]
     },
     "execution_count": 305,
     "metadata": {},
     "output_type": "execute_result"
    }
   ],
   "source": [
    "# Eliminando alvos de assessores\n",
    "#VENDAS_SOBRE_ALVO da TUMELERO: baseado em vendas totais da Tina que considera devoluções (Vendas ADP não considera devoluções)\n",
    "# VENDAS_SOBRE_ALVO da TELHANORTE: baseado em vendas da ADP considera devoluções\n",
    "tina.loc[tina.job_simplified=='assistant', 'Alvo1'] = None\n",
    "tina['VENDAS_SOBRE_ALVO'] =  None\n",
    "tina.loc[(tina.ID_UNN == 1) & (tina.job_simplified=='salesperson'), 'VENDAS_SOBRE_ALVO'] = tina['VENDAS_TOT']/tina['Alvo1']\n",
    "tina.loc[(tina.ID_UNN == 4) & (tina.job_simplified=='salesperson'), 'VENDAS_SOBRE_ALVO'] = tina['gross_sales']/tina['Alvo1']\n"
   ]
  },
  {
   "cell_type": "code",
   "execution_count": 307,
   "metadata": {},
   "outputs": [],
   "source": [
    "# Eliminando minimos garantidos de assessores\n",
    "tina['Minimo Garantido']=np.where(tina['job_simplified']=='assistant',np.nan,tina['Minimo Garantido'])"
   ]
  },
  {
   "cell_type": "code",
   "execution_count": 308,
   "metadata": {},
   "outputs": [],
   "source": [
    "# Vendedores atingiu alvo ou não atingiu alvo\n",
    "tina.loc[\n",
    "    (tina.job_simplified=='salesperson') &\n",
    "    (tina.VENDAS_SOBRE_ALVO>=1.), 'ATINGIU_ALVO'] = 'SIM'\n",
    "tina.loc[\n",
    "    (tina.job_simplified=='salesperson') &\n",
    "    (tina.VENDAS_SOBRE_ALVO<1.), 'ATINGIU_ALVO'] = 'NAO'\n",
    "\n",
    "# TODO DELETAR LINHA SE \n",
    "# tina['ATINGIU_ALVO']=np.where(tina['VENDAS_SOBRE_ALVO']>=1.,'SIM','NAO')"
   ]
  },
  {
   "cell_type": "code",
   "execution_count": 309,
   "metadata": {},
   "outputs": [],
   "source": [
    "# Assessores atingiu alvo\n",
    "tina.loc[\n",
    "    (tina.job_simplified=='assistant') &\n",
    "    (tina.sales_segment>=30000), 'ATINGIU_ALVO'] = '30mil'\n",
    "tina.loc[\n",
    "    (tina.job_simplified=='assistant') &\n",
    "    (tina.sales_segment>=50000), 'ATINGIU_ALVO'] = '50mil'\n",
    "tina.loc[\n",
    "    (tina.job_simplified=='assistant') &\n",
    "    (tina.sales_segment<30000), 'ATINGIU_ALVO'] = 'NAO'\n"
   ]
  },
  {
   "cell_type": "code",
   "execution_count": 310,
   "metadata": {},
   "outputs": [],
   "source": [
    "# RECEBE PREMIAÇÃO TINA SE ATINGIU ALVO E NÃO TEM FALTA INJUSTIFICADA\n",
    "tina['RECEBE_PREMIACAO']=np.where((\n",
    "    (tina['ATINGIU_ALVO']=='SIM') |\n",
    "    (tina['ATINGIU_ALVO']=='50mil') |\n",
    "    (tina['ATINGIU_ALVO']=='30mil')) & \n",
    "    (tina['FALTA']=='NAO'),\n",
    "     'SIM', 'NAO')\n"
   ]
  },
  {
   "cell_type": "code",
   "execution_count": 311,
   "metadata": {},
   "outputs": [
    {
     "data": {
      "text/html": [
       "<div>\n",
       "<style scoped>\n",
       "    .dataframe tbody tr th:only-of-type {\n",
       "        vertical-align: middle;\n",
       "    }\n",
       "\n",
       "    .dataframe tbody tr th {\n",
       "        vertical-align: top;\n",
       "    }\n",
       "\n",
       "    .dataframe thead th {\n",
       "        text-align: right;\n",
       "    }\n",
       "</style>\n",
       "<table border=\"1\" class=\"dataframe\">\n",
       "  <thead>\n",
       "    <tr style=\"text-align: right;\">\n",
       "      <th></th>\n",
       "      <th>ID_UNN</th>\n",
       "      <th>MATRICULA</th>\n",
       "      <th>gross_sales</th>\n",
       "      <th>VENDAS_TOT</th>\n",
       "      <th>Alvo1</th>\n",
       "      <th>ATINGIU_ALVO</th>\n",
       "      <th>RECEBE_PREMIACAO</th>\n",
       "    </tr>\n",
       "  </thead>\n",
       "  <tbody>\n",
       "    <tr>\n",
       "      <th>0</th>\n",
       "      <td>1</td>\n",
       "      <td>1890</td>\n",
       "      <td>418604.782</td>\n",
       "      <td>418604.78</td>\n",
       "      <td>268704.0</td>\n",
       "      <td>SIM</td>\n",
       "      <td>SIM</td>\n",
       "    </tr>\n",
       "    <tr>\n",
       "      <th>4</th>\n",
       "      <td>1</td>\n",
       "      <td>10522</td>\n",
       "      <td>530005.184</td>\n",
       "      <td>530005.18</td>\n",
       "      <td>268704.0</td>\n",
       "      <td>SIM</td>\n",
       "      <td>SIM</td>\n",
       "    </tr>\n",
       "    <tr>\n",
       "      <th>5</th>\n",
       "      <td>1</td>\n",
       "      <td>13170</td>\n",
       "      <td>381787.635</td>\n",
       "      <td>381787.63</td>\n",
       "      <td>268704.0</td>\n",
       "      <td>SIM</td>\n",
       "      <td>SIM</td>\n",
       "    </tr>\n",
       "    <tr>\n",
       "      <th>12</th>\n",
       "      <td>1</td>\n",
       "      <td>27242</td>\n",
       "      <td>92077.611</td>\n",
       "      <td>92077.61</td>\n",
       "      <td>NaN</td>\n",
       "      <td>50mil</td>\n",
       "      <td>SIM</td>\n",
       "    </tr>\n",
       "    <tr>\n",
       "      <th>13</th>\n",
       "      <td>1</td>\n",
       "      <td>27359</td>\n",
       "      <td>100169.107</td>\n",
       "      <td>97310.11</td>\n",
       "      <td>NaN</td>\n",
       "      <td>30mil</td>\n",
       "      <td>SIM</td>\n",
       "    </tr>\n",
       "    <tr>\n",
       "      <th>...</th>\n",
       "      <td>...</td>\n",
       "      <td>...</td>\n",
       "      <td>...</td>\n",
       "      <td>...</td>\n",
       "      <td>...</td>\n",
       "      <td>...</td>\n",
       "      <td>...</td>\n",
       "    </tr>\n",
       "    <tr>\n",
       "      <th>978</th>\n",
       "      <td>4</td>\n",
       "      <td>7895</td>\n",
       "      <td>187026.370</td>\n",
       "      <td>188281.88</td>\n",
       "      <td>173500.0</td>\n",
       "      <td>SIM</td>\n",
       "      <td>SIM</td>\n",
       "    </tr>\n",
       "    <tr>\n",
       "      <th>983</th>\n",
       "      <td>4</td>\n",
       "      <td>11412</td>\n",
       "      <td>190274.700</td>\n",
       "      <td>195523.31</td>\n",
       "      <td>180000.0</td>\n",
       "      <td>SIM</td>\n",
       "      <td>SIM</td>\n",
       "    </tr>\n",
       "    <tr>\n",
       "      <th>1008</th>\n",
       "      <td>4</td>\n",
       "      <td>10151</td>\n",
       "      <td>173593.780</td>\n",
       "      <td>178678.13</td>\n",
       "      <td>173500.0</td>\n",
       "      <td>SIM</td>\n",
       "      <td>SIM</td>\n",
       "    </tr>\n",
       "    <tr>\n",
       "      <th>1011</th>\n",
       "      <td>4</td>\n",
       "      <td>11949</td>\n",
       "      <td>186216.210</td>\n",
       "      <td>202854.24</td>\n",
       "      <td>173500.0</td>\n",
       "      <td>SIM</td>\n",
       "      <td>SIM</td>\n",
       "    </tr>\n",
       "    <tr>\n",
       "      <th>1017</th>\n",
       "      <td>4</td>\n",
       "      <td>12779</td>\n",
       "      <td>184575.720</td>\n",
       "      <td>193072.83</td>\n",
       "      <td>173500.0</td>\n",
       "      <td>SIM</td>\n",
       "      <td>SIM</td>\n",
       "    </tr>\n",
       "  </tbody>\n",
       "</table>\n",
       "<p>246 rows × 7 columns</p>\n",
       "</div>"
      ],
      "text/plain": [
       "      ID_UNN  MATRICULA  gross_sales  VENDAS_TOT     Alvo1 ATINGIU_ALVO  \\\n",
       "0          1       1890   418604.782   418604.78  268704.0          SIM   \n",
       "4          1      10522   530005.184   530005.18  268704.0          SIM   \n",
       "5          1      13170   381787.635   381787.63  268704.0          SIM   \n",
       "12         1      27242    92077.611    92077.61       NaN        50mil   \n",
       "13         1      27359   100169.107    97310.11       NaN        30mil   \n",
       "...      ...        ...          ...         ...       ...          ...   \n",
       "978        4       7895   187026.370   188281.88  173500.0          SIM   \n",
       "983        4      11412   190274.700   195523.31  180000.0          SIM   \n",
       "1008       4      10151   173593.780   178678.13  173500.0          SIM   \n",
       "1011       4      11949   186216.210   202854.24  173500.0          SIM   \n",
       "1017       4      12779   184575.720   193072.83  173500.0          SIM   \n",
       "\n",
       "     RECEBE_PREMIACAO  \n",
       "0                 SIM  \n",
       "4                 SIM  \n",
       "5                 SIM  \n",
       "12                SIM  \n",
       "13                SIM  \n",
       "...               ...  \n",
       "978               SIM  \n",
       "983               SIM  \n",
       "1008              SIM  \n",
       "1011              SIM  \n",
       "1017              SIM  \n",
       "\n",
       "[246 rows x 7 columns]"
      ]
     },
     "execution_count": 311,
     "metadata": {},
     "output_type": "execute_result"
    }
   ],
   "source": [
    "tina[['ID_UNN', 'MATRICULA', 'gross_sales','VENDAS_TOT', 'Alvo1', 'ATINGIU_ALVO','RECEBE_PREMIACAO']][tina['RECEBE_PREMIACAO']!='NAO']\n",
    "#tina[['MATRICULA','VENDAS_TOT', 'FALTA', 'ATINGIU_ALVO','RECEBE_PREMIACAO']][tina['ATINGIU_ALVO']!='NAO'].sample(15)\n",
    "#tina[['MATRICULA','VENDAS_TOT', 'FALTA', 'ATINGIU_ALVO','RECEBE_PREMIACAO']][tina['FALTA']=='SIM'].sample(15)"
   ]
  },
  {
   "cell_type": "code",
   "execution_count": 312,
   "metadata": {},
   "outputs": [],
   "source": [
    "# FUNÇÃO para salvar verba para TELHANORTE ou TUMELERO\n",
    "# Entradas: v verba, n nome_verba, x numero_verba, f f_nome\n",
    "def salva_verba(empresa,verba,numero_verba,arquivo):\n",
    "#    v.rename(columns={ v.columns[0]: 'MATRICULA'}, inplace=True)\n",
    "    verba.rename(columns={ verba.columns[1]: \"VALOR\" }, inplace=True)\n",
    "    verba['ZERO'] = 0\n",
    "    verba['VERBA'] = numero_verba\n",
    "    if empresa == 'TELHANORTE':\n",
    "        verba=verba[['MATRICULA', 'ZERO', 'VERBA','VALOR']]\n",
    "    elif empresa == 'TUMELERO':\n",
    "         verba=verba[['MATRICULA', 'VERBA', 'ZERO','VALOR']]\n",
    "    else: \n",
    "        print('Erro!!! Não veio a empresa nem como TELHANORTE e nem como TUMELERO')\n",
    "        return\n",
    "    verba = verba[verba['VALOR'] > 0]\n",
    "    # Saving as a excel file for RH\n",
    "    verba.to_excel(arquivo, sheet_name=\"VERBA \"+str(numero_verba), index=False)\n",
    "    "
   ]
  },
  {
   "cell_type": "code",
   "execution_count": 316,
   "metadata": {},
   "outputs": [],
   "source": [
    "def alvo_bonus_rentabilidade(id_unn, vendas_tot,rentabilidade,vendas_seg,alvo):\n",
    "#     # Modelo Vendedores Prêmio Rentabilidade\n",
    "#    T E S T A D O     E     C H E C A D O\n",
    "# gat_min_rentab = 100.  # Tem que bater 100% da rentabilidade\n",
    "# ang_coef_rentab = 0.001  # Coeficiente angular da rentabilidade = 0.1%\n",
    "# lin_coef_rentab = -0.1  # Coeficiente linear da rentabilidade = -0.1\n",
    "# kicker = 200 TELHANORTE            kicker = 100 TUMELERO\n",
    "    global GAT_MIN_RENTAB, ANG_COEF_RENTAB, LIN_COEF_RENTAB, KICKER\n",
    "    if vendas_tot>=alvo and rentabilidade >= GAT_MIN_RENTAB:\n",
    "         val_rent=(rentabilidade*ANG_COEF_RENTAB+LIN_COEF_RENTAB)*vendas_seg+KICKER[id_unn]\n",
    "    else:\n",
    "        val_rent=0.0\n",
    "    return val_rent\n",
    "\n"
   ]
  },
  {
   "cell_type": "code",
   "execution_count": 317,
   "metadata": {},
   "outputs": [],
   "source": [
    "# Calculando Prêmio Rentabilidade para TELHANORTE\n",
    "# Vendas Tumelero: Vendas totais vindo da Tina (desconta devoluções) pois VENDAS_ADP da Tumelero não desconta devoluções\n",
    "tina.loc[\n",
    "    (tina.ID_UNN == 1) &  # ID_UNN para Telhanorte\n",
    "    (tina.job_simplified=='salesperson'), \n",
    "    'PREMIO_RENTABILIDADE'\n",
    "    ] = tina.apply(\n",
    "        lambda x: alvo_bonus_rentabilidade(\n",
    "            1,  # ID_UNN para Telhanorte\n",
    "            x['VENDAS_TOT'], x['rentability'], x['sales_segment'], x['Alvo1']# Vendas Telha: Vendas totais Tina (desconta devoluções) pois VENDAS_ADP da Tumelero não desconta devoluções\n",
    "            ), axis=1).copy(deep=True)\n",
    "\n",
    "# Calculando Prêmio Rentabilidade para TUMELERO\n",
    "tina.loc[\n",
    "    (tina.ID_UNN == 4) &  # ID_UNN para Tumelero\n",
    "    (tina.job_simplified=='salesperson'), \n",
    "    'PREMIO_RENTABILIDADE'\n",
    "    ] = tina.apply(\n",
    "        lambda x: alvo_bonus_rentabilidade(\n",
    "            4, # ID_UNN para Tumelero\n",
    "            x['gross_sales'], x['rentability'], x['sales_segment'], x['Alvo1']# Vendas Tume: Vendas totais Tina (desconta devoluções) pois VENDAS_ADP da Tumelero não desconta devoluções\n",
    "            ), axis=1).copy(deep=True)"
   ]
  },
  {
   "cell_type": "code",
   "execution_count": 318,
   "metadata": {},
   "outputs": [],
   "source": [
    "# Salva verba rentabilidade TELHANORTE -->  salva_verba(empresa,verba,numero_verba,arquivo)\n",
    "salva_verba(\n",
    "    dict_EMPRESAS[1], # ID_UNN TELHA\n",
    "    tina[['MATRICULA','PREMIO_RENTABILIDADE']][tina['ID_UNN']==1].copy(deep=True),  # ID_UNN TELHA\n",
    "    4119,\n",
    "    verbas_telha['F_VERBA_VEN_REN_SEM']) # verbas_telha['F_VERBA_ASS_SEM']\n",
    "salva_verba(\n",
    "    dict_EMPRESAS[1],  # ID_UNN TELHA\n",
    "    tina[['MATRICULA','PREMIO_RENTABILIDADE']][\n",
    "        (tina['ID_UNN']==1) &  # ID_UNN TELHA\n",
    "        (tina['RECEBE_PREMIACAO']=='SIM')].copy(deep=True),\n",
    "        4119,\n",
    "        verbas_telha['F_VERBA_VEN_REN'])# verbas_telha\n",
    "\n",
    "# Salva verba rentabilidade TUMELERO -->  salva_verba(empresa,verba,numero_verba,arquivo)\n",
    "salva_verba(\n",
    "    dict_EMPRESAS[4], # ID_UNN TUMELERO\n",
    "    tina[['MATRICULA','PREMIO_RENTABILIDADE']][tina['ID_UNN']==4].copy(deep=True),# ID_UNN TUMELERO\n",
    "    4119,\n",
    "    verbas_tume['F_VERBA_VEN_REN_SEM']) # verbas_tume sem considerar faltas injustificadas\n",
    "salva_verba(\n",
    "    dict_EMPRESAS[4],  # ID_UNN TUMELERO\n",
    "    tina[['MATRICULA','PREMIO_RENTABILIDADE']][\n",
    "        (tina['ID_UNN']==4) &  # ID_UNN TUMELERO\n",
    "        (tina['RECEBE_PREMIACAO']=='SIM')].copy(deep=True),\n",
    "        4119,\n",
    "        verbas_tume['F_VERBA_VEN_REN']) # verbas_tume['F_VERBA_VEN_REN']\n"
   ]
  },
  {
   "cell_type": "code",
   "execution_count": 319,
   "metadata": {},
   "outputs": [],
   "source": [
    "# Calculating bonus for SALESPERSON TELHANORTE E TUMELERO\n",
    "# NÃO TEM DIFERENÇA ENTRE EMPRESAS\n",
    "# Verba 4120 - Segmento vendedores - DECORAÇÃO\n",
    "def alvo_bonus_decoracao(vendas_seg,vendas_tot,alvo):\n",
    "# Modelo Vendedores Prêmio DECORAÇÃO vendas\n",
    "#    T E S T A D O     E     C H E C A D O\n",
    "# Modelo Vendedores Comissão Turbinada Decoração\n",
    "# Como as safras 1, 2 e 3 tem os mesmos valores, mantive só um valor para todas as safras\n",
    "# gat_min_decoracao = 0.0  # Gatilho minimo decoração\n",
    "# ang_coef_decoracao = 0.02  # Coeficiente angular decoração = 2%\n",
    "# lin_coef_decoracao = 0.0  # Coeficiente Linear decoração = 0.0%\n",
    "\n",
    "    global ANG_COEF_DECORACAO \n",
    "    if vendas_tot>=alvo:\n",
    "        bonus = vendas_seg*ANG_COEF_DECORACAO\n",
    "    else:\n",
    "        bonus=0.0\n",
    "    return bonus\n"
   ]
  },
  {
   "cell_type": "code",
   "execution_count": 320,
   "metadata": {},
   "outputs": [],
   "source": [
    "# Calculando Verba DECORAÇÃO para TELHANORTE \n",
    "# Vendas Telhanorte: Vendas totais vindo da ADP (desconta devoluções)\n",
    "tina.loc[\n",
    "    (tina.ID_UNN==1) &  # ID_UNN TELHA\n",
    "    (tina.job_simplified=='salesperson'), \n",
    "    'PREMIO_DECORACAO'\n",
    "    ] = tina.apply(\n",
    "        lambda x: alvo_bonus_decoracao(\n",
    "            x['E2_gross_sales'], x['VENDAS_TOT'], x['Alvo1'] # vendas totais ADP\n",
    "            ), axis=1).copy(deep=True)\n",
    "\n",
    "# Calculando Verba DECORAÇÃO para TUMELERO \n",
    "# Vendas Tumelero: Vendas totais vindo da Tina (desconta devoluções) pois VENDAS_ADP da Tumelero não desconta devoluções\n",
    "tina.loc[\n",
    "    (tina.ID_UNN==4) &  # ID_UNN TUME\n",
    "    (tina.job_simplified=='salesperson'), \n",
    "    'PREMIO_DECORACAO'\n",
    "    ] = tina.apply(\n",
    "        lambda x: alvo_bonus_decoracao(\n",
    "            x['E2_gross_sales'], x['gross_sales'], x['Alvo1'] # VENDAS totais Tina\n",
    "            ), axis=1).copy(deep=True)\n"
   ]
  },
  {
   "cell_type": "code",
   "execution_count": 321,
   "metadata": {},
   "outputs": [],
   "source": [
    "# Salva verba decoracao TELHANORTE -->  salva_verba(empresa,verba,numero_verba,arquivo)\n",
    "salva_verba(\n",
    "    dict_EMPRESAS[1], \n",
    "    tina[['MATRICULA','PREMIO_DECORACAO']][tina['ID_UNN']==1].copy(deep=True),\n",
    "    4120,\n",
    "    verbas_telha['F_VERBA_VEN_DEC_SEM']) # verbas_telha\n",
    "salva_verba( # sem considerar faltas injustificadas\n",
    "    dict_EMPRESAS[1], \n",
    "    tina[['MATRICULA','PREMIO_DECORACAO']][\n",
    "        (tina['ID_UNN']==1) &\n",
    "        (tina['RECEBE_PREMIACAO']=='SIM')].copy(deep=True),\n",
    "        4120,\n",
    "        verbas_telha['F_VERBA_VEN_DEC']) # verbas_telha\n",
    "\n",
    "# Salva verba decoracao TUMELERO -->  salva_verba(empresa,verba,numero_verba,arquivo)\n",
    "salva_verba(\n",
    "    dict_EMPRESAS[4], \n",
    "    tina[['MATRICULA','PREMIO_DECORACAO']][tina['ID_UNN']==4].copy(deep=True),\n",
    "    4120,\n",
    "    verbas_tume['F_VERBA_VEN_DEC_SEM']) # verbas_tume  sem considerar faltas injustificadas\n",
    "salva_verba(\n",
    "    dict_EMPRESAS[4], \n",
    "    tina[['MATRICULA','PREMIO_DECORACAO']][\n",
    "        (tina['ID_UNN']==4) &\n",
    "        (tina['RECEBE_PREMIACAO']=='SIM')].copy(deep=True),\n",
    "        4120,\n",
    "        verbas_tume['F_VERBA_VEN_DEC']) # verbas_tume"
   ]
  },
  {
   "cell_type": "code",
   "execution_count": 322,
   "metadata": {},
   "outputs": [],
   "source": [
    "# Calculating bonus for SALESPERSON considering differences for TELHANORTE e TUMELERO \n",
    "def alvo_bonus_superacao(id_unn, vendas_tot): # id_unn 1=Telhanorte e 4=Tumelero\n",
    "# Modelo Vendedores Prêmio superação vendas\n",
    "# T E S T A D O    E    C H E C A D O \n",
    "#M1 = 100  # meta1 = 100%\n",
    "#M2 = 150  # meta2 = 150%\n",
    "#M3 = 200  # meta3 = 200%\n",
    "#M4 = 250  # meta4 = 250%\n",
    "#B1 = {1:300, 4:200}  # bonus1 -> ganha se bater a meta1; Telhanorte 1 = R$300,00; Tumelero 4= R$200,00\n",
    "#B2 = {1:600, 4:400}  # bonus2 -> ganha se bater a meta2; Telhanorte 1 = R$600,00; Tumelero 4= R$400,00\n",
    "#B3 = {1:900, 4:600}  # bonus3 -> ganha se bater a meta3; Telhanorte 1 = R$900,00; Tumelero 4= R$600,00\n",
    "#B4 = {1:1200, 4:800}  # bonus4  -> ganha se bater a meta4; Telhanorte 1 = R$1200,00; Tumelero 4= R$800,00\n",
    "    global M1, M2, M3, M4, B1, B2, B3, B4 # metas e respectivos bonus\n",
    "    if vendas_tot>=M4:\n",
    "        bonus = B4[id_unn]\n",
    "    elif vendas_tot>=M3:\n",
    "        bonus = B3[id_unn]\n",
    "    elif vendas_tot>=M2:\n",
    "        bonus= B2[id_unn]\n",
    "    elif vendas_tot>=M1:\n",
    "        bonus=B1[id_unn]\n",
    "    else:\n",
    "        bonus=0.0\n",
    "    return bonus\n",
    "\n"
   ]
  },
  {
   "cell_type": "code",
   "execution_count": 323,
   "metadata": {},
   "outputs": [],
   "source": [
    "# Calculando Prêmio Superação para TELHANORTE\n",
    "tina.loc[\n",
    "    (tina.ID_UNN == 1) &  # ID_UNN para TELHANORTE\n",
    "    (tina.job_simplified=='salesperson'), \n",
    "   'PREMIO_SUPERACAO'\n",
    "    ] = tina.apply(\n",
    "        lambda x: alvo_bonus_superacao(\n",
    "            1, # ID_UNN para TELHANORTE\n",
    "            x['VENDAS_TOT']/x['Alvo1']*100. \n",
    "            ), axis=1).copy(deep=True)\n",
    "\n",
    "# Calculando Prêmio Superação para TUMELERO\n",
    "tina.loc[\n",
    "    (tina.ID_UNN == 4) &  # ID_UNN para Tumelero\n",
    "    (tina.job_simplified=='salesperson'), \n",
    "   'PREMIO_SUPERACAO'\n",
    "    ] = tina.apply(\n",
    "        lambda x: alvo_bonus_superacao(\n",
    "            4, # ID_UNN para Tumelero\n",
    "            x['gross_sales']/x['Alvo1']*100. # Vendas Tumelero considerando devoluções (vendas Tina pois vendas_ADP não considera descontos)\n",
    "            ), axis=1).copy(deep=True)\n"
   ]
  },
  {
   "cell_type": "code",
   "execution_count": 324,
   "metadata": {},
   "outputs": [],
   "source": [
    "# Salva verba superação TELHANORTE -->  salva_verba(empresa,verba,numero_verba,arquivo)\n",
    "salva_verba(\n",
    "    dict_EMPRESAS[1], #\n",
    "    tina[['MATRICULA','PREMIO_SUPERACAO']][tina['ID_UNN']==1].copy(deep=True),\n",
    "    4121,\n",
    "    verbas_telha['F_VERBA_VEN_SUP_SEM']) # verbas_telha['F_VERBA_ASS_SEM']\n",
    "salva_verba(\n",
    "    dict_EMPRESAS[1], \n",
    "    tina[['MATRICULA','PREMIO_SUPERACAO']][\n",
    "        (tina['ID_UNN']==1) &\n",
    "        (tina['RECEBE_PREMIACAO']=='SIM')].copy(deep=True),\n",
    "        4121,\n",
    "        verbas_telha['F_VERBA_VEN_SUP'])\n",
    "\n",
    "# Salva verba superação TUMELERO -->  salva_verba(empresa,verba,numero_verba,arquivo)\n",
    "salva_verba(\n",
    "    dict_EMPRESAS[4], # TUMELERO \n",
    "    tina[['MATRICULA','PREMIO_SUPERACAO']][tina['ID_UNN']==4].copy(deep=True),\n",
    "    4121,\n",
    "    verbas_tume['F_VERBA_VEN_SUP_SEM']) # verbas TUMELERO['F_VERBA_ASS_SEM']\n",
    "salva_verba(\n",
    "    dict_EMPRESAS[4], # TUMELERO \n",
    "    tina[['MATRICULA','PREMIO_SUPERACAO']][\n",
    "        (tina['ID_UNN']==4) & # TUMELERO \n",
    "        (tina['RECEBE_PREMIACAO']=='SIM')].copy(deep=True),\n",
    "        4121,\n",
    "        verbas_tume['F_VERBA_VEN_SUP']) # verbas TUMELERO\n"
   ]
  },
  {
   "cell_type": "code",
   "execution_count": 325,
   "metadata": {},
   "outputs": [],
   "source": [
    "# para TELHANORTE E TUMELERO SEM DIFERENÇA ENTRE EMPRESAS\n",
    "def alvo_bonus_areastecnicas(vendas_seg,vendas_tot,alvo):\n",
    "# Modelo Vendedores Prêmio ÁREAS TÉCNICAS\n",
    "#    T E S T A D O     E     C H E C A D O\n",
    "# Modelo Vendedores Comissão  ÁREAS TÉCNICAS\n",
    "# Como as safras 1, 2 e 3 tem os mesmos valores, mantive só um valor para todas as safras\n",
    "# gat_min_areastecnicas = 0.0  # Gatilho minimo Áreas Técnicas = 0.0%\n",
    "# ang_coef_areastecnicas = 0.005  # Coeficiente angular Áreas Técnicas = 0.5%\n",
    "# lin_coef_areastecnicas = 0.0  # Coeficiente Linear decoração = 0.0%\n",
    "\n",
    "    global ANG_COEF_AREASTECNICAS # gat_min_areastecnicas, ang_coef_areastecnicas, lin_coef_areastecnicas \n",
    "    if vendas_tot>=alvo:\n",
    "        bonus = vendas_seg*ANG_COEF_AREASTECNICAS\n",
    "    else:\n",
    "        bonus=0.0\n",
    "    return bonus\n",
    "\n",
    "\n"
   ]
  },
  {
   "cell_type": "code",
   "execution_count": 326,
   "metadata": {},
   "outputs": [],
   "source": [
    "# Calculando Verba ATEAS TECNICAS para TELHANORTE E TUMELERO\n",
    "# DIFERENÇA ENTRE EMPRESAS: \n",
    "# Vendas considerando devoluções:\n",
    "\n",
    "# Telhanorte: Vendas_TOT ADP\n",
    "tina.loc[\n",
    "    (tina.ID_UNN==1) &\n",
    "    (tina.job_simplified=='salesperson'), \n",
    "    'PREMIO_AREAS_TECNICAS'\n",
    "    ] = tina.apply(\n",
    "        lambda x: alvo_bonus_areastecnicas(\n",
    "            x['E1_gross_sales'],x['VENDAS_TOT'],x['Alvo1']\n",
    "            ), axis=1).copy(deep=True)\n",
    "\n",
    "# Tumelero:   Vendas_Tot Tina (gross sales) pois vendas_TOT ADP não desconta as devoluções\n",
    "tina.loc[\n",
    "    (tina.ID_UNN==4) &\n",
    "    (tina.job_simplified=='salesperson'), \n",
    "    'PREMIO_AREAS_TECNICAS'\n",
    "    ] = tina.apply(\n",
    "        lambda x: alvo_bonus_areastecnicas(\n",
    "            x['E1_gross_sales'],x['gross_sales'],x['Alvo1']\n",
    "            ), axis=1).copy(deep=True)\n",
    "\n"
   ]
  },
  {
   "cell_type": "code",
   "execution_count": 327,
   "metadata": {},
   "outputs": [],
   "source": [
    "# Salva verba áreas técnicas TELHANORTE -->  salva_verba(empresa,verba,numero_verba,arquivo)\n",
    "salva_verba(\n",
    "    dict_EMPRESAS[1], # TELHANORTE\n",
    "    tina[['MATRICULA','PREMIO_AREAS_TECNICAS']][tina['ID_UNN']==1].copy(deep=True), # TELHANORTE\n",
    "    4122,\n",
    "    verbas_telha['F_VERBA_VEN_TEC_SEM']) # verbas # TELHANORTE\n",
    "salva_verba(\n",
    "    dict_EMPRESAS[1], # TELHANORTE\n",
    "    tina[['MATRICULA','PREMIO_AREAS_TECNICAS']][\n",
    "        (tina['ID_UNN']==1) & # TELHANORTE\n",
    "        (tina['RECEBE_PREMIACAO']=='SIM')].copy(deep=True),\n",
    "        4122,\n",
    "        verbas_telha['F_VERBA_VEN_TEC']) # verbas # TELHANORTE\n",
    "\n",
    "# Salva verba áreas técnicas TUMELERO -->  salva_verba(empresa,verba,numero_verba,arquivo)\n",
    "salva_verba(\n",
    "    dict_EMPRESAS[4], # TUMELERO=4\n",
    "    tina[['MATRICULA','PREMIO_AREAS_TECNICAS']][tina['ID_UNN']==4].copy(deep=True), # TUMELERO=4\n",
    "    4122,\n",
    "    verbas_tume['F_VERBA_VEN_TEC_SEM']) # verbas # TUMELERO\n",
    "salva_verba(\n",
    "    dict_EMPRESAS[4], # TUMELERO=4\n",
    "    tina[['MATRICULA','PREMIO_AREAS_TECNICAS']][\n",
    "        (tina['ID_UNN']==4) & # TUMELERO=4\n",
    "        (tina['RECEBE_PREMIACAO']=='SIM')].copy(deep=True),\n",
    "        4122,\n",
    "        verbas_tume['F_VERBA_VEN_TEC']) # verbas TUMELERO\n"
   ]
  },
  {
   "cell_type": "code",
   "execution_count": 328,
   "metadata": {},
   "outputs": [],
   "source": [
    "# Calculando Prêmio Assessor SOMENTE TELHANORTE tem assessores\n",
    "def alvo_bonus_assessor(vendas_seg):\n",
    "    global ASS_A1, ASS_A2, ASS_B1, ASS_B2 # ass_a1, ass_a2, ass_b1, ass_b2\n",
    "    if vendas_seg >= ASS_A2:\n",
    "        bonus = ASS_B2\n",
    "    elif vendas_seg >= ASS_A1:\n",
    "        bonus = ASS_B1\n",
    "    else:\n",
    "        bonus = 0.0\n",
    "    return bonus\n",
    "    "
   ]
  },
  {
   "cell_type": "code",
   "execution_count": 329,
   "metadata": {},
   "outputs": [],
   "source": [
    "# Calculando prêmio dos assessores - somente TELHANORTE tem assessores\n",
    "tina['PREMIO_ASSESSOR'] = np.where(\n",
    "    tina['job_simplified']=='assistant',\n",
    "    tina.apply(\n",
    "    lambda x: alvo_bonus_assessor(x['sales_segment']), axis=1).copy(),np.nan\n",
    "    )\n",
    "\n",
    "    "
   ]
  },
  {
   "cell_type": "code",
   "execution_count": 330,
   "metadata": {},
   "outputs": [],
   "source": [
    "# Salva verba assessores somente TELHANORTE -->  salva_verba(empresa,verba,numero_verba,arquivo)\n",
    "salva_verba(\n",
    "    dict_EMPRESAS[1], # TELHANORTE\n",
    "    tina[['MATRICULA','PREMIO_ASSESSOR']][tina['ID_UNN']==1].copy(deep=True), # TELHANORTE\n",
    "    4118, #VERBA PREMIAÇÃO ASSESSOR\n",
    "    verbas_telha['F_VERBA_ASS_SEM']) # verbas # TELHANORTE\n",
    "salva_verba(\n",
    "    dict_EMPRESAS[1], # TELHANORTE\n",
    "    tina[['MATRICULA','PREMIO_ASSESSOR']][\n",
    "        (tina['ID_UNN']==1) & # TELHANORTE\n",
    "        (tina['RECEBE_PREMIACAO']=='SIM')].copy(deep=True),\n",
    "        4118, #VERBA PREMIAÇÃO ASSESSOR\n",
    "        verbas_telha['F_VERBA_ASS']) # verbas # TELHANORTE\n"
   ]
  },
  {
   "cell_type": "code",
   "execution_count": 331,
   "metadata": {},
   "outputs": [],
   "source": [
    "# diferença VendasTOT_ADP - VendasTOT_TINA\n",
    "tina['DIFERENCA_VENDAS_totADP_totTINA']=tina['VENDAS_TOT']-tina['gross_sales']\n"
   ]
  },
  {
   "cell_type": "code",
   "execution_count": 335,
   "metadata": {},
   "outputs": [],
   "source": [
    "# Reorganizando a ordem dos parâmetros\n",
    "tina = tina[['ID_UNN', \n",
    "'cod_loja', \n",
    "'sigla_loja', \n",
    "'MATRICULA', \n",
    "'segment', \n",
    "'job_simplified', \n",
    "'E1_gross_sales',\n",
    "'E2_gross_sales', \n",
    "'E3_gross_sales', \n",
    "'gross_sales', \n",
    "'sales_segment',\n",
    "'rentability', \n",
    "'VENDAS_TOT', \n",
    "'COMISSAO', \n",
    "'NUMERO_DE_LOJAS_COM_VENDA', \n",
    "'Alvo1', \n",
    "'Minimo Garantido',\n",
    "'VENDAS_SOBRE_ALVO', \n",
    "'ATINGIU_ALVO', \n",
    "'FALTA', \n",
    "'RECEBE_PREMIACAO',\n",
    "'PREMIO_RENTABILIDADE', \n",
    "'PREMIO_DECORACAO', \n",
    "'PREMIO_SUPERACAO',\n",
    "'PREMIO_AREAS_TECNICAS', \n",
    "'PREMIO_ASSESSOR',\n",
    "'DIFERENCA_VENDAS_totADP_totTINA']]"
   ]
  },
  {
   "cell_type": "code",
   "execution_count": 336,
   "metadata": {},
   "outputs": [],
   "source": [
    "#Planilha de checagempara o analista de negócios\n",
    "tina.to_excel(F_SAI_CHECAGEM, index=False)"
   ]
  },
  {
   "cell_type": "code",
   "execution_count": null,
   "metadata": {},
   "outputs": [],
   "source": [
    "# CHECANDO\n",
    "tina[(tina['ID_UNN']==4) &\n",
    "#(tina['job_simplified']=='salesperson') &\n",
    "(tina['RECEBE_PREMIACAO']=='SIM')].sample(13)\n",
    "\n",
    "#tina[tina['MATRICULA']==3343]"
   ]
  }
 ],
 "metadata": {
  "interpreter": {
   "hash": "551579a37399ee361b7a87e2547c9a8bd014955eb03c28bb1a18301da647b49d"
  },
  "kernelspec": {
   "display_name": "Python 3.9.9 ('tina')",
   "language": "python",
   "name": "python3"
  },
  "language_info": {
   "codemirror_mode": {
    "name": "ipython",
    "version": 3
   },
   "file_extension": ".py",
   "mimetype": "text/x-python",
   "name": "python",
   "nbconvert_exporter": "python",
   "pygments_lexer": "ipython3",
   "version": "3.9.9"
  },
  "orig_nbformat": 4
 },
 "nbformat": 4,
 "nbformat_minor": 2
}
