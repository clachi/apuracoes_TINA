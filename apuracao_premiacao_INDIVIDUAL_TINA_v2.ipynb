{
 "cells": [
  {
   "cell_type": "markdown",
   "metadata": {},
   "source": [
    "Apuração da Premiação Tina (Individual)\n",
    "\n"
   ]
  },
  {
   "cell_type": "code",
   "execution_count": 40,
   "metadata": {},
   "outputs": [],
   "source": [
    "import pandas as pd\n",
    "import numpy as np\n",
    "from pathlib import Path"
   ]
  },
  {
   "cell_type": "code",
   "execution_count": 41,
   "metadata": {},
   "outputs": [],
   "source": [
    "pd.set_option('display.max_columns', None)"
   ]
  },
  {
   "cell_type": "code",
   "execution_count": 42,
   "metadata": {},
   "outputs": [],
   "source": [
    "# Dia da apuração\n",
    "# TODO TROCAR A DATA PARA O ANALISTA DE NEGÓCIOS RODAR NO DIA DA APURAÇÃO\n",
    "# hoje = pd.to_datetime('today').date()\n",
    "hoje = pd.to_datetime('2022-05-27')\n",
    "ANO=str(hoje.year)"
   ]
  },
  {
   "cell_type": "code",
   "execution_count": 43,
   "metadata": {},
   "outputs": [],
   "source": [
    "# DIA PADRÃO DE APURAÇÃO\n",
    "#DIA_APURA=27\n",
    "DIA_APURA=hoje.day"
   ]
  },
  {
   "cell_type": "code",
   "execution_count": 44,
   "metadata": {},
   "outputs": [
    {
     "data": {
      "text/plain": [
       "27"
      ]
     },
     "execution_count": 44,
     "metadata": {},
     "output_type": "execute_result"
    }
   ],
   "source": [
    "DIA_APURA"
   ]
  },
  {
   "cell_type": "code",
   "execution_count": 45,
   "metadata": {},
   "outputs": [
    {
     "name": "stdout",
     "output_type": "stream",
     "text": [
      "1\n",
      "TELHANORTE\n"
     ]
    }
   ],
   "source": [
    "# SELECIONANDO EMPRESA\n",
    "ID_UNN=1\n",
    "\n",
    "dict_EMPRESAS={1:\"TELHANORTE\", 4:\"TUMELERO\"}\n",
    "empresa=dict_EMPRESAS[ID_UNN]\n",
    "print(ID_UNN)\n",
    "print(empresa)"
   ]
  },
  {
   "cell_type": "code",
   "execution_count": 46,
   "metadata": {},
   "outputs": [],
   "source": [
    "MESES= ['jan','fev','mar','abr','mai','jun','jul','ago','set','out','nov','dez']\n",
    "I_MESES= ['01','02','03','04','05','06','07','08','09','10','11','12']\n",
    "MES=MESES[hoje.month-1]\n",
    "I_MES=I_MESES[MESES.index(MES)]\n",
    "I_MES_ANTERIOR=I_MESES[MESES.index(MES)-1]\n"
   ]
  },
  {
   "cell_type": "code",
   "execution_count": 47,
   "metadata": {},
   "outputs": [
    {
     "data": {
      "text/plain": [
       "'04'"
      ]
     },
     "execution_count": 47,
     "metadata": {},
     "output_type": "execute_result"
    }
   ],
   "source": [
    "I_MES_ANTERIOR"
   ]
  },
  {
   "cell_type": "code",
   "execution_count": 48,
   "metadata": {},
   "outputs": [],
   "source": [
    "# Período de Apuração   -   Faltas injustificadas no período\n",
    "# 27 de Janeiro de 2022\n",
    "DATA_I = pd.to_datetime('2022-'+I_MES_ANTERIOR+'-'+str(DIA_APURA))  # data inicial AAAA-MM-DD\n",
    "DATA_F = pd.to_datetime('2022-'+I_MES+'-'+str(DIA_APURA-1))  # data final AAAA-MM-DD"
   ]
  },
  {
   "cell_type": "code",
   "execution_count": 49,
   "metadata": {},
   "outputs": [
    {
     "name": "stdout",
     "output_type": "stream",
     "text": [
      "2022-04-27 00:00:00\n",
      "2022-05-26 00:00:00\n"
     ]
    }
   ],
   "source": [
    "print(DATA_I)\n",
    "print(DATA_F)"
   ]
  },
  {
   "cell_type": "code",
   "execution_count": 50,
   "metadata": {},
   "outputs": [],
   "source": [
    "# PASTAS \n",
    "\n",
    "DIR_BASE='C:/apuracao/'\n",
    "DIR_INFO=DIR_BASE+'info/'\n",
    "DIR_TINA_BASES=DIR_INFO\n",
    "DIR_ENTRA=DIR_BASE+'ENTRADA/'\n",
    "# PASTA PARA MANTER AS BASES ORIGINAIS\n",
    "DIR_IN=DIR_BASE+ANO+'/'+MES+'/ORIGINAIS/'\n",
    "# PASTA COM PLANILHA DE CHECAGEM PARA O ANALISTA DE NEGÓCIOS\n",
    "DIRETORIO_CHECAGEM=DIR_BASE+ANO+'/'+MES+'/CHECAGEM/'\n",
    "# PASTA PARA PLANILHAS DAS VERBAS PARA RH \n",
    "DIR_RH=DIR_BASE+ANO+\"/\"+MES+\"/\"+\"para_RH/\"\n",
    "\n"
   ]
  },
  {
   "cell_type": "code",
   "execution_count": 51,
   "metadata": {},
   "outputs": [],
   "source": [
    "# CRIANDO PASTAS DE SAÍDA SE NÃO EXISTIREM\n",
    "Path(DIR_IN).mkdir(parents=True, exist_ok=True)\n",
    "Path(DIRETORIO_CHECAGEM).mkdir(parents=True, exist_ok=True)\n",
    "Path(DIR_RH).mkdir(parents=True, exist_ok=True)\n"
   ]
  },
  {
   "cell_type": "code",
   "execution_count": 52,
   "metadata": {},
   "outputs": [],
   "source": [
    "# Arquivos a serem importados\n",
    "# Incluídas lojas TUMELERO\n",
    "F_ALVO = DIR_INFO+\"target_salesperson.csv\" # \n",
    "F_VERBAS = DIR_INFO+\"/verbas_descricao.xlsx\"\n",
    "\n",
    "F_LOJA_SAFRA=DIR_INFO+\"lojas.csv\" # \n",
    "#f_loja_safra = \"info/lojas_pilotos_safra3.xlsx\" # Exemplo de janeiro\n"
   ]
  },
  {
   "cell_type": "code",
   "execution_count": 65,
   "metadata": {},
   "outputs": [],
   "source": [
    "\n",
    "# Ricardo Valdir via Teams para o Luis no dia da apuração\n",
    "#f_comissao = dir_in+\"LANCCOMISSAO022022.csv\"\n",
    "E_COMISSAO = DIR_ENTRA+\"LANC_COMISSAO_\"+str(I_MES)+ANO+'_'+empresa.lower()\n",
    "F_COMISSAO = DIR_IN+\"LANC_COMISSAO_\"+str(I_MES)+ANO+'_'+empresa.lower()\n",
    "\n",
    "# Vitor (Wingg) via e-mail no dia da apuração\n",
    "E_EXTRATO = DIR_ENTRA+\"extract_remuneration_\"+ANO+I_MES+str(DIA_APURA)+\".xlsx\"\n",
    "F_EXTRATO = DIR_IN+\"extract_remuneration_\"+ANO+I_MES+str(DIA_APURA)+\".xlsx\"\n",
    "\n",
    "# Thayna via sharepoint antes da apuração\n",
    "# F_FALTAS = DIR_IN+\"FALTAS_INJUSTIFICADAS_PREMIACOES TINA_23mar2022_ThaynaCarneiro.xlsx\"\n",
    "E_FALTAS = DIR_ENTRA+\"PREMIACOES TINA.xlsx\"\n",
    "F_FALTAS = DIR_IN+\"PREMIACOES TINA.xlsx\""
   ]
  },
  {
   "cell_type": "code",
   "execution_count": 54,
   "metadata": {},
   "outputs": [
    {
     "name": "stdout",
     "output_type": "stream",
     "text": [
      "C:/apuracao/2022/mai/ORIGINAIS/LANC_COMISSAO_052022_telhanorte\n"
     ]
    }
   ],
   "source": [
    "print(F_COMISSAO)"
   ]
  },
  {
   "cell_type": "code",
   "execution_count": 55,
   "metadata": {},
   "outputs": [
    {
     "name": "stdout",
     "output_type": "stream",
     "text": [
      "A planilha de checagem da Apuração da PREMIAÇÃO TINA INDIVIDUAL realizada em mai está aqui:\n",
      "C:/apuracao/2022/mai/CHECAGEM/\n",
      "C:/apuracao/2022/mai/CHECAGEM/checagem_apuração_PREMIACAO_INDIVIDUAL_mai.xlsx\n"
     ]
    }
   ],
   "source": [
    "print('A planilha de checagem da Apuração da PREMIAÇÃO TINA INDIVIDUAL realizada em '+MES+' está aqui:')\n",
    "print(DIRETORIO_CHECAGEM)\n",
    "# ARQUIO DE SAÍDA PARA CHECAGEM DO ANALISTA DE NEGÓCIOS - EM EXCEL\n",
    "F_SAI_CHECAGEM=DIRETORIO_CHECAGEM + \"checagem_apuração_PREMIACAO_INDIVIDUAL_\"+MES+\".xlsx\"\n",
    "print(F_SAI_CHECAGEM)\n"
   ]
  },
  {
   "cell_type": "code",
   "execution_count": 56,
   "metadata": {},
   "outputs": [],
   "source": [
    "# Sufixos possíveis\n",
    "sufixo=\"_sem_considerar_faltas_injustificadas\"\n",
    "#sufixo=\"_analista\""
   ]
  },
  {
   "cell_type": "code",
   "execution_count": 57,
   "metadata": {},
   "outputs": [],
   "source": [
    "# Verbas para o RH das premiações Tina Individuais\n",
    "F_VERBA_ASS=DIR_RH+\"VERBA_4118_SEGMENTO_ASSESSORES_\"+empresa+\".xlsx\"\n",
    "F_VERBA_VEN_REN=DIR_RH+\"VERBA_4119_RENTABILIDADE_VENDAS_\"+empresa+\".xlsx\"\n",
    "F_VERBA_VEN_DEC=DIR_RH+\"VERBA_4120_DECORACAO_VENDAS_\"+empresa+\".xlsx\"\n",
    "F_VERBA_VEN_SUP=DIR_RH+\"VERBA_4121_SUPERACAO_VENDAS_\"+empresa+\".xlsx\"\n",
    "F_VERBA_VEN_TEC=DIR_RH+\"VERBA_4122_AREAS_TECNICAS_VENDAS_\"+empresa+\".xlsx\"\n"
   ]
  },
  {
   "cell_type": "code",
   "execution_count": 58,
   "metadata": {},
   "outputs": [],
   "source": [
    "# Verbas para o RH das premiações Tina Individuais SEM CONSIDERAR FALTAS INJUSTIFICADAS\n",
    "F_VERBA_ASS_SEM=DIR_RH+\"VERBA_4118_SEGMENTO_ASSESSORES_\"+empresa+sufixo+\".xlsx\"\n",
    "F_VERBA_VEN_REN_SEM=DIR_RH+\"VERBA_4119_RENTABILIDADE_VENDAS_\"+empresa+sufixo+\".xlsx\"\n",
    "F_VERBA_VEN_DEC_SEM=DIR_RH+\"VERBA_4120_DECORACAO_VENDAS_\"+empresa+sufixo+\".xlsx\"\n",
    "F_VERBA_VEN_SUP_SEM=DIR_RH+\"VERBA_4121_SUPERACAO_VENDAS_\"+empresa+sufixo+\".xlsx\"\n",
    "F_VERBA_VEN_TEC_SEM=DIR_RH+\"VERBA_4122_AREAS_TECNICAS_VENDAS_\"+empresa+sufixo+\".xlsx\""
   ]
  },
  {
   "cell_type": "code",
   "execution_count": 59,
   "metadata": {},
   "outputs": [
    {
     "data": {
      "text/plain": [
       "'C:/apuracao/2022/mai/para_RH/VERBA_4119_RENTABILIDADE_VENDAS_TELHANORTE.xlsx'"
      ]
     },
     "execution_count": 59,
     "metadata": {},
     "output_type": "execute_result"
    }
   ],
   "source": [
    "F_VERBA_VEN_REN"
   ]
  },
  {
   "cell_type": "code",
   "execution_count": 60,
   "metadata": {},
   "outputs": [],
   "source": [
    "# Parâmetros do Modelo\n",
    "# Modelo Vendedores\n",
    "# Modelo Vendedores Comissão\n",
    "gat_min_comissao = 0.0  # Gatilho minimo comissão\n",
    "ANG_COEF_COMISSAO = 0.01  # Coeficiente angular = 1%\n",
    "lin_coef_comissao = 0.0  # Coeficiente Linear = 0.0%\n",
    "\n",
    "# Modelo Vendedores Comissão Turbinada Decoração\n",
    "# Como as safras 1, 2 e 3 tem os mesmos valores, mantive só um valor para todas as safras\n",
    "gat_min_decoracao = 0.0  # Gatilho minimo decoração\n",
    "ANG_COEF_DECORACAO = 0.02  # Coeficiente angular decoração = 2%\n",
    "lin_coef_decoracao = 0.0  # Coeficiente Linear decoração = 0.0%\n",
    "\n",
    "# Modelo Vendedores Comissão turbinada Áreas Técnicas\n",
    "# Como as safras 1, 2 e 3 tem os mesmos valores, mantive só um valor para todas as safras\n",
    "gat_min_areastecnicas = 0.0  # Gatilho minimo Áreas Técnicas = 0.0%\n",
    "ANG_COEF_AREASTECNICAS= 0.005  # Coeficiente angular Áreas Técnicas = 0.5%\n",
    "lin_coef_areastecnicas = 0.0  # Coeficiente Linear decoração = 0.0%\n",
    "\n",
    "# Modelo Vendedores Prêmio superação vendas\n",
    "M1 = 100  # meta1 = 100%\n",
    "M2 = 150  # meta2 = 150%\n",
    "M3 = 200  # meta3 = 200%\n",
    "M4 = 250  # meta4 = 250%\n",
    "B1 = 300  # bonus1 = R$300,00 -> ganha se bater a meta1\n",
    "B2 = 600  # bonus2 = R$600,00 -> ganha se bater a meta2\n",
    "B3 = 900  # bonus3 = R$900,00 -> ganha se bater a meta3\n",
    "B4 = 1200  # bonus4 = R$1200,00 -> ganha se bater a meta4\n",
    "\n",
    "# Modelo Vendedores Prêmio Rentabilidade\n",
    "GAT_MIN_RENTAB = 100.  # Tem que bater 100% da rentabilidade\n",
    "ANG_COEF_RENTAB = 0.001  # Coeficiente angular da rentabilidade = 0.1%\n",
    "LIN_COEF_RENTAB = -0.1  # Coeficiente linear da rentabilidade = -0.1\n",
    "KICKER = 200.\n"
   ]
  },
  {
   "cell_type": "code",
   "execution_count": 61,
   "metadata": {},
   "outputs": [],
   "source": [
    "# Parâmetros do Modelo\n",
    "# Modelo Assessores\n",
    "ASS_A1 = 30000  # Alvo1 = R$30.000,00\n",
    "ASS_A2 = 50000  # Alvo2 = R$50.000,00\n",
    "ASS_B1 = 100  # Bônus1 caso bata Alvo1\n",
    "ASS_B2 = 200  # Bônus2 caso bata Alvo2\n"
   ]
  },
  {
   "cell_type": "code",
   "execution_count": 64,
   "metadata": {},
   "outputs": [],
   "source": [
    "nome_lojas = pd.read_csv(F_LOJA_SAFRA, encoding=\"ISO-8859-1\", delimiter=\";\")"
   ]
  },
  {
   "cell_type": "code",
   "execution_count": 66,
   "metadata": {},
   "outputs": [
    {
     "data": {
      "text/plain": [
       "'C:/apuracao/2022/mai/ORIGINAIS/PREMIACOES TINA.xlsx'"
      ]
     },
     "execution_count": 66,
     "metadata": {},
     "output_type": "execute_result"
    }
   ],
   "source": [
    "import shutil\n",
    "# Fazendo backup das bases nas pasta ORIGINAIS respectiva ao mes e ano da apuração \n",
    "shutil.copy2(E_COMISSAO,F_COMISSAO)\n",
    "shutil.copy2(E_EXTRATO,F_EXTRATO)\n",
    "shutil.copy2(E_FALTAS,F_FALTAS)"
   ]
  },
  {
   "cell_type": "code",
   "execution_count": 67,
   "metadata": {},
   "outputs": [
    {
     "name": "stdout",
     "output_type": "stream",
     "text": [
      "Importando as comissões\n",
      "Arquivo: C:/apuracao/2022/mai/ORIGINAIS/LANC_COMISSAO_052022_telhanorte\n"
     ]
    }
   ],
   "source": [
    "# importando as comissões\n",
    "print(\"Importando as comissões\")\n",
    "print(\"Arquivo: \"+F_COMISSAO)\n",
    "column_names=[\n",
    "    'N1',\t\n",
    "    'N2',\t\n",
    "    'N3',\t\n",
    "    'MATRICULA',\t\n",
    "    'POS_NEG',\t \n",
    "    'VALOR',\n",
    "    'NONE'\n",
    "    ]\n",
    "comissao = pd.read_csv(F_COMISSAO, delimiter=\";\", names=column_names, header=None, skiprows=1)"
   ]
  },
  {
   "cell_type": "code",
   "execution_count": 68,
   "metadata": {},
   "outputs": [],
   "source": [
    "# Trocando \",\" por \".\" para poder calcular os números no Python\n",
    "comissao[\"VALOR\"]=comissao[\"VALOR\"].str.replace(\",\",\".\").astype(float)\n"
   ]
  },
  {
   "cell_type": "code",
   "execution_count": 69,
   "metadata": {},
   "outputs": [
    {
     "name": "stdout",
     "output_type": "stream",
     "text": [
      "Valores negativos para vendas devolvidas\n"
     ]
    }
   ],
   "source": [
    "##  Vendas devolvidas como negativas\n",
    "print(\"Valores negativos para vendas devolvidas\")\n",
    "\n",
    "comissao[\"VALOR_COR\"]=np.where(comissao[\"POS_NEG\"]==3771, -comissao[\"VALOR\"],comissao[\"VALOR\"])\n"
   ]
  },
  {
   "cell_type": "code",
   "execution_count": 70,
   "metadata": {},
   "outputs": [],
   "source": [
    "# Só matrícula e valor das vendas correspondente a essa matrícula\n",
    "comissao=comissao[['MATRICULA','VALOR_COR']]"
   ]
  },
  {
   "cell_type": "code",
   "execution_count": 71,
   "metadata": {},
   "outputs": [
    {
     "name": "stdout",
     "output_type": "stream",
     "text": [
      "Somando todas as vendas de uma matrícula:\n"
     ]
    }
   ],
   "source": [
    "# Somando as vendas totais de cada matrícula\n",
    "# TODO nomear origem dos arquivos \n",
    "print(\"Somando todas as vendas de uma matrícula:\")\n",
    "comissao = comissao.groupby(['MATRICULA'])['VALOR_COR'].sum().reset_index()\n",
    "comissao.rename(columns={'VALOR_COR':'VENDAS_TOT'}, inplace=True)\n",
    "comissao['COMISSAO']=comissao['VENDAS_TOT']*0.01\n"
   ]
  },
  {
   "cell_type": "code",
   "execution_count": 72,
   "metadata": {},
   "outputs": [
    {
     "data": {
      "text/html": [
       "<div>\n",
       "<style scoped>\n",
       "    .dataframe tbody tr th:only-of-type {\n",
       "        vertical-align: middle;\n",
       "    }\n",
       "\n",
       "    .dataframe tbody tr th {\n",
       "        vertical-align: top;\n",
       "    }\n",
       "\n",
       "    .dataframe thead th {\n",
       "        text-align: right;\n",
       "    }\n",
       "</style>\n",
       "<table border=\"1\" class=\"dataframe\">\n",
       "  <thead>\n",
       "    <tr style=\"text-align: right;\">\n",
       "      <th></th>\n",
       "      <th>MATRICULA</th>\n",
       "      <th>VENDAS_TOT</th>\n",
       "      <th>COMISSAO</th>\n",
       "    </tr>\n",
       "  </thead>\n",
       "  <tbody>\n",
       "    <tr>\n",
       "      <th>798</th>\n",
       "      <td>28586</td>\n",
       "      <td>-4748.04</td>\n",
       "      <td>-47.4804</td>\n",
       "    </tr>\n",
       "  </tbody>\n",
       "</table>\n",
       "</div>"
      ],
      "text/plain": [
       "     MATRICULA  VENDAS_TOT  COMISSAO\n",
       "798      28586    -4748.04  -47.4804"
      ]
     },
     "execution_count": 72,
     "metadata": {},
     "output_type": "execute_result"
    }
   ],
   "source": [
    "# Para visualizar as vendas totais e a comissão de um colaborador \n",
    "comissao[comissao['MATRICULA'] == 28586]"
   ]
  },
  {
   "cell_type": "code",
   "execution_count": 101,
   "metadata": {},
   "outputs": [
    {
     "name": "stdout",
     "output_type": "stream",
     "text": [
      "Lendo alvos das lojas no arquivo:\n",
      "C:/apuracao/info/target_salesperson.csv\n"
     ]
    }
   ],
   "source": [
    "# Lendo os alvos que os vendedores devem atingir por loja\n",
    "print(\"Lendo alvos das lojas no arquivo:\")\n",
    "print(F_ALVO)\n",
    "alvos = pd.read_csv(F_ALVO, delimiter=\";\", header=0, skiprows=0)\n"
   ]
  },
  {
   "cell_type": "code",
   "execution_count": 102,
   "metadata": {},
   "outputs": [],
   "source": [
    "\n",
    "alvos.rename(columns={'target_sales_salesperson':'Alvo1'}, inplace=True)\n",
    "alvos['Alvo1']=alvos['Alvo1'].str.replace(\",\",\".\").astype(float)"
   ]
  },
  {
   "cell_type": "code",
   "execution_count": 103,
   "metadata": {},
   "outputs": [],
   "source": [
    "alvos['Minimo Garantido']=alvos['floor_remuneration'].str.replace(\",\",\".\").astype(float)\n"
   ]
  },
  {
   "cell_type": "code",
   "execution_count": 104,
   "metadata": {},
   "outputs": [],
   "source": [
    "# Mantendo somente alvos Telhanorte\n",
    "alvos=alvos[alvos['id_unn']==1] # id_unn = (1=Telhanorte; 2=Tumelero)"
   ]
  },
  {
   "cell_type": "code",
   "execution_count": 105,
   "metadata": {},
   "outputs": [],
   "source": [
    "# Mantendo somente alguns parâmetros\n",
    "alvos= alvos[['cod_loja','Alvo1', 'Minimo Garantido']]"
   ]
  },
  {
   "cell_type": "code",
   "execution_count": 106,
   "metadata": {},
   "outputs": [],
   "source": [
    "alvos_telha=pd.merge(alvos,nome_lojas[['cod_loja','sigla_loja']],how='left',on='cod_loja')"
   ]
  },
  {
   "cell_type": "code",
   "execution_count": 107,
   "metadata": {},
   "outputs": [],
   "source": [
    "# Dicionário de alvo por codigo da loja\n",
    "dict_alvo=dict(zip(alvos_telha['sigla_loja'], alvos_telha['Alvo1']))"
   ]
  },
  {
   "cell_type": "code",
   "execution_count": 108,
   "metadata": {},
   "outputs": [],
   "source": [
    "# Dicionário de alvo por codigo da loja\n",
    "dict_minimo_garantido=dict(zip(alvos_telha['sigla_loja'], alvos_telha['Minimo Garantido']))"
   ]
  },
  {
   "cell_type": "code",
   "execution_count": 109,
   "metadata": {},
   "outputs": [],
   "source": [
    "# Lendo os alvos que os vendedores devem atingir por loja\n",
    "#print(\"Lendo alvos das lojas no arquivo:\")\n",
    "# print(F_ALVO)\n",
    "# alvos = pd.read_excel(F_ALVO, header=0, skiprows=1)\n",
    "# alvos['Minimo Garantido']=alvos['Minimo Garantido']/100.\n",
    "#a[a['Loja']==7992]\n",
    "# alvos.columns"
   ]
  },
  {
   "cell_type": "code",
   "execution_count": 110,
   "metadata": {},
   "outputs": [
    {
     "name": "stdout",
     "output_type": "stream",
     "text": [
      "Lendo faltas injustificadas no arquivo:\n",
      "C:/apuracao/TELHANORTE/2022/mai/ORIGINAIS/PREMIACOES TINA.xlsx\n"
     ]
    }
   ],
   "source": [
    "# Lendo faltas injustificadas\n",
    "print(\"Lendo faltas injustificadas no arquivo:\")\n",
    "print(F_FALTAS)\n",
    "faltas_inj = pd.read_excel(F_FALTAS, header=0)"
   ]
  },
  {
   "cell_type": "code",
   "execution_count": 111,
   "metadata": {},
   "outputs": [
    {
     "data": {
      "text/plain": [
       "9     2022-04-27\n",
       "35    2022-04-27\n",
       "151   2022-04-27\n",
       "224   2022-04-27\n",
       "244   2022-04-27\n",
       "         ...    \n",
       "75    2022-05-15\n",
       "91    2022-05-15\n",
       "99    2022-05-15\n",
       "138   2022-05-15\n",
       "74    2022-05-15\n",
       "Name: DATA DA OCORRÊNCIA, Length: 196, dtype: datetime64[ns]"
      ]
     },
     "execution_count": 111,
     "metadata": {},
     "output_type": "execute_result"
    }
   ],
   "source": [
    "faltas = faltas_inj[(faltas_inj['DATA DA OCORRÊNCIA'] >= DATA_I) &\n",
    "           (faltas_inj['DATA DA OCORRÊNCIA'] <= DATA_F)]\n",
    "faltas['DATA DA OCORRÊNCIA'].sort_values()"
   ]
  },
  {
   "cell_type": "code",
   "execution_count": 112,
   "metadata": {},
   "outputs": [
    {
     "name": "stdout",
     "output_type": "stream",
     "text": [
      "Lendo Extrato de Remuneração da Tina\n",
      "C:/apuracao/TELHANORTE/2022/mai/ORIGINAIS/extract_remuneration_20220527.xlsx\n"
     ]
    }
   ],
   "source": [
    "# Loading Remuneration extract from Tina\n",
    "print(\"Lendo Extrato de Remuneração da Tina\")\n",
    "print(F_EXTRATO)\n",
    "extrato = pd.read_excel(F_EXTRATO)"
   ]
  },
  {
   "cell_type": "code",
   "execution_count": 113,
   "metadata": {},
   "outputs": [
    {
     "name": "stdout",
     "output_type": "stream",
     "text": [
      "Considerando somente colaboradores das lojas participantes da Tina\n"
     ]
    },
    {
     "data": {
      "text/plain": [
       "Index(['store_sk', 'registration_id', 'segment', 'job_simplified',\n",
       "       'E1_gross_sales', 'E2_gross_sales', 'E3_gross_sales', 'gross_sales',\n",
       "       'sales_segment', 'rentability'],\n",
       "      dtype='object')"
      ]
     },
     "execution_count": 113,
     "metadata": {},
     "output_type": "execute_result"
    }
   ],
   "source": [
    "# Somente colaboradores Tina das lojas da safra\n",
    "print(\"Considerando somente colaboradores das lojas participantes da Tina\")\n",
    "COLS_TO_KEEP=[\n",
    "    'store_sk', \n",
    "    'registration_id', \n",
    "    'segment', \n",
    "    'job_simplified',\n",
    "    'E1_gross_sales', \n",
    "    'E2_gross_sales', \n",
    "    'E3_gross_sales', \n",
    "    'gross_sales', \n",
    "    'sales_segment', \n",
    "    'rentability'\n",
    "    ]\n",
    "so_safra = extrato[extrato[\"store_sk\"].isin(nome_lojas['cod_loja'])][COLS_TO_KEEP].copy(deep=True)\n",
    "so_safra.columns"
   ]
  },
  {
   "cell_type": "code",
   "execution_count": 114,
   "metadata": {},
   "outputs": [],
   "source": [
    "#para planilha checagem\n",
    "tina=so_safra.copy(deep=True)\n"
   ]
  },
  {
   "cell_type": "code",
   "execution_count": 115,
   "metadata": {},
   "outputs": [],
   "source": [
    "# Verificando quem tem falta injustificada\n",
    "tina['FALTA']=np.where(tina['registration_id'].isin(faltas['MATR EMPR'])==True,'sim','nao')"
   ]
  },
  {
   "cell_type": "code",
   "execution_count": 116,
   "metadata": {},
   "outputs": [],
   "source": [
    "# Juntando nome de sigla das lojas\n",
    "tina=pd.merge(\n",
    "    tina.rename(columns={'store_sk':'cod_loja'}),\n",
    "    nome_lojas[nome_lojas['id_unn']==1][['cod_loja', 'sigla_loja']],\n",
    "    how='left',on='cod_loja'\n",
    "    )"
   ]
  },
  {
   "cell_type": "code",
   "execution_count": 117,
   "metadata": {},
   "outputs": [],
   "source": [
    "# Renomeando matricula para juntar com a comissão\n",
    "tina.rename(columns={'registration_id':'MATRICULA'}, inplace=True)\n"
   ]
  },
  {
   "cell_type": "code",
   "execution_count": 118,
   "metadata": {},
   "outputs": [],
   "source": [
    "# # Juntando com a comissão\n",
    "tina=tina.merge(comissao,how='left',on='MATRICULA')"
   ]
  },
  {
   "cell_type": "code",
   "execution_count": 119,
   "metadata": {},
   "outputs": [],
   "source": [
    "\n",
    "tina=pd.merge(\n",
    "    tina,\n",
    "    alvos_telha[['sigla_loja','Alvo1', 'Minimo Garantido']],\n",
    "    how='left', on='sigla_loja'\n",
    "    )"
   ]
  },
  {
   "cell_type": "code",
   "execution_count": 120,
   "metadata": {},
   "outputs": [],
   "source": [
    "tina['vendas_sobre_alvo']=tina['VENDAS_TOT']/tina['Alvo1']"
   ]
  },
  {
   "cell_type": "code",
   "execution_count": 121,
   "metadata": {},
   "outputs": [],
   "source": [
    "# Eliminando alvos de assessores\n",
    "tina['Alvo1']=np.where(tina['job_simplified']=='assistant',np.nan,tina['Alvo1'])"
   ]
  },
  {
   "cell_type": "code",
   "execution_count": 122,
   "metadata": {},
   "outputs": [],
   "source": [
    "# Eliminando minimos garantidos de assessores\n",
    "tina['Minimo Garantido']=np.where(tina['job_simplified']=='assistant',np.nan,tina['Minimo Garantido'])"
   ]
  },
  {
   "cell_type": "code",
   "execution_count": 123,
   "metadata": {},
   "outputs": [],
   "source": [
    "# Eliminando vendas sobre alvo de assessores\n",
    "tina['vendas_sobre_alvo']=np.where(tina['job_simplified']=='assistant',np.nan,tina['vendas_sobre_alvo'])"
   ]
  },
  {
   "cell_type": "code",
   "execution_count": 124,
   "metadata": {},
   "outputs": [],
   "source": [
    "tina['recebe_premiacao']=np.where(tina['vendas_sobre_alvo']>=1.,'sim','nao')"
   ]
  },
  {
   "cell_type": "code",
   "execution_count": 125,
   "metadata": {},
   "outputs": [],
   "source": [
    "#Salvando verba\n",
    "# Entradas: v verba, n nome_verba, x numero_verba, f f_nome\n",
    "def salva_verba(v,x,f):\n",
    "#    v.rename(columns={ v.columns[0]: 'MATRICULA'}, inplace=True)\n",
    "    v.rename(columns={ v.columns[1]: \"VALOR\" }, inplace=True)\n",
    "    v['ZERO'] = 0\n",
    "    v['VERBA'] = x\n",
    "    v=v[['MATRICULA', 'ZERO', 'VERBA','VALOR']]\n",
    "    v = v[v['VALOR'] > 0]\n",
    "    # Saving as a excel file for RH\n",
    "    writer = pd.ExcelWriter(f, engine='xlsxwriter')  # #\n",
    "    v.to_excel(writer, sheet_name=\"VERBA \"+str(x), index=False)\n",
    "    writer.save()\n",
    "\n"
   ]
  },
  {
   "cell_type": "code",
   "execution_count": 126,
   "metadata": {},
   "outputs": [],
   "source": [
    "def alvo_bonus_rentabilidade(vendas_tot,rentabilidade,vendas_seg,alvo):\n",
    "#     # Modelo Vendedores Prêmio Rentabilidade\n",
    "#    T E S T A D O     E     C H E C A D O\n",
    "# gat_min_rentab = 100.  # Tem que bater 100% da rentabilidade\n",
    "# ang_coef_rentab = 0.001  # Coeficiente angular da rentabilidade = 0.1%\n",
    "# lin_coef_rentab = -0.1  # Coeficiente linear da rentabilidade = -0.1\n",
    "# kicker = 200.\n",
    "    global GAT_MIN_RENTAB, ANG_COEF_RENTAB, LIN_COEF_RENTAB, KICKER\n",
    "    if vendas_tot>=alvo and rentabilidade >= GAT_MIN_RENTAB:\n",
    "    #    # TODO DELETAR SE OK\n",
    "#        val_rent = KICKER DELETAR SE OK\n",
    "        # TODO DELETAR SE OK\n",
    "        #if (rentabilidade-GAT_MIN_RENTAB)>0: DELETAR SE OK\n",
    "        val_rent=(rentabilidade*ANG_COEF_RENTAB+LIN_COEF_RENTAB)*vendas_seg+KICKER\n",
    "            # val_rent=val_rent+int(r-gat_min_rentab)*ang_coef_rentab*s\n",
    "    else:\n",
    "        val_rent=0.0\n",
    "    return val_rent\n",
    "\n"
   ]
  },
  {
   "cell_type": "code",
   "execution_count": 127,
   "metadata": {},
   "outputs": [],
   "source": [
    "# Calculando rentabilidade\n",
    "tina['REM_REN'] = np.where(\n",
    "    tina['job_simplified']=='salesperson',\n",
    "    tina.apply(\n",
    "    lambda x: alvo_bonus_rentabilidade(x['VENDAS_TOT'],x['rentability'],x['sales_segment'],x['Alvo1']), axis=1\n",
    "    ).copy(),np.nan\n",
    "    )\n"
   ]
  },
  {
   "cell_type": "code",
   "execution_count": 128,
   "metadata": {},
   "outputs": [],
   "source": [
    "# Salva verba rentabilidade \n",
    "salva_verba(tina[['MATRICULA','REM_REN']].copy(deep=True),4119,F_VERBA_VEN_REN_SEM)\n",
    "salva_verba(tina[['MATRICULA','REM_REN']][tina['FALTA']=='nao'].copy(deep=True),4119,F_VERBA_VEN_REN)\n"
   ]
  },
  {
   "cell_type": "code",
   "execution_count": 129,
   "metadata": {},
   "outputs": [],
   "source": [
    "# Calculating bonus for SALESPERSON\n",
    "# Verba 4120 - Segmento vendedores - DECORAÇÃO\n",
    "def alvo_bonus_decoracao(vendas_seg,vendas_tot,alvo):\n",
    "# Modelo Vendedores Prêmio DECORAÇÃO vendas\n",
    "#    T E S T A D O     E     C H E C A D O\n",
    "# Modelo Vendedores Comissão Turbinada Decoração\n",
    "# Como as safras 1, 2 e 3 tem os mesmos valores, mantive só um valor para todas as safras\n",
    "# gat_min_decoracao = 0.0  # Gatilho minimo decoração\n",
    "# ang_coef_decoracao = 0.02  # Coeficiente angular decoração = 2%\n",
    "# lin_coef_decoracao = 0.0  # Coeficiente Linear decoração = 0.0%\n",
    "\n",
    "    global ANG_COEF_DECORACAO \n",
    "    if vendas_tot>=alvo:\n",
    "        bonus = vendas_seg*ANG_COEF_DECORACAO\n",
    "    else:\n",
    "        bonus=0.0\n",
    "    return bonus\n"
   ]
  },
  {
   "cell_type": "code",
   "execution_count": 130,
   "metadata": {},
   "outputs": [],
   "source": [
    "# Calculando Verba DECORAÇÃO \n",
    "tina['DECORACAO'] = np.where(\n",
    "    tina['job_simplified']=='salesperson',\n",
    "    tina.apply(\n",
    "    lambda x: alvo_bonus_decoracao(x['E2_gross_sales'],x['VENDAS_TOT'],x['Alvo1']), axis=1).copy(),np.nan\n",
    "    )\n",
    "\n"
   ]
  },
  {
   "cell_type": "code",
   "execution_count": 131,
   "metadata": {},
   "outputs": [],
   "source": [
    "# SALVA verba DECORAÇÃO     \n",
    "salva_verba(tina[['MATRICULA','DECORACAO']].copy(deep=True),4120,F_VERBA_VEN_DEC_SEM)\n",
    "salva_verba(tina[['MATRICULA','DECORACAO']][tina['FALTA']=='nao'].copy(deep=True),4120,F_VERBA_VEN_DEC)\n"
   ]
  },
  {
   "cell_type": "code",
   "execution_count": 132,
   "metadata": {},
   "outputs": [],
   "source": [
    "# Calculating bonus for SALESPERSON\n",
    "def alvo_bonus_superacao(vendas_tot):\n",
    "# Modelo Vendedores Prêmio superação vendas\n",
    "# T E S T A D O    E    C H E C A D O \n",
    "# m1 = 100  # meta1 = 100%\n",
    "# m2 = 150  # meta2 = 150%\n",
    "# m3 = 200  # meta3 = 200%\n",
    "# m4 = 250  # meta4 = 250%\n",
    "# b1 = 300  # bonus1 = R$300,00 -> ganha se bater a meta1\n",
    "# b2 = 600  # bonus2 = R$600,00 -> ganha se bater a meta2\n",
    "# b3 = 900  # bonus3 = R$900,00 -> ganha se bater a meta3\n",
    "# b4 = 1200  # bonus4 = R$1200,00 -> ganha se bater a meta4\n",
    "    global M1, M2, M3, M4, B1, B2, B3, B4 # metas e respectivos bonus\n",
    "    if vendas_tot>=M4:\n",
    "        bonus = B4\n",
    "    elif vendas_tot>=M3:\n",
    "        bonus = B3\n",
    "    elif vendas_tot>=M2:\n",
    "        bonus= B2\n",
    "    elif vendas_tot>=M1:\n",
    "        bonus=B1\n",
    "    else:\n",
    "        bonus=0.0\n",
    "    return bonus\n",
    "\n"
   ]
  },
  {
   "cell_type": "code",
   "execution_count": 133,
   "metadata": {},
   "outputs": [],
   "source": [
    "# Calculando Prêmio SUPERAÇÃO   \n",
    "tina['SUPERACAO'] = np.where(\n",
    "    tina['job_simplified']=='salesperson',\n",
    "    tina.apply(\n",
    "    lambda x: alvo_bonus_superacao(x['VENDAS_TOT']/x['Alvo1']*100.), axis=1).copy(),np.nan\n",
    "    )"
   ]
  },
  {
   "cell_type": "code",
   "execution_count": 134,
   "metadata": {},
   "outputs": [],
   "source": [
    "# SALVA verba SUPERAÇÃO    \n",
    "salva_verba(tina[['MATRICULA','SUPERACAO']].copy(deep=True),4121,F_VERBA_VEN_SUP_SEM)\n",
    "salva_verba(tina[['MATRICULA','SUPERACAO']][tina['FALTA']=='nao'].copy(deep=True),4121,F_VERBA_VEN_SUP)\n"
   ]
  },
  {
   "cell_type": "code",
   "execution_count": 135,
   "metadata": {},
   "outputs": [],
   "source": [
    "def alvo_bonus_areastecnicas(vendas_seg,vendas_tot,alvo):\n",
    "# Modelo Vendedores Prêmio ÁREAS TÉCNICAS\n",
    "#    T E S T A D O     E     C H E C A D O\n",
    "# Modelo Vendedores Comissão  ÁREAS TÉCNICAS\n",
    "# Como as safras 1, 2 e 3 tem os mesmos valores, mantive só um valor para todas as safras\n",
    "# gat_min_areastecnicas = 0.0  # Gatilho minimo Áreas Técnicas = 0.0%\n",
    "# ang_coef_areastecnicas = 0.005  # Coeficiente angular Áreas Técnicas = 0.5%\n",
    "# lin_coef_areastecnicas = 0.0  # Coeficiente Linear decoração = 0.0%\n",
    "\n",
    "    global ANG_COEF_AREASTECNICAS # gat_min_areastecnicas, ang_coef_areastecnicas, lin_coef_areastecnicas \n",
    "    if vendas_tot>=alvo:\n",
    "        bonus = vendas_seg*ANG_COEF_AREASTECNICAS\n",
    "    else:\n",
    "        bonus=0.0\n",
    "    return bonus\n",
    "\n",
    "\n"
   ]
  },
  {
   "cell_type": "code",
   "execution_count": 136,
   "metadata": {},
   "outputs": [],
   "source": [
    "# Calculando Premiação Individual ÁREAS TÉCNICAS\n",
    "tina['AREAS_TEC'] = np.where(\n",
    "    tina['job_simplified']=='salesperson',\n",
    "    tina.apply(\n",
    "    lambda x: alvo_bonus_areastecnicas(x['E1_gross_sales'],x['VENDAS_TOT'],x['Alvo1']), axis=1).copy(),np.nan\n",
    "    )"
   ]
  },
  {
   "cell_type": "code",
   "execution_count": 137,
   "metadata": {},
   "outputs": [],
   "source": [
    "# SALVA verba PREMIAÇÃO ÁREAS TÉCNICAS\n",
    "salva_verba(tina[['MATRICULA','AREAS_TEC']].copy(deep=True),4122,F_VERBA_VEN_TEC_SEM)\n",
    "salva_verba(tina[['MATRICULA','AREAS_TEC']][tina['FALTA']=='nao'].copy(deep=True),4122,F_VERBA_VEN_TEC)\n"
   ]
  },
  {
   "cell_type": "code",
   "execution_count": 138,
   "metadata": {},
   "outputs": [],
   "source": [
    "# Calculando Prêmio Assessor\n",
    "def alvo_bonus_assessor(vendas_seg):\n",
    "    global ASS_A1, ASS_A2, ASS_B1, ASS_B2 # ass_a1, ass_a2, ass_b1, ass_b2\n",
    "    if vendas_seg >= ASS_A2:\n",
    "        bonus = ASS_B2\n",
    "    elif vendas_seg >= ASS_A1:\n",
    "        bonus = ASS_B1\n",
    "    else:\n",
    "        bonus = 0.0\n",
    "    return bonus\n",
    "    "
   ]
  },
  {
   "cell_type": "code",
   "execution_count": 139,
   "metadata": {},
   "outputs": [
    {
     "data": {
      "text/plain": [
       "Index(['cod_loja', 'MATRICULA', 'segment', 'job_simplified', 'E1_gross_sales',\n",
       "       'E2_gross_sales', 'E3_gross_sales', 'gross_sales', 'sales_segment',\n",
       "       'rentability', 'FALTA', 'sigla_loja', 'VENDAS_TOT', 'COMISSAO', 'Alvo1',\n",
       "       'Minimo Garantido', 'vendas_sobre_alvo', 'recebe_premiacao', 'REM_REN',\n",
       "       'DECORACAO', 'SUPERACAO', 'AREAS_TEC'],\n",
       "      dtype='object')"
      ]
     },
     "execution_count": 139,
     "metadata": {},
     "output_type": "execute_result"
    }
   ],
   "source": [
    "tina.columns"
   ]
  },
  {
   "cell_type": "code",
   "execution_count": 140,
   "metadata": {},
   "outputs": [],
   "source": [
    "# Somente assessores\n",
    "tina['PREMIO_ASSESSOR'] = np.where(\n",
    "    tina['job_simplified']=='assistant',\n",
    "    tina.apply(\n",
    "    lambda x: alvo_bonus_assessor(x['sales_segment']), axis=1).copy(),np.nan\n",
    "    )\n",
    "\n",
    "    "
   ]
  },
  {
   "cell_type": "code",
   "execution_count": 141,
   "metadata": {},
   "outputs": [],
   "source": [
    "tina['diferenca_vendas_Tina_ADP']=tina['gross_sales']-tina['VENDAS_TOT']"
   ]
  },
  {
   "cell_type": "code",
   "execution_count": 142,
   "metadata": {},
   "outputs": [
    {
     "data": {
      "text/html": [
       "<div>\n",
       "<style scoped>\n",
       "    .dataframe tbody tr th:only-of-type {\n",
       "        vertical-align: middle;\n",
       "    }\n",
       "\n",
       "    .dataframe tbody tr th {\n",
       "        vertical-align: top;\n",
       "    }\n",
       "\n",
       "    .dataframe thead th {\n",
       "        text-align: right;\n",
       "    }\n",
       "</style>\n",
       "<table border=\"1\" class=\"dataframe\">\n",
       "  <thead>\n",
       "    <tr style=\"text-align: right;\">\n",
       "      <th></th>\n",
       "      <th>cod_loja</th>\n",
       "      <th>MATRICULA</th>\n",
       "      <th>segment</th>\n",
       "      <th>job_simplified</th>\n",
       "      <th>E1_gross_sales</th>\n",
       "      <th>E2_gross_sales</th>\n",
       "      <th>E3_gross_sales</th>\n",
       "      <th>gross_sales</th>\n",
       "      <th>sales_segment</th>\n",
       "      <th>rentability</th>\n",
       "      <th>FALTA</th>\n",
       "      <th>sigla_loja</th>\n",
       "      <th>VENDAS_TOT</th>\n",
       "      <th>COMISSAO</th>\n",
       "      <th>Alvo1</th>\n",
       "      <th>Minimo Garantido</th>\n",
       "      <th>vendas_sobre_alvo</th>\n",
       "      <th>recebe_premiacao</th>\n",
       "      <th>REM_REN</th>\n",
       "      <th>DECORACAO</th>\n",
       "      <th>SUPERACAO</th>\n",
       "      <th>AREAS_TEC</th>\n",
       "      <th>PREMIO_ASSESSOR</th>\n",
       "      <th>diferenca_vendas_Tina_ADP</th>\n",
       "    </tr>\n",
       "  </thead>\n",
       "  <tbody>\n",
       "    <tr>\n",
       "      <th>17</th>\n",
       "      <td>30.0</td>\n",
       "      <td>3343.0</td>\n",
       "      <td>E3</td>\n",
       "      <td>salesperson</td>\n",
       "      <td>51685.504</td>\n",
       "      <td>3622.766</td>\n",
       "      <td>337217.547</td>\n",
       "      <td>393523.817</td>\n",
       "      <td>337217.547</td>\n",
       "      <td>103.067833</td>\n",
       "      <td>nao</td>\n",
       "      <td>MOR</td>\n",
       "      <td>393523.81</td>\n",
       "      <td>3935.2381</td>\n",
       "      <td>270000.0</td>\n",
       "      <td>1985.0</td>\n",
       "      <td>1.457496</td>\n",
       "      <td>sim</td>\n",
       "      <td>1234.52703</td>\n",
       "      <td>72.45532</td>\n",
       "      <td>300.0</td>\n",
       "      <td>258.42752</td>\n",
       "      <td>NaN</td>\n",
       "      <td>0.007</td>\n",
       "    </tr>\n",
       "  </tbody>\n",
       "</table>\n",
       "</div>"
      ],
      "text/plain": [
       "    cod_loja  MATRICULA segment job_simplified  E1_gross_sales  \\\n",
       "17      30.0     3343.0      E3    salesperson       51685.504   \n",
       "\n",
       "    E2_gross_sales  E3_gross_sales  gross_sales  sales_segment  rentability  \\\n",
       "17        3622.766      337217.547   393523.817     337217.547   103.067833   \n",
       "\n",
       "   FALTA sigla_loja  VENDAS_TOT   COMISSAO     Alvo1  Minimo Garantido  \\\n",
       "17   nao        MOR   393523.81  3935.2381  270000.0            1985.0   \n",
       "\n",
       "    vendas_sobre_alvo recebe_premiacao     REM_REN  DECORACAO  SUPERACAO  \\\n",
       "17           1.457496              sim  1234.52703   72.45532      300.0   \n",
       "\n",
       "    AREAS_TEC  PREMIO_ASSESSOR  diferenca_vendas_Tina_ADP  \n",
       "17  258.42752              NaN                      0.007  "
      ]
     },
     "execution_count": 142,
     "metadata": {},
     "output_type": "execute_result"
    }
   ],
   "source": [
    "tina[tina['MATRICULA']==3343]"
   ]
  },
  {
   "cell_type": "code",
   "execution_count": 143,
   "metadata": {},
   "outputs": [
    {
     "data": {
      "text/plain": [
       "Index(['cod_loja', 'MATRICULA', 'segment', 'job_simplified', 'E1_gross_sales',\n",
       "       'E2_gross_sales', 'E3_gross_sales', 'gross_sales', 'sales_segment',\n",
       "       'rentability', 'FALTA', 'sigla_loja', 'VENDAS_TOT', 'COMISSAO', 'Alvo1',\n",
       "       'Minimo Garantido', 'vendas_sobre_alvo', 'recebe_premiacao', 'REM_REN',\n",
       "       'DECORACAO', 'SUPERACAO', 'AREAS_TEC', 'PREMIO_ASSESSOR',\n",
       "       'diferenca_vendas_Tina_ADP'],\n",
       "      dtype='object')"
      ]
     },
     "execution_count": 143,
     "metadata": {},
     "output_type": "execute_result"
    }
   ],
   "source": [
    "tina.columns"
   ]
  },
  {
   "cell_type": "code",
   "execution_count": 144,
   "metadata": {},
   "outputs": [],
   "source": [
    "# SALVA verba PREMIAÇÃO ASSESSOR\n",
    "salva_verba(tina[['MATRICULA','PREMIO_ASSESSOR']].copy(deep=True),4118,F_VERBA_ASS_SEM)\n"
   ]
  },
  {
   "cell_type": "code",
   "execution_count": 145,
   "metadata": {},
   "outputs": [],
   "source": [
    "salva_verba(tina[['MATRICULA','PREMIO_ASSESSOR']][tina['FALTA']=='nao'].copy(deep=True),4118,F_VERBA_ASS)\n"
   ]
  },
  {
   "cell_type": "code",
   "execution_count": 146,
   "metadata": {},
   "outputs": [],
   "source": [
    "tina.to_excel(F_SAI_CHECAGEM)"
   ]
  }
 ],
 "metadata": {
  "interpreter": {
   "hash": "551579a37399ee361b7a87e2547c9a8bd014955eb03c28bb1a18301da647b49d"
  },
  "kernelspec": {
   "display_name": "Python 3.9.9 ('tina')",
   "language": "python",
   "name": "python3"
  },
  "language_info": {
   "codemirror_mode": {
    "name": "ipython",
    "version": 3
   },
   "file_extension": ".py",
   "mimetype": "text/x-python",
   "name": "python",
   "nbconvert_exporter": "python",
   "pygments_lexer": "ipython3",
   "version": "3.9.9"
  },
  "orig_nbformat": 4
 },
 "nbformat": 4,
 "nbformat_minor": 2
}
